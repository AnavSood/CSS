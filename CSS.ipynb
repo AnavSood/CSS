{
  "cells": [
    {
      "cell_type": "code",
      "execution_count": null,
      "metadata": {
        "colab": {
          "base_uri": "https://localhost:8080/"
        },
        "id": "oeCuJTr8_uhT",
        "outputId": "70b603cc-179f-4d29-fac4-441c8d54c47c"
      },
      "outputs": [
        {
          "output_type": "stream",
          "name": "stdout",
          "text": [
            "fatal: destination path 'choldate' already exists and is not an empty directory.\n",
            "running install\n",
            "running build\n",
            "running build_py\n",
            "running build_ext\n",
            "running install_lib\n",
            "running install_egg_info\n",
            "Removing /usr/local/lib/python3.8/dist-packages/choldate-0.1.0.egg-info\n",
            "Writing /usr/local/lib/python3.8/dist-packages/choldate-0.1.0.egg-info\n",
            "Looking in indexes: https://pypi.org/simple, https://us-python.pkg.dev/colab-wheels/public/simple/\n",
            "Requirement already satisfied: p_tqdm in /usr/local/lib/python3.8/dist-packages (1.4.0)\n",
            "Requirement already satisfied: pathos>=0.2.5 in /usr/local/lib/python3.8/dist-packages (from p_tqdm) (0.3.0)\n",
            "Requirement already satisfied: six>=1.13.0 in /usr/local/lib/python3.8/dist-packages (from p_tqdm) (1.15.0)\n",
            "Requirement already satisfied: tqdm>=4.45.0 in /usr/local/lib/python3.8/dist-packages (from p_tqdm) (4.64.1)\n",
            "Requirement already satisfied: ppft>=1.7.6.6 in /usr/local/lib/python3.8/dist-packages (from pathos>=0.2.5->p_tqdm) (1.7.6.6)\n",
            "Requirement already satisfied: dill>=0.3.6 in /usr/local/lib/python3.8/dist-packages (from pathos>=0.2.5->p_tqdm) (0.3.6)\n",
            "Requirement already satisfied: multiprocess>=0.70.14 in /usr/local/lib/python3.8/dist-packages (from pathos>=0.2.5->p_tqdm) (0.70.14)\n",
            "Requirement already satisfied: pox>=0.3.2 in /usr/local/lib/python3.8/dist-packages (from pathos>=0.2.5->p_tqdm) (0.3.2)\n"
          ]
        }
      ],
      "source": [
        "!git clone https://github.com/modusdatascience/choldate.git\n",
        "!cd choldate; python3 setup.py install \n",
        "!pip install p_tqdm\n",
        "import sys\n",
        "sys.path.append('/content/choldate')\n",
        "from choldate import cholupdate, choldowndate\n",
        "from scipy.linalg import solve_triangular\n",
        "import scipy\n",
        "from multiprocessing import Pool, cpu_count\n",
        "#from p_tqdm import p_map, p_starmap\n",
        "import numpy as np\n",
        "from matplotlib import pyplot as plt\n",
        "from scipy import stats \n",
        "from scipy.stats.distributions import chi2\n",
        "from tqdm.notebook import tqdm\n",
        "import itertools\n",
        "import seaborn as sns\n",
        "import pandas as pd\n",
        "from scipy.special import softmax\n",
        "from scipy.special import logsumexp\n",
        "import time\n",
        "from itertools import repeat\n",
        "from functools import partial"
      ]
    },
    {
      "cell_type": "markdown",
      "metadata": {
        "id": "fd9V8fN0vSN1"
      },
      "source": [
        "#Library + Library Helpers\n"
      ]
    },
    {
      "cell_type": "code",
      "execution_count": null,
      "metadata": {
        "id": "8Iy8QCRSRDLB"
      },
      "outputs": [],
      "source": [
        "def get_moments(X):\n",
        "  n, p = X.shape\n",
        "  mu_hat = np.mean(X, axis=0)\n",
        "  Sigma_hat = 1/n * (X - mu_hat).T @ (X - mu_hat)\n",
        "  return mu_hat, Sigma_hat\n",
        "\n",
        "def complement(n, idxs):\n",
        "  if len(idxs) == 0:\n",
        "    return np.arange(n)\n",
        "  return np.delete(np.arange(n), idxs)\n",
        "\n",
        "def scale_cov(Sigma, s):\n",
        "  s = np.sqrt(s)\n",
        "  return s[None, :] * Sigma * s[:, None]\n",
        "\n",
        "def standardize_cov(Sigma):\n",
        "  s = np.diag(Sigma)**(-1)\n",
        "  return scale_cov(Sigma, s)\n",
        "\n",
        "def random_argmin(x):\n",
        "  return np.random.choice(np.flatnonzero(x == x.min()))\n",
        "\n",
        "def quadratic_form(X, A, Y):\n",
        "  return np.sum((X @ A) * Y , axis=1)\n",
        "\n",
        "def diagonal_left_multiply(D, A):\n",
        "  return D[:, None] * A\n",
        "\n",
        "def diagonal_right_multiply(A, D):\n",
        "  return A * D[None, :]\n",
        "\n",
        "def update_cholesky_after_removing_first(L):\n",
        "  L_ = L[1:, 1:].copy()\n",
        "  v = L[1:, 0].copy()\n",
        "  L_ = L_.T\n",
        "  cholupdate(L_, v)\n",
        "  return L_.T\n",
        "\n",
        "def update_cholesky_after_removing_last(L):\n",
        "  return L[:L.shape[0] - 1, :L.shape[1] - 1]\n",
        "\n",
        "def update_cholesky_after_adding_last(L, v):\n",
        "  p = len(v)\n",
        "  if p == 1:\n",
        "    return np.sqrt(np.array([v]))\n",
        "  a = v[:(p-1)]\n",
        "  d = v[p-1]\n",
        "  a_ = solve_triangular(L, a, lower=True) \n",
        "  d_ = np.sqrt(d - np.inner(a_, a_))\n",
        "  L_ = np.zeros((p, p))\n",
        "  L_[:(p-1), :(p-1)] = L\n",
        "  L_[p-1, :(p-1)] = a_\n",
        "  L_[p-1, p-1] = d_\n",
        "  return L_\n",
        "\n",
        "def solve_with_cholesky(L, v):\n",
        "  return solve_triangular(L.T, solve_triangular(L, v, lower=True), lower=False)"
      ]
    },
    {
      "cell_type": "code",
      "execution_count": null,
      "metadata": {
        "id": "n_RQeTpTP5QG"
      },
      "outputs": [],
      "source": [
        "class ColumnSubsetSelection():\n",
        "  def __init__(self):\n",
        "    self.colinearity_errors = {}\n",
        "\n",
        "  def error_check(self, objective, method):\n",
        "\n",
        "    if not isinstance(self.k, (int, np.integer)) or self.k <= 0 or self.k > self.p:\n",
        "      raise ValueError(\"k must be an integer > 0 and <= p.\")\n",
        "    if objective not in {'css'}:\n",
        "      raise ValueError(\"Requested objective not supported.\")\n",
        "    if method not in {'greedy', 'swap'}:\n",
        "      raise ValueError(\"Requested method not supported.\")\n",
        "\n",
        "  def select_subset_from_data(self, X, k, standardize=False, center=True, objective='css', method='greedy', **kwargs):\n",
        "    \n",
        "    objective=objective.lower()\n",
        "    method=method.lower()\n",
        "    self.n, self.p = X.shape\n",
        "    self.k = k\n",
        "    self.error_check(objective, method)\n",
        "\n",
        "    self.X = X\n",
        "    mu = np.mean(self.X, axis = 0)\n",
        "\n",
        "    if not center and not standardize: \n",
        "      Sigma = 1/self.n * self.X.T @ self.X\n",
        "    if center and not standardize:\n",
        "      self.X -= mu\n",
        "      Sigma = 1/n * self.X.T @ self.X \n",
        "    if standardize and not center:\n",
        "      Sigma = 1/n * (self.X -  mu).T (self.X -  mu)\n",
        "      self.X = diagonal_left_multiply(self.X - mu, 1/np.sqrt(np.diag(Sigma))) + mu\n",
        "      Sigma = 1/n * self.X.T @ self.X\n",
        "    if standardize and center:\n",
        "      self.X -= mu\n",
        "      self.X = diagonal_left_multiply(self.X, 1/np.sqrt(np.diag(Sigma)))\n",
        "      Sigma = 1/n * self.X.T @ self.X \n",
        "    \n",
        "    self.select_subset_from_cov(Sigma, k, standardize=False, objective=objective, method=method, from_data=True, **kwargs)\n",
        "\n",
        "  def select_subset_from_cov(self, Sigma, k, standardize=False, objective='css', method='greedy', **kwargs):\n",
        "\n",
        "    from_data = kwargs.get('from_data', False)\n",
        "    full_rank = kwargs.get('full_rank', False)\n",
        "\n",
        "    self.tol = kwargs.get('tol', 10e-12)\n",
        "\n",
        "    if not from_data:\n",
        "      if Sigma.shape[0] != Sigma.shape[1]:\n",
        "        raise ValueError(\"Sigma must be a square matrix.\")\n",
        "      self.k = k\n",
        "      self.p = Sigma.shape[0]\n",
        "      objective=objective.lower()\n",
        "      method=method.lower()\n",
        "      self.error_check(objective, method)\n",
        "\n",
        "    if standardize:\n",
        "      Sigma = standardize_cov(Sigma)\n",
        "    \n",
        "    self.Sigma = Sigma\n",
        "    self.p = Sigma.shape[0]\n",
        "    self.k = k\n",
        "\n",
        "    max_iter = kwargs.get('max_iter', 100)\n",
        "    S_init = kwargs.get('S_init', None)\n",
        "\n",
        "    if objective == 'css':\n",
        "      objective_func = self._CSS_objective_func\n",
        "    if objective == 'pcss':\n",
        "      objective_func = self._PCSS_objective_func\n",
        "    if objective == 'fss':\n",
        "      objective_func = self._FSS_objective_func\n",
        "\n",
        "    if method == 'greedy':\n",
        "      self._greedy_subset_selection(objective_func, full_rank=full_rank)\n",
        "    if method == 'swap':\n",
        "      self._swapping_subset_selection(objective_func, S_init=S_init, max_iter=max_iter, full_rank=full_rank)\n",
        "\n",
        "  def _swap(self, Sigma, idxs1, idxs2, idx_order=None, disjoint=False, row=True, col=True):\n",
        "    if not disjoint:\n",
        "      idxs1, idxs2 = set(idxs1), set(idxs2)\n",
        "      idxs1, idxs2 = list(idxs1 - idxs2) , list(idxs2 - idxs1)\n",
        "    if len(idxs1) == 0:\n",
        "      return\n",
        "    self._perm(Sigma, np.concatenate([idxs1, idxs2]), np.concatenate([idxs2, idxs1]), idx_order=idx_order, row=True, col=True)\n",
        "  \n",
        "  def _perm(self, Sigma, idxs_to_apply, perm, idx_order=None, row=True, col=True):\n",
        "    if col:\n",
        "      Sigma[:, idxs_to_apply] = Sigma[:, perm]\n",
        "    if row:\n",
        "      Sigma[idxs_to_apply, :] = Sigma[perm, :]\n",
        "    if idx_order is not None:\n",
        "      idx_order[idxs_to_apply] = idx_order[perm]\n",
        "\n",
        "  def _is_invertible(self, Sigma_S):\n",
        "    try:\n",
        "      Sigma_S_L = np.linalg.cholesky(Sigma_S)\n",
        "    except:\n",
        "      return False, None\n",
        "    if self.k == 1 and Sigma_S[0, 0] > self.tol:\n",
        "      return True, Sigma_S_L\n",
        "    idxs = np.arange(self.k)\n",
        "    perm_idxs = np.concatenate([np.arange(1, self.k), [0]])\n",
        "    for i in range(self.k):\n",
        "      Sigma_T_L = update_cholesky_after_removing_first(Sigma_S_L)\n",
        "      v = Sigma_S[1:self.k, 0]\n",
        "      if Sigma_S[0, 0] - v.T @ solve_with_cholesky(Sigma_T_L, v) < self.tol:\n",
        "        return False, None\n",
        "      self._perm(Sigma_S, idxs, perm_idxs) \n",
        "      Sigma_S_L = update_cholesky_after_adding_last(Sigma_T_L, Sigma_S[self.k-1, :])\n",
        "    return True, Sigma_S_L\n",
        "  \n",
        "  def _regress_one_off(self, Sigma, j):\n",
        "    Sigma[:, :] = Sigma - np.outer(Sigma[:, j], Sigma[:, j])/Sigma[j, j]    \n",
        "  \n",
        "  def _regress_off(self, Sigma, S):\n",
        "    for j in S:\n",
        "      self._regress_one_off(Sigma, j)\n",
        "\n",
        "  def _CSS_objective_func(self, Sigma_R):\n",
        "    return -1 * np.sum(np.square(Sigma_R), axis=1)/np.diag(Sigma_R)\n",
        "\n",
        "  def _colinearity_objective_func(self, Sigma_R):\n",
        "    return np.diag(Sigma_R)\n",
        "\n",
        "  def _greedy_subset_selection(self, objective_func, full_rank=False):\n",
        "    \n",
        "    self.terminated_early=False\n",
        "    \n",
        "    self.S_ordered = -1 * np.ones(self.k).astype(int)\n",
        "    Sigma_R = self.Sigma.copy()\n",
        "    self._idx_order = np.arange(self.p)\n",
        "    num_active=self.p\n",
        "\n",
        "    Sigma_S_L = np.array([[]])\n",
        "\n",
        "    for i in range(self.k):\n",
        "      Sigma_R_active = Sigma_R[:num_active, :num_active]\n",
        "      self._S_in = self.S_ordered[:i]\n",
        "      objectives = objective_func(Sigma_R_active)\n",
        "      j_star = random_argmin(objectives)\n",
        "      S_new = self._idx_order[j_star]\n",
        "      self.S_ordered[i] = S_new\n",
        "      Sigma_S_L = update_cholesky_after_adding_last(Sigma_S_L, self.Sigma[S_new, self.S_ordered[:(i+1)]])\n",
        "      self._regress_one_off(Sigma_R_active, j_star)\n",
        "      self._swap(Sigma_R, [j_star], [self.p - i - 1], idx_order=self._idx_order)\n",
        "      num_active -= 1\n",
        "      \n",
        "      if not full_rank:\n",
        "        zero_idxs = np.where(np.diag(Sigma_R_active)[:num_active] < self.tol)[0]\n",
        "        num_zero_idxs = len(zero_idxs)\n",
        "        idxs_to_swap = np.arange(num_active - num_zero_idxs, num_active)\n",
        "        self._swap(Sigma_R, zero_idxs, idxs_to_swap, idx_order=self._idx_order)\n",
        "        num_active -= num_zero_idxs\n",
        "      \n",
        "      if num_active == 0 and i != self.k - 1:\n",
        "        self.terminated_early = True\n",
        "        print('Terminating early: ' + str(self.S_ordered[:(i+1)]) + ' are sufficient to explain the remaining')\n",
        "        break\n",
        "\n",
        "    self._perm(Sigma_R, np.arange(self.p), np.argsort(self._idx_order))\n",
        "    self.Sigma_R = Sigma_R\n",
        "    self.S = set(self.S_ordered)\n",
        "    #self._Sigma_S_inv = solve_with_cholesky(Sigma_S_L, np.eye(self.k)) \n",
        "    #self._perm(self._Sigma_S_inv, np.arange(self.k), np.argsort(self.S_ordered)) \n",
        "\n",
        "\n",
        "  def _swapping_subset_selection(self, objective_func, S_init=None, max_iter=100, full_rank=False):\n",
        "\n",
        "    self.converged = False\n",
        "    d = self.p - self.k\n",
        "    self._idx_order = np.arange(self.p)\n",
        "    \n",
        "    if S_init is None:\n",
        "      S_init = np.random.choice(self._idx_order, self.k, replace=False)\n",
        "    elif len(S_init) != self.k:\n",
        "      raise ValueError(\"Initial subset must be of length k.\")\n",
        "    \n",
        "    self.S_init = np.array(list(S_init))\n",
        "    Sigma_R = self.Sigma.copy()\n",
        "    self._swap(Sigma_R, np.arange(d, self.p), self.S_init, idx_order=self._idx_order)\n",
        "    S = self._idx_order[d:].copy()\n",
        "    Sigma_S = self.Sigma[:, S][S, :].copy()\n",
        "    invertible, Sigma_S_L = self._is_invertible(Sigma_S) \n",
        "    \n",
        "    if not invertible:\n",
        "      self.colinearity_errors[frozenset(S)] = None\n",
        "      raise ValueError(\"Colinearity issue: covariance of initial selected subset is not full rank.\")\n",
        "    \n",
        "    self._regress_off(Sigma_R, np.arange(d, self.p))\n",
        "    zero_idxs = np.where(np.diag(Sigma_R)[:d] <= self.tol)[0]\n",
        "    num_zero_idxs = len(zero_idxs)\n",
        "    \n",
        "    if full_rank and num_zero_idxs > 0:\n",
        "      self.colinearity_errors[frozenset(S)] = frozenset(self._idx_order[zero_idxs])\n",
        "      raise ValueError(\"Colinearity issue: the initial subset perfectly predicts some other features\")\n",
        "\n",
        "    N = 0\n",
        "    not_replaced = 0\n",
        "    subset_idxs = np.arange(d, self.p)\n",
        "    subset_idxs_permuted = np.concatenate([subset_idxs[1:], np.array([subset_idxs[0]])])\n",
        "    break_flag = False \n",
        "\n",
        "    while N < max_iter and (not break_flag):\n",
        "      for i in range(self.k):\n",
        "        S_0 = S[0]\n",
        "        T = S[1:]\n",
        "      \n",
        "        Sigma_T_L = update_cholesky_after_removing_first(Sigma_S_L) \n",
        "        v = self.Sigma[:, S_0] - self.Sigma[:, T] @ solve_with_cholesky(Sigma_T_L, self.Sigma[T, S_0]) if self.k > 1 else self.Sigma[:, S_0]\n",
        "        reordered_v = v[self._idx_order]\n",
        "\n",
        "        Sigma_R = Sigma_R + np.outer(reordered_v, reordered_v)/v[S_0]\n",
        "        self._swap(Sigma_R, np.array([0]), np.array([d]), idx_order=self._idx_order)  \n",
        "            \n",
        "        if not full_rank:\n",
        "          zero_idxs = np.where(np.diag(Sigma_R)[:(d + 1)] <= self.tol)[0]\n",
        "          num_zero_idxs = len(zero_idxs)\n",
        "          self._swap(Sigma_R, zero_idxs, np.arange(d + 1 - num_zero_idxs, d + 1), idx_order=self._idx_order)\n",
        "        else:\n",
        "          num_zero_idxs = 0 \n",
        "        num_active = d + 1 - num_zero_idxs \n",
        "        self._S_in = T\n",
        "        objectives = objective_func(Sigma_R[:num_active, :num_active])\n",
        "        choices = np.flatnonzero(objectives == objectives.min())\n",
        "\n",
        "        if 0 in choices:\n",
        "          not_replaced += 1\n",
        "          j_star = 0 \n",
        "        else:\n",
        "          not_replaced = 0\n",
        "          j_star = np.random.choice(choices)\n",
        "\n",
        "        S_new = self._idx_order[j_star]\n",
        "        S[:self.k-1] = S[1:]\n",
        "        S[self.k-1] = S_new\n",
        "        Sigma_S_L = update_cholesky_after_adding_last(Sigma_T_L, self.Sigma[S_new, S])\n",
        "        self._regress_one_off(Sigma_R[:(d+1), :(d+1)], j_star) \n",
        "        self._swap(Sigma_R, np.array([j_star]), np.array([d]), idx_order=self._idx_order)\n",
        "        self._perm(Sigma_R, subset_idxs,  subset_idxs_permuted, idx_order=self._idx_order)\n",
        "        if not_replaced == self.k:\n",
        "          self.converged=True\n",
        "          break_flag=True\n",
        "          break\n",
        "      N += 1\n",
        "\n",
        "    self._perm(Sigma_R, np.arange(self.p), np.argsort(self._idx_order))\n",
        "    self.Sigma_R = Sigma_R\n",
        "    self.S = set(S.astype(int))\n",
        "    #self._Sigma_S_inv = solve_with_cholesky(Sigma_S_L, np.eye(self.k))\n",
        "    #self._perm(self._Sigma_S_inv, np.arange(self.k), np.argsort(S))\n",
        "\n",
        "\n",
        "\n",
        "\n",
        "    \n",
        "    \n",
        "    "
      ]
    },
    {
      "cell_type": "code",
      "execution_count": null,
      "metadata": {
        "id": "JAjRm3kI2lUh"
      },
      "outputs": [],
      "source": [
        "#@title\n",
        "class MLColumnSubsetSelection(ColumnSubsetSelection):\n",
        "  def __init__(self):\n",
        "    super().__init__()\n",
        "    self.colinearity_errors = {}\n",
        "    self._model_to_objective = {'pcss' : 'pcss', 'sf': 'fss' }\n",
        "\n",
        "  def error_check(self, objective, method, model=None):\n",
        "    \n",
        "    if model is not None and model not in {'pcss', 'sf'}:\n",
        "      raise ValueError(\"Requested model not supported.\")\n",
        "    if not isinstance(self.k, (int, np.integer)) or self.k <= 0 or self.k > self.p:\n",
        "      raise ValueError(\"k must be an integer > 0 and <= p.\")\n",
        "    if objective not in {'pcss', 'fss'}:\n",
        "      raise ValueError(\"Requested objective not supported.\")\n",
        "    if method not in {'greedy', 'swap'}:\n",
        "      raise ValueError(\"Requested method not supported.\")\n",
        "  \n",
        "  def _populate_colinearity(self, resids):\n",
        "    for i in range(resids.shape[0]):\n",
        "      where = np.where(resids[i, :] <= self.tol)[0]\n",
        "      if len(where) == 0:\n",
        "        continue\n",
        "      current_selected = np.concatenate([self._S_in, np.array([self._idx_order[i]])])\n",
        "      self.colinearity_errors[frozenset(current_selected)] = frozenset(self._idx_order[where])\n",
        "  \n",
        "  def _PCSS_objective_func(self, Sigma_R):\n",
        "    diag = np.diag(Sigma_R)\n",
        "    resids = diag - diagonal_left_multiply(1/diag, np.square(Sigma_R))\n",
        "    np.fill_diagonal(resids, 1)\n",
        "    if np.any(resids <= self.tol):\n",
        "      self._populate_colinearity(resids)\n",
        "      raise ValueError('Issues with colinearity.')  \n",
        "    np.fill_diagonal(resids, 0)\n",
        "    objective_values = np.log(diag) + (Sigma_R.shape[0] - 1) * np.log(np.sum(resids, axis=1))\n",
        "    return objective_values\n",
        "  \n",
        "  def _FSS_objective_func(self, Sigma_R):\n",
        "    diag = np.diag(Sigma_R)\n",
        "    resids = diag - diagonal_left_multiply(1/diag, np.square(Sigma_R))\n",
        "    np.fill_diagonal(resids, 1)\n",
        "    if np.any(resids <= self.tol):\n",
        "      self._populate_colinearity(resids)\n",
        "      raise ValueError('Issues with colinearity.') \n",
        "    log_resids = np.log(resids)\n",
        "    objective_values = np.log(diag) + np.sum(log_resids, axis=1)\n",
        "    return objective_values\n",
        "\n",
        "  def compute_MLE_from_data(self, X, k, model='pcss', method='greedy', **kwargs):\n",
        "    method=method.lower()\n",
        "    model=model.lower()\n",
        "    self.n, self.p = X.shape\n",
        "    self.missing_data = False\n",
        "    self.k = k\n",
        "    self.error_check(self._model_to_objective[model], method, model)\n",
        "\n",
        "    self.X = X\n",
        "\n",
        "    mu_MLE, Sigma_hat = get_moments(X)\n",
        "    self.compute_MLE_from_cov(Sigma_hat, self.k, model=model, method=method, from_data=True, mu_MLE=mu_MLE, **kwargs)\n",
        "\n",
        "\n",
        "  def compute_MLE_from_cov(self, Sigma, k, model='pcss', method='greedy', **kwargs):\n",
        "    from_data = kwargs.get('from_data', False)\n",
        "\n",
        "    if not from_data:\n",
        "      if Sigma.shape[0] != Sigma.shape[1]:\n",
        "        raise ValueError(\"Sigma must be a square matrix.\")\n",
        "      self.k = k\n",
        "      self.p = Sigma.shape[0]\n",
        "      self.missing_data = False\n",
        "      method=method.lower()\n",
        "      model=model.lower()\n",
        "      self.error_check(self._model_to_objective[model], method, model)\n",
        "\n",
        "    mu_MLE = kwargs.get('mu_MLE', None)\n",
        "    self.select_subset_from_cov(Sigma, k, objective=self._model_to_objective[model], method=method, full_rank=True, **kwargs)\n",
        "    self._compute_MLE_from_selected_subset(model, mu_MLE)\n",
        "\n",
        "  def _compute_MLE_from_selected_subset(self, model, mu_MLE=None):\n",
        "\n",
        "    self._S = np.sort(list(self.S))\n",
        "    self._S_comp = complement(self.p, self._S)\n",
        "\n",
        "    try:\n",
        "      self._X_S = self.X[:, self._S]\n",
        "      self._X_S_comp = self.X[:, self._S_comp]\n",
        "    except:\n",
        "      pass\n",
        "\n",
        "    Sigma_S_comp_S = self.Sigma[self._S_comp, :][:, self._S]\n",
        "    S_MLE = self.S \n",
        "    C_MLE = self.Sigma[:, self._S][self._S, :]\n",
        "    self._Sigma_S_L = np.linalg.cholesky(C_MLE)\n",
        "    Sigma_S_inv = solve_with_cholesky(self._Sigma_S_L, np.eye(self.k))\n",
        "    Sigma_S_L_diag = np.diag(self._Sigma_S_L)\n",
        "    W_MLE = Sigma_S_comp_S @ Sigma_S_inv\n",
        "\n",
        "    if model == 'pcss':\n",
        "      sigma_sq_MLE = np.sum(np.diag(self.Sigma_R)[self._S_comp]) /(self.p - self.k)\n",
        "      D_MLE = sigma_sq_MLE*np.ones(self.p - self.k)\n",
        "    elif model == 'sf':\n",
        "      D_MLE = np.diag(self.Sigma_R)[self._S_comp]\n",
        "\n",
        "    self._log_det_Sigma_MLE = np.sum(np.log(np.square(Sigma_S_L_diag))) + np.sum(np.log(D_MLE)) \n",
        "    \n",
        "    # contains Sigma^{-1}_{SS}, Sigma^{-1}_{S, -S}, Sigma^{-1}_{-S, -S} where both S and -S are sorted \n",
        "    D_MLE_inv = 1/D_MLE\n",
        "    temp = diagonal_right_multiply(W_MLE.T, D_MLE_inv)\n",
        "    self._Sigma_MLE_inv = (Sigma_S_inv + temp  @ W_MLE, -1*temp, D_MLE_inv)\n",
        "    \n",
        "    if model == 'pcss':\n",
        "      self.MLE = {'mu_MLE': mu_MLE,\n",
        "                  'S_MLE': S_MLE,\n",
        "                  'C_MLE': C_MLE,\n",
        "                  'W_MLE': W_MLE,\n",
        "                  'sigma_sq_MLE': sigma_sq_MLE}\n",
        "    elif model == 'sf':\n",
        "      self.MLE = {'mu_MLE': mu_MLE,\n",
        "                  'S_MLE': S_MLE,\n",
        "                  'C_MLE': C_MLE,\n",
        "                  'W_MLE': W_MLE,\n",
        "                  'D_MLE': D_MLE}\n",
        "\n",
        "    if self.missing_data:   \n",
        "      self._D_MLE = D_MLE\n",
        "      # Full MLE covariance, with order S and then S_comp both sorted\n",
        "      order_perm = np.concatenate([self._S, self._S_comp])\n",
        "      self._unorder_perm = np.argsort(order_perm)\n",
        "      self._mu_MLE_ordered = self.MLE[\"mu_MLE\"][order_perm]\n",
        "      self._Sigma_MLE_ordered = np.zeros((self.p, self.p))\n",
        "      self._Sigma_MLE_ordered[:self.k, :self.k] = C_MLE.copy()\n",
        "      self._Sigma_MLE_ordered[:self.k, self.k:] = Sigma_S_comp_S.T\n",
        "      self._Sigma_MLE_ordered[self.k:, :self.k] = Sigma_S_comp_S\n",
        "      self._Sigma_MLE_ordered[self.k:, self.k:] = Sigma_S_comp_S @ Sigma_S_inv @ Sigma_S_comp_S.T\n",
        "      np.fill_diagonal(self._Sigma_MLE_ordered[self.k:, self.k:], np.diag(self._Sigma_MLE_ordered[self.k:, self.k:]) + D_MLE)\n",
        "\n",
        "\n",
        "  def _get_cholesky(self, C_MLE, W_MLE, D_MLE):\n",
        "    Sigma_S_L = np.linalg.cholesky(C_MLE)\n",
        "    Sigma_MLE_chol = np.zeros((self.p, self.p))\n",
        "    Sigma_MLE_chol[:self.k, :self.k] = Sigma_S_L\n",
        "    Sigma_MLE_chol[self.k: , :self.k] = W_MLE @ Sigma_S_L \n",
        "    np.fill_diagonal(Sigma_MLE_chol, np.concatenate([np.diag(Sigma_S_L), np.sqrt(D_MLE)]))\n",
        "    return Sigma_MLE_chol\n",
        "  \n",
        "  def _perm_3d(self, tensor, idxs_to_apply, perm, idx_order=None, row=True, col=True): \n",
        "    if col:\n",
        "      tensor[:, :, idxs_to_apply] = tensor[:, :, perm]\n",
        "    if row:\n",
        "      tensor[:, idxs_to_apply, :] = tensor[:, perm, :]\n",
        "    if idx_order is not None:\n",
        "      idx_order[idxs_to_apply] = idx_order[perm]\n",
        "\n",
        "  \n",
        "  def _compute_imputed_moments(self):\n",
        "\n",
        "    Omega = np.zeros((self.n, self.p, self.p))\n",
        "    m = np.zeros((self.n, self.p))\n",
        "\n",
        "    for i in range(self.n):\n",
        "\n",
        "      x_S = self._X_S[i, :]\n",
        "      x_S_comp = self._X_S_comp[i, :]\n",
        "      x = np.concatenate([x_S, x_S_comp])\n",
        "\n",
        "      subset_missing = np.where(np.isnan(x_S))[0]\n",
        "      subset_not_missing = np.where(~np.isnan(x_S))[0]\n",
        "      num_subset_missing = len(subset_missing)\n",
        "      \n",
        "      other_missing = np.where(np.isnan(x_S_comp))[0] + self.k \n",
        "      other_not_missing = np.where(~np.isnan(x_S_comp))[0] + self.k\n",
        "      num_other_missing = len(other_missing)\n",
        "      \n",
        "      missing = np.concatenate([subset_missing, other_missing])\n",
        "      not_missing = complement(self.p, missing)\n",
        "      num_not_missing = len(not_missing)\n",
        "      num_missing = len(missing)\n",
        "\n",
        "      x_not_missing = x[not_missing]\n",
        "      if len(subset_missing) == 0:\n",
        "\n",
        "        other_missing_adjusted = missing - self.k\n",
        "        m_missing = self.MLE['W_MLE'][other_missing_adjusted, :] @ (x_S - self._mu_MLE_ordered[:self.k]) + self._mu_MLE_ordered[missing]\n",
        "        Omega_missing = np.outer(m_missing, m_missing)\n",
        "        np.fill_diagonal(Omega_missing, np.diag(Omega_missing) + self._D_MLE[other_missing_adjusted])\n",
        "\n",
        "      else:\n",
        "        Sigma_perm = np.concatenate([not_missing, missing])\n",
        "        self._perm(self._Sigma_MLE_ordered, np.arange(self.p), Sigma_perm)\n",
        " \n",
        "        subset_perm = np.concatenate([subset_missing, subset_not_missing])\n",
        "        other_perm = np.concatenate([other_not_missing, other_missing]) - self.k\n",
        "\n",
        "        C_MLE = self.MLE['C_MLE'].copy()\n",
        "        W_MLE = self.MLE['W_MLE'].copy()\n",
        "        self._perm(C_MLE, np.arange(self.k), subset_perm)\n",
        "        self._perm(W_MLE, np.arange(self.k), subset_perm, row=False)\n",
        "        self._perm(W_MLE, np.arange(self.p-self.k), other_perm, col=False)\n",
        "        D_MLE = self._D_MLE.copy()[other_perm] \n",
        "\n",
        "        Sigma_MLE_chol = self._get_cholesky(C_MLE, W_MLE, D_MLE)\n",
        "        Sigma_MLE_chol = Sigma_MLE_chol[:(self.p - num_other_missing), :(self.p - num_other_missing)]\n",
        "        for _ in range(num_subset_missing):\n",
        "          Sigma_MLE_chol = update_cholesky_after_removing_first(Sigma_MLE_chol)\n",
        "        Sigma_MLE_not_missing_inv = solve_with_cholesky(Sigma_MLE_chol, np.eye(num_not_missing))\n",
        "  \n",
        "        Sigma_MLE_missing_not_missing = self._Sigma_MLE_ordered[self.p-num_missing:self.p , :num_not_missing]\n",
        "        temp =  Sigma_MLE_missing_not_missing @ Sigma_MLE_not_missing_inv\n",
        "        m_missing = temp @ (x_not_missing - self._mu_MLE_ordered[not_missing]) + self._mu_MLE_ordered[missing] \n",
        "        Omega_missing = self._Sigma_MLE_ordered[num_not_missing:, num_not_missing:] -  temp @ Sigma_MLE_missing_not_missing.T + np.outer(m_missing, m_missing)\n",
        "         \n",
        "        self._perm(self._Sigma_MLE_ordered, np.arange(self.p), np.argsort(Sigma_perm))\n",
        "\n",
        "      m[i, missing] = m_missing\n",
        "      m[i, not_missing] = x_not_missing\n",
        "\n",
        "      Omega[i, :num_not_missing, :num_not_missing] = np.outer(x_not_missing, x_not_missing)\n",
        "      Omega[i, num_not_missing:, :num_not_missing] = np.outer(m_missing, x_not_missing)\n",
        "      Omega[i, :num_not_missing, num_not_missing:] = Omega[i, num_not_missing:, :num_not_missing].T\n",
        "      Omega[i, num_not_missing:, num_not_missing:] = Omega_missing\n",
        "\n",
        "      Omega_perm = np.zeros(self.p).astype(int)\n",
        "      Omega_perm[missing] = np.arange(num_not_missing, self.p)\n",
        "      Omega_perm[not_missing] = np.arange(num_not_missing)\n",
        "      self._perm(Omega[i, :, :], np.arange(self.p), Omega_perm)\n",
        "\n",
        "\n",
        "    self._perm(m, np.arange(self.p), self._unorder_perm, row=False)\n",
        "    self._perm_3d(Omega, np.arange(self.p), self._unorder_perm)\n",
        "\n",
        "    return np.mean(m, axis=0), np.mean(Omega, axis=0)\n",
        "\n",
        "\n",
        "  def compute_MLE_from_partially_observed_data(self, X, k, model='pcss', **kwargs):\n",
        "\n",
        "    model=model.lower()\n",
        "    tau = kwargs.get('tau', 10e-6)\n",
        "\n",
        "    self.n, self.p = X.shape\n",
        "    self.k = k \n",
        "    self.error_check(self._model_to_objective[model], 'swap', model)\n",
        "\n",
        "    self.missing_data = True\n",
        "    self.tau = tau \n",
        "    \n",
        "    self.coverged_EM = False\n",
        "    self.log_likelihood_history = []\n",
        "\n",
        "    self.X = X\n",
        "    \n",
        "    S_init = kwargs.get(\"S_init\", None)\n",
        "    tau = kwargs.get(\"tau\", 10e-6)\n",
        "    max_em_iter = kwargs.get(\"max_em_iter\", 100)\n",
        "    max_iter = kwargs.get(\"max_iter\", 100)\n",
        "    check_every = kwargs.get(\"check_every\", 10)\n",
        "\n",
        "    X_init = np.where(np.isnan(X), np.nanmean(X, axis=0), X)  \n",
        "    mu_init, Sigma_init = get_moments(X_init)\n",
        "\n",
        "    if S_init is None:\n",
        "      S_init = np.random.choice(np.arange(self.p), self.k, replace=False)\n",
        "    elif len(S_init) != self.k:\n",
        "      raise ValueError(\"Initial subset must be of length k.\")\n",
        "\n",
        "    self.S_init_EM = S_init\n",
        "\n",
        "    self.compute_MLE_from_cov(Sigma_init, \n",
        "                              self.k, \n",
        "                              model=model, \n",
        "                              method='swap', \n",
        "                              S_init=S_init,\n",
        "                              max_iter=0,\n",
        "                              from_data=True, \n",
        "                              mu_MLE=mu_init)\n",
        " \n",
        "    #prev_S_init = None\n",
        "    #curr_S_init = set(S_init)\n",
        "    iter = 0\n",
        "    prev_log_likelihood = -np.inf\n",
        "    curr_log_likelihood = self.compute_log_likelihood_from_partially_observed_data(reduce_mean=True)\n",
        "    self.log_likelihood_history.append((iter, curr_log_likelihood))\n",
        "\n",
        "    #print(self._S)\n",
        "    while iter < max_em_iter:\n",
        "      \n",
        "      m, Omega = self._compute_imputed_moments()\n",
        "      Psi = Omega - np.outer(m, m)\n",
        "      self.compute_MLE_from_cov(Psi, \n",
        "                                self.k, \n",
        "                                model=model, \n",
        "                                method='swap',\n",
        "                                S_init=self._S, \n",
        "                                from_data=True,  \n",
        "                                max_iter=max_iter, \n",
        "                                mu_MLE=m)\n",
        "      #print(self._S)\n",
        "      #prev_S_init = curr_S_init\n",
        "      #curr_S_init = self.S\n",
        "      #print(prev_S_init, curr_S_init)\n",
        "      #if prev_S_init == curr_S_init and iter > 0:\n",
        "      #  self.converged=True\n",
        "      #  break\n",
        "      iter += 1\n",
        "      if iter % check_every == 0:\n",
        "        prev_log_likelihood = curr_log_likelihood\n",
        "        curr_log_likelihood = self.compute_log_likelihood_from_partially_observed_data(reduce_mean=True)\n",
        "        self.log_likelihood_history.append((iter, curr_log_likelihood))\n",
        "        if np.abs(curr_log_likelihood - prev_log_likelihood) < self.tau:\n",
        "          self.converged_EM=True\n",
        "          break\n",
        "      \n",
        "  \n",
        "  def compute_log_likelihood(self, X=None, reduce_mean=False):\n",
        "    if X is None:\n",
        "      if reduce_mean:\n",
        "        return -1/2*(self.p * np.log(2 * np.pi) + self.p + self._log_det_Sigma_MLE)\n",
        "      else:\n",
        "        try:\n",
        "          X_S = self._X_S.copy()\n",
        "          X_S_comp = self._X_S_comp.copy()\n",
        "        except:\n",
        "          raise ValueError(\"X not provided and no default value available\")\n",
        "    else:\n",
        "      X_S = X[:, self._S]\n",
        "      X_S_comp = X[:, self._S_comp]\n",
        "    \n",
        "    X_S -= self.MLE['mu_MLE'][self._S]\n",
        "    X_S_comp -= self.MLE['mu_MLE'][self._S_comp]\n",
        "    log_likelihoods = -1/2*(self.p * np.log(2 * np.pi) +  \n",
        "                            self._log_det_Sigma_MLE + \n",
        "                            quadratic_form(X_S, self._Sigma_MLE_inv[0], X_S) + \n",
        "                            2*quadratic_form(X_S, self._Sigma_MLE_inv[1], X_S_comp) +\n",
        "                            np.sum( diagonal_right_multiply(X_S_comp, self._Sigma_MLE_inv[2]) * X_S_comp, axis = 1) )\n",
        "    if reduce_mean:\n",
        "      return np.mean(log_likelihoods)\n",
        "    else:\n",
        "      return log_likelihoods \n",
        "  \n",
        "  ### This and with impute moments function need decomposition\n",
        "\n",
        "  def compute_log_likelihood_from_partially_observed_data(self, X=None, reduce_mean=False):\n",
        "    if X is None:\n",
        "      try:\n",
        "        X_S = self._X_S.copy()\n",
        "        X_S_comp = self._X_S_comp.copy()\n",
        "      except:\n",
        "        raise ValueError(\"X not provided and no default value available\")\n",
        "    else:\n",
        "      X_S = X[:, self._S]\n",
        "      X_S_comp = X[:, self._S_comp]\n",
        "\n",
        "    n = X_S.shape[0]\n",
        "    log_likelihoods = np.zeros(n)\n",
        "    for i in range(n):\n",
        "      x_S = X_S[i, :]\n",
        "      x_S_comp = X_S_comp[i, :]\n",
        "      \n",
        "      subset_missing = np.where(np.isnan(x_S))[0]\n",
        "      subset_not_missing = np.where(~np.isnan(x_S))[0]\n",
        "      num_subset_missing = len(subset_missing)\n",
        "      \n",
        "      other_missing_adjusted = np.where(np.isnan(x_S_comp))[0] \n",
        "      other_missing = other_missing_adjusted + self.k \n",
        "      other_not_missing_adjusted = np.where(~np.isnan(x_S_comp))[0] \n",
        "      other_not_missing = other_not_missing_adjusted + self.k\n",
        "      num_other_missing = len(other_missing)\n",
        "      \n",
        "      missing = np.concatenate([subset_missing, other_missing])\n",
        "      not_missing = complement(self.p, missing)\n",
        "      num_not_missing = len(not_missing)\n",
        "      num_missing = len(missing)\n",
        "\n",
        "      x_S_not_missing = x_S[subset_not_missing]\n",
        "      x_S_not_missing_centered = x_S_not_missing - self._mu_MLE_ordered[subset_not_missing]\n",
        "      x_S_comp_not_missing = x_S_comp[other_not_missing_adjusted] \n",
        "      x_S_comp_not_missing_centered = x_S_comp_not_missing - self._mu_MLE_ordered[other_not_missing]\n",
        "\n",
        "      if num_subset_missing == 0:\n",
        "        W_MLE_missing = self.MLE[\"W_MLE\"][other_missing_adjusted]\n",
        "        D_MLE_missing = self.MLE[\"D_MLE\"][other_missing_adjusted]\n",
        "        Sigma_MLE_inv_0 = self._Sigma_MLE_inv[0] - diagonal_right_multiply(W_MLE_missing.T, 1/D_MLE_missing) @ W_MLE_missing\n",
        "        Sigma_MLE_inv_1 = self._Sigma_MLE_inv[1][:, other_not_missing_adjusted]\n",
        "        Sigma_MLE_inv_2 = self._Sigma_MLE_inv[2][other_not_missing_adjusted]\n",
        "        \n",
        "        log_det_Sigma_MLE = self._log_det_Sigma_MLE - np.sum(np.log(D_MLE_missing))\n",
        "        log_likelihoods[i] = -1/2*(num_not_missing * np.log(2 * np.pi) + log_det_Sigma_MLE + \n",
        "                            x_S_not_missing_centered.T @ Sigma_MLE_inv_0 @ x_S_not_missing_centered + \n",
        "                            2* x_S_not_missing_centered.T @ Sigma_MLE_inv_1 @ x_S_comp_not_missing_centered +\n",
        "                            np.sum(np.square(x_S_comp_not_missing_centered) * Sigma_MLE_inv_2))\n",
        "      else:\n",
        "        x_not_missing_centered = np.concatenate([x_S_not_missing_centered, x_S_comp_not_missing_centered])\n",
        "\n",
        "        Sigma_perm = np.concatenate([not_missing, missing])\n",
        "        self._perm(self._Sigma_MLE_ordered, np.arange(self.p), Sigma_perm)\n",
        " \n",
        "        subset_perm = np.concatenate([subset_missing, subset_not_missing])\n",
        "        other_perm = np.concatenate([other_not_missing_adjusted, other_missing_adjusted])\n",
        "\n",
        "        C_MLE = self.MLE['C_MLE'].copy()\n",
        "        W_MLE = self.MLE['W_MLE'].copy()\n",
        "        self._perm(C_MLE, np.arange(self.k), subset_perm)\n",
        "        self._perm(W_MLE, np.arange(self.k), subset_perm, row=False)\n",
        "        self._perm(W_MLE, np.arange(self.p-self.k), other_perm, col=False)\n",
        "        D_MLE = self._D_MLE.copy()[other_perm] \n",
        "\n",
        "        Sigma_MLE_chol = self._get_cholesky(C_MLE, W_MLE, D_MLE)\n",
        "        Sigma_MLE_chol = Sigma_MLE_chol[:(self.p - num_other_missing), :(self.p - num_other_missing)]\n",
        "        for _ in range(num_subset_missing):\n",
        "          Sigma_MLE_chol = update_cholesky_after_removing_first(Sigma_MLE_chol)\n",
        "        \n",
        "        log_det_Sigma_MLE = np.sum(np.log(np.square(np.diag(Sigma_MLE_chol))))\n",
        "        Sigma_MLE_not_missing_inv = solve_with_cholesky(Sigma_MLE_chol, np.eye(num_not_missing))\n",
        "        \n",
        "        self._perm(self._Sigma_MLE_ordered, np.arange(self.p), np.argsort(Sigma_perm))\n",
        "\n",
        "        log_likelihoods[i] = -1/2*(num_not_missing * np.log(2 * np.pi) + log_det_Sigma_MLE +  x_not_missing_centered.T @ Sigma_MLE_not_missing_inv @ x_not_missing_centered)\n",
        "\n",
        "    if reduce_mean:\n",
        "      return np.mean(log_likelihoods)\n",
        "    else:\n",
        "      return log_likelihoods \n",
        "   "
      ]
    },
    {
      "cell_type": "code",
      "execution_count": null,
      "metadata": {
        "id": "xi09v7mZ78ao",
        "cellView": "form"
      },
      "outputs": [],
      "source": [
        "#@title\n",
        "\n",
        "p = 20\n",
        "k = 5\n",
        "model='sf'\n",
        "\n",
        "C_sqrt, W, D = randomly_generate_MLCSS_params(p, k, model, 10, standardize=True)\n",
        "n = 30000\n",
        "X = generate_MLCSS_data(n, C_sqrt, W, D, S=None)\n",
        "q = 0.8\n",
        "mask = np.random.binomial(1, q, X.shape)\n",
        "X_partially_observed = X.copy()\n",
        "\n",
        "\n",
        "for i in range(mask.shape[0]):\n",
        "  for j in range(mask.shape[1]):\n",
        "    if mask[i, j] == 0:\n",
        "      X_partially_observed[i, j] = np.nan\n",
        "#model='sf'\n",
        "#S = np.arange(2)\n",
        "#S_comp = complement(p, S)\n",
        "#X = np.random.normal(0, 1, (n, p))\n",
        "#mu_MLE, Sigma = get_moments(X)\n",
        "#Sigma_MLE = compute_Sigma_MLE(Sigma, np.arange(2), model=model)\n",
        "#W_MLE = Sigma[S_comp, :][:, S] @ np.linalg.inv(Sigma[S, :][:, S])\n",
        "#D_MLE = np.diag(Sigma[S_comp, :][:, S_comp] - Sigma[S_comp, :][:, S] @ np.linalg.inv(Sigma[S, :][:, S]) @  Sigma[S, :][:, S_comp])\n",
        "#C_MLE = Sigma[S, :][:, S]\n"
      ]
    },
    {
      "cell_type": "code",
      "execution_count": null,
      "metadata": {
        "id": "00y23ApiF4y6",
        "cellView": "form"
      },
      "outputs": [],
      "source": [
        "#@title\n",
        "X_init = np.where(np.isnan(X_partially_observed), np.nanmean(X_partially_observed, axis=0), X_partially_observed) \n",
        "MLCSS = MLColumnSubsetSelection()\n",
        "MLCSS.compute_MLE_from_data(X_init, k, model='sf', method='swap')\n",
        "print(MLCSS.S_init)\n",
        "print(MLCSS.S)\n",
        "print(np.mean(np.square(MLCSS.MLE['W_MLE'] - W)))"
      ]
    },
    {
      "cell_type": "code",
      "execution_count": null,
      "metadata": {
        "id": "WoDzbdCkNdmQ",
        "cellView": "form"
      },
      "outputs": [],
      "source": [
        "#@title\n",
        "MLCSS = MLColumnSubsetSelection()\n",
        "MLCSS.compute_MLE_from_partially_observed_data(X_partially_observed, k, model='sf', check_every=10, max_em_iter=100, tau=10e-2, max_iter=0, S_init=np.arange(k))\n",
        "print(np.mean(np.square(MLCSS.MLE['W_MLE'] - W)))"
      ]
    },
    {
      "cell_type": "code",
      "execution_count": null,
      "metadata": {
        "colab": {
          "background_save": true
        },
        "id": "qwu57ndOdU88",
        "cellView": "form"
      },
      "outputs": [],
      "source": [
        "#@title\n",
        "MLCSS = MLColumnSubsetSelection()\n",
        "MLCSS.compute_MLE_from_partially_observed_data(X_partially_observed, k, model='sf', check_every=10, max_em_iter=100, tau=10e-2)\n",
        "print(MLCSS.converged_EM)\n",
        "print(MLCSS.S_init_EM)\n",
        "print(MLCSS.S)\n",
        "plt.plot(*zip(*MLCSS.log_likelihood_history))\n",
        "#print(np.mean(np.square(MLCSS.MLE['W_MLE'] - W)))"
      ]
    },
    {
      "cell_type": "code",
      "execution_count": null,
      "metadata": {
        "cellView": "form",
        "id": "MhfTF3zVqSiZ"
      },
      "outputs": [],
      "source": [
        "#@title\n",
        "class MMLColumnSubsetSelection(ColumnSubsetSelection):\n",
        "  def __init__(self):\n",
        "    pass \n",
        "  \n",
        "  def _compute_and_stash_scaled_log_likelihoods(self):\n",
        "    log_likelihoods = np.zeros((self.n , self.C))\n",
        "    for i in range(self.C):\n",
        "      log_likelihoods[:, i] = self.models[i].compute_log_likelihood(self.X)\n",
        "    self._scaled_log_likelihoods = log_likelihoods + self._log_pi\n",
        "\n",
        "  def _compute_scaled_log_likelihoods(self, X):\n",
        "    n = X.shape[0]\n",
        "    log_likelihoods = np.zeros((n, self.C))\n",
        "    for i in range(self.C):\n",
        "      log_likelihoods[:, i] = self.models[i].compute_log_likelihood(X)\n",
        "    return log_likelihoods + self._log_pi\n",
        "\n",
        "  def compute_posterior_class_probs(self, X=None):\n",
        "    if X is None:\n",
        "      ps = softmax(self._scaled_log_likelihoods, axis=1)\n",
        "    else:\n",
        "      scaled_log_likelihoods = self._compute_scaled_log_likelihoods(X)\n",
        "      ps = softmax(scaled_log_likelihoods, axis=1)\n",
        "    return ps\n",
        "      \n",
        "  \n",
        "  def compute_mixture_MLE_from_data(self, X, C, k, model='pcss', **kwargs):\n",
        "    \n",
        "    S_init = kwargs.get('S_init', None)\n",
        "    pi_init = kwargs.get('pi_init', None)\n",
        "    max_iter = kwargs.get('max_iter', 1000)\n",
        "    max_swaps = kwargs.get('max_swaps', 1000)\n",
        "    tol = kwargs.get('tol', 10e-12)\n",
        "    check_every = kwargs.get('check_every', 50)\n",
        "    tau = 10e-6\n",
        "\n",
        "    self.converged=False \n",
        "    self.log_likelihood_history = []\n",
        "\n",
        "    n, p = X.shape\n",
        "\n",
        "    self.X = X\n",
        "    self.C = C\n",
        "    self.n = n\n",
        "    self.p = p \n",
        "    self.ks = k\n",
        "    self.tau = tau\n",
        "\n",
        "    if not isinstance(C, (int, np.integer)) or C <= 0:\n",
        "      raise ValueError(\"C must be a positive integer\")\n",
        "    \n",
        "    if S_init is not None:\n",
        "      if len(S_init) != C:\n",
        "        raise ValueError(\"S_init must is not length C\")\n",
        "      for i in range(C):\n",
        "        if len(S_init[i]) != ks[i]:\n",
        "          raise ValueError(\"S_init does not agree with ks\")\n",
        "    else:\n",
        "      S_init = []\n",
        "      for i in range(C):\n",
        "        S_init.append(np.random.choice(np.arange(p), k[i], replace=False))\n",
        "\n",
        "    self.S_init = S_init\n",
        "\n",
        "    self.models = []\n",
        "    split_size = int(n/C)\n",
        "    for i in range(C):\n",
        "      MLCSS = MLColumnSubsetSelection()\n",
        "      MLCSS.compute_MLE_from_data(X[i*split_size: (i+1)*split_size], k[i], model=model, method='swap', S_init=S_init[i], max_iter=0, tol=tol)\n",
        "      self.models.append(MLCSS)\n",
        "    \n",
        "\n",
        "    if pi_init is None:\n",
        "      pi = np.ones(C)/C \n",
        "    else:\n",
        "      pi = pi_init.copy()\n",
        "    self.pi_init = pi\n",
        "    self._log_pi = np.log(pi)\n",
        "    self._compute_and_stash_scaled_log_likelihoods()\n",
        "\n",
        "\n",
        "    X_repeat = np.repeat(X[np.newaxis, :, :], C, axis=0)\n",
        "    ### Starting EM\n",
        "    \n",
        "    prev_log_likelihood = -np.inf\n",
        "    curr_log_likelihood = self.compute_log_likelihood(reduce_mean=True)\n",
        "    iter = 0\n",
        "    self.log_likelihood_history.append((iter, curr_log_likelihood))\n",
        "\n",
        "    while iter < max_iter:\n",
        "      posterior_probs = self.compute_posterior_class_probs()\n",
        "      #plt.hist(posterior_probs[:, 0], bins=100)\n",
        "      #plt.xlim([0, 1])\n",
        "      #plt.show()\n",
        "      N = np.sum(posterior_probs, axis=0)\n",
        "      pi = N/n\n",
        "      self._log_pi = np.log(pi)\n",
        "\n",
        "      weighted_X = posterior_probs.T[:, : , np.newaxis] * X_repeat\n",
        "      weighted_mu = 1/N[:, np.newaxis] * np.sum(weighted_X, axis=1)\n",
        "      X_centered = X_repeat - weighted_mu[:, np.newaxis, :]\n",
        "      weighted_X_centered = posterior_probs.T[:, : , np.newaxis] * X_centered\n",
        "      weighted_Sigma =  1/N[:, np.newaxis, np.newaxis] * np.transpose(weighted_X_centered, axes=(0, 2, 1)) @ X_centered\n",
        "\n",
        "      for i in range(C):\n",
        "        self.models[i].compute_MLE_from_cov(weighted_Sigma[i, :, :], \n",
        "                                            k=k[i], \n",
        "                                            model=model, \n",
        "                                            method='swap', \n",
        "                                            S_init=self.models[i].S, \n",
        "                                            mu_MLE=weighted_mu[i, :], \n",
        "                                            tol=tol, \n",
        "                                            max_iter=max_swaps)\n",
        "      self._compute_and_stash_scaled_log_likelihoods()\n",
        "      iter += 1\n",
        "      if iter % check_every == 0:\n",
        "        prev_log_likelihood = curr_log_likelihood\n",
        "        curr_log_likelihood = self.compute_log_likelihood(reduce_mean=True)\n",
        "        self.log_likelihood_history.append((iter, curr_log_likelihood))\n",
        "       \n",
        "        if curr_log_likelihood - prev_log_likelihood < tau :\n",
        "          self.converged=True\n",
        "          break\n",
        "\n",
        "    self.pi_MLE = pi\n",
        "\n",
        "  def compute_log_likelihood(self, X=None, reduce_mean=False):\n",
        "    if X is None:\n",
        "      log_likelihoods = logsumexp(self._scaled_log_likelihoods, axis=1)\n",
        "    else:\n",
        "      scaled_log_likelihoods = self._compute_scaled_log_likelihoods(X)\n",
        "      log_likelihoods = logsumexp(scaled_log_likelihoods, axis=1)\n",
        "    if reduce_mean:\n",
        "      return np.mean(log_likelihoods)\n",
        "    else:\n",
        "      return log_likelihoods \n",
        "  \n",
        "\n",
        "\n",
        "\n",
        "      \n"
      ]
    },
    {
      "cell_type": "markdown",
      "metadata": {
        "id": "EtqOXcacgs-v"
      },
      "source": [
        "# Other Helpers\n"
      ]
    },
    {
      "cell_type": "markdown",
      "metadata": {
        "id": "Fe0IDSBIURCk"
      },
      "source": [
        "### Data Generation"
      ]
    },
    {
      "cell_type": "code",
      "execution_count": null,
      "metadata": {
        "id": "vQTgS2yWUSnK"
      },
      "outputs": [],
      "source": [
        "\n",
        "#def generate_data(n, MLE , model_params, check_errors=True):\n",
        "#\n",
        "#  if check_errors:\n",
        "#    model_params = error_check_model_params(model_params)\n",
        "#\n",
        "#  if model_params['model'] == 'fa':\n",
        "#    return generate_FA_data(n, MLE[\"W_MLE\"], MLE[\"D_MLE\"])\n",
        "#  if model_params['model'] == 'mlcss':\n",
        "#    C_sqrt = scipy.linalg.sqrtm(MLE[\"C_MLE\"])\n",
        "#    if model_params['sub_model'] == 'sf':\n",
        "#      D = MLE[\"D_MLE\"]\n",
        "#    if model_params['sub_model'] == 'pcss':\n",
        "#      D = MLE[\"sigma_sq_MLE\"] * np.ones(p-k)\n",
        "#    return generate_MLCSS_data(n, C_sqrt, MLE[\"W_MLE\"], D, S=np.sort(list(MLE[\"S_MLE\"])))\n",
        "\n",
        "#def generate_FA_data(n, W, D):\n",
        "#  p = D.shape[0]\n",
        "#  X = W @ np.random.normal(0, 1, (p, k)) \n",
        "#  X += diagonal_right_multiply(np.random.normal(0, 1, size=(n, p)), np.sqrt(D))\n",
        "#  return X\n",
        "\n",
        "#def generate_MLCSS_mixture_data(n, pi, params):\n",
        "#  counts = np.random.multinomial(n, pi)\n",
        "#  frames = []\n",
        "#  for i in range(len(pi)):\n",
        "#    if 'S' in params[i].keys():\n",
        "#      S = params[i]['S']\n",
        "#    else:\n",
        "#      S = None\n",
        "#    frames.append(generate_data(counts[i], params[i]['C_sqrt'], params[i]['W'], params[i]['D'], S=S))\n",
        "#  return np.vstack(frames)\n",
        "\n",
        "\n",
        "#def randomly_generate_MLCSS_params(p, k, model, SNR, standardize=False,):\n",
        "\n",
        "#  C_sqrt = 1/np.sqrt(k) * np.random.normal(0, 1, size=(k, k)) \n",
        "#  W = np.random.normal(0, 1, size=(p-k, k))\n",
        "  \n",
        "#  if model == 'sf':\n",
        "#    D = 1/SNR * np.random.chisquare(k, size=p-k)\n",
        "#  if model == 'pcss':\n",
        "#    sigma_sq = 1/SNR * np.random.chisquare(k)\n",
        "#    D = np.ones(p-k) * sigma_sq\n",
        "#  if standardize:\n",
        "#    scale_S_inv_sq = np.sum(np.square(C_sqrt), axis = 1)\n",
        "#    scale_S_inv = np.sqrt(scale_S_inv_sq)\n",
        "#    scale_S = 1/scale_S_inv\n",
        "\n",
        "#   scale_S_comp_sq = 1/(np.sum(np.square(W @ C_sqrt), axis=1) + D)\n",
        "#    scale_S_comp = np.sqrt(scale_S_comp_sq)\n",
        "    \n",
        "#    C_sqrt = diagonal_left_multiply(scale_S, C_sqrt)\n",
        "#    W = diagonal_left_multiply(scale_S_comp, diagonal_right_multiply(W, scale_S_inv))\n",
        "#    D = D * scale_S_comp_sq\n",
        "#  return C_sqrt, W, D\n",
        "\n",
        "#def get_cholesky(self, C_MLE, W_MLE, D_MLE):\n",
        "#  Sigma_S_L = np.linalg.cholesky(C_MLE)\n",
        "#  Sigma_MLE_chol = np.zeros((self.p, self.p))\n",
        "#  Sigma_MLE_chol[:self.k, :self.k] = Sigma_S_L\n",
        "#  Sigma_MLE_chol[self.k: , :self.k] = W_MLE @ Sigma_S_L \n",
        "#  np.fill_diagonal(Sigma_MLE_chol, np.concatenate([np.diag(Sigma_S_L), np.sqrt(D_MLE)]))\n",
        "#  return Sigma_MLE_chol\n",
        "\n",
        "def perm_3d_inplace(tensor, idxs_to_apply, perm):\n",
        "  tensor[:, :, idxs_to_apply] = tensor[:, :, perm]\n",
        "  tensor[:, idxs_to_apply, :] = tensor[:, perm, :]  \n",
        "\n",
        "def generate_subset_factor_sample_cov(n, C_chol, W, D, rho=None, B=None, chi_sqrts=None, normals=None, S=None):\n",
        "  squeeze = False\n",
        "  if B is None:\n",
        "    B = 1\n",
        "    squeeze = True\n",
        "  k = C_chol.shape[0]\n",
        "  p = k + W.shape[0]\n",
        "  D_sqrt = np.sqrt(D)\n",
        "  if chi_sqrts is None:\n",
        "    chis = np.random.chisquare(df=np.arange(n - 1, n - p - 1 , -1), size=(B,p))\n",
        "    chi_sqrts = np.sqrt(chis)\n",
        "  if normals is None:\n",
        "    normals = np.random.normal(0, 1, (B, int(p*(p-1)/2)) )\n",
        "\n",
        "  L_top_left = np.zeros((B, k, k))\n",
        "  L_top_left[:, np.tri(k, dtype=bool, k=-1)] = normals[:, :int(k *(k-1)/2)]\n",
        "  i, j = np.diag_indices(k)\n",
        "  L_top_left[:, i, j] = chi_sqrts[:, :k]\n",
        "\n",
        "  L_bottom_left = normals[:, int(k *(k-1)/2) : int(k *(k-1)/2) + (p-k)*k].reshape((B, p-k, k))\n",
        "\n",
        "  L_bottom_right = np.zeros((B, p-k, p-k))\n",
        "  L_bottom_right[:, np.tri(p-k, dtype=bool, k=-1)] = normals[: , int(k *(k-1)/2) + (p-k)*k :]\n",
        "  i, j =  np.diag_indices(p-k)\n",
        "  L_bottom_right[:, i, j] = chi_sqrts[:, :p-k]\n",
        "\n",
        "  Sigma_hat_chol = np.zeros((B, p, p))\n",
        "  Sigma_hat_chol[:, :k, :k] = C_chol[np.newaxis, :, :] @ L_top_left\n",
        "  \n",
        "  if hasattr(D, \"__len__\"):\n",
        "    Sigma_hat_chol[:, k:, :k] = W[np.newaxis, :, :] @ Sigma_hat_chol[:, :k, :k] + D_sqrt[np.newaxis, np.newaxis, :] * L_bottom_left\n",
        "    Sigma_hat_chol[:, k:, k:] =  D_sqrt[np.newaxis, np.newaxis, :] * L_bottom_right\n",
        "  else:\n",
        "    if rho is None:\n",
        "      Sigma_hat_chol[:, k:, :k] = W[np.newaxis, :, :] @ Sigma_hat_chol[:, :k, :k] + D_sqrt * L_bottom_left\n",
        "      Sigma_hat_chol[:, k:, k:] =  D_sqrt * L_bottom_right\n",
        "    else:\n",
        "      D_chol = get_equicorrelated_chol(p-k, rho, D)\n",
        "      Sigma_hat_chol[:, k:, :k] = W[np.newaxis, :, :] @ Sigma_hat_chol[:, :k, :k] + D_chol[np.newaxis, :, :] @ L_bottom_left\n",
        "      Sigma_hat_chol[:, k:, k:] =  D_chol[np.newaxis, :, :] @ L_bottom_right\n",
        "  Sigma_hat = 1/n * Sigma_hat_chol @ np.transpose(Sigma_hat_chol, (0, 2, 1))\n",
        "  \n",
        "  if S is not None:\n",
        "    S = np.sort(list(S))\n",
        "    S_comp = complement(p, S)\n",
        "    perm_3d_inplace(Sigma_hat, np.range(p), np.concatenate([S, S_comp]))\n",
        "  return np.squeeze(Sigma_hat) if squeeze else Sigma_hat\n",
        "\n",
        "def generate_subset_factor_data(n, C_sqrt, W, D, rho=None, B=None, S=None, mu=None, normals=None, noise='normal', t_df=None):\n",
        "  squeeze = False\n",
        "  if B is None:\n",
        "    B = 1\n",
        "    squeeze = True\n",
        "  k = C_sqrt.shape[0]\n",
        "  p = k + W.shape[0]\n",
        "  if normals is None:\n",
        "    normals = np.random.normal(0, 1, size=(B, n, k))\n",
        "  X_S =  normals @ C_sqrt.T\n",
        "  \n",
        "  if noise == 'normal':\n",
        "    noise = np.random.normal(0, 1, size=(B, n, p-k))\n",
        "  elif noise == 't':\n",
        "    noise = np.random.standard_t(t_df, size=(B, n, p-k)) * np.sqrt((t_df - 2)/t_df)\n",
        "  elif noise == 'exponential':\n",
        "    noise = np.random.exponential(size=(B, n, p-k)) - 1\n",
        "  \n",
        "  if hasattr(D, \"__len__\"):\n",
        "    noise = noise *  np.sqrt(D)[np.newaxis , np.newaxis, :]\n",
        "  else:\n",
        "    if rho is None:\n",
        "      noise = noise * np.sqrt(D)\n",
        "    else:\n",
        "      D_chol = get_equicorrelated_chol(p-k, rho, D)\n",
        "      noise = noise @ D_chol.T\n",
        "    \n",
        "  X_S_comp = X_S @ W.T + noise \n",
        "  if S is None:\n",
        "    X = np.dstack([X_S, X_S_comp]) \n",
        "  else:\n",
        "    S = np.sort(list(S))\n",
        "    X = np.zeros((B, n, p))\n",
        "    S_comp = complement(p, S)\n",
        "    X[:, :, S] = X_S\n",
        "    X[:, :, S_comp] = X_S_comp\n",
        "  if mu is not None:\n",
        "    X += mu[np.newaxis, np.newaxis, :]\n",
        "  return np.squeeze(X) if squeeze else X\n",
        "\n",
        "def get_equicorrelated_chol(k, off_diag, diag=1):\n",
        "  chol = np.sqrt(diag-off_diag) * np.eye(k)\n",
        "  cholupdate(chol, np.sqrt(off_diag) * np.ones(k))\n",
        "  return chol.T\n",
        "\n",
        "#def get_equicorrelated_C_chol(k, rho):\n",
        "#  C_chol = np.sqrt(1 - rho) * np.eye(k)\n",
        "#  cholupdate(C_chol, np.sqrt(rho) * np.ones(k))\n",
        "#  return C_chol.T\n",
        "\n",
        "#def get_equicorrelated_C_sqrt(k, rho):\n",
        "#  return np.sqrt(1 - rho) * np.eye(k) + (np.sqrt((1 - rho) + rho*k) - np.sqrt(1 - rho))/k * np.ones((k, k))\n",
        "\n",
        "def get_block_W(p, k , num_blocks, block_size, overlap, SNR, seed=None):\n",
        "  if seed is not None:\n",
        "    np.random.seed(seed)\n",
        "  W = np.zeros((p-k, k))\n",
        "  row_start = 0\n",
        "  col_start = 0\n",
        "  row_move = int((p-k)/num_blocks)\n",
        "  col_move = block_size - overlap\n",
        "  s = SNR/(SNR + 1)\n",
        "  \n",
        "  for i in range(num_blocks):\n",
        "    if i < num_blocks -1:\n",
        "      W[row_start: row_start + row_move, col_start : col_start + block_size ] = np.sqrt(s/block_size)\n",
        "      if seed is not None:\n",
        "        W[row_start: row_start + row_move, col_start : col_start + block_size] *= np.random.choice(np.array([-1, 1]), (row_move, block_size), replace=True)\n",
        "\n",
        "    else:\n",
        "      W[row_start:, col_start:] = np.sqrt(s/(k - col_start))\n",
        "      if seed is not None:\n",
        "        W[row_start:, col_start:] *= np.random.choice(np.array([-1, 1]), (p - k - row_start, k - col_start), replace=True)\n",
        "    \n",
        "    row_start += row_move\n",
        "    col_start += col_move\n",
        "  \n",
        "  return W"
      ]
    },
    {
      "cell_type": "code",
      "source": [
        "np.mean(np.random.exponential(size=(100, 1000, 150)) - 1)"
      ],
      "metadata": {
        "colab": {
          "base_uri": "https://localhost:8080/"
        },
        "id": "GVwW1xso9vRD",
        "outputId": "4fd87231-1871-428d-e2a8-fb0e6f058f9e"
      },
      "execution_count": null,
      "outputs": [
        {
          "output_type": "execute_result",
          "data": {
            "text/plain": [
              "0.00010826068766548934"
            ]
          },
          "metadata": {},
          "execution_count": 54
        }
      ]
    },
    {
      "cell_type": "markdown",
      "metadata": {
        "id": "uy2PAYUjTrP5"
      },
      "source": [
        "###Misc."
      ]
    },
    {
      "cell_type": "code",
      "execution_count": null,
      "metadata": {
        "id": "s5PEaSDmTs2N",
        "cellView": "form"
      },
      "outputs": [],
      "source": [
        "#@title\n",
        "def standardize_data(X, center=False):\n",
        "  mu_hat, Sigma_hat = get_moments(X)\n",
        "  X_standardized = diagonal_right_multiply(X - mu_hat, 1/np.sqrt(np.diag(Sigma_hat)))\n",
        "  if not center:\n",
        "    X_standardized += mu_hat \n",
        "  return X_standardized\n",
        "\n",
        "def box_cox(X, lamb):\n",
        "  if lamb == 0:\n",
        "    return np.log(X)\n",
        "  else:\n",
        "    return  ((X ** lamb) - 1)/lamb\n",
        "\n",
        "def error_check_model_params(model_params):\n",
        "\n",
        "  model_params=model_params.copy()\n",
        "  \n",
        "  num_tries_flag = 'num_tries' in model_params.keys()\n",
        "\n",
        "  model_params['model'] = model_params['model'].lower()\n",
        "  if model_params['model'] not in {'fa', 'mlcss_pcss', 'mlcss_sf'}:\n",
        "    raise ValueError(\"model is not supported.\")\n",
        "  \n",
        "  if model_params['model'] == 'mlcss_pcss':\n",
        "    model_params['model'] = 'mlcss'\n",
        "    model_params['sub_model'] = 'pcss'\n",
        "    \n",
        "  if model_params['model'] == 'mlcss_sf':\n",
        "    model_params['model'] = 'mlcss'\n",
        "    model_params['sub_model'] = 'sf'\n",
        "\n",
        "  if model_params['model'] == 'fa':\n",
        "    \n",
        "    model_params['init'] = model_params['init'].lower()\n",
        "    if model_params['init'] not in {'random', 'ppca'}:\n",
        "      raise ValueError(\"init is not supported\")\n",
        "    \n",
        "    if num_tries_flag and model_params['init'] == 'ppca':\n",
        "      raise ValueError(\"no need for more than one try with ppca initialization\")\n",
        "  \n",
        "  if model_params['model'] == 'mlcss':\n",
        "    \n",
        "    model_params['sub_model'] = model_params['sub_model'].lower()\n",
        "    if model_params['sub_model'] not in {'pcss', 'sf'}:\n",
        "      raise ValueError(\"sub_model is not supported.\")\n",
        "    \n",
        "    model_params['method'] = model_params['method'].lower()\n",
        "    if model_params['method'] not in {'swap', 'greedy'}:\n",
        "      raise ValueError(\"method is not supported.\")\n",
        "    \n",
        "    if num_tries_flag and model_params['method'] == 'greedy':\n",
        "      raise ValueError(\"no need for more than one try with greedy method\")\n",
        "\n",
        "  if not num_tries_flag:\n",
        "    model_params['num_tries'] = 1\n",
        "\n",
        "  return model_params\n"
      ]
    },
    {
      "cell_type": "markdown",
      "metadata": {
        "id": "_5XBe3-uT4GQ"
      },
      "source": [
        "###Debugging"
      ]
    },
    {
      "cell_type": "code",
      "execution_count": null,
      "metadata": {
        "id": "onozPR_ZT-Fr"
      },
      "outputs": [],
      "source": [
        "#@title\n",
        "\n",
        "def all_close(a, b, tol=10e-10):\n",
        "  return np.all(np.abs(a-b) < tol)\n",
        "\n",
        "def replace_submatrix(mat, ind1, ind2, mat_replace):\n",
        "  for i, index in enumerate(ind1):\n",
        "    mat[index, ind2] = mat_replace[i, :]\n",
        "  return mat\n",
        "\n",
        "def get_Sigma_MLE(MLE):\n",
        "  k = MLE['C_MLE'].shape[0]\n",
        "  d = MLE['W_MLE'].shape[0]\n",
        "  p = d + k\n",
        "  S = np.sort(list(MLE['S_MLE']))\n",
        "  S_comp = complement(p, S)\n",
        "  C = MLE['C_MLE'].copy()\n",
        "  W = MLE['W_MLE'].copy()\n",
        "  if 'sigma_sq_MLE' in MLE.keys():\n",
        "    D = np.ones(p - k) * MLE['sigma_sq_MLE']\n",
        "  if 'D_MLE' in MLE.keys():\n",
        "    D = MLE['D_MLE']\n",
        "  Sigma_MLE = np.zeros((p, p))\n",
        "  Sigma_MLE = replace_submatrix(Sigma_MLE, S, S, C)\n",
        "  Sigma_MLE = replace_submatrix(Sigma_MLE, S_comp, S, W @ C)\n",
        "  Sigma_MLE = replace_submatrix(Sigma_MLE, S, S_comp, (W @ C).T)\n",
        "  Sigma_MLE = replace_submatrix(Sigma_MLE, S_comp, S_comp, W @ C @ W.T + np.diag(D))\n",
        "  return Sigma_MLE\n",
        "\n",
        "def compute_Sigma_MLE(Sigma, S, model='pcss'):\n",
        "  p = Sigma.shape[0]\n",
        "  k = len(S)\n",
        "  S = np.sort(S)\n",
        "  S_comp = complement(p, S)\n",
        "  Sigma_R = regress_off(Sigma, S) \n",
        "  D_ = np.diag(Sigma_R)[S_comp]\n",
        "  if model == 'pcss':\n",
        "    D = np.ones(p - k) * np.mean(D_)\n",
        "  if model == 'sf':\n",
        "    D = D_.copy()\n",
        "  Sigma_MLE = np.zeros((p, p))\n",
        "  Sigma_MLE = replace_submatrix(Sigma_MLE, S, S, Sigma[S, :][:, S])\n",
        "  Sigma_MLE = replace_submatrix(Sigma_MLE, S, S_comp,  Sigma[S, :][:, S_comp])\n",
        "  Sigma_MLE = replace_submatrix(Sigma_MLE, S_comp, S, Sigma[S_comp, :][:, S])\n",
        "  Sigma_MLE = replace_submatrix(Sigma_MLE, S_comp, S_comp, Sigma[S_comp, :][:, S] @  np.linalg.inv(Sigma[S, :][:, S]) @ Sigma[S, :][:, S_comp] + np.diag(D))\n",
        "  return Sigma_MLE\n",
        "\n",
        "def regress_one_off(Sigma, j):\n",
        "  return Sigma - np.outer(Sigma[:, j], Sigma[:, j])/Sigma[j, j]\n",
        "\n",
        "def regress_one_off_in_place(Sigma, j):\n",
        "  Sigma[:, :] -= np.outer(Sigma[:, j], Sigma[:, j])/Sigma[j, j]\n",
        "\n",
        "def naive_regress_off(Sigma, S):\n",
        "  return Sigma - Sigma[:, S] @ np.linalg.inv(Sigma[:, S][S, :]) @ Sigma[S, :]\n",
        "\n",
        "def regress_off(Sigma, S):\n",
        "  for j in S:\n",
        "    Sigma = regress_one_off(Sigma, j)\n",
        "  return Sigma\n",
        "\n",
        "def perm(Sigma, idxs_to_apply, perm_to_apply, col=True, row=True):\n",
        "  Sigma = Sigma.copy()\n",
        "  if col:\n",
        "    Sigma[:, idxs_to_apply] = Sigma[:, perm_to_apply]\n",
        "  if row:\n",
        "    Sigma[idxs_to_apply, :] = Sigma[perm_to_apply, :]\n",
        "  return Sigma\n",
        "\n",
        "def compute_inverse_cov_after_removal(Sigma_S_inv, remove_first=True):\n",
        "  p = Sigma_S_inv.shape[0]\n",
        "  if remove_first:\n",
        "    v = Sigma_S_inv[1:p, 0]\n",
        "    Sigma_T_inv = Sigma_S_inv[1:p, 1:p] - np.outer(v, v)/Sigma_S_inv[0, 0]\n",
        "  else:\n",
        "    p_ = p-1\n",
        "    v = Sigma_S_inv[:p_, p-1]\n",
        "    Sigma_T_inv = Sigma_S_inv[:p_, :p_] - np.outer(v, v)/Sigma_S_inv[p_, p_]\n",
        "  return Sigma_T_inv \n",
        "\n",
        "def compute_inverse_cov_after_addition(Sigma_T_inv, v, den=None, add_first=True):\n",
        "  p = len(v)\n",
        "  Sigma_S_inv = np.zeros((p, p))\n",
        "  if add_first:\n",
        "    v_ = v[1:p]\n",
        "    w = Sigma_T_inv @ v_\n",
        "    if den is None:\n",
        "      den = v[0] - v_.T @ w\n",
        "    Sigma_S_inv[1:p, 1:p] = Sigma_T_inv + np.outer(w, w)/den\n",
        "    Sigma_S_inv[0, 1:p] = -w/den\n",
        "    Sigma_S_inv[1:p, 0] = -w/den\n",
        "    Sigma_S_inv[0, 0] = 1/den\n",
        "  else:\n",
        "    p_ = p-1\n",
        "    v_ = v[:p_]\n",
        "    w = Sigma_T_inv @ v_\n",
        "    if den is None:\n",
        "      den = v[p_] - v_.T @ w\n",
        "      #print(den)\n",
        "    Sigma_S_inv[:p_, :p_] = Sigma_T_inv + np.outer(w, w)/den\n",
        "    Sigma_S_inv[p_, :p_] = -w/den\n",
        "    Sigma_S_inv[:p_, p_] = -w/den\n",
        "    Sigma_S_inv[p_, p_] = 1/den\n",
        "  return Sigma_S_inv\n",
        "\n",
        "def compute_Sigma_S_inv(Sigma, S):\n",
        "  k = len(S)\n",
        "  S_0 = S[0]\n",
        "  Sigma_S_inv = np.array([[1/Sigma[S_0, S_0]]])\n",
        "  if k == 1:\n",
        "    return Sigma_S_inv\n",
        "  for i in range(1, k):\n",
        "    Sigma_S_inv = compute_inverse_cov_after_addition(Sigma_S_inv, Sigma[S[i], S[:(i+1)]], add_first=False)\n",
        "  return Sigma_S_inv"
      ]
    },
    {
      "cell_type": "code",
      "execution_count": null,
      "metadata": {
        "id": "Z8pgeyyOMN7R",
        "cellView": "form"
      },
      "outputs": [],
      "source": [
        "#@title\n",
        "def impute(x, Sigma_MLE, mu_MLE):\n",
        "  p = x.shape[0]\n",
        "  m = np.zeros(p)\n",
        "  Omega = np.zeros((p, p))\n",
        "  missing = np.where(np.isnan(x))[0]\n",
        "  not_missing = complement(p, missing)\n",
        "  m[not_missing] = x[not_missing] \n",
        "  Sigma_MLE_not_missing_inv = np.linalg.inv(Sigma_MLE[not_missing, :][:, not_missing])\n",
        "  m[missing] = Sigma_MLE[missing, :][:, not_missing] @ Sigma_MLE_not_missing_inv  @ (x[not_missing] - mu_MLE[not_missing]) + mu_MLE[missing]\n",
        "\n",
        "  Omega = replace_submatrix(Omega, not_missing, missing, np.outer(x[not_missing], m[missing]) )\n",
        "  Omega = replace_submatrix(Omega, missing, not_missing,  np.outer(m[missing], x[not_missing]))\n",
        "  Omega = replace_submatrix(Omega, missing, missing, Sigma_MLE[missing,:][:, missing] - Sigma_MLE[missing, :][:, not_missing] @ Sigma_MLE_not_missing_inv  @ Sigma_MLE[not_missing,:][:, missing] + np.outer(m[missing], m[missing]))\n",
        "  Omega = replace_submatrix(Omega, not_missing, not_missing, np.outer(x[not_missing], x[not_missing] ))\n",
        "\n",
        "  return m, Omega\n",
        "\n",
        "def impute_easy(x, mu_MLE, W_MLE, D_MLE):\n",
        "  p = x.shape[0]\n",
        "  k = W_MLE.shape[1]\n",
        "  m = np.zeros(p)\n",
        "  Omega = np.zeros((p, p))\n",
        "  missing = np.where(np.isnan(x))[0]\n",
        "  not_missing = complement(p, missing)\n",
        "  num_not_missing = len(not_missing)\n",
        "  num_missing = len(missing) \n",
        "\n",
        "  m[not_missing] = x[not_missing]\n",
        "  m[missing] = W_MLE[missing - k, :] @ (x[:k] - mu_MLE[:k]) + mu_MLE[missing]\n",
        "\n",
        "  Omega[:num_not_missing, :num_not_missing] = np.outer(x[not_missing], x[not_missing])\n",
        "  Omega[num_not_missing:, :num_not_missing] = np.outer(m[missing], x[not_missing])\n",
        "  Omega[:num_not_missing, num_not_missing:] = Omega[num_not_missing:, :num_not_missing].T\n",
        "  Omega[num_not_missing:, num_not_missing:] = np.diag(D_MLE[missing - k]) + np.outer(m[missing], m[missing])\n",
        "  #Omega = replace_submatrix(Omega, not_missing, missing, np.outer(x[not_missing], m[missing]) )\n",
        "  #Omega = replace_submatrix(Omega, missing, not_missing,  np.outer(m[missing], x[not_missing]))\n",
        "  #Omega = replace_submatrix(Omega, missing, missing, np.diag(D_MLE[missing - k]) + np.outer(m[missing], m[missing]))\n",
        "  #Omega = replace_submatrix(Omega, not_missing, not_missing, np.outer(x[not_missing], x[not_missing]))\n",
        "\n",
        "  reorder = np.zeros(p).astype(int)\n",
        "  reorder[missing] = np.arange(num_not_missing, p)\n",
        "  reorder[not_missing] = np.arange(num_not_missing)\n",
        "  Omega = perm(Omega, np.arange(p), reorder)\n",
        "\n",
        "  return m, Omega \n",
        "\n",
        "def get_cholesky(C_MLE, W_MLE, D_MLE):\n",
        "  k = W_MLE.shape[1]\n",
        "  p = D_MLE.shape[0] + k\n",
        "  Sigma_S_L = np.linalg.cholesky(C_MLE)\n",
        "  Sigma_MLE_chol = np.zeros((p, p))\n",
        "  Sigma_MLE_chol[:k, :k] = Sigma_S_L\n",
        "  Sigma_MLE_chol[k: , :k] = W_MLE @ Sigma_S_L \n",
        "  np.fill_diagonal(Sigma_MLE_chol, np.concatenate([np.diag(Sigma_S_L), np.sqrt(D_MLE)]))\n",
        "  return Sigma_MLE_chol\n",
        "\n",
        "def impute_general(x, mu_MLE, C_MLE, W_MLE, D_MLE, Sigma_MLE):\n",
        "  \n",
        "\n",
        "  p = x.shape[0]\n",
        "  k = W_MLE.shape[1]\n",
        "  p = mu_MLE.shape[0]\n",
        "  m = np.zeros(p)\n",
        "  Omega = np.zeros((p, p))\n",
        "  subset_missing = np.where(np.isnan(x[:k]))[0]\n",
        "  subset_not_missing = np.where(~np.isnan(x[:k]))[0]\n",
        "  num_subset_missing = len(subset_missing)\n",
        "  other_missing = np.where(np.isnan(x[k:]))[0] + k \n",
        "  other_not_missing = np.where(~np.isnan(x[k:]))[0] + k\n",
        "  num_other_missing = len(other_missing)\n",
        "  missing = np.concatenate([subset_missing, other_missing])\n",
        "  not_missing = complement(p, missing)\n",
        "  num_not_missing = len(not_missing)\n",
        "  num_missing = len(missing)\n",
        "  \n",
        "  #make and permute Sigma MLE it so order is not_missing, missing\n",
        "  Sigma_MLE = perm(Sigma_MLE, np.arange(p), np.concatenate([not_missing, missing]))\n",
        "\n",
        "  subset_perm = np.concatenate([subset_missing, subset_not_missing])\n",
        "  other_perm = np.concatenate([other_not_missing, other_missing]) - k\n",
        "\n",
        "  C_MLE_temp = perm(C_MLE, np.arange(k), subset_perm)\n",
        "  W_MLE_temp = perm(W_MLE, np.arange(k), subset_perm, row=False)\n",
        "  W_MLE_temp = perm(W_MLE_temp, np.arange(p-k), other_perm, col=False)\n",
        "  D_MLE_temp = D_MLE[other_perm]\n",
        "\n",
        "  Sigma_MLE_chol = get_cholesky(C_MLE_temp, W_MLE_temp, D_MLE_temp)\n",
        "  Sigma_MLE_chol = Sigma_MLE_chol[:(p - num_other_missing), :(p - num_other_missing)]\n",
        "  for i in range(num_subset_missing):\n",
        "    Sigma_MLE_chol = update_cholesky_after_removing_first(Sigma_MLE_chol)\n",
        "  Sigma_MLE_not_missing_inv = solve_with_cholesky(Sigma_MLE_chol, np.eye(num_not_missing))\n",
        "  \n",
        "  m[not_missing] = x[not_missing]\n",
        "  temp = Sigma_MLE[p-num_missing:p , :num_not_missing] @ Sigma_MLE_not_missing_inv\n",
        "  m[missing] = temp @ (x[not_missing] - mu_MLE[not_missing]) + mu_MLE[missing]\n",
        "  \n",
        "  Omega[:num_not_missing, :num_not_missing] = np.outer(x[not_missing], x[not_missing])\n",
        "  Omega[num_not_missing:, :num_not_missing] = np.outer(m[missing], x[not_missing])\n",
        "  Omega[:num_not_missing, num_not_missing:] = Omega[num_not_missing:, :num_not_missing].T\n",
        "  Omega[num_not_missing:, num_not_missing:] = Sigma_MLE[num_not_missing:, num_not_missing:] -  temp @ Sigma_MLE[:num_not_missing, p-num_missing:p] + np.outer(m[missing], m[missing])\n",
        "\n",
        "\n",
        "  reorder = np.zeros(p).astype(int)\n",
        "  reorder[missing] = np.arange(num_not_missing, p)\n",
        "  reorder[not_missing] = np.arange(num_not_missing)\n",
        "  Omega = perm(Omega, np.arange(p), reorder)\n",
        "\n",
        "  return m, Omega\n"
      ]
    },
    {
      "cell_type": "markdown",
      "metadata": {
        "id": "lQMHwORjDc9L"
      },
      "source": [
        "# \"Unit Testing\" Some Things"
      ]
    },
    {
      "cell_type": "markdown",
      "metadata": {
        "id": "lJu6AGPpDpou"
      },
      "source": [
        "These things are not implemented so well..."
      ]
    },
    {
      "cell_type": "code",
      "execution_count": null,
      "metadata": {
        "id": "G1c10dUq8X5-"
      },
      "outputs": [],
      "source": [
        "p = 50\n",
        "n= 2000\n",
        "k= 15\n",
        "\n",
        "A = np.random.multivariate_normal(np.zeros(k), cov=np.eye(k), size=p)\n",
        "D = np.square(np.random.normal(0, 1, p))\n",
        "Sigma = A @ A.T\n",
        "np.fill_diagonal(Sigma, np.diag(Sigma) + D)\n",
        "Sigma = standardize_cov(Sigma)\n",
        "X = np.random.multivariate_normal(np.zeros(p), cov= Sigma, size=n)\n",
        "mu_hat, Sigma_hat = get_moments(X)"
      ]
    },
    {
      "cell_type": "markdown",
      "metadata": {
        "id": "sDspn8fs7tyN"
      },
      "source": [
        "Testing Greedy CSS "
      ]
    },
    {
      "cell_type": "code",
      "execution_count": null,
      "metadata": {
        "id": "CC1YVD9x8Gor"
      },
      "outputs": [],
      "source": [
        "CSS = ColumnSubsetSelection()\n",
        "\n",
        "for k in range(1, p):\n",
        "  CSS.select_subset_from_cov(Sigma_hat, k=k, method='greedy')\n",
        "  S_temp = np.array(list(CSS.S_ordered))\n",
        "  chosen = S_temp[-1]\n",
        "  S_temp = S_temp[:(len(S_temp) - 1)]\n",
        "  S_temp_comp = complement(p, S_temp)\n",
        "  temp_objectives = []\n",
        "  for t in S_temp_comp:\n",
        "    S_added= np.concatenate([S_temp, np.array([t])]).astype(int)\n",
        "    temp_objectives.append(np.mean(np.diag(regress_off(Sigma_hat, S_added))))\n",
        "  if S_temp_comp[np.argmin(temp_objectives)] != chosen:\n",
        "    print('Mistake at ', k)"
      ]
    },
    {
      "cell_type": "markdown",
      "metadata": {
        "id": "P-s1kazI7xDP"
      },
      "source": [
        "Testing Greedy MLCSS"
      ]
    },
    {
      "cell_type": "code",
      "execution_count": null,
      "metadata": {
        "id": "Yw9CUMaR_XGu"
      },
      "outputs": [],
      "source": [
        "MLCSS = MLColumnSubsetSelection()\n",
        "model = 'sf'\n",
        "\n",
        "for k in range(1, 15):\n",
        "  MLCSS = MLColumnSubsetSelection()\n",
        "  MLCSS.compute_MLE_from_data(X, k=k, method='greedy', model=model)\n",
        "  S_temp = np.array(list(MLCSS.S_ordered))\n",
        "  chosen = S_temp[-1]\n",
        "  S_temp = S_temp[:(len(S_temp) - 1)]\n",
        "  S_temp_comp = complement(p, S_temp)\n",
        "  temp_objectives = []\n",
        "  for t in S_temp_comp:\n",
        "    S_added= np.concatenate([S_temp, np.array([t])]).astype(int)\n",
        "    Sigma_MLE_temp = compute_Sigma_MLE(Sigma_hat, S=S_added, model=model)\n",
        "    temp_objectives.append(-1 * np.mean(stats.multivariate_normal(mean=mu_hat, cov=Sigma_MLE_temp).logpdf(X)))\n",
        "  if S_temp_comp[np.argmin(temp_objectives)] != chosen:\n",
        "    print('Mistake at ', k)"
      ]
    },
    {
      "cell_type": "markdown",
      "metadata": {
        "id": "HOB_HvWJ78rD"
      },
      "source": [
        "Testing Swapping CSS"
      ]
    },
    {
      "cell_type": "code",
      "execution_count": null,
      "metadata": {
        "id": "wXRGzbnQAnrR"
      },
      "outputs": [],
      "source": [
        "CSS = ColumnSubsetSelection()\n",
        "\n",
        "for k in range(1, 15):\n",
        "  CSS.select_subset_from_cov(Sigma_hat, k=k, method='swap')\n",
        "  if CSS.converged == False:\n",
        "    print(str(k) + ' did not converge')\n",
        "    continue \n",
        "  S = np.array(list(CSS.S))\n",
        "  for i in range(len(S)):\n",
        "    chosen = S[i]\n",
        "    S_temp = np.delete(S, i)\n",
        "    S_temp_comp = complement(p, S_temp)\n",
        "    temp_objectives = []\n",
        "    for t in S_temp_comp:\n",
        "      S_added= np.concatenate([S_temp, np.array([t])]).astype(int)\n",
        "      temp_objectives.append(np.mean(np.diag(regress_off(Sigma_hat, S_added))))\n",
        "  if S_temp_comp[np.argmin(temp_objectives)] != chosen:\n",
        "    print('Mistake at ', k)"
      ]
    },
    {
      "cell_type": "markdown",
      "metadata": {
        "id": "Ctm6WhHw7_ox"
      },
      "source": [
        "Testing Swapping MLCSS"
      ]
    },
    {
      "cell_type": "code",
      "execution_count": null,
      "metadata": {
        "id": "jDNbu0e_B7DH"
      },
      "outputs": [],
      "source": [
        "MLCSS = MLColumnSubsetSelection()\n",
        "model = 'sf'\n",
        "\n",
        "for k in range(1, 15):\n",
        "  MLCSS.compute_MLE_from_data(X, k=k, method='swap', model=model)\n",
        "  if MLCSS.converged == False:\n",
        "    print(str(k) + ' did not converge')\n",
        "    continue \n",
        "  S = np.array(list(MLCSS.S))\n",
        "  for i in range(len(S)):\n",
        "    chosen = S[i]\n",
        "    S_temp = np.delete(S, i)\n",
        "    S_temp_comp = complement(p, S_temp)\n",
        "    temp_objectives = []\n",
        "    for t in S_temp_comp:\n",
        "      S_added= np.concatenate([S_temp, np.array([t])]).astype(int)\n",
        "      Sigma_MLE_temp = compute_Sigma_MLE(Sigma_hat, S=S_added, model=model)\n",
        "      temp_objectives.append(-1 * np.mean(stats.multivariate_normal(mean=mu_hat, cov=Sigma_MLE_temp).logpdf(X)))\n",
        "  if S_temp_comp[np.argmin(temp_objectives)] != chosen:\n",
        "    print('Mistake at ', k)"
      ]
    },
    {
      "cell_type": "markdown",
      "metadata": {
        "id": "qco0Dc37vYYh"
      },
      "source": [
        "# Model Selection"
      ]
    },
    {
      "cell_type": "markdown",
      "source": [
        "## LRT with no Selection"
      ],
      "metadata": {
        "id": "dUijDPWiKOdj"
      }
    },
    {
      "cell_type": "code",
      "source": [
        "def cov_df(p):\n",
        "  return int(p*(p+1)/2)\n",
        "\n",
        "def model_df(p, k, model):\n",
        "  if model == 'sf':\n",
        "    return cov_df(k) + (p-k)*(k+ 1)\n",
        "  if model == 'pcss':\n",
        "    return cov_df(k) + (p-k)*k + 1 if k < p else cov_df(p)\n",
        "\n",
        "def mean_gaussian_log_likelihood_from_log_det(p, log_det):\n",
        "  return -1/2*(p * np.log(2 * np.pi) + p + log_det)\n",
        "\n",
        "def compute_model_gaussian_likelihood(Sigma_hats, k, model='pcss'):\n",
        "  if len(Sigma_hats.shape) == 2:\n",
        "    Sigma_hats = Sigma_hats[np.newaxis, : , :]\n",
        "  p = Sigma_hats.shape[-1]\n",
        "  subset_dets = np.linalg.det(Sigma_hats[:, :k, :k])\n",
        "  resids = Sigma_hats[:, k:, k:] - Sigma_hats[:, k:, :k] @ np.linalg.inv(Sigma_hats[:, :k, :k]) @ Sigma_hats[:, :k, k:]\n",
        "  if model == 'pcss':\n",
        "    log_dets = np.log(subset_dets) + (p-k)*np.log(np.mean(np.diagonal(resids, axis1 = 1, axis2 = 2), axis=1))\n",
        "  if model == 'sf':\n",
        "    log_dets = np.log(subset_dets) + np.sum(np.log(np.diagonal(resids, axis1 = 1, axis2 = 2)), axis=1)\n",
        "  return np.squeeze(mean_gaussian_log_likelihood_from_log_det(p, log_dets))\n",
        "\n",
        "def compute_full_gaussian_likelihood(Sigma_hats):\n",
        "  if len(Sigma_hats.shape) == 2:\n",
        "    Sigma_hats = Sigma_hats[np.newaxis, : , :]\n",
        "  log_dets = np.log(np.linalg.det(Sigma_hats))\n",
        "  return np.squeeze(mean_gaussian_log_likelihood_from_log_det(p, log_dets))\n",
        "\n",
        "def get_LRT_stats(Sigma_hats, n, k, model='pcss'):\n",
        "  return 2 * n * (compute_full_gaussian_likelihood(Sigma_hats) - compute_model_gaussian_likelihood(Sigma_hats, k, model=model))\n",
        "\n",
        "def get_LRT_rejections(Sigma_hats, n, k, alpha=0.05, model='pcss'):\n",
        "  p = Sigma_hats.shape[-1]\n",
        "  chi_sq_df = cov_df(p) - model_df(p, k, model=model)\n",
        "  stats = get_LRT_stats(Sigma_hats, n, k, model=model)\n",
        "  return stats > chi2.ppf(1-alpha, chi_sq_df)"
      ],
      "metadata": {
        "id": "mKBlhcgNYo9D"
      },
      "execution_count": null,
      "outputs": []
    },
    {
      "cell_type": "code",
      "source": [
        "p_to_block_structure = {10 : {'num_blocks' : 2 ,  'block_size': 1, 'overlap': 0},\n",
        "                        20 : {'num_blocks' : 3 ,  'block_size': 2, 'overlap': 1},\n",
        "                        50 : {'num_blocks' : 4 ,  'block_size': 4, 'overlap': 2}}\n",
        "\n",
        "r =100\n",
        "p=10\n",
        "k=2\n",
        "n=int(p*k*r)\n",
        "rho = 0.25\n",
        "SNR = 9\n",
        "\n",
        "num_blocks = p_to_block_structure[p]['num_blocks']\n",
        "block_size = p_to_block_structure[p]['block_size']\n",
        "overlap= p_to_block_structure[p]['overlap']\n",
        "C_chol = get_equicorrelated_chol(k, rho)\n",
        "W = get_block_W(p, k , num_blocks, block_size, overlap, SNR, seed=0)\n",
        "D = 1/(1 + SNR)"
      ],
      "metadata": {
        "id": "rNDGdVWvQdgK"
      },
      "execution_count": null,
      "outputs": []
    },
    {
      "cell_type": "markdown",
      "source": [
        "Vanilla Test"
      ],
      "metadata": {
        "id": "FoPS8xlgtylF"
      }
    },
    {
      "cell_type": "code",
      "source": [
        "ns = np.arange(100, 10000, step=500)\n",
        "type_I_errors = np.zeros(len(ns))\n",
        "for i, n in enumerate(ns):\n",
        "  Sigma_hats = generate_subset_factor_sample_cov(n, C_chol, W, D, rho=None, B=100000, chi_sqrts=None, normals=None, S=None)\n",
        "  type_I_errors[i] = np.mean(get_LRT_rejections(Sigma_hats, n, k, alpha=0.05, model='pcss'))\n",
        "plt.plot(ns, type_I_errors)"
      ],
      "metadata": {
        "colab": {
          "base_uri": "https://localhost:8080/",
          "height": 283
        },
        "id": "PKjnash7osZc",
        "outputId": "4349aec6-cebc-4c24-b547-24ad74facd28"
      },
      "execution_count": null,
      "outputs": [
        {
          "output_type": "execute_result",
          "data": {
            "text/plain": [
              "[<matplotlib.lines.Line2D at 0x7fccc6d6c310>]"
            ]
          },
          "metadata": {},
          "execution_count": 163
        },
        {
          "output_type": "display_data",
          "data": {
            "text/plain": [
              "<Figure size 432x288 with 1 Axes>"
            ],
            "image/png": "[encoded data removed]"
          },
          "metadata": {
            "needs_background": "light"
          }
        }
      ]
    },
    {
      "cell_type": "markdown",
      "source": [
        "Correlation in Errors"
      ],
      "metadata": {
        "id": "x_mz36-dt086"
      }
    },
    {
      "cell_type": "code",
      "source": [
        "ns = np.arange(100, 3000, step=500)\n",
        "error_rhos = np.arange(0.0, 0.001, step=0.0001) \n",
        "type_I_errors = np.zeros((len(ns), len(error_rhos)))\n",
        "for i, n in enumerate(ns):\n",
        "  for j, error_rho in enumerate(error_rhos):\n",
        "    Sigma_hats = generate_subset_factor_sample_cov(n, C_chol, W, D, rho=error_rho, B=10000, chi_sqrts=None, normals=None, S=None)\n",
        "    type_I_errors[i, j] = np.mean(get_LRT_rejections(Sigma_hats, n, k, alpha=0.05, model='pcss'))"
      ],
      "metadata": {
        "id": "9d4bOEGxtZ5d"
      },
      "execution_count": null,
      "outputs": []
    },
    {
      "cell_type": "code",
      "source": [
        " \n",
        "figure = plt.figure()\n",
        "axes = figure.add_subplot(111)\n",
        " \n",
        "# using the matshow() function\n",
        "caxes = axes.matshow(type_I_errors, interpolation ='nearest')\n",
        "figure.colorbar(caxes)\n",
        " \n",
        "plt.show()"
      ],
      "metadata": {
        "colab": {
          "base_uri": "https://localhost:8080/",
          "height": 248
        },
        "id": "aKqSjw-1ufn8",
        "outputId": "0fe2fd13-b2a7-435c-c2ad-2827eba3c8bf"
      },
      "execution_count": null,
      "outputs": [
        {
          "output_type": "display_data",
          "data": {
            "text/plain": [
              "<Figure size 432x288 with 2 Axes>"
            ],
            "image/png": "[encoded data removed]"
          },
          "metadata": {
            "needs_background": "light"
          }
        }
      ]
    },
    {
      "cell_type": "markdown",
      "source": [
        "t-distributed noise "
      ],
      "metadata": {
        "id": "RctcwCzWuN8E"
      }
    },
    {
      "cell_type": "code",
      "source": [
        "ns = np.arange(100, 3000, step=500)\n",
        "t_dfs = np.arange(10, 40, step=10) \n",
        "type_I_errors = np.zeros((len(ns), len(t_dfs)))\n",
        "for i, n in enumerate(ns):\n",
        "  for j, t_df in enumerate(t_dfs):\n",
        "    print(n, t_df)\n",
        "    X = generate_subset_factor_data(n, C_chol, W, D, rho=None, B=1000, S=None, mu=None, normals=None, noise='t', t_df=t_df)\n",
        "    X_c = X - np.mean(X, axis=1)[:, np.newaxis, :]  \n",
        "    Sigma_hats = 1/n * np.transpose(X_c, (0, 2, 1) ) @ X_c\n",
        "    type_I_errors[i, j] = np.mean(get_LRT_rejections(Sigma_hats, n, k, alpha=0.05, model='pcss'))"
      ],
      "metadata": {
        "colab": {
          "base_uri": "https://localhost:8080/"
        },
        "id": "qO0cU0htxfFw",
        "outputId": "efd016be-ec23-4a96-ce8e-ac42edc98c48"
      },
      "execution_count": null,
      "outputs": [
        {
          "output_type": "stream",
          "name": "stdout",
          "text": [
            "100 10\n",
            "100 20\n",
            "100 30\n",
            "600 10\n",
            "600 20\n",
            "600 30\n",
            "1100 10\n",
            "1100 20\n",
            "1100 30\n",
            "1600 10\n",
            "1600 20\n",
            "1600 30\n",
            "2100 10\n",
            "2100 20\n",
            "2100 30\n",
            "2600 10\n",
            "2600 20\n",
            "2600 30\n"
          ]
        }
      ]
    },
    {
      "cell_type": "code",
      "source": [
        "figure = plt.figure()\n",
        "axes = figure.add_subplot(111)\n",
        " \n",
        "# using the matshow() function\n",
        "caxes = axes.matshow(type_I_errors, interpolation ='nearest')\n",
        "figure.colorbar(caxes)\n",
        " \n",
        "plt.show()"
      ],
      "metadata": {
        "colab": {
          "base_uri": "https://localhost:8080/",
          "height": 269
        },
        "id": "5aQVgR7Wycei",
        "outputId": "c7e2a2dc-de12-41c0-f4ad-ac3997ef3160"
      },
      "execution_count": null,
      "outputs": [
        {
          "output_type": "display_data",
          "data": {
            "text/plain": [
              "<Figure size 432x288 with 2 Axes>"
            ],
            "image/png": "[encoded data removed]"
          },
          "metadata": {
            "needs_background": "light"
          }
        }
      ]
    },
    {
      "cell_type": "markdown",
      "source": [
        "Exponential Noise"
      ],
      "metadata": {
        "id": "3bRuET0tzHPM"
      }
    },
    {
      "cell_type": "code",
      "source": [
        "ns = np.arange(100, 3000, step=500)\n",
        "type_I_errors = np.zeros(len(ns))\n",
        "for i, n in enumerate(ns):\n",
        "  print(n)\n",
        "  X = generate_subset_factor_data(n, C_chol, W, D, rho=None, B=1000, S=None, mu=None, normals=None, noise='exponential')\n",
        "  X_c = X - np.mean(X, axis=1)[:, np.newaxis, :]  \n",
        "  Sigma_hats = 1/n * np.transpose(X_c, (0, 2, 1) ) @ X_c\n",
        "  type_I_errors[i] = np.mean(get_LRT_rejections(Sigma_hats, n, k, alpha=0.05, model='pcss'))"
      ],
      "metadata": {
        "colab": {
          "base_uri": "https://localhost:8080/"
        },
        "id": "PN7i82aZzIrS",
        "outputId": "4bca5013-7a54-426f-f0c6-91516bf8c3ea"
      },
      "execution_count": null,
      "outputs": [
        {
          "output_type": "stream",
          "name": "stdout",
          "text": [
            "100\n",
            "600\n",
            "1100\n",
            "1600\n",
            "2100\n",
            "2600\n"
          ]
        }
      ]
    },
    {
      "cell_type": "code",
      "source": [
        "plt.plot(ns, type_I_errors)"
      ],
      "metadata": {
        "colab": {
          "base_uri": "https://localhost:8080/",
          "height": 283
        },
        "id": "qT2rHS9n0_-G",
        "outputId": "9cc104d6-b088-4a19-ff67-aeacbb70fc83"
      },
      "execution_count": null,
      "outputs": [
        {
          "output_type": "execute_result",
          "data": {
            "text/plain": [
              "[<matplotlib.lines.Line2D at 0x7f18ac44ff40>]"
            ]
          },
          "metadata": {},
          "execution_count": 53
        },
        {
          "output_type": "display_data",
          "data": {
            "text/plain": [
              "<Figure size 432x288 with 1 Axes>"
            ],
            "image/png": "[encoded data removed]"
          },
          "metadata": {
            "needs_background": "light"
          }
        }
      ]
    },
    {
      "cell_type": "markdown",
      "source": [
        "BREAK"
      ],
      "metadata": {
        "id": "j72iU9TJzVvb"
      }
    },
    {
      "cell_type": "code",
      "execution_count": null,
      "metadata": {
        "id": "4lDfqiV7yTsy",
        "cellView": "form"
      },
      "outputs": [],
      "source": [
        "#@title\n",
        "def cov_df(p):\n",
        "  return int(p*(p+1)/2)\n",
        "\n",
        "def MLCSS_df(p, k, model='sf'):\n",
        "  if model == 'sf':\n",
        "    return cov_df(k) + (p-k)*(k+ 1)\n",
        "  if model == 'pcss':\n",
        "    return cov_df(k) + (p-k)*k + 1 if k < p else cov_df(p)\n",
        "  return \n",
        "\n",
        "def FA_df(p, k):\n",
        "  return p*(k + 1) - int(k*(k-1)/2) if k < p else cov_df(p)\n",
        "\n",
        "# Also returns fitted model if k < p \n",
        "def compute_likelihood(X_train, X_val, k, model_params, reduce_mean=True, check_errors=True):\n",
        "\n",
        "  if check_errors:\n",
        "    model_params = error_check_model_params(model_params)\n",
        "\n",
        "  _, p = X_train.shape\n",
        "  if k == p:\n",
        "    mu_hat, Sigma_hat = get_moments(X_train)\n",
        "    likelihood = stats.multivariate_normal(mean=mu_hat, cov=Sigma_hat).logpdf(X_val)\n",
        "    if reduce_mean:\n",
        "      likelihood = np.mean(likelihood)\n",
        "    return likelihood, None\n",
        "\n",
        "  num_tries = model_params['num_tries']\n",
        "\n",
        "  if model_params['model'] == 'fa':\n",
        "    FA = FactorAnalysis()\n",
        "    if num_tries == 1:\n",
        "      FA.compute_MLE_from_data(X_train, k, init=model_params['init'], max_iter=model_params['max_iter'])\n",
        "      likelihood = FA.compute_log_likelihood(X_val)\n",
        "    else:\n",
        "      best_training_likelihood = -np.inf \n",
        "      W_init = None\n",
        "      D_init = None \n",
        "      for _ in range(num_tries):\n",
        "        FA.compute_MLE_from_data(X_train, k, init=model_params['init'], max_iter=model_params['max_iter'])\n",
        "        training_likelihood  = FA.compute_log_likelihood(reduce_mean=True)\n",
        "        if training_likelihood > best_training_likelihood:\n",
        "          best_training_likelihood = training_likelihood \n",
        "          W_init = FA.W_init.copy()\n",
        "          D_init - FA.D_init.copy()\n",
        "      FA.compute_MLE_from_data(X_train, k, init=None, max_iter=model_params['max_iter'], W_init=W_init, D_init=D_init)\n",
        "      likelihood = FA.compute_log_likelihood(X_val)\n",
        "    model = FA \n",
        "\n",
        "  if model_params['model'] == 'mlcss':\n",
        "    MLCSS = MLColumnSubsetSelection()\n",
        "    if num_tries == 1:\n",
        "      MLCSS.compute_MLE_from_data(X_train, k, model=model_params['sub_model'], method=model_params['method'], max_iter=model_params['max_iter'])\n",
        "      likelihood = MLCSS.compute_log_likelihood(X_val)\n",
        "    else:\n",
        "      best_training_likelihood = -np.inf \n",
        "      S_init = None\n",
        "      for _ in range(num_tries):\n",
        "        MLCSS.compute_MLE_from_data(X_train, k, model=model_params['sub_model'], method=model_params['method'], max_iter=model_params['max_iter'])\n",
        "        training_likelihood = MLCSS.compute_log_likelihood(reduce_mean=True)\n",
        "        if training_likelihood > best_training_likelihood:\n",
        "          best_training_likelihood = training_likelihood \n",
        "          S_init = MLCSS.S_init\n",
        "      MLCSS.compute_MLE_from_data(X_train, k, model=model_params['sub_model'], method=model_params['method'], max_iter=model_params['max_iter'], S_init=S_init)\n",
        "      likelihood = MLCSS.compute_log_likelihood(X_val)\n",
        "    model=MLCSS\n",
        "  \n",
        "  if reduce_mean:\n",
        "    likelihood = np.mean(likelihood)\n",
        "\n",
        "  return likelihood, model \n",
        "\n",
        "def compute_lrt_statistic(X, k_null, k_alt, model_params, check_errors=True, alt_likelihood=None, bootstrap=False, B=0):\n",
        "  \n",
        "  if check_errors:\n",
        "    model_params = error_check_model_params(model_params)\n",
        "\n",
        "  bootstrap_dist = np.zeros(B)\n",
        "  \n",
        "  n, p = X.shape\n",
        "  null_likelihood, null_model = compute_likelihood(X, X, k_null, model_params, reduce_mean=True, check_errors=False)\n",
        "  if alt_likelihood is None:\n",
        "    alt_likelihood, _ = compute_likelihood(X, X, k_alt, model_params, reduce_mean=True, check_errors=False)\n",
        "\n",
        "  if bootstrap:\n",
        "    for i in range(B):\n",
        "      X_B = generate_data(n, null_model.MLE , model_params, check_errors=False)\n",
        "      stat_B, _ = compute_lrt_statistic(X_B, k_null, k_alt, model_params, check_errors=False)\n",
        "      bootstrap_dist[i] = stat_B\n",
        "\n",
        "  return 2*n*(alt_likelihood - null_likelihood), bootstrap_dist\n",
        "\n",
        "def compute_split_lrt_statistic(X, k_null, k_alt, model_params, check_errors=True, alt_likelihood=None, bootstrap=False, B=None):\n",
        "  \n",
        "  if check_errors:\n",
        "    model_params = error_check_model_params(model_params)\n",
        "\n",
        "  n, p = X.shape\n",
        "  n_half = int(n/2)\n",
        "  X0 = X[:n_half, :]\n",
        "  X1 = X[n_half:, :] \n",
        "\n",
        "\n",
        "  null_likelihood, null_model = compute_likelihood(X0, X0, k_null, model_params, reduce_mean=True, check_errors=False)\n",
        "  if alt_likelihood is None:\n",
        "    alt_likelihood = compute_likelihood(X1, X0, k_alt, model_params, reduce_mean=True, check_errors=False)\n",
        "  \n",
        "  return n_half*(alt_likelihood - null_likelihood)\n",
        "\n",
        "def compute_crossfit_lrt_statistic(X, k_null, k_alt, model_params, check_errors=True, alt_likelihood=[None, None], bootstrap=False, B=None):\n",
        "  \n",
        "  if check_errors:\n",
        "    model_params = error_check_model_params(model_params)\n",
        "\n",
        "  n, p = X.shape\n",
        "  n_half = int(n/2)\n",
        "  X0 = X[:n_half, :]\n",
        "  X1 = X[n_half:, :]\n",
        "\n",
        "  null_likelihood = compute_likelihood(X0, X0, k_null, model_params, reduce_mean=True, check_errors=False)\n",
        "  if alt_likelihood[0] is None:\n",
        "    alt_likelihood[0] = compute_likelihood(X1, X0, k_alt, model_params, reduce_mean=True, check_errors=False)\n",
        "  stat1 = n_half * (alt_likelihood[0] - null_likelihood)\n",
        "  \n",
        "  null_likelihood = compute_likelihood(X1, X1, k_null, model_params, reduce_mean=True, check_errors=False)\n",
        "  if alt_likelihood[1] is None:\n",
        "    alt_likelihood[1] = compute_likelihood(X0, X1, k_alt, model_params, reduce_mean=True, check_errors=False)\n",
        "  stat2 = (n - n_half) * (alt_likelihood[1] - null_likelihood)\n",
        "\n",
        "  return stat1 + np.log(1 +  np.exp(stat2 - stat1)) - np.log(2)\n",
        "\n",
        "def select_number_of_factors(X, \n",
        "                             alpha, \n",
        "                             model_params, \n",
        "                             sequential=True, \n",
        "                             test='lrt', \n",
        "                             bootstrap=False, \n",
        "                             B=0,\n",
        "                             bartlett=False):\n",
        "  n, p = X.shape\n",
        " \n",
        "  # set-up \n",
        "  test = test.lower()\n",
        "  if test not in {'lrt', 'split_lrt', 'crossfit_lrt'}:\n",
        "    raise ValueError(\"test is not supported.\")\n",
        "  if p == 1:\n",
        "    return n\n",
        "  model_params = error_check_model_params(model_params)\n",
        "  if p == 1:\n",
        "    raise ValueError(\"model selection requires p > 1\")\n",
        "  if model_params['model'] == 'fa' and p <= 3:\n",
        "    raise ValueError(\"LRT with Factor Analysis requires p > 3\")\n",
        "  k_null = 1 \n",
        "  if sequential:\n",
        "    k_alt = 2\n",
        "  else:\n",
        "    k_alt = p \n",
        "  limit = p\n",
        "  if model_params['model'] == 'fa':\n",
        "    limit = np.floor((p-1)/2)\n",
        "  alt_likelihood = None if test != 'crossfit_lrt' else [None, None]\n",
        "  \n",
        "  # if testing against full model, compute and store alternative likelihood\n",
        "  if not sequential:\n",
        "    if test == 'lrt':\n",
        "      alt_likelihood, _ = compute_likelihood(X, X, p, model_params, reduce_mean=True, check_errors=False)\n",
        "    n_half = int(n/2)\n",
        "    X0 = X[:n_half, :]\n",
        "    X1 = X[n_half:, :]\n",
        "    if test == 'split_lrt':\n",
        "      alt_likelihood, _ = compute_likelihood(X1, X0, p, model_params, reduce_mean=True, check_errors=False)\n",
        "    if test == 'crossfit_lrt':\n",
        "      alt_likelihood, _ = [compute_likelihood(X1, X0, p, model_params, reduce_mean=True, check_errors=False),\n",
        "                        compute_likelihood(X0, X1, p, model_params, reduce_mean=True, check_errors=False)]\n",
        "  \n",
        "  # sequential testing \n",
        "  while k_null <= limit:\n",
        "    if k_null == limit and sequential:\n",
        "      k_alt = p\n",
        "\n",
        "    if test == 'lrt':\n",
        "      stat, bootstrap_dist = compute_lrt_statistic(X, \n",
        "                                                   k_null, \n",
        "                                                   k_alt, \n",
        "                                                   model_params, \n",
        "                                                   check_errors=False, \n",
        "                                                   alt_likelihood=alt_likelihood, \n",
        "                                                   bootstrap=bootstrap, \n",
        "                                                   B=B)\n",
        "      if bootstrap:\n",
        "        thresh = np.quantile(bootstrap_dist, 1-alpha)\n",
        "      else:\n",
        "        if model_params['model'] == 'fa':\n",
        "          df = FA_df(p, k_alt) - FA_df(p, k_null)\n",
        "        if model_params['model'] == 'mlcss':\n",
        "          df = MLCSS_df(p, k_alt, model=model_params['sub_model']) - MLCSS_df(p, k_null, model=model_params['sub_model'])\n",
        "        thresh = chi2.ppf(1-alpha, df)\n",
        "    \n",
        "    if test == 'split_lrt':\n",
        "      stat = compute_split_lrt_statistic(X, \n",
        "                                         k_null, \n",
        "                                         k_alt, \n",
        "                                         model_params, \n",
        "                                         check_errors=False, \n",
        "                                         alt_likelihood=alt_likelihood,\n",
        "                                         bootstrap=bootstrap, \n",
        "                                         B=B)\n",
        "      if bootstrap:\n",
        "        thresh = np.quantile(bootstrap_dist, 1-alpha)\n",
        "      else:\n",
        "        thresh = np.log(1/alpha)\n",
        "    \n",
        "    if test == 'crossfit_lrt':\n",
        "      stat = compute_crossfit_lrt_statistic(X, \n",
        "                                            k_null, \n",
        "                                            k_alt, \n",
        "                                            model_params, \n",
        "                                            check_errors=False, \n",
        "                                            alt_likelihood=alt_likelihood,\n",
        "                                            bootstrap=bootstrap, \n",
        "                                            B=B)\n",
        "      \n",
        "      if bootstrap:\n",
        "        thresh = np.quantile(bootstrap_dist, 1-alpha)\n",
        "      else:\n",
        "        thresh = np.log(1/alpha)\n",
        "\n",
        "    \n",
        "    if stat <= thresh:\n",
        "      return k_null \n",
        "    else:\n",
        "      k_null += 1\n",
        "      if sequential:\n",
        "        k_alt += 1\n",
        "\n",
        "  return k_alt\n"
      ]
    },
    {
      "cell_type": "code",
      "execution_count": null,
      "metadata": {
        "id": "F8cFCdJp8N9A"
      },
      "outputs": [],
      "source": [
        "r = 8\n",
        "p=50\n",
        "k=10\n",
        "n=int(p*k*r)\n",
        "N=100\n",
        "alpha=0.05\n",
        "SNR=9\n",
        "num_tries=10\n",
        "model='pcss'\n",
        "method='swap'\n",
        "max_iter = 100\n",
        "\n",
        "p_to_block_structure = {10 : {'num_blocks' : 2 ,  'block_size': 1, 'overlap': 0},\n",
        "                        20 : {'num_blocks' : 3 ,  'block_size': 2, 'overlap': 1},\n",
        "                        50 : {'num_blocks' : 4 ,  'block_size': 4, 'overlap': 2}}"
      ]
    },
    {
      "cell_type": "code",
      "source": [
        "def cov_df(p):\n",
        "  return int(p*(p+1)/2)\n",
        "\n",
        "def get_df(p, k, model):\n",
        "  if model == 'sf':\n",
        "    return cov_df(k) + (p-k)*(k+ 1)\n",
        "  if model == 'pcss':\n",
        "    return cov_df(k) + (p-k)*k + 1 if k < p else cov_df(p)\n",
        "\n",
        "#def mp_MLCSS_likelihood_from_cov(Sigma):\n",
        "#  MLCSS = MLColumnSubsetSelection()\n",
        "#  MLCSS.compute_MLE_from_cov(Sigma, k_null, model=model, method=method, max_iter=max_iter)\n",
        "#  return MLCSS.compute_log_likelihood(reduce_mean=True)\n",
        "\n",
        "def mean_gaussian_log_likelihood_from_log_det(p, log_det):\n",
        "  return -1/2*(p * np.log(2 * np.pi) + p + log_det)\n",
        "\n",
        "def MLCSS_model_selection_with_LRT(Sigma_hat,\n",
        "                                   n, \n",
        "                                   alpha, \n",
        "                                   model='pcss',\n",
        "                                   method='swap',\n",
        "                                   B=0,\n",
        "                                   bartlett=False,\n",
        "                                   num_tries=1,\n",
        "                                   max_iter=100):\n",
        "\n",
        "  p = Sigma_hat.shape[0]\n",
        "  if B > 0:\n",
        "    chis = np.random.chisquare(df=np.arange(n - 1, n - p - 1 , -1), size=(B,p))\n",
        "    chi_sqrts = np.sqrt(chis)\n",
        "    normals = np.random.normal(0, 1, (B, int(p*(p-1)/2)) )\n",
        "  \n",
        "  k_null = 1\n",
        "  alt_log_likelihood = -1/2*(p * np.log(2 * np.pi) + p + np.log(np.linalg.det(Sigma_hat)))\n",
        "  alt_df = cov_df(p)\n",
        "  \n",
        "  MLCSS = MLColumnSubsetSelection()\n",
        "  while k_null < p:\n",
        "    \n",
        "    null_log_likelihood = -np.inf \n",
        "    C_chol_null = None\n",
        "    W_null = None\n",
        "    D_null = None\n",
        "\n",
        "    for _ in range(num_tries):\n",
        "      MLCSS.compute_MLE_from_cov(Sigma_hat, k_null, model=model, method=method) #Change this\n",
        "      potential_null_log_likelihood = MLCSS.compute_log_likelihood(reduce_mean=True)\n",
        "      if potential_null_log_likelihood > null_log_likelihood:\n",
        "        null_log_likelihood = potential_null_log_likelihood \n",
        "        if B > 0:\n",
        "          C_chol_null = MLCSS._Sigma_S_L\n",
        "          W_null = MLCSS.MLE[\"W_MLE\"]\n",
        "          if model == 'sf':\n",
        "            D_null = MLCSS.MLE[\"D_MLE\"]\n",
        "          if model == 'pcss':\n",
        "            D_null = MLCSS.MLE[\"sigma_sq_MLE\"]\n",
        "\n",
        "    if B == 0:\n",
        "      stat = 2 * n * (alt_log_likelihood - null_log_likelihood)\n",
        "      df = alt_df - MLCSS_df(p, k_null, model)\n",
        "      thresh = chi2.ppf(1-alpha, df)\n",
        "    else:\n",
        "      stats_B = np.zeros(B)\n",
        "      Sigma_hat_B = generate_MLCSS_Sigma_hat(n, C_chol_null, W_null, D_null, B=B, chi_sqrts=chi_sqrts, normals=normals)\n",
        "      for i in range(B):\n",
        "        alt_log_likelihood_B = -1/2*(p * np.log(2 * np.pi) + p + np.log(np.linalg.det(Sigma_hat_B[i, :, :])))\n",
        "        null_log_likelihood_B = -np.inf \n",
        "        for _ in range(num_tries):\n",
        "          MLCSS.compute_MLE_from_cov(Sigma_hat_B[i, :, :], k_null, model=model, method=method, max_iter=0, S_init=np.arange(k_null)) #CHANGE\n",
        "          null_log_likelihood_B = max(null_log_likelihood_B, MLCSS.compute_log_likelihood(reduce_mean=True))\n",
        "        stats_B[i] = alt_log_likelihood_B - null_log_likelihood_B\n",
        "      stats_B *= 2*n\n",
        "\n",
        "      if bartlett:\n",
        "        stat = 2 * n * (alt_log_likelihood - null_log_likelihood)\n",
        "        df = alt_df - MLCSS_df(p, k_null, model)\n",
        "        stat *= df/np.mean(stats_B)\n",
        "        thresh = chi2.ppf(1-alpha, df)\n",
        "      else:\n",
        "        stat = 2 * n * (alt_log_likelihood - null_log_likelihood)\n",
        "        thresh = np.quantile(stats_B, 1 - alpha)\n",
        "\n",
        "    if stat < thresh:\n",
        "      return k_null\n",
        "\n",
        "    k_null += 1\n",
        "  \n",
        "  return k_null \n",
        "\n",
        "\n",
        "def run_model_selection_tests(setting):\n",
        "  C_chol = get_equicorrelated_C_chol(setting[\"k\"], setting[\"rho\"])\n",
        "  W = get_block_W(setting[\"p\"], setting[\"k\"] , setting[\"num_blocks\"], setting[\"block_size\"], setting[\"overlap\"], setting[\"SNR\"])\n",
        "  D = 1/(1 + setting[\"SNR\"])\n",
        "  Sigma_hats = generate_MLCSS_Sigma_hat(setting[\"n\"], C_chol, W, D, B=setting[\"N\"])\n",
        "  Sigma_hats = list(Sigma_hats)\n",
        "\n",
        "  func = partial(MLCSS_model_selection_with_LRT, \n",
        "                 n=setting[\"n\"], \n",
        "                 alpha=setting[\"alpha\"], \n",
        "                 model=setting[\"model\"],\n",
        "                 method=setting[\"method\"],\n",
        "                 B=setting[\"B\"],\n",
        "                 bartlett=setting[\"bartlett\"],\n",
        "                 num_tries=setting[\"num_tries\"],\n",
        "                 max_iter=setting[\"max_iter\"])\n",
        "  \n",
        "  results = []\n",
        "  with Pool() as pool:\n",
        "    for result in tqdm(pool.imap(func, Sigma_hats)):\n",
        "      results.append(result)\n",
        "  results = np.array(results)\n",
        "\n",
        "  power = np.mean(results == setting[\"k\"])\n",
        "  type_I_error = np.mean(results > setting[\"k\"])\n",
        "  row = setting.copy()\n",
        "  row['power'] = power\n",
        "  row['type_I_error'] = type_I_error\n",
        "  return row\n"
      ],
      "metadata": {
        "id": "sp6QReEN2DdF"
      },
      "execution_count": null,
      "outputs": []
    },
    {
      "cell_type": "code",
      "source": [
        "X = generate_MLCSS_X(1000, C_chol, W, D)\n",
        "mu_hat, Sigma_hat = get_moments(X)\n",
        "print(mean_gaussian_log_likelihood_from_log_det(p, np.log(np.linalg.det(Sigma_hat))))\n",
        "print(np.mean(stats.multivariate_normal(mean=mu_hat, cov=Sigma_hat).logpdf(X)))"
      ],
      "metadata": {
        "colab": {
          "base_uri": "https://localhost:8080/"
        },
        "id": "B88x01F1u38c",
        "outputId": "939121b9-d098-4ff9-e58c-418fa7bd34b2"
      },
      "execution_count": null,
      "outputs": [
        {
          "output_type": "stream",
          "name": "stdout",
          "text": [
            "-23.302119099691794\n",
            "-23.30211909969185\n"
          ]
        }
      ]
    },
    {
      "cell_type": "code",
      "source": [
        "full_flag = True\n",
        "\n",
        "B = 1000\n",
        "violation = 0 \n",
        "for i in tqdm(range(B)):\n",
        "  Sigma_hat = generate_MLCSS_Sigma_hat(n, C_chol, W, D)\n",
        "  MLCSS = MLColumnSubsetSelection()\n",
        "  #MLCSS.compute_MLE_from_cov(Sigma_hat, k, method='swap', model='pcss', max_iter=0, S_init=np.arange(k) )\n",
        "  MLCSS.compute_MLE_from_cov(Sigma_hat, k, method='swap', model='pcss', max_iter=0, S_init=np.arange(k) )\n",
        "  null_likelihood = MLCSS.compute_log_likelihood(reduce_mean=True)\n",
        "  if full_flag:\n",
        "    alt_likelihood = mean_gaussian_log_likelihood_from_log_det(p, np.log(np.linalg.det(Sigma_hat)))\n",
        "    df = cov_df(p) - MLCSS_df(p, k, model)\n",
        "  else:\n",
        "    MLCSS = MLColumnSubsetSelection()\n",
        "    MLCSS.compute_MLE_from_cov(Sigma_hat, k+1, method='swap', model='pcss', S_init=np.arange(k+1), max_iter=0)\n",
        "    #print(MLCSS.S)\n",
        "    alt_likelihood = MLCSS.compute_log_likelihood(reduce_mean=True)\n",
        "    df = MLCSS_df(p, k+1, model) - MLCSS_df(p, k, model)\n",
        "  stat = 2*n*(alt_likelihood - null_likelihood)\n",
        "  if stat > chi2.ppf(1-alpha, df):\n",
        "    violation += 1\n",
        "\n",
        "print(violation/B)\n"
      ],
      "metadata": {
        "colab": {
          "base_uri": "https://localhost:8080/",
          "height": 67,
          "referenced_widgets": [
            "dea58a1ab8b344fca8004df019abc65c",
            "1f04ddc6e3d74f8a9d3ce6e940b9b503",
            "ca80f7971c73454bb7623e9f5191bbd8",
            "0e46b64c7a6740f883cc753389878b24",
            "d392f05849e64cd5acb2b5c3c4f6e837",
            "574ae70a29f9447ebc6c7574f4b4e59d",
            "0607861066ae437d806a028d58dbb760",
            "6fe293a0b70a40d8bb8346950702f024",
            "29e5c75d9beb4cae996cfbb2f09fccf9",
            "762143c3f8964bb3b119dea2420fecc0",
            "fa3842370d9041e7b2d6e2f88f706910"
          ]
        },
        "id": "jZeVCnwxmH2A",
        "outputId": "88518878-f94f-48e9-9860-8719a38ca1d4"
      },
      "execution_count": null,
      "outputs": [
        {
          "output_type": "display_data",
          "data": {
            "text/plain": [
              "  0%|          | 0/1000 [00:00<?, ?it/s]"
            ],
            "application/vnd.jupyter.widget-view+json": {
              "version_major": 2,
              "version_minor": 0,
              "model_id": "dea58a1ab8b344fca8004df019abc65c"
            }
          },
          "metadata": {}
        },
        {
          "output_type": "stream",
          "name": "stdout",
          "text": [
            "0.065\n"
          ]
        }
      ]
    },
    {
      "cell_type": "markdown",
      "source": [
        "Check if correct subset is found"
      ],
      "metadata": {
        "id": "E0CqnNfvwU6h"
      }
    },
    {
      "cell_type": "code",
      "execution_count": null,
      "metadata": {
        "colab": {
          "base_uri": "https://localhost:8080/",
          "height": 67,
          "referenced_widgets": [
            "d1fbc2f2442b42f7a073adc0b5ea1d8f",
            "ed3422e944e2431a8042b86fdc762fb3",
            "066bf363430441d2b59089966451758b",
            "4cb9905d94a0474b98af54453432ea19",
            "9f1f745c117641b9ae36e8f939d9f60c",
            "48c10ccf473b42d8a1747c4ba400f874",
            "b2f006dfa02745d0821e3243a887793f",
            "42e0f51d146d4cb281beef58330acc22",
            "526e61eb346e4d93a2f16f168f48d152",
            "e3fc16ef6661464093780be9a12dd122",
            "ffc39074ff07402a8aafd1333ba057c9"
          ]
        },
        "id": "iqQg3Z8cWXRU",
        "outputId": "223a17d2-b208-4ae7-9a83-16a0e9b4ef02"
      },
      "outputs": [
        {
          "output_type": "display_data",
          "data": {
            "text/plain": [
              "  0%|          | 0/100 [00:00<?, ?it/s]"
            ],
            "application/vnd.jupyter.widget-view+json": {
              "version_major": 2,
              "version_minor": 0,
              "model_id": "d1fbc2f2442b42f7a073adc0b5ea1d8f"
            }
          },
          "metadata": {}
        },
        {
          "output_type": "stream",
          "name": "stdout",
          "text": [
            "0.0\n"
          ]
        }
      ],
      "source": [
        "MLCSS = MLColumnSubsetSelection()\n",
        "missed = 0\n",
        "for i in tqdm(range(N)):\n",
        "  X = Sigma_hat = generate_MLCSS_Sigma_hat(n, C_chol, W, D)\n",
        "  correct = 0\n",
        "  for j in range(num_tries):\n",
        "    MLCSS = MLColumnSubsetSelection()\n",
        "    MLCSS.compute_MLE_from_cov(Sigma_hat, k, method='swap', model='pcss')\n",
        "    if MLCSS.S == set(list(range(k))):\n",
        "      correct = 1\n",
        "      break\n",
        "  missed += 1 - correct\n",
        "\n",
        "print(missed/N)"
      ]
    },
    {
      "cell_type": "code",
      "source": [
        "run_model_selection_tests(settings[-1])\n"
      ],
      "metadata": {
        "colab": {
          "base_uri": "https://localhost:8080/",
          "height": 370,
          "referenced_widgets": [
            "5023ebbeb29643a28134885462a6414c",
            "90cb2d2834bf49cfbf46faf63ff3b81f",
            "a60eadc1d03345f39f984ac214af1973",
            "47b4edf57a3245d4ada45672ab4147d4",
            "ddebc8f5c1f04835b9305935ecfee975",
            "5ff94c9ae51640599dbca4b06e98b038",
            "a21ce70f3d94475d854a4fc23ab391e6",
            "2fb61c11fc0d4a1dafba9b310e757a12",
            "28c6be8e73ca40e0b5745b46a2be700f",
            "caf91bdd1ae7408ab7df857ff1617544",
            "b4e09fc9394d4d6599be9832e6509b2b"
          ]
        },
        "id": "1OqT1P5f3grh",
        "outputId": "ea7aac15-0795-4bed-aade-b6652c0937e4"
      },
      "execution_count": null,
      "outputs": [
        {
          "data": {
            "application/vnd.jupyter.widget-view+json": {
              "model_id": "5023ebbeb29643a28134885462a6414c",
              "version_major": 2,
              "version_minor": 0
            },
            "text/plain": [
              "0it [00:00, ?it/s]"
            ]
          },
          "metadata": {},
          "output_type": "display_data"
        },
        {
          "output_type": "execute_result",
          "data": {
            "text/plain": [
              "{'num_tries': 10,\n",
              " 'N': 1000,\n",
              " 'model': 'pcss',\n",
              " 'method': 'swap',\n",
              " 'max_iter': 100,\n",
              " 'B': 0,\n",
              " 'bartlett': False,\n",
              " 'p': 50,\n",
              " 'k': 10,\n",
              " 'n': 4000,\n",
              " 'alpha': 0.05,\n",
              " 'SNR': 9,\n",
              " 'rho': 0.25,\n",
              " 'num_blocks': 4,\n",
              " 'block_size': 4,\n",
              " 'overlap': 2,\n",
              " 'power': 0.925,\n",
              " 'type_I_error': 0.075}"
            ]
          },
          "metadata": {},
          "execution_count": 101
        }
      ]
    },
    {
      "cell_type": "code",
      "source": [
        "\n",
        "ps=np.array([20, 50])\n",
        "k_over_ps=np.array([0.2])\n",
        "n_over_num_pks =np.array([4, 8])\n",
        "\n",
        "alphas=np.array([0.05])\n",
        "SNRs=np.array([3, 9])\n",
        "rhos = np.array([0.25])\n",
        "num_tries=10\n",
        "N = 1000\n",
        "model='pcss'\n",
        "method='swap'\n",
        "max_iter = 100\n",
        "B = 0\n",
        "bartlett=False\n",
        "\n",
        "\n",
        "p_to_block_structure = {10 : {'num_blocks' : 2 ,  'block_size': 1, 'overlap': 0},\n",
        "                        20 : {'num_blocks' : 3 ,  'block_size': 2, 'overlap': 1},\n",
        "                        50 : {'num_blocks' : 4 ,  'block_size': 4, 'overlap': 2}}\n",
        "\n",
        "settings = []\n",
        "for t in tqdm(list(itertools.product(*[ps, k_over_ps, n_over_num_pks, alphas, SNRs, rhos]))):\n",
        "  p = t[0]\n",
        "  k = int(p * t[1])\n",
        "  n = int(p * k * t[2])\n",
        "  alpha = t[3]\n",
        "  SNR = t[4]\n",
        "  rho = t[5]\n",
        "  setting = {'num_tries': num_tries,\n",
        "             'N': N,\n",
        "             'model': 'pcss',\n",
        "             'method': 'swap',\n",
        "             'max_iter': max_iter,\n",
        "             'B': B,\n",
        "             'bartlett': bartlett,\n",
        "             'p': p,\n",
        "             'k': k,\n",
        "             'n': n,\n",
        "             'alpha': alpha,\n",
        "             'SNR': SNR,\n",
        "             'rho': rho,\n",
        "             'num_blocks': p_to_block_structure[p]['num_blocks'],\n",
        "             'block_size': p_to_block_structure[p]['block_size'],\n",
        "             'overlap':  p_to_block_structure[p]['overlap']\n",
        "             }\n",
        "\n",
        "\n",
        "  settings.append(setting)"
      ],
      "metadata": {
        "id": "R02Lkzw8Od-r",
        "colab": {
          "base_uri": "https://localhost:8080/",
          "height": 49,
          "referenced_widgets": [
            "1e5a7490903545c6a06d330c83255e95",
            "36d47e5a1e374ff5a838e50d03148bc6",
            "fad79dc32c9f40008e0e0cffd6095637",
            "9b1d1c7d30c5422390ed9fba9eeae2f7",
            "05e13f3f42764f958e5637c2c72f6c2c",
            "5b774a860259436fbce56e90d89b5f87",
            "07b6162fd5e24036b6f08757064b218c",
            "39220be8d61946faac3ffd6ae7a4fa56",
            "c843320f4e874fb3b65eb03c2cc829cb",
            "7d0e431b5c7348a4a550d0da0ecc803c",
            "bf85ab6368964c22bbdf1d55275465ac"
          ]
        },
        "outputId": "b2930bb8-754f-4d4c-d789-03610155887c"
      },
      "execution_count": null,
      "outputs": [
        {
          "output_type": "display_data",
          "data": {
            "text/plain": [
              "  0%|          | 0/8 [00:00<?, ?it/s]"
            ],
            "application/vnd.jupyter.widget-view+json": {
              "version_major": 2,
              "version_minor": 0,
              "model_id": "1e5a7490903545c6a06d330c83255e95"
            }
          },
          "metadata": {}
        }
      ]
    },
    {
      "cell_type": "markdown",
      "source": [
        "Selection on real data"
      ],
      "metadata": {
        "id": "2SptihLC1pPr"
      }
    },
    {
      "cell_type": "code",
      "source": [
        "stocks_df = pd.read_csv('stocks_normalized.csv')\n",
        "stocks = list(stocks_df.columns)[1:]\n",
        "X = stocks_df.to_numpy()[:, 1:].astype(float)\n",
        "mu_hat, Sigma_hat = get_moments(X)\n",
        "n, p = X.shape\n",
        "X_standardized = diagonal_right_multiply(X - mu_hat, 1/np.sqrt(np.diag(Sigma_hat))) + mu_hat\n",
        "mu_hat, Sigma_hat = get_moments(X_standardized)"
      ],
      "metadata": {
        "id": "bFvorpGV1sGi"
      },
      "execution_count": null,
      "outputs": []
    },
    {
      "cell_type": "code",
      "source": [
        "df = pd.read_csv('BFI228.csv')\n",
        "X = df.to_numpy()[:, 1:].astype(float)\n",
        "mu_hat, Sigma_hat = get_moments(X)\n",
        "n, p = X.shape"
      ],
      "metadata": {
        "id": "KNqdjEbj--9B"
      },
      "execution_count": null,
      "outputs": []
    },
    {
      "cell_type": "code",
      "source": [
        "(n, p)"
      ],
      "metadata": {
        "colab": {
          "base_uri": "https://localhost:8080/"
        },
        "id": "mpNRco5KBRhF",
        "outputId": "03bc7d09-b914-469e-bb61-91292ffa7794"
      },
      "execution_count": null,
      "outputs": [
        {
          "output_type": "execute_result",
          "data": {
            "text/plain": [
              "(228, 44)"
            ]
          },
          "metadata": {},
          "execution_count": 109
        }
      ]
    },
    {
      "cell_type": "code",
      "source": [
        "df = pd.read_csv('survey.csv')\n",
        "X = df.to_numpy()[:, 1:].astype(float)\n",
        "mu_hat, Sigma_hat = get_moments(X)\n",
        "n, p = X.shape"
      ],
      "metadata": {
        "id": "NRmJln4V_09H"
      },
      "execution_count": null,
      "outputs": []
    },
    {
      "cell_type": "code",
      "source": [
        "alpha=0.05\n",
        "model='sf'\n",
        "MLCSS = MLColumnSubsetSelection()\n",
        "full_likelihood = compute_full_gaussian_likelihood(Sigma_hat)\n",
        "k = 1\n",
        "while True:\n",
        "  print(k)\n",
        "  null_likelihood = -np.inf\n",
        "  for j in range(100):\n",
        "    MLCSS.compute_MLE_from_cov(Sigma_hat, k, model=model, method='swap')\n",
        "    possible_null_likelihood = MLCSS.compute_log_likelihood(reduce_mean=True)\n",
        "    if possible_null_likelihood > null_likelihood:\n",
        "      null_likelihood = possible_null_likelihood\n",
        "  df = cov_df(p) - model_df(p, k, model=model)\n",
        "  stat = 2*n*(full_likelihood - null_likelihood)\n",
        "  if stat > chi2.ppf(1-alpha, df):\n",
        "    k = k + 1\n",
        "    continue\n",
        "  else:\n",
        "    break\n",
        "print(k)\n"
      ],
      "metadata": {
        "colab": {
          "base_uri": "https://localhost:8080/"
        },
        "id": "HJBXbz5a2U5z",
        "outputId": "cfad496e-22b5-4051-ee1c-ef10c89f8eb5"
      },
      "execution_count": null,
      "outputs": [
        {
          "output_type": "stream",
          "name": "stdout",
          "text": [
            "1\n",
            "2\n",
            "3\n",
            "4\n",
            "5\n",
            "6\n",
            "7\n",
            "8\n",
            "9\n",
            "10\n",
            "11\n",
            "11\n"
          ]
        }
      ]
    },
    {
      "cell_type": "code",
      "source": [
        "np.array(stocks)[np.array(list(MLCSS.S))]"
      ],
      "metadata": {
        "colab": {
          "base_uri": "https://localhost:8080/"
        },
        "id": "dKPubu1_CBNS",
        "outputId": "00af5b32-ae51-4578-92a8-52c0f370b8fe"
      },
      "execution_count": null,
      "outputs": [
        {
          "output_type": "execute_result",
          "data": {
            "text/plain": [
              "array(['MSFT', 'META', 'BAC', 'JPM', 'C', 'GSK', 'NVS', 'BMY', 'LMT',\n",
              "       'NOC', 'RTX', 'TXT'], dtype='<U4')"
            ]
          },
          "metadata": {},
          "execution_count": 98
        }
      ]
    },
    {
      "cell_type": "code",
      "source": [
        "stocks[np.array(MLCSS.S)]"
      ],
      "metadata": {
        "colab": {
          "base_uri": "https://localhost:8080/",
          "height": 169
        },
        "id": "rcd4PtmuB2vh",
        "outputId": "93dcefb3-f5ba-4e3d-f7b3-aee2a6a1360b"
      },
      "execution_count": null,
      "outputs": [
        {
          "output_type": "error",
          "ename": "TypeError",
          "evalue": "ignored",
          "traceback": [
            "\u001b[0;31m---------------------------------------------------------------------------\u001b[0m",
            "\u001b[0;31mTypeError\u001b[0m                                 Traceback (most recent call last)",
            "\u001b[0;32m<ipython-input-92-43f13570b403>\u001b[0m in \u001b[0;36m<module>\u001b[0;34m\u001b[0m\n\u001b[0;32m----> 1\u001b[0;31m \u001b[0mstocks\u001b[0m\u001b[0;34m[\u001b[0m\u001b[0mnp\u001b[0m\u001b[0;34m.\u001b[0m\u001b[0marray\u001b[0m\u001b[0;34m(\u001b[0m\u001b[0mMLCSS\u001b[0m\u001b[0;34m.\u001b[0m\u001b[0mS\u001b[0m\u001b[0;34m)\u001b[0m\u001b[0;34m]\u001b[0m\u001b[0;34m\u001b[0m\u001b[0;34m\u001b[0m\u001b[0m\n\u001b[0m",
            "\u001b[0;31mTypeError\u001b[0m: only integer scalar arrays can be converted to a scalar index"
          ]
        }
      ]
    },
    {
      "cell_type": "code",
      "source": [
        "MLCSS.compute_MLE_from_cov(Sigma_hat_standardized, 1, model='pcss', method='swap')"
      ],
      "metadata": {
        "id": "kaUhiOWF4rpL"
      },
      "execution_count": null,
      "outputs": []
    },
    {
      "cell_type": "code",
      "source": [
        "Sigma_MLE = compute_Sigma_MLE(Sigma_hat_standardized, np.array([6]))\n",
        "Sigma_MLE = perm(Sigma_MLE, np.array([0, 6]), np.array([6, 0]))\n",
        "compute_model_gaussian_likelihood( Sigma_MLE, k=1, model='pcss')"
      ],
      "metadata": {
        "colab": {
          "base_uri": "https://localhost:8080/"
        },
        "id": "TqsnND3-4x7r",
        "outputId": "0530ab04-bfc1-430a-d5ba-1288f20c57c9"
      },
      "execution_count": null,
      "outputs": [
        {
          "output_type": "execute_result",
          "data": {
            "text/plain": [
              "array(-25.68038997)"
            ]
          },
          "metadata": {},
          "execution_count": 44
        }
      ]
    },
    {
      "cell_type": "code",
      "source": [
        "MLCSS.compute_log_likelihood(reduce_mean=True)"
      ],
      "metadata": {
        "colab": {
          "base_uri": "https://localhost:8080/"
        },
        "id": "xN1BTxo95HVy",
        "outputId": "18f42b3a-2bba-4228-d664-6c3b8420885c"
      },
      "execution_count": null,
      "outputs": [
        {
          "output_type": "execute_result",
          "data": {
            "text/plain": [
              "-25.68038997160454"
            ]
          },
          "metadata": {},
          "execution_count": 41
        }
      ]
    },
    {
      "cell_type": "code",
      "source": [
        "(MLCSS.compute_log_likelihood(reduce_mean=True))"
      ],
      "metadata": {
        "colab": {
          "base_uri": "https://localhost:8080/"
        },
        "id": "_zLdIp2_4vUu",
        "outputId": "aadb3f64-d705-459b-b458-4eb32c9fb062"
      },
      "execution_count": null,
      "outputs": [
        {
          "output_type": "execute_result",
          "data": {
            "text/plain": [
              "{'mu_MLE': None,\n",
              " 'S_MLE': {6},\n",
              " 'C_MLE': array([[1.]]),\n",
              " 'W_MLE': array([[0.28620121],\n",
              "        [0.29325858],\n",
              "        [0.36113827],\n",
              "        [0.16175249],\n",
              "        [0.24498149],\n",
              "        [0.91455684],\n",
              "        [0.81808313],\n",
              "        [0.71536988],\n",
              "        [0.82468404],\n",
              "        [0.25225098],\n",
              "        [0.23236375],\n",
              "        [0.26925142],\n",
              "        [0.27994059],\n",
              "        [0.25793973],\n",
              "        [0.26600141],\n",
              "        [0.23584004],\n",
              "        [0.61895537],\n",
              "        [0.68211623],\n",
              "        [0.55333303]]),\n",
              " 'sigma_sq_MLE': 0.7527364797729622}"
            ]
          },
          "metadata": {},
          "execution_count": 34
        }
      ]
    },
    {
      "cell_type": "markdown",
      "source": [
        "# Regularized CSS"
      ],
      "metadata": {
        "id": "T_hTUlVshXRs"
      }
    },
    {
      "cell_type": "code",
      "source": [
        "p = 40\n",
        "k = 5\n",
        "\n",
        "A = np.random.normal(0, 2.5, size=(p, k))\n",
        "D = np.square(np.random.normal(0, 3, size=p))\n",
        "Sigma = A @ A.T + np.diag(D)\n",
        "Sigma = standardize_cov(Sigma)\n",
        "\n"
      ],
      "metadata": {
        "id": "rMNnJCOMpNbI"
      },
      "execution_count": null,
      "outputs": []
    },
    {
      "cell_type": "code",
      "source": [
        "np.round(D/(np.sum(np.square(A), axis=1) + D), 3)"
      ],
      "metadata": {
        "colab": {
          "base_uri": "https://localhost:8080/"
        },
        "id": "qDEwf0gPdefG",
        "outputId": "7c5161a4-87e0-4bc5-869e-f14748172dd0"
      },
      "execution_count": null,
      "outputs": [
        {
          "output_type": "execute_result",
          "data": {
            "text/plain": [
              "array([0.497, 0.077, 0.64 , 0.159, 0.162, 0.083, 0.342, 0.116, 0.002,\n",
              "       0.036, 0.9  , 0.031, 0.003, 0.019, 0.27 , 0.114, 0.324, 0.364,\n",
              "       0.533, 0.724, 0.324, 0.616, 0.861, 0.179, 0.001, 0.602, 0.006,\n",
              "       0.012, 0.001, 0.048, 0.158, 0.013, 0.043, 0.524, 0.192, 0.388,\n",
              "       0.183, 0.084, 0.   , 0.612])"
            ]
          },
          "metadata": {},
          "execution_count": 226
        }
      ]
    },
    {
      "cell_type": "code",
      "source": [
        "idxs_list = [np.array(idxs) for idxs in list(itertools.combinations(range(p), k))]\n",
        "lowest = np.inf\n",
        "S_best = np.nan\n",
        "for idxs in tqdm(idxs_list):\n",
        "  resid = regress_off(Sigma, idxs)\n",
        "  avg_resid = np.trace(resid)/(p-k)\n",
        "  if avg_resid < lowest:\n",
        "    S_best = idxs\n",
        "    lowest = avg_resid\n",
        "print(S_best)"
      ],
      "metadata": {
        "colab": {
          "base_uri": "https://localhost:8080/",
          "height": 67,
          "referenced_widgets": [
            "d85dae52dbde44828f7a1ff7a62db99a",
            "aa9c432cb392430595ba69f7be08feda",
            "bfe6b9a3697d41d2899161579bef469f",
            "1d4873d964114c26830c21857cfbf774",
            "56ef9bfed4e243d3b7b259fdd9be8b6e",
            "0a35bf068fef457b86c2c11f7912daaa",
            "ff3ec376567842d997851681a749a125",
            "bf0d3ba9038948bfbb0972fcd1efe8e6",
            "31e848d3f3e94830a58ae87702a87e5a",
            "5bb40d1c517a436faea8b4f08c7c1c0b",
            "c7d90cc56e3e4c3c9702a823abad1a06"
          ]
        },
        "id": "rvi_zGpndTuU",
        "outputId": "a33c501e-1390-4e02-ecc2-2a0ecf70aeb9"
      },
      "execution_count": null,
      "outputs": [
        {
          "output_type": "display_data",
          "data": {
            "text/plain": [
              "  0%|          | 0/658008 [00:00<?, ?it/s]"
            ],
            "application/vnd.jupyter.widget-view+json": {
              "version_major": 2,
              "version_minor": 0,
              "model_id": "d85dae52dbde44828f7a1ff7a62db99a"
            }
          },
          "metadata": {}
        },
        {
          "output_type": "stream",
          "name": "stdout",
          "text": [
            "[ 8 12 24 28 38]\n"
          ]
        }
      ]
    },
    {
      "cell_type": "code",
      "source": [
        "X_train = np.random.multivariate_normal(np.zeros(p), Sigma, size=100)\n",
        "mu_train, Sigma_train = get_moments(X_train)\n",
        "CSS = ColumnSubsetSelection()\n",
        "CSS.select_subset_from_cov(Sigma_train, k, method='swap')\n",
        "CSS.S"
      ],
      "metadata": {
        "colab": {
          "base_uri": "https://localhost:8080/"
        },
        "id": "w84BuOLrcpEz",
        "outputId": "fb76bd27-cf65-41bd-9e71-039a9b305f3c"
      },
      "execution_count": null,
      "outputs": [
        {
          "output_type": "execute_result",
          "data": {
            "text/plain": [
              "{8, 12, 24, 28, 38}"
            ]
          },
          "metadata": {},
          "execution_count": 234
        }
      ]
    },
    {
      "cell_type": "code",
      "source": [
        "def get_generalization_errors(Sigma, k, ns, lambs=[0], B=100, n_test=10000):\n",
        "  results = np.zeros((len(ns), len(lambs)))\n",
        "  \n",
        "  for i in range(B):\n",
        "    X_train = np.random.multivariate_normal(np.zeros(p), Sigma, size=np.max(ns))\n",
        "    X_test = np.random.multivariate_normal(np.zeros(p), Sigma, size=n_test)\n",
        "    _, Sigma_test = get_moments(X_test)  \n",
        "  \n",
        "    for j1, lamb in enumerate(lambs):\n",
        "      for j2, n in enumerate(ns):\n",
        "        _, Sigma_train = get_moments(X_train[:n, :])\n",
        "        Sigma_train = Sigma_train + lamb * np.eye(p)\n",
        "        CSS = ColumnSubsetSelection()\n",
        "        CSS.select_subset_from_cov(Sigma_train, k, method='swap')\n",
        "        CSS.select_subset_from_cov(Sigma_test, k=k, method='swap', S_init=CSS.S, max_iter=0)\n",
        "        results[j2, j1] += np.trace(CSS.Sigma_R)/(p-k)\n",
        "  return results/B"
      ],
      "metadata": {
        "id": "Lv-xDWFHpRO1"
      },
      "execution_count": null,
      "outputs": []
    },
    {
      "cell_type": "code",
      "source": [
        "lambs = np.concatenate([[0], np.logspace(-5, 0, 5)])\n",
        "ns = np.array([50, 100, 150, 200, 250])\n",
        "results = get_generalization_errors(Sigma, 5, ns, lambs=lambs)"
      ],
      "metadata": {
        "id": "cLzMIFe9pPxg"
      },
      "execution_count": null,
      "outputs": []
    },
    {
      "cell_type": "code",
      "source": [
        "results"
      ],
      "metadata": {
        "colab": {
          "base_uri": "https://localhost:8080/"
        },
        "id": "-83O79Q5b6Wq",
        "outputId": "eec971bc-8484-44bd-ecb4-8aafc95d94c8"
      },
      "execution_count": null,
      "outputs": [
        {
          "output_type": "execute_result",
          "data": {
            "text/plain": [
              "array([[0.21222106, 0.21236923, 0.21243943, 0.21287282, 0.22585996,\n",
              "        0.28010585],\n",
              "       [0.21199557, 0.21201284, 0.21204782, 0.21257108, 0.22369877,\n",
              "        0.24869086],\n",
              "       [0.21181873, 0.21190115, 0.21191983, 0.21225341, 0.22230616,\n",
              "        0.24471982],\n",
              "       [0.21177786, 0.21177786, 0.21178678, 0.21211385, 0.2230416 ,\n",
              "        0.24372491],\n",
              "       [0.2117602 , 0.2117602 , 0.2117602 , 0.21214439, 0.22350538,\n",
              "        0.23893147]])"
            ]
          },
          "metadata": {},
          "execution_count": 146
        }
      ]
    },
    {
      "cell_type": "code",
      "source": [
        "plt.scatter(ns, results[:, 0])"
      ],
      "metadata": {
        "colab": {
          "base_uri": "https://localhost:8080/",
          "height": 283
        },
        "id": "OebP60haqm3k",
        "outputId": "ab597031-5087-4386-8ee3-1180b8d51572"
      },
      "execution_count": null,
      "outputs": [
        {
          "output_type": "execute_result",
          "data": {
            "text/plain": [
              "<matplotlib.collections.PathCollection at 0x7f09edfbd940>"
            ]
          },
          "metadata": {},
          "execution_count": 147
        },
        {
          "output_type": "display_data",
          "data": {
            "text/plain": [
              "<Figure size 432x288 with 1 Axes>"
            ],
            "image/png": "[encoded data removed]"
          },
          "metadata": {
            "needs_background": "light"
          }
        }
      ]
    },
    {
      "cell_type": "code",
      "source": [
        "plt.scatter(lambs, results[1, :])"
      ],
      "metadata": {
        "colab": {
          "base_uri": "https://localhost:8080/",
          "height": 285
        },
        "id": "kfiN6jmpcPyK",
        "outputId": "68d447f0-9218-4835-cd06-bcfdb1be4c48"
      },
      "execution_count": null,
      "outputs": [
        {
          "output_type": "execute_result",
          "data": {
            "text/plain": [
              "<matplotlib.collections.PathCollection at 0x7f09eddbac70>"
            ]
          },
          "metadata": {},
          "execution_count": 153
        },
        {
          "output_type": "display_data",
          "data": {
            "text/plain": [
              "<Figure size 432x288 with 1 Axes>"
            ],
            "image/png": "[encoded data removed]"
          },
          "metadata": {
            "needs_background": "light"
          }
        }
      ]
    },
    {
      "cell_type": "code",
      "source": [
        "def get_generalization_error(X_train, X_test, k, method='greedy', lamb=1, num_init=1):\n",
        "  \n",
        "  mu_train, Sigma_train = get_moments(X_train)\n",
        "  np.fill_diag(Sigma_train, np.diag(Sigma_train) + lamb)\n",
        "  CSS = ColumnSubsetSelection() \n",
        "\n",
        "  if num_init == 1:\n",
        "    CSS.select_subset_from_cov(Sigma_train, k, method=method)\n",
        "  else:\n",
        "    training_error = np.inf\n",
        "    S_init = np.nan\n",
        "    for i in range(num_init):\n",
        "      CSS.select_subset_from_cov(Sigma_train, k, method=method)\n",
        "      curr_training_error = np.mean(np.diag(CSS.Sigma_R))\n",
        "\n",
        "\n"
      ],
      "metadata": {
        "id": "3m0lk-zhhaxW"
      },
      "execution_count": null,
      "outputs": []
    },
    {
      "cell_type": "markdown",
      "metadata": {
        "id": "MRSZkI_I47LI"
      },
      "source": [
        "#Fitting Mixture Models\n"
      ]
    },
    {
      "cell_type": "markdown",
      "metadata": {
        "id": "-Ja85V_xv7WV"
      },
      "source": [
        "Synthetic data"
      ]
    },
    {
      "cell_type": "code",
      "execution_count": null,
      "metadata": {
        "id": "uXGD2YojUBoo"
      },
      "outputs": [],
      "source": [
        "p=10\n",
        "k=3\n",
        "SNR=10\n",
        "n=1000\n",
        "pi = np.array([0.7, 0.3])\n",
        "params = {}\n",
        "for i in range(2):\n",
        "  t = randomly_generate_MLCSS_params(p, k, model='sf', SNR=SNR, standardize=True)\n",
        "  params[i] = {'C_sqrt': t[0], 'W': t[1], 'D': t[2]}\n",
        "params[1]['S'] = np.arange(p-k, p)\n",
        "X = generate_MLCSS_mixture_data(n, pi, params)"
      ]
    },
    {
      "cell_type": "code",
      "execution_count": null,
      "metadata": {
        "id": "mtzIkuZIVCDb"
      },
      "outputs": [],
      "source": [
        "MMLCSS = MMLColumnSubsetSelection()\n",
        "MMLCSS.compute_mixture_MLE_from_data(X, 2, np.array([3, 3]), model='sf', check_every=1, max_iter=1000)\n"
      ]
    },
    {
      "cell_type": "code",
      "execution_count": null,
      "metadata": {
        "id": "rXGbLCmaVM9w"
      },
      "outputs": [],
      "source": [
        "w = len(MMLCSS.log_likelihood_history)\n",
        "plt.plot([MMLCSS.log_likelihood_history[i][0] for i in range(w)], [MMLCSS.log_likelihood_history[i][1] for i in range(w)])"
      ]
    },
    {
      "cell_type": "code",
      "execution_count": null,
      "metadata": {
        "id": "M5qSKJI7VoKh"
      },
      "outputs": [],
      "source": [
        "MMLCSS.pi_MLE"
      ]
    },
    {
      "cell_type": "code",
      "execution_count": null,
      "metadata": {
        "id": "HLKeiC__VrQ5"
      },
      "outputs": [],
      "source": [
        "plt.scatter(range(len(MMLCSS.compute_posterior_class_probs()[:, 0])), MMLCSS.compute_posterior_class_probs()[:, 0] )"
      ]
    },
    {
      "cell_type": "markdown",
      "metadata": {
        "id": "69lJIGacrQp9"
      },
      "source": [
        "Data from: https://archive.ics.uci.edu/ml/datasets/spambase"
      ]
    },
    {
      "cell_type": "code",
      "execution_count": null,
      "metadata": {
        "id": "P5OdIOe02kzj"
      },
      "outputs": [],
      "source": [
        "spam_cols = ['word_freq_make',\n",
        "'word_freq_all',          \n",
        "'word_freq_address',      \n",
        "'word_freq_3d',           \n",
        "'word_freq_our',          \n",
        "'word_freq_over',         \n",
        "'word_freq_remove',       \n",
        "'word_freq_internet',     \n",
        "'word_freq_order',        \n",
        "'word_freq_mail',         \n",
        "'word_freq_receive',      \n",
        "'word_freq_will',         \n",
        "'word_freq_people',       \n",
        "'word_freq_report',       \n",
        "'word_freq_addresses',    \n",
        "'word_freq_free',         \n",
        "'word_freq_business',     \n",
        "'word_freq_email',        \n",
        "'word_freq_you',          \n",
        "'word_freq_credit',       \n",
        "'word_freq_your',         \n",
        "'word_freq_font',         \n",
        "'word_freq_000',          \n",
        "'word_freq_money',        \n",
        "'word_freq_hp',           \n",
        "'word_freq_hpl',          \n",
        "'word_freq_george',       \n",
        "'word_freq_650',          \n",
        "'word_freq_lab',          \n",
        "'word_freq_labs',         \n",
        "'word_freq_telnet',       \n",
        "'word_freq_857',          \n",
        "'word_freq_data',         \n",
        "'word_freq_415',          \n",
        "'word_freq_85',           \n",
        "'word_freq_technology',   \n",
        "'word_freq_1999',         \n",
        "'word_freq_parts',       \n",
        "'word_freq_pm',      \n",
        "'word_freq_direct',       \n",
        "'word_freq_cs',     \n",
        "'word_freq_meeting',    \n",
        "'word_freq_original',     \n",
        "'word_freq_project',      \n",
        "'word_freq_re',         \n",
        "'word_freq_edu',       \n",
        "'word_freq_table',  \n",
        "'word_freq_conference',   \n",
        "'char_freq_;',           \n",
        "'char_freq_(',           \n",
        "'char_freq_[',           \n",
        "'char_freq_!',           \n",
        "'char_freq_$',           \n",
        "'char_freq_#',            \n",
        "'capital_run_length_average',\n",
        "'capital_run_length_longest',\n",
        "'capital_run_length_total',\n",
        "'spam_label']\n",
        "\n",
        "spam_df =  pd.read_csv('spambase.csv', sep=\",\", header=None)\n",
        "old_cols = spam_df.columns\n",
        "rename_cols = {old_cols[i]: spam_cols[i] for i in range(len(old_cols))}\n",
        "spam_df = spam_df.rename(columns=rename_cols)\n",
        "\n",
        "remove_cols = [           \n",
        "'capital_run_length_average',\n",
        "'capital_run_length_longest',\n",
        "'capital_run_length_total',\n",
        "'word_freq_table',                \n",
        "'word_freq_parts',  \n",
        "'char_freq_[',         \n",
        "'word_freq_conference',\n",
        "'char_freq_;',        \n",
        "'word_freq_cs',        \n",
        "'char_freq_#',         \n",
        "'word_freq_original', \n",
        "'word_freq_857',       \n",
        "'word_freq_415',       \n",
        "'word_freq_addresses', \n",
        "'word_freq_report',    \n",
        "'word_freq_receive',   \n",
        "'word_freq_telnet',    \n",
        "'word_freq_direct',    \n",
        "'word_freq_3d',       \n",
        "'char_freq_$',         \n",
        "'word_freq_pm']\n",
        "#spam_df = spam_df.drop(remove_cols, axis=1)\n",
        "\n",
        "data = spam_df.to_numpy()\n",
        "y = data[:, -1]\n",
        "X = data[:, :data.shape[1] - 1]\n",
        "#X = box_cox(X, 0.01)\n",
        "X = standardize_data(X)\n",
        "#X -= "
      ]
    },
    {
      "cell_type": "code",
      "execution_count": null,
      "metadata": {
        "id": "bohaIPfvQeGx"
      },
      "outputs": [],
      "source": [
        "spam_df.sum().sort_values()"
      ]
    },
    {
      "cell_type": "markdown",
      "metadata": {
        "id": "lDUuJYuPrYng"
      },
      "source": [
        "Data from: https://archive.ics.uci.edu/ml/datasets/cloud"
      ]
    },
    {
      "cell_type": "code",
      "execution_count": null,
      "metadata": {
        "id": "J4YdfbWjrhz-"
      },
      "outputs": [],
      "source": [
        "cloud_df = pd.read_csv('cloud.data')"
      ]
    },
    {
      "cell_type": "markdown",
      "metadata": {
        "id": "ycDpJu0XsqNR"
      },
      "source": [
        "Data from: https://archive.ics.uci.edu/ml/datasets/breast+cancer+wisconsin+(diagnostic)"
      ]
    },
    {
      "cell_type": "code",
      "execution_count": null,
      "metadata": {
        "id": "r9o5nuvwsjWO"
      },
      "outputs": [],
      "source": [
        "breast_df = pd.read_csv('breast-cancer-wisconsin.data')\n",
        "\n",
        "#breast_df.columns = ['Id', 'Clump_thickness', 'Uniformity_cell_size', 'Uniformity_cell_shape', 'Marginal_adhesion', 'Single_e_cell_size', 'Bare_nuclei', 'Bland_chromatin', 'Normal_nucleoli', 'Mitoses', 'Class']\n",
        "#breast_df.loc[breast_df[\"Class\"] == 2, \"Class\"] = 0\n",
        "#breast_df.loc[breast_df[\"Class\"] == 4, \"Class\"] = 1\n",
        "breast_df = breast_df.drop(np.where(np.sum(breast_df == '?', axis=1))[0], axis=0)\n",
        "#breast_df = breast_df.drop(\"Bare_nuclei\", axis=1)\n",
        "\n",
        "data = breast_df.to_numpy().astype(float)\n",
        "y = data[:, -1]\n",
        "X = data[:, 1:data.shape[1] - 1]\n",
        "#X = box_cox(X, 0.01)\n",
        "X = standardize_data(X)"
      ]
    },
    {
      "cell_type": "code",
      "execution_count": null,
      "metadata": {
        "cellView": "form",
        "id": "T5EVdBniyFGb"
      },
      "outputs": [],
      "source": [
        "#@title\n",
        "breast_df = pd.read_csv('wdbc.data', header=None)\n",
        "breast_df.columns = np.arange(len(breast_df.columns)).astype(str)\n",
        "breast_df.loc[breast_df[\"1\"] == 'M', breast_df[\"1\"]] = 1\n",
        "print(breast_df.columns)\n",
        "\n",
        "#breast_df.columns = ['Id', 'Clump_thickness', 'Uniformity_cell_size', 'Uniformity_cell_shape', 'Marginal_adhesion', 'Single_e_cell_size', 'Bare_nuclei', 'Bland_chromatin', 'Normal_nucleoli', 'Mitoses', 'Class']\n",
        "#breast_df.loc[breast_df[\"Class\"] == 2, \"Class\"] = 0\n",
        "#breast_df.loc[breast_df[\"Class\"] == 4, \"Class\"] = 1\n",
        "breast_df = breast_df.drop(np.where(np.sum(breast_df == '?', axis=1))[0], axis=0)\n",
        "breat_df \n",
        "breast_df = breast_df.drop([0, 1], axis=1)\n",
        "print(breast_df.head())\n",
        "break\n",
        "\n",
        "data = breast_df.to_numpy().astype(float)\n",
        "y = data[:, 1]\n",
        "X = data[:, 1:data.shape[1] - 1]\n",
        "#X = box_cox(X, 0.01)\n",
        "X = standardize_data(X)"
      ]
    },
    {
      "cell_type": "code",
      "execution_count": null,
      "metadata": {
        "id": "B4DiwU0Dtyt4"
      },
      "outputs": [],
      "source": [
        "for i, col in enumerate(breast_df.columns):\n",
        "  print(col)\n",
        "  plt.hist(X[:, i])\n",
        "  plt.show()"
      ]
    },
    {
      "cell_type": "code",
      "execution_count": null,
      "metadata": {
        "id": "BgchJEY8yziP"
      },
      "outputs": [],
      "source": [
        "MMLCSS = MMLColumnSubsetSelection()\n",
        "likelihoods = []\n",
        "k_max = 9\n",
        "for i in range(1, k_max+1):\n",
        "  MMLCSS.compute_mixture_MLE_from_data(X, 2, np.array([i, i]), model='pcss', check_every=1, max_iter=1000, tol=0)\n",
        "  likelihoods.append(MMLCSS.compute_log_likelihood(reduce_mean=True))\n",
        "plt.plot(range(1, k_max+1), likelihoods)\n",
        "\n"
      ]
    },
    {
      "cell_type": "code",
      "execution_count": null,
      "metadata": {
        "id": "Ls4obU5Zy4tK"
      },
      "outputs": [],
      "source": [
        "MMLCSS = MMLColumnSubsetSelection()\n",
        "MMLCSS.compute_mixture_MLE_from_data(X, 2, np.array([36, 36]), model='sf', check_every=1, max_iter=1000, tol=0)"
      ]
    },
    {
      "cell_type": "code",
      "execution_count": null,
      "metadata": {
        "id": "_wiA98lSy8f5"
      },
      "outputs": [],
      "source": [
        "plt.plot(*zip(*MMLCSS.log_likelihood_history))\n",
        "print(MMLCSS.converged)"
      ]
    },
    {
      "cell_type": "code",
      "execution_count": null,
      "metadata": {
        "id": "HPPGqtL0y-io"
      },
      "outputs": [],
      "source": [
        "print(np.mean((MMLCSS.compute_posterior_class_probs()[:, 1] > 0.5) == y))\n",
        "print(np.mean((MMLCSS.compute_posterior_class_probs()[:, 0] > 0.5) == y))"
      ]
    },
    {
      "cell_type": "code",
      "execution_count": null,
      "metadata": {
        "id": "RCwuaiIo6ugT"
      },
      "outputs": [],
      "source": [
        "display_MLCSS_results(MMLCSS.models[0].MLE, breast_df.columns[1:len(breast_df.columns) -1])"
      ]
    },
    {
      "cell_type": "code",
      "execution_count": null,
      "metadata": {
        "id": "T_yG3NVZ7Nmg"
      },
      "outputs": [],
      "source": [
        "display_MLCSS_results(MMLCSS.models[1].MLE, breast_df.columns[1:len(breast_df.columns) -1])"
      ]
    },
    {
      "cell_type": "markdown",
      "metadata": {
        "id": "NQUdhVBNCZQt"
      },
      "source": [
        "# Alternative to Factor Analysis"
      ]
    },
    {
      "cell_type": "code",
      "execution_count": null,
      "metadata": {
        "id": "3LrV4gZsUjCn"
      },
      "outputs": [],
      "source": [
        "def display_MLCSS_results(MLE, column_names=None, round=2):\n",
        "  k = MLE[\"C_MLE\"].shape[0]\n",
        "  p = k + MLE[\"D_MLE\"].shape[0]\n",
        "  if column_names is None:\n",
        "    column_names = np.arange(p)\n",
        "  S = np.sort(list(MLE[\"S_MLE\"]))\n",
        "  S_comp = complement(p, S)\n",
        "  columns = np.concatenate([column_names[S], ['Communality', 'Uniqueness', 'Total Var', 'Mean']])\n",
        "  index = column_names.copy()\n",
        "  values = np.zeros((p, k + 4))\n",
        "  values[S, :k] = np.eye(k)\n",
        "  values[S, k] = np.diag(MLE[\"C_MLE\"])\n",
        "  values[S, k+1] = 0\n",
        "  values[S, k+2] = values[S, k]\n",
        "  values[S_comp, :k] = MLE[\"W_MLE\"]\n",
        "  values[S_comp, k] = np.diag(MLE[\"W_MLE\"] @ MLE[\"C_MLE\"] @ MLE[\"W_MLE\"].T)\n",
        "  values[S_comp, k+1] = MLE[\"D_MLE\"]\n",
        "  values[S_comp, k+2] = values[S_comp, k] + values[S_comp, k+1]\n",
        "  values[:, k+3] = MLE[\"mu_MLE\"]\n",
        "  if round is not None:\n",
        "    values = np.round(values, 3)\n",
        "  results_df = pd.DataFrame(data=values,\n",
        "                            index=index,\n",
        "                            columns=columns) \n",
        "  return results_df\n",
        "\n",
        "def display_FA_results(MLE, column_names=None, round=2):\n",
        "  p = MLE[\"D_MLE\"].shape[0]\n",
        "  k = MLE[\"W_MLE\"].shape[1]\n",
        "  if column_names is None:\n",
        "    column_names = np.arange(p)\n",
        "  columns = np.concatenate([[\"Factor \" + str(i) for i in range(k)], ['Communality', 'Uniqueness', 'Total Var', 'Mean']])\n",
        "  index = column_names.copy()\n",
        "  values = np.zeros((p, k + 4))\n",
        "  values[:, :k] = MLE[\"W_MLE\"]\n",
        "  values[:, k] = np.sum(np.square(MLE[\"W_MLE\"]), axis=1)\n",
        "  values[:, k+1] = MLE[\"D_MLE\"]\n",
        "  values[:, k+2] = values[:, k+1] + values[:, k+2]\n",
        "  values[:, k+3] = MLE[\"mu_MLE\"]\n",
        "  if round is not None:\n",
        "    values = np.round(values, 3)\n",
        "  results_df = pd.DataFrame(data=values,\n",
        "                            index=index,\n",
        "                            columns=columns) \n",
        "  return results_df\n"
      ]
    },
    {
      "cell_type": "code",
      "execution_count": null,
      "metadata": {
        "id": "dPnOxj4dDnh5"
      },
      "outputs": [],
      "source": [
        "def CSS_scree_plot_from_data(X_train, k_max, X_val=None, method='greedy', max_iter=100, num_tries=1, show_zero=False, plot=False):\n",
        "  _, Sigma_hat_train = get_moments(X_train)\n",
        "  if X_val is None:\n",
        "    Sigma_hat_val = None\n",
        "  else:\n",
        "    _, Sigma_hat_val = get_moments(X_val) \n",
        "  return CSS_scree_plot_from_cov(Sigma_hat_train,\n",
        "                                 k_max, \n",
        "                                 Sigma_val=Sigma_hat_val, \n",
        "                                 method=method,\n",
        "                                 max_iter=max_iter, \n",
        "                                 num_tries=num_tries,\n",
        "                                 show_zero=show_zero,\n",
        "                                 plot=plot)\n",
        "\n",
        "# fix this \n",
        "def CSS_scree_plot_from_cov(Sigma_train, k_max, Sigma_val=None, method='greedy', max_iter=100, num_tries=1, show_zero=False, plot=False):\n",
        "  p = Sigma_train.shape[0]\n",
        "  CSS = ColumnSubsetSelection()\n",
        "  RMSE = np.zeros(k_max)\n",
        "  subset_sizes = np.arange(1, k_max + 1)\n",
        "  if method == 'greedy':\n",
        "    CSS.select_subset_from_cov(Sigma_train, k=k_max, method='greedy')\n",
        "    if Sigma_val is None:\n",
        "      Sigma_R = Sigma_train.copy()\n",
        "    else:\n",
        "      Sigma_R = Sigma_val.copy()\n",
        "    for i, s in enumerate(CSS.S_ordered):\n",
        "      regress_one_off_in_place(Sigma_R, s)\n",
        "      RMSE[i] = np.sqrt(np.trace(Sigma_R))\n",
        "  if method == 'swap':\n",
        "    for i in subset_sizes:\n",
        "      RMSEs = np.zeros(num_tries)\n",
        "      for j in range(num_tries):\n",
        "        CSS.select_subset_from_cov(Sigma_train, k=i, method='swap', max_iter=max_iter)\n",
        "        if Sigma_val is None:\n",
        "          RMSEs[j] =  np.sqrt(np.trace(CSS.Sigma_R))\n",
        "        else:\n",
        "          RMSEs[j] = np.sqrt(np.trace(regress_off(Sigma_val, CSS.S)))\n",
        "      RMSE[i - 1] = np.min(RMSEs)\n",
        "  if plot:\n",
        "    if show_zero:\n",
        "      plt.plot(np.concatenate([[0], subset_sizes]), np.concatenate([[np.sqrt(np.trace(Sigma_train))], RMSE]))\n",
        "    else:\n",
        "      plt.plot(subset_sizes, RMSE)\n",
        "    plt.title(\"RSME vs. Increasing Subset Sizes\")\n",
        "    plt.xlabel(\"Subset Size\")\n",
        "    plt.ylabel(\"RMSE\")\n",
        "  return RMSE"
      ]
    },
    {
      "cell_type": "code",
      "execution_count": null,
      "metadata": {
        "id": "4HcOajzmJoRN"
      },
      "outputs": [],
      "source": [
        "def likelihood_plot_from_data(X_train, k_max, model_params, X_val=None, check_errors=True, plot=False):\n",
        "  \n",
        "  if check_errors:\n",
        "    model_params = error_check_model_params(model_params)\n",
        "  \n",
        "  if X_val is None:\n",
        "    X_val = X_train.copy()\n",
        "\n",
        "  likelihoods = np.zeros(k_max)\n",
        "  for k in range(1, k_max + 1):\n",
        "    likelihood, _ = compute_likelihood(X_train, X_val, k, model_params, reduce_mean=True, check_errors=False)\n",
        "    likelihoods[k-1] = likelihood\n",
        "  \n",
        "  if plot:\n",
        "    plt.plot(range(1, len(likelihoods) + 1), likelihoods)\n",
        "    plt.title(\"Average Log Likelihood vs. Increasing Num Factors\")\n",
        "    plt.xlabel(\"Num Factors\")\n",
        "    plt.ylabel(\"Average Log Likelihood\")\n",
        "    plt.show()\n",
        "\n",
        "  return likelihoods \n"
      ]
    },
    {
      "cell_type": "code",
      "execution_count": null,
      "metadata": {
        "id": "HNUPpLGmxOiC"
      },
      "outputs": [],
      "source": [
        "class FactorAnalysis:\n",
        "  def __init__(self):\n",
        "    pass\n",
        "\n",
        "  def _compute_Sigma_MLE_inv(self):\n",
        "    temp = np.eye(self.k) + diagonal_right_multiply(self.W.T, self._D_inv) @ self.W\n",
        "\n",
        "    self._Sigma_MLE_inv = np.diag(self._D_inv) - diagonal_left_multiply(self._D_inv, diagonal_right_multiply(self.W @ np.linalg.solve(temp, self.W.T), self._D_inv))\n",
        "\n",
        "  def _compute_Sigma_MLE_log_det(self):\n",
        "    self._log_det_Sigma_MLE = np.sum(np.log(self.D)) + np.log(np.linalg.det(np.eye(self.k) + self.W.T @ diagonal_left_multiply(self._D_inv, self.W)))\n",
        "\n",
        "  def compute_log_likelihood(self, X=None, reduce_mean=False):\n",
        "    if X is None:\n",
        "      try:\n",
        "       X = self.X\n",
        "      except:\n",
        "        raise ValueError(\"X not provided and no default value available\")\n",
        "\n",
        "    X_centered = X - np.mean(X, axis=0)\n",
        "\n",
        "    log_likelihoods = -1/2*(self.p * np.log(2 * np.pi) +  \n",
        "                            self._log_det_Sigma_MLE + \n",
        "                            quadratic_form(X_centered, self._Sigma_MLE_inv , X_centered))\n",
        "    if reduce_mean:\n",
        "      return np.mean(log_likelihoods)\n",
        "    else:\n",
        "      return log_likelihoods \n",
        "  \n",
        "  def compute_likelihood(self, X=None, reduce_geometric_mean=False):\n",
        "    if X is None:\n",
        "      try:\n",
        "       X = self.X\n",
        "      except:\n",
        "        raise ValueError(\"X not provided and no default value available\")\n",
        "    \n",
        "    log_likelihoods = self.compute_log_likelihood(X, reduce_mean=reduce_geometric_mean)\n",
        "    return np.exp(log_likelihoods)\n",
        "\n",
        "  def apply_rotation(self, rotation='varimax'):\n",
        "    pass\n",
        "\n",
        "  def compute_MLE_from_data(self, X, k, init='ppca', **kwargs):\n",
        "    \n",
        "    tau = kwargs.get('tau', 10e-6)\n",
        "    check_every = kwargs.get('check_every', 50)\n",
        "    W_init = kwargs.get('W_init', None)\n",
        "    D_init = kwargs.get('D_init', None)\n",
        "    max_iter = kwargs.get('max_iter', 1000)\n",
        "    \n",
        "    self.X = X\n",
        "    self.k = k\n",
        "    self.n, self.p = X.shape\n",
        "    self.tau = tau\n",
        "\n",
        "    self.converged = False\n",
        "    self.log_likelihood_history = []\n",
        "    \n",
        "    mu_MLE, Sigma_hat = get_moments(X)\n",
        "    X_centered = X - mu_MLE \n",
        "    Sigma_hat_diag = np.diag(Sigma_hat)\n",
        "    \n",
        "    init = init.lower()\n",
        "    if init not in {'ppca', 'random', None}:\n",
        "      raise ValueError(\"Requested initialization not available\")\n",
        "    \n",
        "    if not(self.k < self.p):\n",
        "      raise ValueError(\"k must be strictly less than p\")\n",
        "\n",
        "    # fix random init  \n",
        "    if init == 'random':\n",
        "      self.W_init = 0.5*1/np.sqrt(self.k) * np.random.normal(0, 1, (self.p, self.k))\n",
        "      self.D_init = 0.5*np.square(np.random.normal(0, 1, self.p))\n",
        "    if init == 'ppca':\n",
        "      eig_vals, eig_vecs = np.linalg.eig(Sigma_hat)\n",
        "      eig_order = np.argsort(-1*eig_vals)\n",
        "      eig_vals = eig_vals[eig_order]\n",
        "      eig_vecs = eig_vecs[:, eig_order]\n",
        "      sigma_sq = np.mean(eig_vals[self.k:])\n",
        "      self.W_init = diagonal_right_multiply(eig_vecs[:, :self.k], np.sqrt(eig_vals[:self.k] - sigma_sq))\n",
        "      self.D_init = sigma_sq * np.ones(self.p)\n",
        "    if init is None:\n",
        "      if (self.p, self.k) != W_init.shape or (self.p,) != D_init.shape:\n",
        "        raise ValueError(\"W_init or D_init not the correct shape\")\n",
        "      self.W_init = W_init\n",
        "      self.D_init = D_init\n",
        "\n",
        "    self.W = self.W_init.copy()\n",
        "    self.D = self.D_init.copy()\n",
        "    self._D_inv = 1/self.D\n",
        "    self._compute_Sigma_MLE_inv()\n",
        "    self._compute_Sigma_MLE_log_det()\n",
        "    I_k = np.eye(self.k)\n",
        "\n",
        "    iter = 0\n",
        "    prev_log_likelihood = -np.inf\n",
        "    curr_log_likelihood = self.compute_log_likelihood(reduce_mean=True)\n",
        "    self.log_likelihood_history.append((iter, curr_log_likelihood))\n",
        "    \n",
        "    while iter < max_iter:\n",
        "      \n",
        "      temp = self.W.T @ self._Sigma_MLE_inv\n",
        "      M = X_centered @ temp.T\n",
        "      V = I_k - temp @ self.W\n",
        "      C = 1/self.n * X_centered.T @ M\n",
        "      self.W = np.linalg.solve(V + 1/self.n * M.T @ M, C.T).T\n",
        "      self.D = Sigma_hat_diag - np.sum(self.W * C, axis=1)\n",
        "      self._D_inv = 1/self.D \n",
        "      self._compute_Sigma_MLE_inv()\n",
        "      iter += 1\n",
        "      if iter % check_every == 0:\n",
        "        self._compute_Sigma_MLE_log_det()\n",
        "        prev_log_likelihood = curr_log_likelihood\n",
        "        curr_log_likelihood = self.compute_log_likelihood(reduce_mean=True)\n",
        "        self.log_likelihood_history.append((iter, curr_log_likelihood))\n",
        "        if curr_log_likelihood - prev_log_likelihood < self.tau:\n",
        "          self.converged=True\n",
        "          break\n",
        "\n",
        "    self._compute_Sigma_MLE_log_det()\n",
        "    self.MLE = {\"mu_MLE\": mu_MLE, \n",
        "                \"W_MLE\": self.W,\n",
        "                \"D_MLE\": self.D}\n",
        "\n"
      ]
    },
    {
      "cell_type": "markdown",
      "metadata": {
        "id": "SkQhcQcAadx5"
      },
      "source": [
        "Data from https://www.alexanderdemos.org/Class15.html"
      ]
    },
    {
      "cell_type": "code",
      "execution_count": null,
      "metadata": {
        "id": "Ov96bMu_uFru"
      },
      "outputs": [],
      "source": [
        "data = pd.read_csv('BFI228.csv')\n",
        "X = data.to_numpy()[1:].astype(float)\n",
        "X = standardize_data(X, center=True)"
      ]
    },
    {
      "cell_type": "markdown",
      "metadata": {
        "id": "nWvcHklAabAY"
      },
      "source": [
        "Data from https://rdrr.io/github/doomlab/learnSEM/man/efa.html"
      ]
    },
    {
      "cell_type": "code",
      "execution_count": null,
      "metadata": {
        "id": "8t5Ejw0WwyVU"
      },
      "outputs": [],
      "source": [
        "data = pd.read_csv('efa.csv').dropna()\n",
        "data = data.drop(\"condition\", axis=1)\n",
        "data = data.dropna()\n",
        "X = data.to_numpy()[1:].astype(float)\n",
        "X = standardize_data(X, center=True)"
      ]
    },
    {
      "cell_type": "markdown",
      "metadata": {
        "id": "_Qu3L61zapGF"
      },
      "source": [
        "Data from https://statisticsbyjim.com/basics/factor-analysis/"
      ]
    },
    {
      "cell_type": "code",
      "execution_count": null,
      "metadata": {
        "id": "p-Q0NtL-yAhX"
      },
      "outputs": [],
      "source": [
        "data = pd.read_csv('FactorAnalysis.csv').dropna()\n",
        "\n",
        "X = data.to_numpy()[1:].astype(float)\n",
        "X = standardize_data(X, center=True)"
      ]
    },
    {
      "cell_type": "code",
      "execution_count": null,
      "metadata": {
        "id": "s4KcUcw2u0-q"
      },
      "outputs": [],
      "source": [
        "p = X.shape[1]\n",
        "k_max=p"
      ]
    },
    {
      "cell_type": "code",
      "execution_count": null,
      "metadata": {
        "id": "jpkhN-YtCj4S"
      },
      "outputs": [],
      "source": [
        "model_params = {'model': 'mlcss_sf',\n",
        "                'method': 'swap',\n",
        "                'num_tries': 1,  \n",
        "                'max_iter': 1000}\n",
        "\n",
        "MLCSS_likelihoods=likelihood_plot_from_data(X, k_max, model_params, plot=False)"
      ]
    },
    {
      "cell_type": "code",
      "execution_count": null,
      "metadata": {
        "id": "od9iuhmXCrvM"
      },
      "outputs": [],
      "source": [
        "model_params = {'model': 'fa',\n",
        "                'init': 'ppca',\n",
        "                'max_iter': 1000}\n",
        "\n",
        "FA_likelihoods=likelihood_plot_from_data(X, k_max, model_params, plot=False)"
      ]
    },
    {
      "cell_type": "code",
      "execution_count": null,
      "metadata": {
        "colab": {
          "base_uri": "https://localhost:8080/",
          "height": 234
        },
        "id": "tc_QKWiquoxL",
        "outputId": "470ecfbc-6004-4a29-cde2-5767889a06fb"
      },
      "outputs": [
        {
          "data": {
            "text/plain": [
              "<matplotlib.legend.Legend at 0x7fce5e708d90>"
            ]
          },
          "execution_count": 442,
          "metadata": {},
          "output_type": "execute_result"
        },
        {
          "data": {
            "image/png": "[encoded data removed]",
            "text/plain": [
              "<Figure size 720x216 with 1 Axes>"
            ]
          },
          "metadata": {},
          "output_type": "display_data"
        }
      ],
      "source": [
        "plt.rcParams[\"figure.figsize\"] = (10,3)\n",
        "plt.plot(range(1, k_max+1), MLCSS_likelihoods, label='subset factor analysis')\n",
        "plt.plot(range(1, k_max+1), FA_likelihoods, label='factor analysis')\n",
        "plt.xticks(range(1, k_max+1), range(1, k_max+1))\n",
        "plt.xticks(rotation = 90)\n",
        "plt.legend()"
      ]
    },
    {
      "cell_type": "code",
      "execution_count": null,
      "metadata": {
        "colab": {
          "base_uri": "https://localhost:8080/"
        },
        "id": "KAJiQE23Dvjg",
        "outputId": "eacc2fdf-5e12-4279-afb6-941ccbbec49d"
      },
      "outputs": [
        {
          "name": "stdout",
          "output_type": "stream",
          "text": [
            "0.5836328634233462\n",
            "0.6424115315576037\n"
          ]
        }
      ],
      "source": [
        "FA = FactorAnalysis()\n",
        "FA.compute_MLE_from_data(X, 5)\n",
        "print(np.mean(np.sort(FA.MLE[\"D_MLE\"])[k:]))\n",
        "\n",
        "MLCSS = MLColumnSubsetSelection()\n",
        "MLCSS.compute_MLE_from_data(X, 10, method='swap', model='sf')\n",
        "print(np.mean(MLCSS.MLE[\"D_MLE\"]))"
      ]
    },
    {
      "cell_type": "code",
      "execution_count": null,
      "metadata": {
        "id": "EdmqP_bYKAvu"
      },
      "outputs": [],
      "source": [
        "from statsmodels.multivariate.factor_rotation import rotate_factors\n",
        "\n",
        "MLE = FA.MLE.copy()\n",
        "MLE[\"W_MLE\"] = rotate_factors(FA.MLE[\"W_MLE\"], method='quartimax')[0]"
      ]
    },
    {
      "cell_type": "code",
      "execution_count": null,
      "metadata": {
        "colab": {
          "base_uri": "https://localhost:8080/",
          "height": 426
        },
        "id": "JFHWbAsWGFcr",
        "outputId": "80457154-71a0-443d-ac5e-66d839de9faa"
      },
      "outputs": [
        {
          "data": {
            "text/html": [
              "\n",
              "  <div id=\"df-b6586cf8-73a9-4f88-8cab-7e9f04db1edf\">\n",
              "    <div class=\"colab-df-container\">\n",
              "      <div>\n",
              "<style scoped>\n",
              "    .dataframe tbody tr th:only-of-type {\n",
              "        vertical-align: middle;\n",
              "    }\n",
              "\n",
              "    .dataframe tbody tr th {\n",
              "        vertical-align: top;\n",
              "    }\n",
              "\n",
              "    .dataframe thead th {\n",
              "        text-align: right;\n",
              "    }\n",
              "</style>\n",
              "<table border=\"1\" class=\"dataframe\">\n",
              "  <thead>\n",
              "    <tr style=\"text-align: right;\">\n",
              "      <th></th>\n",
              "      <th>Factor 0</th>\n",
              "      <th>Factor 1</th>\n",
              "      <th>Factor 2</th>\n",
              "      <th>Factor 3</th>\n",
              "      <th>Factor 4</th>\n",
              "      <th>Communality</th>\n",
              "      <th>Uniqueness</th>\n",
              "      <th>Total Var</th>\n",
              "      <th>Mean</th>\n",
              "    </tr>\n",
              "  </thead>\n",
              "  <tbody>\n",
              "    <tr>\n",
              "      <th>0</th>\n",
              "      <td>-0.834</td>\n",
              "      <td>0.209</td>\n",
              "      <td>0.173</td>\n",
              "      <td>-0.109</td>\n",
              "      <td>-0.026</td>\n",
              "      <td>0.782</td>\n",
              "      <td>0.218</td>\n",
              "      <td>0.218</td>\n",
              "      <td>-0.0</td>\n",
              "    </tr>\n",
              "    <tr>\n",
              "      <th>1</th>\n",
              "      <td>-0.355</td>\n",
              "      <td>0.374</td>\n",
              "      <td>0.233</td>\n",
              "      <td>-0.577</td>\n",
              "      <td>-0.032</td>\n",
              "      <td>0.654</td>\n",
              "      <td>0.345</td>\n",
              "      <td>0.345</td>\n",
              "      <td>-0.0</td>\n",
              "    </tr>\n",
              "    <tr>\n",
              "      <th>2</th>\n",
              "      <td>-0.201</td>\n",
              "      <td>0.832</td>\n",
              "      <td>0.231</td>\n",
              "      <td>-0.131</td>\n",
              "      <td>0.068</td>\n",
              "      <td>0.808</td>\n",
              "      <td>0.192</td>\n",
              "      <td>0.192</td>\n",
              "      <td>0.0</td>\n",
              "    </tr>\n",
              "    <tr>\n",
              "      <th>3</th>\n",
              "      <td>-0.414</td>\n",
              "      <td>0.488</td>\n",
              "      <td>0.210</td>\n",
              "      <td>-0.141</td>\n",
              "      <td>0.610</td>\n",
              "      <td>0.845</td>\n",
              "      <td>0.154</td>\n",
              "      <td>0.154</td>\n",
              "      <td>0.0</td>\n",
              "    </tr>\n",
              "    <tr>\n",
              "      <th>4</th>\n",
              "      <td>-0.718</td>\n",
              "      <td>-0.010</td>\n",
              "      <td>0.299</td>\n",
              "      <td>-0.132</td>\n",
              "      <td>0.090</td>\n",
              "      <td>0.630</td>\n",
              "      <td>0.370</td>\n",
              "      <td>0.370</td>\n",
              "      <td>-0.0</td>\n",
              "    </tr>\n",
              "    <tr>\n",
              "      <th>5</th>\n",
              "      <td>-0.495</td>\n",
              "      <td>0.355</td>\n",
              "      <td>0.215</td>\n",
              "      <td>-0.165</td>\n",
              "      <td>0.706</td>\n",
              "      <td>0.944</td>\n",
              "      <td>0.056</td>\n",
              "      <td>0.056</td>\n",
              "      <td>-0.0</td>\n",
              "    </tr>\n",
              "    <tr>\n",
              "      <th>6</th>\n",
              "      <td>-0.220</td>\n",
              "      <td>0.238</td>\n",
              "      <td>0.801</td>\n",
              "      <td>0.011</td>\n",
              "      <td>0.153</td>\n",
              "      <td>0.770</td>\n",
              "      <td>0.229</td>\n",
              "      <td>0.229</td>\n",
              "      <td>0.0</td>\n",
              "    </tr>\n",
              "    <tr>\n",
              "      <th>7</th>\n",
              "      <td>-0.257</td>\n",
              "      <td>0.349</td>\n",
              "      <td>0.207</td>\n",
              "      <td>-0.649</td>\n",
              "      <td>0.170</td>\n",
              "      <td>0.680</td>\n",
              "      <td>0.319</td>\n",
              "      <td>0.319</td>\n",
              "      <td>0.0</td>\n",
              "    </tr>\n",
              "    <tr>\n",
              "      <th>8</th>\n",
              "      <td>-0.170</td>\n",
              "      <td>0.936</td>\n",
              "      <td>0.067</td>\n",
              "      <td>-0.195</td>\n",
              "      <td>0.107</td>\n",
              "      <td>0.960</td>\n",
              "      <td>0.040</td>\n",
              "      <td>0.040</td>\n",
              "      <td>0.0</td>\n",
              "    </tr>\n",
              "    <tr>\n",
              "      <th>9</th>\n",
              "      <td>-0.849</td>\n",
              "      <td>0.230</td>\n",
              "      <td>0.131</td>\n",
              "      <td>-0.185</td>\n",
              "      <td>0.201</td>\n",
              "      <td>0.866</td>\n",
              "      <td>0.134</td>\n",
              "      <td>0.134</td>\n",
              "      <td>-0.0</td>\n",
              "    </tr>\n",
              "    <tr>\n",
              "      <th>10</th>\n",
              "      <td>-0.301</td>\n",
              "      <td>0.147</td>\n",
              "      <td>0.912</td>\n",
              "      <td>-0.222</td>\n",
              "      <td>0.043</td>\n",
              "      <td>0.995</td>\n",
              "      <td>0.004</td>\n",
              "      <td>0.004</td>\n",
              "      <td>-0.0</td>\n",
              "    </tr>\n",
              "    <tr>\n",
              "      <th>11</th>\n",
              "      <td>-0.298</td>\n",
              "      <td>0.278</td>\n",
              "      <td>0.127</td>\n",
              "      <td>-0.825</td>\n",
              "      <td>0.084</td>\n",
              "      <td>0.870</td>\n",
              "      <td>0.130</td>\n",
              "      <td>0.130</td>\n",
              "      <td>-0.0</td>\n",
              "    </tr>\n",
              "  </tbody>\n",
              "</table>\n",
              "</div>\n",
              "      <button class=\"colab-df-convert\" onclick=\"convertToInteractive('df-b6586cf8-73a9-4f88-8cab-7e9f04db1edf')\"\n",
              "              title=\"Convert this dataframe to an interactive table.\"\n",
              "              style=\"display:none;\">\n",
              "        \n",
              "  <svg xmlns=\"http://www.w3.org/2000/svg\" height=\"24px\"viewBox=\"0 0 24 24\"\n",
              "       width=\"24px\">\n",
              "    <path d=\"M0 0h24v24H0V0z\" fill=\"none\"/>\n",
              "    <path d=\"M18.56 5.44l.94 2.06.94-2.06 2.06-.94-2.06-.94-.94-2.06-.94 2.06-2.06.94zm-11 1L8.5 8.5l.94-2.06 2.06-.94-2.06-.94L8.5 2.5l-.94 2.06-2.06.94zm10 10l.94 2.06.94-2.06 2.06-.94-2.06-.94-.94-2.06-.94 2.06-2.06.94z\"/><path d=\"M17.41 7.96l-1.37-1.37c-.4-.4-.92-.59-1.43-.59-.52 0-1.04.2-1.43.59L10.3 9.45l-7.72 7.72c-.78.78-.78 2.05 0 2.83L4 21.41c.39.39.9.59 1.41.59.51 0 1.02-.2 1.41-.59l7.78-7.78 2.81-2.81c.8-.78.8-2.07 0-2.86zM5.41 20L4 18.59l7.72-7.72 1.47 1.35L5.41 20z\"/>\n",
              "  </svg>\n",
              "      </button>\n",
              "      \n",
              "  <style>\n",
              "    .colab-df-container {\n",
              "      display:flex;\n",
              "      flex-wrap:wrap;\n",
              "      gap: 12px;\n",
              "    }\n",
              "\n",
              "    .colab-df-convert {\n",
              "      background-color: #E8F0FE;\n",
              "      border: none;\n",
              "      border-radius: 50%;\n",
              "      cursor: pointer;\n",
              "      display: none;\n",
              "      fill: #1967D2;\n",
              "      height: 32px;\n",
              "      padding: 0 0 0 0;\n",
              "      width: 32px;\n",
              "    }\n",
              "\n",
              "    .colab-df-convert:hover {\n",
              "      background-color: #E2EBFA;\n",
              "      box-shadow: 0px 1px 2px rgba(60, 64, 67, 0.3), 0px 1px 3px 1px rgba(60, 64, 67, 0.15);\n",
              "      fill: #174EA6;\n",
              "    }\n",
              "\n",
              "    [theme=dark] .colab-df-convert {\n",
              "      background-color: #3B4455;\n",
              "      fill: #D2E3FC;\n",
              "    }\n",
              "\n",
              "    [theme=dark] .colab-df-convert:hover {\n",
              "      background-color: #434B5C;\n",
              "      box-shadow: 0px 1px 3px 1px rgba(0, 0, 0, 0.15);\n",
              "      filter: drop-shadow(0px 1px 2px rgba(0, 0, 0, 0.3));\n",
              "      fill: #FFFFFF;\n",
              "    }\n",
              "  </style>\n",
              "\n",
              "      <script>\n",
              "        const buttonEl =\n",
              "          document.querySelector('#df-b6586cf8-73a9-4f88-8cab-7e9f04db1edf button.colab-df-convert');\n",
              "        buttonEl.style.display =\n",
              "          google.colab.kernel.accessAllowed ? 'block' : 'none';\n",
              "\n",
              "        async function convertToInteractive(key) {\n",
              "          const element = document.querySelector('#df-b6586cf8-73a9-4f88-8cab-7e9f04db1edf');\n",
              "          const dataTable =\n",
              "            await google.colab.kernel.invokeFunction('convertToInteractive',\n",
              "                                                     [key], {});\n",
              "          if (!dataTable) return;\n",
              "\n",
              "          const docLinkHtml = 'Like what you see? Visit the ' +\n",
              "            '<a target=\"_blank\" href=https://colab.research.google.com/notebooks/data_table.ipynb>data table notebook</a>'\n",
              "            + ' to learn more about interactive tables.';\n",
              "          element.innerHTML = '';\n",
              "          dataTable['output_type'] = 'display_data';\n",
              "          await google.colab.output.renderOutput(dataTable, element);\n",
              "          const docLink = document.createElement('div');\n",
              "          docLink.innerHTML = docLinkHtml;\n",
              "          element.appendChild(docLink);\n",
              "        }\n",
              "      </script>\n",
              "    </div>\n",
              "  </div>\n",
              "  "
            ],
            "text/plain": [
              "    Factor 0  Factor 1  Factor 2  Factor 3  Factor 4  Communality  Uniqueness  \\\n",
              "0     -0.834     0.209     0.173    -0.109    -0.026        0.782       0.218   \n",
              "1     -0.355     0.374     0.233    -0.577    -0.032        0.654       0.345   \n",
              "2     -0.201     0.832     0.231    -0.131     0.068        0.808       0.192   \n",
              "3     -0.414     0.488     0.210    -0.141     0.610        0.845       0.154   \n",
              "4     -0.718    -0.010     0.299    -0.132     0.090        0.630       0.370   \n",
              "5     -0.495     0.355     0.215    -0.165     0.706        0.944       0.056   \n",
              "6     -0.220     0.238     0.801     0.011     0.153        0.770       0.229   \n",
              "7     -0.257     0.349     0.207    -0.649     0.170        0.680       0.319   \n",
              "8     -0.170     0.936     0.067    -0.195     0.107        0.960       0.040   \n",
              "9     -0.849     0.230     0.131    -0.185     0.201        0.866       0.134   \n",
              "10    -0.301     0.147     0.912    -0.222     0.043        0.995       0.004   \n",
              "11    -0.298     0.278     0.127    -0.825     0.084        0.870       0.130   \n",
              "\n",
              "    Total Var  Mean  \n",
              "0       0.218  -0.0  \n",
              "1       0.345  -0.0  \n",
              "2       0.192   0.0  \n",
              "3       0.154   0.0  \n",
              "4       0.370  -0.0  \n",
              "5       0.056  -0.0  \n",
              "6       0.229   0.0  \n",
              "7       0.319   0.0  \n",
              "8       0.040   0.0  \n",
              "9       0.134  -0.0  \n",
              "10      0.004  -0.0  \n",
              "11      0.130  -0.0  "
            ]
          },
          "execution_count": 412,
          "metadata": {},
          "output_type": "execute_result"
        }
      ],
      "source": [
        "display_FA_results(MLE)"
      ]
    },
    {
      "cell_type": "code",
      "execution_count": null,
      "metadata": {
        "id": "2onlnJSUcXaQ"
      },
      "outputs": [],
      "source": [
        "display_MLCSS_results(MLCSS.MLE)"
      ]
    },
    {
      "cell_type": "markdown",
      "metadata": {
        "id": "mTIbdCXAl3CL"
      },
      "source": [
        "#Financial Analysis\n"
      ]
    },
    {
      "cell_type": "code",
      "execution_count": null,
      "metadata": {
        "id": "T6eaxfv3l5g2"
      },
      "outputs": [],
      "source": [
        "stocks_df = pd.read_csv('stocks_normalized.csv')\n",
        "stocks = list(stocks_df.columns)[1:]\n",
        "X = stocks_df.to_numpy()[:, 1:].astype(float)\n",
        "mu_hat, Sigma_hat = get_moments(X)\n",
        "p, n = X.shape\n",
        "X_standardized = diagonal_right_multiply(X - mu_hat, 1/np.sqrt(np.diag(Sigma_hat))) + mu_hat\n",
        "mu_hat_standardized, Sigma_hat_standardized = get_moments(X_standardized)"
      ]
    },
    {
      "cell_type": "code",
      "execution_count": null,
      "metadata": {
        "colab": {
          "base_uri": "https://localhost:8080/"
        },
        "id": "iBaAFZr0y6QI",
        "outputId": "c9866d43-14cc-4f9d-de1d-a0dc3d4485ae"
      },
      "outputs": [
        {
          "data": {
            "text/plain": [
              "20"
            ]
          },
          "execution_count": 37,
          "metadata": {},
          "output_type": "execute_result"
        }
      ],
      "source": [
        "model_selection_with_LRT(X_standardized, 0.05, model='sf', max_iter=100, num_tries=1, sequential=False)"
      ]
    },
    {
      "cell_type": "code",
      "execution_count": null,
      "metadata": {
        "colab": {
          "base_uri": "https://localhost:8080/",
          "height": 389
        },
        "id": "AHC5wovZ0AiY",
        "outputId": "792a32d8-3c32-4d79-faf9-024db84335cc"
      },
      "outputs": [
        {
          "ename": "TypeError",
          "evalue": "ignored",
          "output_type": "error",
          "traceback": [
            "\u001b[0;31m---------------------------------------------------------------------------\u001b[0m",
            "\u001b[0;31mTypeError\u001b[0m                                 Traceback (most recent call last)",
            "\u001b[0;32m<ipython-input-30-438c7c225c76>\u001b[0m in \u001b[0;36m<module>\u001b[0;34m\u001b[0m\n\u001b[0;32m----> 1\u001b[0;31m \u001b[0mstats\u001b[0m\u001b[0;34m.\u001b[0m\u001b[0mchi2\u001b[0m\u001b[0;34m(\u001b[0m\u001b[0;34m)\u001b[0m\u001b[0;34m.\u001b[0m\u001b[0mppf\u001b[0m\u001b[0;34m(\u001b[0m\u001b[0;36m0.95\u001b[0m\u001b[0;34m,\u001b[0m \u001b[0;36m19\u001b[0m\u001b[0;34m)\u001b[0m\u001b[0;34m\u001b[0m\u001b[0;34m\u001b[0m\u001b[0m\n\u001b[0m",
            "\u001b[0;32m/usr/local/lib/python3.8/dist-packages/scipy/stats/_distn_infrastructure.py\u001b[0m in \u001b[0;36m__call__\u001b[0;34m(self, *args, **kwds)\u001b[0m\n\u001b[1;32m    863\u001b[0m \u001b[0;34m\u001b[0m\u001b[0m\n\u001b[1;32m    864\u001b[0m     \u001b[0;32mdef\u001b[0m \u001b[0m__call__\u001b[0m\u001b[0;34m(\u001b[0m\u001b[0mself\u001b[0m\u001b[0;34m,\u001b[0m \u001b[0;34m*\u001b[0m\u001b[0margs\u001b[0m\u001b[0;34m,\u001b[0m \u001b[0;34m**\u001b[0m\u001b[0mkwds\u001b[0m\u001b[0;34m)\u001b[0m\u001b[0;34m:\u001b[0m\u001b[0;34m\u001b[0m\u001b[0;34m\u001b[0m\u001b[0m\n\u001b[0;32m--> 865\u001b[0;31m         \u001b[0;32mreturn\u001b[0m \u001b[0mself\u001b[0m\u001b[0;34m.\u001b[0m\u001b[0mfreeze\u001b[0m\u001b[0;34m(\u001b[0m\u001b[0;34m*\u001b[0m\u001b[0margs\u001b[0m\u001b[0;34m,\u001b[0m \u001b[0;34m**\u001b[0m\u001b[0mkwds\u001b[0m\u001b[0;34m)\u001b[0m\u001b[0;34m\u001b[0m\u001b[0;34m\u001b[0m\u001b[0m\n\u001b[0m\u001b[1;32m    866\u001b[0m     \u001b[0m__call__\u001b[0m\u001b[0;34m.\u001b[0m\u001b[0m__doc__\u001b[0m \u001b[0;34m=\u001b[0m \u001b[0mfreeze\u001b[0m\u001b[0;34m.\u001b[0m\u001b[0m__doc__\u001b[0m\u001b[0;34m\u001b[0m\u001b[0;34m\u001b[0m\u001b[0m\n\u001b[1;32m    867\u001b[0m \u001b[0;34m\u001b[0m\u001b[0m\n",
            "\u001b[0;32m/usr/local/lib/python3.8/dist-packages/scipy/stats/_distn_infrastructure.py\u001b[0m in \u001b[0;36mfreeze\u001b[0;34m(self, *args, **kwds)\u001b[0m\n\u001b[1;32m    860\u001b[0m \u001b[0;34m\u001b[0m\u001b[0m\n\u001b[1;32m    861\u001b[0m         \"\"\"\n\u001b[0;32m--> 862\u001b[0;31m         \u001b[0;32mreturn\u001b[0m \u001b[0mrv_frozen\u001b[0m\u001b[0;34m(\u001b[0m\u001b[0mself\u001b[0m\u001b[0;34m,\u001b[0m \u001b[0;34m*\u001b[0m\u001b[0margs\u001b[0m\u001b[0;34m,\u001b[0m \u001b[0;34m**\u001b[0m\u001b[0mkwds\u001b[0m\u001b[0;34m)\u001b[0m\u001b[0;34m\u001b[0m\u001b[0;34m\u001b[0m\u001b[0m\n\u001b[0m\u001b[1;32m    863\u001b[0m \u001b[0;34m\u001b[0m\u001b[0m\n\u001b[1;32m    864\u001b[0m     \u001b[0;32mdef\u001b[0m \u001b[0m__call__\u001b[0m\u001b[0;34m(\u001b[0m\u001b[0mself\u001b[0m\u001b[0;34m,\u001b[0m \u001b[0;34m*\u001b[0m\u001b[0margs\u001b[0m\u001b[0;34m,\u001b[0m \u001b[0;34m**\u001b[0m\u001b[0mkwds\u001b[0m\u001b[0;34m)\u001b[0m\u001b[0;34m:\u001b[0m\u001b[0;34m\u001b[0m\u001b[0;34m\u001b[0m\u001b[0m\n",
            "\u001b[0;32m/usr/local/lib/python3.8/dist-packages/scipy/stats/_distn_infrastructure.py\u001b[0m in \u001b[0;36m__init__\u001b[0;34m(self, dist, *args, **kwds)\u001b[0m\n\u001b[1;32m    439\u001b[0m         \u001b[0mself\u001b[0m\u001b[0;34m.\u001b[0m\u001b[0mdist\u001b[0m \u001b[0;34m=\u001b[0m \u001b[0mdist\u001b[0m\u001b[0;34m.\u001b[0m\u001b[0m__class__\u001b[0m\u001b[0;34m(\u001b[0m\u001b[0;34m**\u001b[0m\u001b[0mdist\u001b[0m\u001b[0;34m.\u001b[0m\u001b[0m_updated_ctor_param\u001b[0m\u001b[0;34m(\u001b[0m\u001b[0;34m)\u001b[0m\u001b[0;34m)\u001b[0m\u001b[0;34m\u001b[0m\u001b[0;34m\u001b[0m\u001b[0m\n\u001b[1;32m    440\u001b[0m \u001b[0;34m\u001b[0m\u001b[0m\n\u001b[0;32m--> 441\u001b[0;31m         \u001b[0mshapes\u001b[0m\u001b[0;34m,\u001b[0m \u001b[0m_\u001b[0m\u001b[0;34m,\u001b[0m \u001b[0m_\u001b[0m \u001b[0;34m=\u001b[0m \u001b[0mself\u001b[0m\u001b[0;34m.\u001b[0m\u001b[0mdist\u001b[0m\u001b[0;34m.\u001b[0m\u001b[0m_parse_args\u001b[0m\u001b[0;34m(\u001b[0m\u001b[0;34m*\u001b[0m\u001b[0margs\u001b[0m\u001b[0;34m,\u001b[0m \u001b[0;34m**\u001b[0m\u001b[0mkwds\u001b[0m\u001b[0;34m)\u001b[0m\u001b[0;34m\u001b[0m\u001b[0;34m\u001b[0m\u001b[0m\n\u001b[0m\u001b[1;32m    442\u001b[0m         \u001b[0mself\u001b[0m\u001b[0;34m.\u001b[0m\u001b[0ma\u001b[0m\u001b[0;34m,\u001b[0m \u001b[0mself\u001b[0m\u001b[0;34m.\u001b[0m\u001b[0mb\u001b[0m \u001b[0;34m=\u001b[0m \u001b[0mself\u001b[0m\u001b[0;34m.\u001b[0m\u001b[0mdist\u001b[0m\u001b[0;34m.\u001b[0m\u001b[0m_get_support\u001b[0m\u001b[0;34m(\u001b[0m\u001b[0;34m*\u001b[0m\u001b[0mshapes\u001b[0m\u001b[0;34m)\u001b[0m\u001b[0;34m\u001b[0m\u001b[0;34m\u001b[0m\u001b[0m\n\u001b[1;32m    443\u001b[0m \u001b[0;34m\u001b[0m\u001b[0m\n",
            "\u001b[0;31mTypeError\u001b[0m: _parse_args() missing 1 required positional argument: 'df'"
          ]
        }
      ],
      "source": [
        "stats.chi2().ppf(0.95, 19)"
      ]
    },
    {
      "cell_type": "code",
      "execution_count": null,
      "metadata": {
        "colab": {
          "base_uri": "https://localhost:8080/"
        },
        "id": "G5QEhfUOl6av",
        "outputId": "efe5c8e6-8476-4159-8590-690d13665167"
      },
      "outputs": [
        {
          "name": "stdout",
          "output_type": "stream",
          "text": [
            "True\n",
            "{16, 1, 11, 6}\n"
          ]
        }
      ],
      "source": [
        "CSS = ColumnSubsetSelection()\n",
        "CSS.select_subset_from_data(X_standardized, k=4, method='swap')\n",
        "print(CSS.converged)\n",
        "print(CSS.S)"
      ]
    },
    {
      "cell_type": "code",
      "execution_count": null,
      "metadata": {
        "colab": {
          "base_uri": "https://localhost:8080/"
        },
        "id": "zR5M4XkXmaQk",
        "outputId": "8879737b-6b67-45a0-d523-84b6e23a7128"
      },
      "outputs": [
        {
          "name": "stdout",
          "output_type": "stream",
          "text": [
            "True\n",
            "{1, 14, 6, 15}\n"
          ]
        },
        {
          "data": {
            "text/plain": [
              "array(['MSFT', 'BMY', 'JPM', 'LMT'], dtype='<U4')"
            ]
          },
          "execution_count": 338,
          "metadata": {},
          "output_type": "execute_result"
        }
      ],
      "source": [
        "MLCSS = MLColumnSubsetSelection()\n",
        "\n",
        "MLCSS.compute_MLE_from_data(X_standardized, k=4, method='greedy', model='sf')\n",
        "print(CSS.converged)\n",
        "print(MLCSS.S)\n",
        "np.array(stocks)[np.array(list(MLCSS.S))]"
      ]
    },
    {
      "cell_type": "code",
      "execution_count": null,
      "metadata": {
        "id": "bvXENKkX0Lbl"
      },
      "outputs": [],
      "source": [
        "MLCSS_likelihoods = MLCSS_scree_plot_from_data(X_standardized, k_max=10, method='swap', model='sf', plot=False)"
      ]
    },
    {
      "cell_type": "code",
      "execution_count": null,
      "metadata": {
        "colab": {
          "base_uri": "https://localhost:8080/"
        },
        "id": "BVpV5yPrmmpB",
        "outputId": "1a7dc8aa-302c-43a6-8892-f0c691bee62c"
      },
      "outputs": [
        {
          "data": {
            "text/plain": [
              "1"
            ]
          },
          "execution_count": 340,
          "metadata": {},
          "output_type": "execute_result"
        }
      ],
      "source": [
        "sieves(X_standardized, 0.05, method='swap', model='sf', num_tries=10, max_iter=1000 )"
      ]
    },
    {
      "cell_type": "code",
      "execution_count": null,
      "metadata": {
        "colab": {
          "base_uri": "https://localhost:8080/",
          "height": 295
        },
        "id": "6lHNW4SRnYWj",
        "outputId": "ceb50118-1816-4ed0-ba05-4f83ea777c71"
      },
      "outputs": [
        {
          "data": {
            "image/png": "[encoded data removed]",
            "text/plain": [
              "<Figure size 432x288 with 1 Axes>"
            ]
          },
          "metadata": {},
          "output_type": "display_data"
        }
      ],
      "source": [
        "FA_likelihoods = FA_scree_plot_from_data(X_standardized, k_max=10)"
      ]
    },
    {
      "cell_type": "code",
      "execution_count": null,
      "metadata": {
        "colab": {
          "base_uri": "https://localhost:8080/",
          "height": 286
        },
        "id": "hrYq6alBrJ9_",
        "outputId": "a12209af-f18d-4822-ca97-76a1f7bd12d1"
      },
      "outputs": [
        {
          "data": {
            "text/plain": [
              "<matplotlib.legend.Legend at 0x7f969304bb90>"
            ]
          },
          "execution_count": 342,
          "metadata": {},
          "output_type": "execute_result"
        },
        {
          "data": {
            "image/png": "[encoded data removed]",
            "text/plain": [
              "<Figure size 432x288 with 1 Axes>"
            ]
          },
          "metadata": {},
          "output_type": "display_data"
        }
      ],
      "source": [
        "plt.plot(range(1, 11), MLCSS_likelihoods, label='subset factor analysis')\n",
        "plt.plot(range(1, 11), FA_likelihoods, label='factor analysis')\n",
        "plt.legend()"
      ]
    }
  ],
  "metadata": {
    "colab": {
      "provenance": [],
      "collapsed_sections": [
        "EtqOXcacgs-v",
        "uy2PAYUjTrP5",
        "_5XBe3-uT4GQ",
        "lQMHwORjDc9L",
        "MRSZkI_I47LI",
        "NQUdhVBNCZQt",
        "mTIbdCXAl3CL"
      ]
    },
    "kernelspec": {
      "display_name": "Python 3",
      "name": "python3"
    },
    "language_info": {
      "name": "python"
    },
    "widgets": {
      "application/vnd.jupyter.widget-state+json": {
        "dea58a1ab8b344fca8004df019abc65c": {
          "model_module": "@jupyter-widgets/controls",
          "model_name": "HBoxModel",
          "model_module_version": "1.5.0",
          "state": {
            "_dom_classes": [],
            "_model_module": "@jupyter-widgets/controls",
            "_model_module_version": "1.5.0",
            "_model_name": "HBoxModel",
            "_view_count": null,
            "_view_module": "@jupyter-widgets/controls",
            "_view_module_version": "1.5.0",
            "_view_name": "HBoxView",
            "box_style": "",
            "children": [
              "IPY_MODEL_1f04ddc6e3d74f8a9d3ce6e940b9b503",
              "IPY_MODEL_ca80f7971c73454bb7623e9f5191bbd8",
              "IPY_MODEL_0e46b64c7a6740f883cc753389878b24"
            ],
            "layout": "IPY_MODEL_d392f05849e64cd5acb2b5c3c4f6e837"
          }
        },
        "1f04ddc6e3d74f8a9d3ce6e940b9b503": {
          "model_module": "@jupyter-widgets/controls",
          "model_name": "HTMLModel",
          "model_module_version": "1.5.0",
          "state": {
            "_dom_classes": [],
            "_model_module": "@jupyter-widgets/controls",
            "_model_module_version": "1.5.0",
            "_model_name": "HTMLModel",
            "_view_count": null,
            "_view_module": "@jupyter-widgets/controls",
            "_view_module_version": "1.5.0",
            "_view_name": "HTMLView",
            "description": "",
            "description_tooltip": null,
            "layout": "IPY_MODEL_574ae70a29f9447ebc6c7574f4b4e59d",
            "placeholder": "​",
            "style": "IPY_MODEL_0607861066ae437d806a028d58dbb760",
            "value": "100%"
          }
        },
        "ca80f7971c73454bb7623e9f5191bbd8": {
          "model_module": "@jupyter-widgets/controls",
          "model_name": "FloatProgressModel",
          "model_module_version": "1.5.0",
          "state": {
            "_dom_classes": [],
            "_model_module": "@jupyter-widgets/controls",
            "_model_module_version": "1.5.0",
            "_model_name": "FloatProgressModel",
            "_view_count": null,
            "_view_module": "@jupyter-widgets/controls",
            "_view_module_version": "1.5.0",
            "_view_name": "ProgressView",
            "bar_style": "success",
            "description": "",
            "description_tooltip": null,
            "layout": "IPY_MODEL_6fe293a0b70a40d8bb8346950702f024",
            "max": 1000,
            "min": 0,
            "orientation": "horizontal",
            "style": "IPY_MODEL_29e5c75d9beb4cae996cfbb2f09fccf9",
            "value": 1000
          }
        },
        "0e46b64c7a6740f883cc753389878b24": {
          "model_module": "@jupyter-widgets/controls",
          "model_name": "HTMLModel",
          "model_module_version": "1.5.0",
          "state": {
            "_dom_classes": [],
            "_model_module": "@jupyter-widgets/controls",
            "_model_module_version": "1.5.0",
            "_model_name": "HTMLModel",
            "_view_count": null,
            "_view_module": "@jupyter-widgets/controls",
            "_view_module_version": "1.5.0",
            "_view_name": "HTMLView",
            "description": "",
            "description_tooltip": null,
            "layout": "IPY_MODEL_762143c3f8964bb3b119dea2420fecc0",
            "placeholder": "​",
            "style": "IPY_MODEL_fa3842370d9041e7b2d6e2f88f706910",
            "value": " 1000/1000 [00:04&lt;00:00, 240.79it/s]"
          }
        },
        "d392f05849e64cd5acb2b5c3c4f6e837": {
          "model_module": "@jupyter-widgets/base",
          "model_name": "LayoutModel",
          "model_module_version": "1.2.0",
          "state": {
            "_model_module": "@jupyter-widgets/base",
            "_model_module_version": "1.2.0",
            "_model_name": "LayoutModel",
            "_view_count": null,
            "_view_module": "@jupyter-widgets/base",
            "_view_module_version": "1.2.0",
            "_view_name": "LayoutView",
            "align_content": null,
            "align_items": null,
            "align_self": null,
            "border": null,
            "bottom": null,
            "display": null,
            "flex": null,
            "flex_flow": null,
            "grid_area": null,
            "grid_auto_columns": null,
            "grid_auto_flow": null,
            "grid_auto_rows": null,
            "grid_column": null,
            "grid_gap": null,
            "grid_row": null,
            "grid_template_areas": null,
            "grid_template_columns": null,
            "grid_template_rows": null,
            "height": null,
            "justify_content": null,
            "justify_items": null,
            "left": null,
            "margin": null,
            "max_height": null,
            "max_width": null,
            "min_height": null,
            "min_width": null,
            "object_fit": null,
            "object_position": null,
            "order": null,
            "overflow": null,
            "overflow_x": null,
            "overflow_y": null,
            "padding": null,
            "right": null,
            "top": null,
            "visibility": null,
            "width": null
          }
        },
        "574ae70a29f9447ebc6c7574f4b4e59d": {
          "model_module": "@jupyter-widgets/base",
          "model_name": "LayoutModel",
          "model_module_version": "1.2.0",
          "state": {
            "_model_module": "@jupyter-widgets/base",
            "_model_module_version": "1.2.0",
            "_model_name": "LayoutModel",
            "_view_count": null,
            "_view_module": "@jupyter-widgets/base",
            "_view_module_version": "1.2.0",
            "_view_name": "LayoutView",
            "align_content": null,
            "align_items": null,
            "align_self": null,
            "border": null,
            "bottom": null,
            "display": null,
            "flex": null,
            "flex_flow": null,
            "grid_area": null,
            "grid_auto_columns": null,
            "grid_auto_flow": null,
            "grid_auto_rows": null,
            "grid_column": null,
            "grid_gap": null,
            "grid_row": null,
            "grid_template_areas": null,
            "grid_template_columns": null,
            "grid_template_rows": null,
            "height": null,
            "justify_content": null,
            "justify_items": null,
            "left": null,
            "margin": null,
            "max_height": null,
            "max_width": null,
            "min_height": null,
            "min_width": null,
            "object_fit": null,
            "object_position": null,
            "order": null,
            "overflow": null,
            "overflow_x": null,
            "overflow_y": null,
            "padding": null,
            "right": null,
            "top": null,
            "visibility": null,
            "width": null
          }
        },
        "0607861066ae437d806a028d58dbb760": {
          "model_module": "@jupyter-widgets/controls",
          "model_name": "DescriptionStyleModel",
          "model_module_version": "1.5.0",
          "state": {
            "_model_module": "@jupyter-widgets/controls",
            "_model_module_version": "1.5.0",
            "_model_name": "DescriptionStyleModel",
            "_view_count": null,
            "_view_module": "@jupyter-widgets/base",
            "_view_module_version": "1.2.0",
            "_view_name": "StyleView",
            "description_width": ""
          }
        },
        "6fe293a0b70a40d8bb8346950702f024": {
          "model_module": "@jupyter-widgets/base",
          "model_name": "LayoutModel",
          "model_module_version": "1.2.0",
          "state": {
            "_model_module": "@jupyter-widgets/base",
            "_model_module_version": "1.2.0",
            "_model_name": "LayoutModel",
            "_view_count": null,
            "_view_module": "@jupyter-widgets/base",
            "_view_module_version": "1.2.0",
            "_view_name": "LayoutView",
            "align_content": null,
            "align_items": null,
            "align_self": null,
            "border": null,
            "bottom": null,
            "display": null,
            "flex": null,
            "flex_flow": null,
            "grid_area": null,
            "grid_auto_columns": null,
            "grid_auto_flow": null,
            "grid_auto_rows": null,
            "grid_column": null,
            "grid_gap": null,
            "grid_row": null,
            "grid_template_areas": null,
            "grid_template_columns": null,
            "grid_template_rows": null,
            "height": null,
            "justify_content": null,
            "justify_items": null,
            "left": null,
            "margin": null,
            "max_height": null,
            "max_width": null,
            "min_height": null,
            "min_width": null,
            "object_fit": null,
            "object_position": null,
            "order": null,
            "overflow": null,
            "overflow_x": null,
            "overflow_y": null,
            "padding": null,
            "right": null,
            "top": null,
            "visibility": null,
            "width": null
          }
        },
        "29e5c75d9beb4cae996cfbb2f09fccf9": {
          "model_module": "@jupyter-widgets/controls",
          "model_name": "ProgressStyleModel",
          "model_module_version": "1.5.0",
          "state": {
            "_model_module": "@jupyter-widgets/controls",
            "_model_module_version": "1.5.0",
            "_model_name": "ProgressStyleModel",
            "_view_count": null,
            "_view_module": "@jupyter-widgets/base",
            "_view_module_version": "1.2.0",
            "_view_name": "StyleView",
            "bar_color": null,
            "description_width": ""
          }
        },
        "762143c3f8964bb3b119dea2420fecc0": {
          "model_module": "@jupyter-widgets/base",
          "model_name": "LayoutModel",
          "model_module_version": "1.2.0",
          "state": {
            "_model_module": "@jupyter-widgets/base",
            "_model_module_version": "1.2.0",
            "_model_name": "LayoutModel",
            "_view_count": null,
            "_view_module": "@jupyter-widgets/base",
            "_view_module_version": "1.2.0",
            "_view_name": "LayoutView",
            "align_content": null,
            "align_items": null,
            "align_self": null,
            "border": null,
            "bottom": null,
            "display": null,
            "flex": null,
            "flex_flow": null,
            "grid_area": null,
            "grid_auto_columns": null,
            "grid_auto_flow": null,
            "grid_auto_rows": null,
            "grid_column": null,
            "grid_gap": null,
            "grid_row": null,
            "grid_template_areas": null,
            "grid_template_columns": null,
            "grid_template_rows": null,
            "height": null,
            "justify_content": null,
            "justify_items": null,
            "left": null,
            "margin": null,
            "max_height": null,
            "max_width": null,
            "min_height": null,
            "min_width": null,
            "object_fit": null,
            "object_position": null,
            "order": null,
            "overflow": null,
            "overflow_x": null,
            "overflow_y": null,
            "padding": null,
            "right": null,
            "top": null,
            "visibility": null,
            "width": null
          }
        },
        "fa3842370d9041e7b2d6e2f88f706910": {
          "model_module": "@jupyter-widgets/controls",
          "model_name": "DescriptionStyleModel",
          "model_module_version": "1.5.0",
          "state": {
            "_model_module": "@jupyter-widgets/controls",
            "_model_module_version": "1.5.0",
            "_model_name": "DescriptionStyleModel",
            "_view_count": null,
            "_view_module": "@jupyter-widgets/base",
            "_view_module_version": "1.2.0",
            "_view_name": "StyleView",
            "description_width": ""
          }
        },
        "d1fbc2f2442b42f7a073adc0b5ea1d8f": {
          "model_module": "@jupyter-widgets/controls",
          "model_name": "HBoxModel",
          "model_module_version": "1.5.0",
          "state": {
            "_dom_classes": [],
            "_model_module": "@jupyter-widgets/controls",
            "_model_module_version": "1.5.0",
            "_model_name": "HBoxModel",
            "_view_count": null,
            "_view_module": "@jupyter-widgets/controls",
            "_view_module_version": "1.5.0",
            "_view_name": "HBoxView",
            "box_style": "",
            "children": [
              "IPY_MODEL_ed3422e944e2431a8042b86fdc762fb3",
              "IPY_MODEL_066bf363430441d2b59089966451758b",
              "IPY_MODEL_4cb9905d94a0474b98af54453432ea19"
            ],
            "layout": "IPY_MODEL_9f1f745c117641b9ae36e8f939d9f60c"
          }
        },
        "ed3422e944e2431a8042b86fdc762fb3": {
          "model_module": "@jupyter-widgets/controls",
          "model_name": "HTMLModel",
          "model_module_version": "1.5.0",
          "state": {
            "_dom_classes": [],
            "_model_module": "@jupyter-widgets/controls",
            "_model_module_version": "1.5.0",
            "_model_name": "HTMLModel",
            "_view_count": null,
            "_view_module": "@jupyter-widgets/controls",
            "_view_module_version": "1.5.0",
            "_view_name": "HTMLView",
            "description": "",
            "description_tooltip": null,
            "layout": "IPY_MODEL_48c10ccf473b42d8a1747c4ba400f874",
            "placeholder": "​",
            "style": "IPY_MODEL_b2f006dfa02745d0821e3243a887793f",
            "value": "100%"
          }
        },
        "066bf363430441d2b59089966451758b": {
          "model_module": "@jupyter-widgets/controls",
          "model_name": "FloatProgressModel",
          "model_module_version": "1.5.0",
          "state": {
            "_dom_classes": [],
            "_model_module": "@jupyter-widgets/controls",
            "_model_module_version": "1.5.0",
            "_model_name": "FloatProgressModel",
            "_view_count": null,
            "_view_module": "@jupyter-widgets/controls",
            "_view_module_version": "1.5.0",
            "_view_name": "ProgressView",
            "bar_style": "success",
            "description": "",
            "description_tooltip": null,
            "layout": "IPY_MODEL_42e0f51d146d4cb281beef58330acc22",
            "max": 100,
            "min": 0,
            "orientation": "horizontal",
            "style": "IPY_MODEL_526e61eb346e4d93a2f16f168f48d152",
            "value": 100
          }
        },
        "4cb9905d94a0474b98af54453432ea19": {
          "model_module": "@jupyter-widgets/controls",
          "model_name": "HTMLModel",
          "model_module_version": "1.5.0",
          "state": {
            "_dom_classes": [],
            "_model_module": "@jupyter-widgets/controls",
            "_model_module_version": "1.5.0",
            "_model_name": "HTMLModel",
            "_view_count": null,
            "_view_module": "@jupyter-widgets/controls",
            "_view_module_version": "1.5.0",
            "_view_name": "HTMLView",
            "description": "",
            "description_tooltip": null,
            "layout": "IPY_MODEL_e3fc16ef6661464093780be9a12dd122",
            "placeholder": "​",
            "style": "IPY_MODEL_ffc39074ff07402a8aafd1333ba057c9",
            "value": " 100/100 [00:02&lt;00:00, 46.08it/s]"
          }
        },
        "9f1f745c117641b9ae36e8f939d9f60c": {
          "model_module": "@jupyter-widgets/base",
          "model_name": "LayoutModel",
          "model_module_version": "1.2.0",
          "state": {
            "_model_module": "@jupyter-widgets/base",
            "_model_module_version": "1.2.0",
            "_model_name": "LayoutModel",
            "_view_count": null,
            "_view_module": "@jupyter-widgets/base",
            "_view_module_version": "1.2.0",
            "_view_name": "LayoutView",
            "align_content": null,
            "align_items": null,
            "align_self": null,
            "border": null,
            "bottom": null,
            "display": null,
            "flex": null,
            "flex_flow": null,
            "grid_area": null,
            "grid_auto_columns": null,
            "grid_auto_flow": null,
            "grid_auto_rows": null,
            "grid_column": null,
            "grid_gap": null,
            "grid_row": null,
            "grid_template_areas": null,
            "grid_template_columns": null,
            "grid_template_rows": null,
            "height": null,
            "justify_content": null,
            "justify_items": null,
            "left": null,
            "margin": null,
            "max_height": null,
            "max_width": null,
            "min_height": null,
            "min_width": null,
            "object_fit": null,
            "object_position": null,
            "order": null,
            "overflow": null,
            "overflow_x": null,
            "overflow_y": null,
            "padding": null,
            "right": null,
            "top": null,
            "visibility": null,
            "width": null
          }
        },
        "48c10ccf473b42d8a1747c4ba400f874": {
          "model_module": "@jupyter-widgets/base",
          "model_name": "LayoutModel",
          "model_module_version": "1.2.0",
          "state": {
            "_model_module": "@jupyter-widgets/base",
            "_model_module_version": "1.2.0",
            "_model_name": "LayoutModel",
            "_view_count": null,
            "_view_module": "@jupyter-widgets/base",
            "_view_module_version": "1.2.0",
            "_view_name": "LayoutView",
            "align_content": null,
            "align_items": null,
            "align_self": null,
            "border": null,
            "bottom": null,
            "display": null,
            "flex": null,
            "flex_flow": null,
            "grid_area": null,
            "grid_auto_columns": null,
            "grid_auto_flow": null,
            "grid_auto_rows": null,
            "grid_column": null,
            "grid_gap": null,
            "grid_row": null,
            "grid_template_areas": null,
            "grid_template_columns": null,
            "grid_template_rows": null,
            "height": null,
            "justify_content": null,
            "justify_items": null,
            "left": null,
            "margin": null,
            "max_height": null,
            "max_width": null,
            "min_height": null,
            "min_width": null,
            "object_fit": null,
            "object_position": null,
            "order": null,
            "overflow": null,
            "overflow_x": null,
            "overflow_y": null,
            "padding": null,
            "right": null,
            "top": null,
            "visibility": null,
            "width": null
          }
        },
        "b2f006dfa02745d0821e3243a887793f": {
          "model_module": "@jupyter-widgets/controls",
          "model_name": "DescriptionStyleModel",
          "model_module_version": "1.5.0",
          "state": {
            "_model_module": "@jupyter-widgets/controls",
            "_model_module_version": "1.5.0",
            "_model_name": "DescriptionStyleModel",
            "_view_count": null,
            "_view_module": "@jupyter-widgets/base",
            "_view_module_version": "1.2.0",
            "_view_name": "StyleView",
            "description_width": ""
          }
        },
        "42e0f51d146d4cb281beef58330acc22": {
          "model_module": "@jupyter-widgets/base",
          "model_name": "LayoutModel",
          "model_module_version": "1.2.0",
          "state": {
            "_model_module": "@jupyter-widgets/base",
            "_model_module_version": "1.2.0",
            "_model_name": "LayoutModel",
            "_view_count": null,
            "_view_module": "@jupyter-widgets/base",
            "_view_module_version": "1.2.0",
            "_view_name": "LayoutView",
            "align_content": null,
            "align_items": null,
            "align_self": null,
            "border": null,
            "bottom": null,
            "display": null,
            "flex": null,
            "flex_flow": null,
            "grid_area": null,
            "grid_auto_columns": null,
            "grid_auto_flow": null,
            "grid_auto_rows": null,
            "grid_column": null,
            "grid_gap": null,
            "grid_row": null,
            "grid_template_areas": null,
            "grid_template_columns": null,
            "grid_template_rows": null,
            "height": null,
            "justify_content": null,
            "justify_items": null,
            "left": null,
            "margin": null,
            "max_height": null,
            "max_width": null,
            "min_height": null,
            "min_width": null,
            "object_fit": null,
            "object_position": null,
            "order": null,
            "overflow": null,
            "overflow_x": null,
            "overflow_y": null,
            "padding": null,
            "right": null,
            "top": null,
            "visibility": null,
            "width": null
          }
        },
        "526e61eb346e4d93a2f16f168f48d152": {
          "model_module": "@jupyter-widgets/controls",
          "model_name": "ProgressStyleModel",
          "model_module_version": "1.5.0",
          "state": {
            "_model_module": "@jupyter-widgets/controls",
            "_model_module_version": "1.5.0",
            "_model_name": "ProgressStyleModel",
            "_view_count": null,
            "_view_module": "@jupyter-widgets/base",
            "_view_module_version": "1.2.0",
            "_view_name": "StyleView",
            "bar_color": null,
            "description_width": ""
          }
        },
        "e3fc16ef6661464093780be9a12dd122": {
          "model_module": "@jupyter-widgets/base",
          "model_name": "LayoutModel",
          "model_module_version": "1.2.0",
          "state": {
            "_model_module": "@jupyter-widgets/base",
            "_model_module_version": "1.2.0",
            "_model_name": "LayoutModel",
            "_view_count": null,
            "_view_module": "@jupyter-widgets/base",
            "_view_module_version": "1.2.0",
            "_view_name": "LayoutView",
            "align_content": null,
            "align_items": null,
            "align_self": null,
            "border": null,
            "bottom": null,
            "display": null,
            "flex": null,
            "flex_flow": null,
            "grid_area": null,
            "grid_auto_columns": null,
            "grid_auto_flow": null,
            "grid_auto_rows": null,
            "grid_column": null,
            "grid_gap": null,
            "grid_row": null,
            "grid_template_areas": null,
            "grid_template_columns": null,
            "grid_template_rows": null,
            "height": null,
            "justify_content": null,
            "justify_items": null,
            "left": null,
            "margin": null,
            "max_height": null,
            "max_width": null,
            "min_height": null,
            "min_width": null,
            "object_fit": null,
            "object_position": null,
            "order": null,
            "overflow": null,
            "overflow_x": null,
            "overflow_y": null,
            "padding": null,
            "right": null,
            "top": null,
            "visibility": null,
            "width": null
          }
        },
        "ffc39074ff07402a8aafd1333ba057c9": {
          "model_module": "@jupyter-widgets/controls",
          "model_name": "DescriptionStyleModel",
          "model_module_version": "1.5.0",
          "state": {
            "_model_module": "@jupyter-widgets/controls",
            "_model_module_version": "1.5.0",
            "_model_name": "DescriptionStyleModel",
            "_view_count": null,
            "_view_module": "@jupyter-widgets/base",
            "_view_module_version": "1.2.0",
            "_view_name": "StyleView",
            "description_width": ""
          }
        },
        "5023ebbeb29643a28134885462a6414c": {
          "model_module": "@jupyter-widgets/controls",
          "model_name": "HBoxModel",
          "model_module_version": "1.5.0",
          "state": {
            "_dom_classes": [],
            "_model_module": "@jupyter-widgets/controls",
            "_model_module_version": "1.5.0",
            "_model_name": "HBoxModel",
            "_view_count": null,
            "_view_module": "@jupyter-widgets/controls",
            "_view_module_version": "1.5.0",
            "_view_name": "HBoxView",
            "box_style": "",
            "children": [
              "IPY_MODEL_90cb2d2834bf49cfbf46faf63ff3b81f",
              "IPY_MODEL_a60eadc1d03345f39f984ac214af1973",
              "IPY_MODEL_47b4edf57a3245d4ada45672ab4147d4"
            ],
            "layout": "IPY_MODEL_ddebc8f5c1f04835b9305935ecfee975"
          }
        },
        "90cb2d2834bf49cfbf46faf63ff3b81f": {
          "model_module": "@jupyter-widgets/controls",
          "model_name": "HTMLModel",
          "model_module_version": "1.5.0",
          "state": {
            "_dom_classes": [],
            "_model_module": "@jupyter-widgets/controls",
            "_model_module_version": "1.5.0",
            "_model_name": "HTMLModel",
            "_view_count": null,
            "_view_module": "@jupyter-widgets/controls",
            "_view_module_version": "1.5.0",
            "_view_name": "HTMLView",
            "description": "",
            "description_tooltip": null,
            "layout": "IPY_MODEL_5ff94c9ae51640599dbca4b06e98b038",
            "placeholder": "​",
            "style": "IPY_MODEL_a21ce70f3d94475d854a4fc23ab391e6",
            "value": ""
          }
        },
        "a60eadc1d03345f39f984ac214af1973": {
          "model_module": "@jupyter-widgets/controls",
          "model_name": "FloatProgressModel",
          "model_module_version": "1.5.0",
          "state": {
            "_dom_classes": [],
            "_model_module": "@jupyter-widgets/controls",
            "_model_module_version": "1.5.0",
            "_model_name": "FloatProgressModel",
            "_view_count": null,
            "_view_module": "@jupyter-widgets/controls",
            "_view_module_version": "1.5.0",
            "_view_name": "ProgressView",
            "bar_style": "success",
            "description": "",
            "description_tooltip": null,
            "layout": "IPY_MODEL_2fb61c11fc0d4a1dafba9b310e757a12",
            "max": 1,
            "min": 0,
            "orientation": "horizontal",
            "style": "IPY_MODEL_28c6be8e73ca40e0b5745b46a2be700f",
            "value": 1
          }
        },
        "47b4edf57a3245d4ada45672ab4147d4": {
          "model_module": "@jupyter-widgets/controls",
          "model_name": "HTMLModel",
          "model_module_version": "1.5.0",
          "state": {
            "_dom_classes": [],
            "_model_module": "@jupyter-widgets/controls",
            "_model_module_version": "1.5.0",
            "_model_name": "HTMLModel",
            "_view_count": null,
            "_view_module": "@jupyter-widgets/controls",
            "_view_module_version": "1.5.0",
            "_view_name": "HTMLView",
            "description": "",
            "description_tooltip": null,
            "layout": "IPY_MODEL_caf91bdd1ae7408ab7df857ff1617544",
            "placeholder": "​",
            "style": "IPY_MODEL_b4e09fc9394d4d6599be9832e6509b2b",
            "value": " 1000/? [18:49&lt;00:00,  1.10it/s]"
          }
        },
        "ddebc8f5c1f04835b9305935ecfee975": {
          "model_module": "@jupyter-widgets/base",
          "model_name": "LayoutModel",
          "model_module_version": "1.2.0",
          "state": {
            "_model_module": "@jupyter-widgets/base",
            "_model_module_version": "1.2.0",
            "_model_name": "LayoutModel",
            "_view_count": null,
            "_view_module": "@jupyter-widgets/base",
            "_view_module_version": "1.2.0",
            "_view_name": "LayoutView",
            "align_content": null,
            "align_items": null,
            "align_self": null,
            "border": null,
            "bottom": null,
            "display": null,
            "flex": null,
            "flex_flow": null,
            "grid_area": null,
            "grid_auto_columns": null,
            "grid_auto_flow": null,
            "grid_auto_rows": null,
            "grid_column": null,
            "grid_gap": null,
            "grid_row": null,
            "grid_template_areas": null,
            "grid_template_columns": null,
            "grid_template_rows": null,
            "height": null,
            "justify_content": null,
            "justify_items": null,
            "left": null,
            "margin": null,
            "max_height": null,
            "max_width": null,
            "min_height": null,
            "min_width": null,
            "object_fit": null,
            "object_position": null,
            "order": null,
            "overflow": null,
            "overflow_x": null,
            "overflow_y": null,
            "padding": null,
            "right": null,
            "top": null,
            "visibility": null,
            "width": null
          }
        },
        "5ff94c9ae51640599dbca4b06e98b038": {
          "model_module": "@jupyter-widgets/base",
          "model_name": "LayoutModel",
          "model_module_version": "1.2.0",
          "state": {
            "_model_module": "@jupyter-widgets/base",
            "_model_module_version": "1.2.0",
            "_model_name": "LayoutModel",
            "_view_count": null,
            "_view_module": "@jupyter-widgets/base",
            "_view_module_version": "1.2.0",
            "_view_name": "LayoutView",
            "align_content": null,
            "align_items": null,
            "align_self": null,
            "border": null,
            "bottom": null,
            "display": null,
            "flex": null,
            "flex_flow": null,
            "grid_area": null,
            "grid_auto_columns": null,
            "grid_auto_flow": null,
            "grid_auto_rows": null,
            "grid_column": null,
            "grid_gap": null,
            "grid_row": null,
            "grid_template_areas": null,
            "grid_template_columns": null,
            "grid_template_rows": null,
            "height": null,
            "justify_content": null,
            "justify_items": null,
            "left": null,
            "margin": null,
            "max_height": null,
            "max_width": null,
            "min_height": null,
            "min_width": null,
            "object_fit": null,
            "object_position": null,
            "order": null,
            "overflow": null,
            "overflow_x": null,
            "overflow_y": null,
            "padding": null,
            "right": null,
            "top": null,
            "visibility": null,
            "width": null
          }
        },
        "a21ce70f3d94475d854a4fc23ab391e6": {
          "model_module": "@jupyter-widgets/controls",
          "model_name": "DescriptionStyleModel",
          "model_module_version": "1.5.0",
          "state": {
            "_model_module": "@jupyter-widgets/controls",
            "_model_module_version": "1.5.0",
            "_model_name": "DescriptionStyleModel",
            "_view_count": null,
            "_view_module": "@jupyter-widgets/base",
            "_view_module_version": "1.2.0",
            "_view_name": "StyleView",
            "description_width": ""
          }
        },
        "2fb61c11fc0d4a1dafba9b310e757a12": {
          "model_module": "@jupyter-widgets/base",
          "model_name": "LayoutModel",
          "model_module_version": "1.2.0",
          "state": {
            "_model_module": "@jupyter-widgets/base",
            "_model_module_version": "1.2.0",
            "_model_name": "LayoutModel",
            "_view_count": null,
            "_view_module": "@jupyter-widgets/base",
            "_view_module_version": "1.2.0",
            "_view_name": "LayoutView",
            "align_content": null,
            "align_items": null,
            "align_self": null,
            "border": null,
            "bottom": null,
            "display": null,
            "flex": null,
            "flex_flow": null,
            "grid_area": null,
            "grid_auto_columns": null,
            "grid_auto_flow": null,
            "grid_auto_rows": null,
            "grid_column": null,
            "grid_gap": null,
            "grid_row": null,
            "grid_template_areas": null,
            "grid_template_columns": null,
            "grid_template_rows": null,
            "height": null,
            "justify_content": null,
            "justify_items": null,
            "left": null,
            "margin": null,
            "max_height": null,
            "max_width": null,
            "min_height": null,
            "min_width": null,
            "object_fit": null,
            "object_position": null,
            "order": null,
            "overflow": null,
            "overflow_x": null,
            "overflow_y": null,
            "padding": null,
            "right": null,
            "top": null,
            "visibility": null,
            "width": "20px"
          }
        },
        "28c6be8e73ca40e0b5745b46a2be700f": {
          "model_module": "@jupyter-widgets/controls",
          "model_name": "ProgressStyleModel",
          "model_module_version": "1.5.0",
          "state": {
            "_model_module": "@jupyter-widgets/controls",
            "_model_module_version": "1.5.0",
            "_model_name": "ProgressStyleModel",
            "_view_count": null,
            "_view_module": "@jupyter-widgets/base",
            "_view_module_version": "1.2.0",
            "_view_name": "StyleView",
            "bar_color": null,
            "description_width": ""
          }
        },
        "caf91bdd1ae7408ab7df857ff1617544": {
          "model_module": "@jupyter-widgets/base",
          "model_name": "LayoutModel",
          "model_module_version": "1.2.0",
          "state": {
            "_model_module": "@jupyter-widgets/base",
            "_model_module_version": "1.2.0",
            "_model_name": "LayoutModel",
            "_view_count": null,
            "_view_module": "@jupyter-widgets/base",
            "_view_module_version": "1.2.0",
            "_view_name": "LayoutView",
            "align_content": null,
            "align_items": null,
            "align_self": null,
            "border": null,
            "bottom": null,
            "display": null,
            "flex": null,
            "flex_flow": null,
            "grid_area": null,
            "grid_auto_columns": null,
            "grid_auto_flow": null,
            "grid_auto_rows": null,
            "grid_column": null,
            "grid_gap": null,
            "grid_row": null,
            "grid_template_areas": null,
            "grid_template_columns": null,
            "grid_template_rows": null,
            "height": null,
            "justify_content": null,
            "justify_items": null,
            "left": null,
            "margin": null,
            "max_height": null,
            "max_width": null,
            "min_height": null,
            "min_width": null,
            "object_fit": null,
            "object_position": null,
            "order": null,
            "overflow": null,
            "overflow_x": null,
            "overflow_y": null,
            "padding": null,
            "right": null,
            "top": null,
            "visibility": null,
            "width": null
          }
        },
        "b4e09fc9394d4d6599be9832e6509b2b": {
          "model_module": "@jupyter-widgets/controls",
          "model_name": "DescriptionStyleModel",
          "model_module_version": "1.5.0",
          "state": {
            "_model_module": "@jupyter-widgets/controls",
            "_model_module_version": "1.5.0",
            "_model_name": "DescriptionStyleModel",
            "_view_count": null,
            "_view_module": "@jupyter-widgets/base",
            "_view_module_version": "1.2.0",
            "_view_name": "StyleView",
            "description_width": ""
          }
        },
        "1e5a7490903545c6a06d330c83255e95": {
          "model_module": "@jupyter-widgets/controls",
          "model_name": "HBoxModel",
          "model_module_version": "1.5.0",
          "state": {
            "_dom_classes": [],
            "_model_module": "@jupyter-widgets/controls",
            "_model_module_version": "1.5.0",
            "_model_name": "HBoxModel",
            "_view_count": null,
            "_view_module": "@jupyter-widgets/controls",
            "_view_module_version": "1.5.0",
            "_view_name": "HBoxView",
            "box_style": "",
            "children": [
              "IPY_MODEL_36d47e5a1e374ff5a838e50d03148bc6",
              "IPY_MODEL_fad79dc32c9f40008e0e0cffd6095637",
              "IPY_MODEL_9b1d1c7d30c5422390ed9fba9eeae2f7"
            ],
            "layout": "IPY_MODEL_05e13f3f42764f958e5637c2c72f6c2c"
          }
        },
        "36d47e5a1e374ff5a838e50d03148bc6": {
          "model_module": "@jupyter-widgets/controls",
          "model_name": "HTMLModel",
          "model_module_version": "1.5.0",
          "state": {
            "_dom_classes": [],
            "_model_module": "@jupyter-widgets/controls",
            "_model_module_version": "1.5.0",
            "_model_name": "HTMLModel",
            "_view_count": null,
            "_view_module": "@jupyter-widgets/controls",
            "_view_module_version": "1.5.0",
            "_view_name": "HTMLView",
            "description": "",
            "description_tooltip": null,
            "layout": "IPY_MODEL_5b774a860259436fbce56e90d89b5f87",
            "placeholder": "​",
            "style": "IPY_MODEL_07b6162fd5e24036b6f08757064b218c",
            "value": "100%"
          }
        },
        "fad79dc32c9f40008e0e0cffd6095637": {
          "model_module": "@jupyter-widgets/controls",
          "model_name": "FloatProgressModel",
          "model_module_version": "1.5.0",
          "state": {
            "_dom_classes": [],
            "_model_module": "@jupyter-widgets/controls",
            "_model_module_version": "1.5.0",
            "_model_name": "FloatProgressModel",
            "_view_count": null,
            "_view_module": "@jupyter-widgets/controls",
            "_view_module_version": "1.5.0",
            "_view_name": "ProgressView",
            "bar_style": "success",
            "description": "",
            "description_tooltip": null,
            "layout": "IPY_MODEL_39220be8d61946faac3ffd6ae7a4fa56",
            "max": 8,
            "min": 0,
            "orientation": "horizontal",
            "style": "IPY_MODEL_c843320f4e874fb3b65eb03c2cc829cb",
            "value": 8
          }
        },
        "9b1d1c7d30c5422390ed9fba9eeae2f7": {
          "model_module": "@jupyter-widgets/controls",
          "model_name": "HTMLModel",
          "model_module_version": "1.5.0",
          "state": {
            "_dom_classes": [],
            "_model_module": "@jupyter-widgets/controls",
            "_model_module_version": "1.5.0",
            "_model_name": "HTMLModel",
            "_view_count": null,
            "_view_module": "@jupyter-widgets/controls",
            "_view_module_version": "1.5.0",
            "_view_name": "HTMLView",
            "description": "",
            "description_tooltip": null,
            "layout": "IPY_MODEL_7d0e431b5c7348a4a550d0da0ecc803c",
            "placeholder": "​",
            "style": "IPY_MODEL_bf85ab6368964c22bbdf1d55275465ac",
            "value": " 8/8 [00:00&lt;00:00, 427.48it/s]"
          }
        },
        "05e13f3f42764f958e5637c2c72f6c2c": {
          "model_module": "@jupyter-widgets/base",
          "model_name": "LayoutModel",
          "model_module_version": "1.2.0",
          "state": {
            "_model_module": "@jupyter-widgets/base",
            "_model_module_version": "1.2.0",
            "_model_name": "LayoutModel",
            "_view_count": null,
            "_view_module": "@jupyter-widgets/base",
            "_view_module_version": "1.2.0",
            "_view_name": "LayoutView",
            "align_content": null,
            "align_items": null,
            "align_self": null,
            "border": null,
            "bottom": null,
            "display": null,
            "flex": null,
            "flex_flow": null,
            "grid_area": null,
            "grid_auto_columns": null,
            "grid_auto_flow": null,
            "grid_auto_rows": null,
            "grid_column": null,
            "grid_gap": null,
            "grid_row": null,
            "grid_template_areas": null,
            "grid_template_columns": null,
            "grid_template_rows": null,
            "height": null,
            "justify_content": null,
            "justify_items": null,
            "left": null,
            "margin": null,
            "max_height": null,
            "max_width": null,
            "min_height": null,
            "min_width": null,
            "object_fit": null,
            "object_position": null,
            "order": null,
            "overflow": null,
            "overflow_x": null,
            "overflow_y": null,
            "padding": null,
            "right": null,
            "top": null,
            "visibility": null,
            "width": null
          }
        },
        "5b774a860259436fbce56e90d89b5f87": {
          "model_module": "@jupyter-widgets/base",
          "model_name": "LayoutModel",
          "model_module_version": "1.2.0",
          "state": {
            "_model_module": "@jupyter-widgets/base",
            "_model_module_version": "1.2.0",
            "_model_name": "LayoutModel",
            "_view_count": null,
            "_view_module": "@jupyter-widgets/base",
            "_view_module_version": "1.2.0",
            "_view_name": "LayoutView",
            "align_content": null,
            "align_items": null,
            "align_self": null,
            "border": null,
            "bottom": null,
            "display": null,
            "flex": null,
            "flex_flow": null,
            "grid_area": null,
            "grid_auto_columns": null,
            "grid_auto_flow": null,
            "grid_auto_rows": null,
            "grid_column": null,
            "grid_gap": null,
            "grid_row": null,
            "grid_template_areas": null,
            "grid_template_columns": null,
            "grid_template_rows": null,
            "height": null,
            "justify_content": null,
            "justify_items": null,
            "left": null,
            "margin": null,
            "max_height": null,
            "max_width": null,
            "min_height": null,
            "min_width": null,
            "object_fit": null,
            "object_position": null,
            "order": null,
            "overflow": null,
            "overflow_x": null,
            "overflow_y": null,
            "padding": null,
            "right": null,
            "top": null,
            "visibility": null,
            "width": null
          }
        },
        "07b6162fd5e24036b6f08757064b218c": {
          "model_module": "@jupyter-widgets/controls",
          "model_name": "DescriptionStyleModel",
          "model_module_version": "1.5.0",
          "state": {
            "_model_module": "@jupyter-widgets/controls",
            "_model_module_version": "1.5.0",
            "_model_name": "DescriptionStyleModel",
            "_view_count": null,
            "_view_module": "@jupyter-widgets/base",
            "_view_module_version": "1.2.0",
            "_view_name": "StyleView",
            "description_width": ""
          }
        },
        "39220be8d61946faac3ffd6ae7a4fa56": {
          "model_module": "@jupyter-widgets/base",
          "model_name": "LayoutModel",
          "model_module_version": "1.2.0",
          "state": {
            "_model_module": "@jupyter-widgets/base",
            "_model_module_version": "1.2.0",
            "_model_name": "LayoutModel",
            "_view_count": null,
            "_view_module": "@jupyter-widgets/base",
            "_view_module_version": "1.2.0",
            "_view_name": "LayoutView",
            "align_content": null,
            "align_items": null,
            "align_self": null,
            "border": null,
            "bottom": null,
            "display": null,
            "flex": null,
            "flex_flow": null,
            "grid_area": null,
            "grid_auto_columns": null,
            "grid_auto_flow": null,
            "grid_auto_rows": null,
            "grid_column": null,
            "grid_gap": null,
            "grid_row": null,
            "grid_template_areas": null,
            "grid_template_columns": null,
            "grid_template_rows": null,
            "height": null,
            "justify_content": null,
            "justify_items": null,
            "left": null,
            "margin": null,
            "max_height": null,
            "max_width": null,
            "min_height": null,
            "min_width": null,
            "object_fit": null,
            "object_position": null,
            "order": null,
            "overflow": null,
            "overflow_x": null,
            "overflow_y": null,
            "padding": null,
            "right": null,
            "top": null,
            "visibility": null,
            "width": null
          }
        },
        "c843320f4e874fb3b65eb03c2cc829cb": {
          "model_module": "@jupyter-widgets/controls",
          "model_name": "ProgressStyleModel",
          "model_module_version": "1.5.0",
          "state": {
            "_model_module": "@jupyter-widgets/controls",
            "_model_module_version": "1.5.0",
            "_model_name": "ProgressStyleModel",
            "_view_count": null,
            "_view_module": "@jupyter-widgets/base",
            "_view_module_version": "1.2.0",
            "_view_name": "StyleView",
            "bar_color": null,
            "description_width": ""
          }
        },
        "7d0e431b5c7348a4a550d0da0ecc803c": {
          "model_module": "@jupyter-widgets/base",
          "model_name": "LayoutModel",
          "model_module_version": "1.2.0",
          "state": {
            "_model_module": "@jupyter-widgets/base",
            "_model_module_version": "1.2.0",
            "_model_name": "LayoutModel",
            "_view_count": null,
            "_view_module": "@jupyter-widgets/base",
            "_view_module_version": "1.2.0",
            "_view_name": "LayoutView",
            "align_content": null,
            "align_items": null,
            "align_self": null,
            "border": null,
            "bottom": null,
            "display": null,
            "flex": null,
            "flex_flow": null,
            "grid_area": null,
            "grid_auto_columns": null,
            "grid_auto_flow": null,
            "grid_auto_rows": null,
            "grid_column": null,
            "grid_gap": null,
            "grid_row": null,
            "grid_template_areas": null,
            "grid_template_columns": null,
            "grid_template_rows": null,
            "height": null,
            "justify_content": null,
            "justify_items": null,
            "left": null,
            "margin": null,
            "max_height": null,
            "max_width": null,
            "min_height": null,
            "min_width": null,
            "object_fit": null,
            "object_position": null,
            "order": null,
            "overflow": null,
            "overflow_x": null,
            "overflow_y": null,
            "padding": null,
            "right": null,
            "top": null,
            "visibility": null,
            "width": null
          }
        },
        "bf85ab6368964c22bbdf1d55275465ac": {
          "model_module": "@jupyter-widgets/controls",
          "model_name": "DescriptionStyleModel",
          "model_module_version": "1.5.0",
          "state": {
            "_model_module": "@jupyter-widgets/controls",
            "_model_module_version": "1.5.0",
            "_model_name": "DescriptionStyleModel",
            "_view_count": null,
            "_view_module": "@jupyter-widgets/base",
            "_view_module_version": "1.2.0",
            "_view_name": "StyleView",
            "description_width": ""
          }
        },
        "d85dae52dbde44828f7a1ff7a62db99a": {
          "model_module": "@jupyter-widgets/controls",
          "model_name": "HBoxModel",
          "model_module_version": "1.5.0",
          "state": {
            "_dom_classes": [],
            "_model_module": "@jupyter-widgets/controls",
            "_model_module_version": "1.5.0",
            "_model_name": "HBoxModel",
            "_view_count": null,
            "_view_module": "@jupyter-widgets/controls",
            "_view_module_version": "1.5.0",
            "_view_name": "HBoxView",
            "box_style": "",
            "children": [
              "IPY_MODEL_aa9c432cb392430595ba69f7be08feda",
              "IPY_MODEL_bfe6b9a3697d41d2899161579bef469f",
              "IPY_MODEL_1d4873d964114c26830c21857cfbf774"
            ],
            "layout": "IPY_MODEL_56ef9bfed4e243d3b7b259fdd9be8b6e"
          }
        },
        "aa9c432cb392430595ba69f7be08feda": {
          "model_module": "@jupyter-widgets/controls",
          "model_name": "HTMLModel",
          "model_module_version": "1.5.0",
          "state": {
            "_dom_classes": [],
            "_model_module": "@jupyter-widgets/controls",
            "_model_module_version": "1.5.0",
            "_model_name": "HTMLModel",
            "_view_count": null,
            "_view_module": "@jupyter-widgets/controls",
            "_view_module_version": "1.5.0",
            "_view_name": "HTMLView",
            "description": "",
            "description_tooltip": null,
            "layout": "IPY_MODEL_0a35bf068fef457b86c2c11f7912daaa",
            "placeholder": "​",
            "style": "IPY_MODEL_ff3ec376567842d997851681a749a125",
            "value": "100%"
          }
        },
        "bfe6b9a3697d41d2899161579bef469f": {
          "model_module": "@jupyter-widgets/controls",
          "model_name": "FloatProgressModel",
          "model_module_version": "1.5.0",
          "state": {
            "_dom_classes": [],
            "_model_module": "@jupyter-widgets/controls",
            "_model_module_version": "1.5.0",
            "_model_name": "FloatProgressModel",
            "_view_count": null,
            "_view_module": "@jupyter-widgets/controls",
            "_view_module_version": "1.5.0",
            "_view_name": "ProgressView",
            "bar_style": "success",
            "description": "",
            "description_tooltip": null,
            "layout": "IPY_MODEL_bf0d3ba9038948bfbb0972fcd1efe8e6",
            "max": 658008,
            "min": 0,
            "orientation": "horizontal",
            "style": "IPY_MODEL_31e848d3f3e94830a58ae87702a87e5a",
            "value": 658008
          }
        },
        "1d4873d964114c26830c21857cfbf774": {
          "model_module": "@jupyter-widgets/controls",
          "model_name": "HTMLModel",
          "model_module_version": "1.5.0",
          "state": {
            "_dom_classes": [],
            "_model_module": "@jupyter-widgets/controls",
            "_model_module_version": "1.5.0",
            "_model_name": "HTMLModel",
            "_view_count": null,
            "_view_module": "@jupyter-widgets/controls",
            "_view_module_version": "1.5.0",
            "_view_name": "HTMLView",
            "description": "",
            "description_tooltip": null,
            "layout": "IPY_MODEL_5bb40d1c517a436faea8b4f08c7c1c0b",
            "placeholder": "​",
            "style": "IPY_MODEL_c7d90cc56e3e4c3c9702a823abad1a06",
            "value": " 658008/658008 [00:50&lt;00:00, 12732.05it/s]"
          }
        },
        "56ef9bfed4e243d3b7b259fdd9be8b6e": {
          "model_module": "@jupyter-widgets/base",
          "model_name": "LayoutModel",
          "model_module_version": "1.2.0",
          "state": {
            "_model_module": "@jupyter-widgets/base",
            "_model_module_version": "1.2.0",
            "_model_name": "LayoutModel",
            "_view_count": null,
            "_view_module": "@jupyter-widgets/base",
            "_view_module_version": "1.2.0",
            "_view_name": "LayoutView",
            "align_content": null,
            "align_items": null,
            "align_self": null,
            "border": null,
            "bottom": null,
            "display": null,
            "flex": null,
            "flex_flow": null,
            "grid_area": null,
            "grid_auto_columns": null,
            "grid_auto_flow": null,
            "grid_auto_rows": null,
            "grid_column": null,
            "grid_gap": null,
            "grid_row": null,
            "grid_template_areas": null,
            "grid_template_columns": null,
            "grid_template_rows": null,
            "height": null,
            "justify_content": null,
            "justify_items": null,
            "left": null,
            "margin": null,
            "max_height": null,
            "max_width": null,
            "min_height": null,
            "min_width": null,
            "object_fit": null,
            "object_position": null,
            "order": null,
            "overflow": null,
            "overflow_x": null,
            "overflow_y": null,
            "padding": null,
            "right": null,
            "top": null,
            "visibility": null,
            "width": null
          }
        },
        "0a35bf068fef457b86c2c11f7912daaa": {
          "model_module": "@jupyter-widgets/base",
          "model_name": "LayoutModel",
          "model_module_version": "1.2.0",
          "state": {
            "_model_module": "@jupyter-widgets/base",
            "_model_module_version": "1.2.0",
            "_model_name": "LayoutModel",
            "_view_count": null,
            "_view_module": "@jupyter-widgets/base",
            "_view_module_version": "1.2.0",
            "_view_name": "LayoutView",
            "align_content": null,
            "align_items": null,
            "align_self": null,
            "border": null,
            "bottom": null,
            "display": null,
            "flex": null,
            "flex_flow": null,
            "grid_area": null,
            "grid_auto_columns": null,
            "grid_auto_flow": null,
            "grid_auto_rows": null,
            "grid_column": null,
            "grid_gap": null,
            "grid_row": null,
            "grid_template_areas": null,
            "grid_template_columns": null,
            "grid_template_rows": null,
            "height": null,
            "justify_content": null,
            "justify_items": null,
            "left": null,
            "margin": null,
            "max_height": null,
            "max_width": null,
            "min_height": null,
            "min_width": null,
            "object_fit": null,
            "object_position": null,
            "order": null,
            "overflow": null,
            "overflow_x": null,
            "overflow_y": null,
            "padding": null,
            "right": null,
            "top": null,
            "visibility": null,
            "width": null
          }
        },
        "ff3ec376567842d997851681a749a125": {
          "model_module": "@jupyter-widgets/controls",
          "model_name": "DescriptionStyleModel",
          "model_module_version": "1.5.0",
          "state": {
            "_model_module": "@jupyter-widgets/controls",
            "_model_module_version": "1.5.0",
            "_model_name": "DescriptionStyleModel",
            "_view_count": null,
            "_view_module": "@jupyter-widgets/base",
            "_view_module_version": "1.2.0",
            "_view_name": "StyleView",
            "description_width": ""
          }
        },
        "bf0d3ba9038948bfbb0972fcd1efe8e6": {
          "model_module": "@jupyter-widgets/base",
          "model_name": "LayoutModel",
          "model_module_version": "1.2.0",
          "state": {
            "_model_module": "@jupyter-widgets/base",
            "_model_module_version": "1.2.0",
            "_model_name": "LayoutModel",
            "_view_count": null,
            "_view_module": "@jupyter-widgets/base",
            "_view_module_version": "1.2.0",
            "_view_name": "LayoutView",
            "align_content": null,
            "align_items": null,
            "align_self": null,
            "border": null,
            "bottom": null,
            "display": null,
            "flex": null,
            "flex_flow": null,
            "grid_area": null,
            "grid_auto_columns": null,
            "grid_auto_flow": null,
            "grid_auto_rows": null,
            "grid_column": null,
            "grid_gap": null,
            "grid_row": null,
            "grid_template_areas": null,
            "grid_template_columns": null,
            "grid_template_rows": null,
            "height": null,
            "justify_content": null,
            "justify_items": null,
            "left": null,
            "margin": null,
            "max_height": null,
            "max_width": null,
            "min_height": null,
            "min_width": null,
            "object_fit": null,
            "object_position": null,
            "order": null,
            "overflow": null,
            "overflow_x": null,
            "overflow_y": null,
            "padding": null,
            "right": null,
            "top": null,
            "visibility": null,
            "width": null
          }
        },
        "31e848d3f3e94830a58ae87702a87e5a": {
          "model_module": "@jupyter-widgets/controls",
          "model_name": "ProgressStyleModel",
          "model_module_version": "1.5.0",
          "state": {
            "_model_module": "@jupyter-widgets/controls",
            "_model_module_version": "1.5.0",
            "_model_name": "ProgressStyleModel",
            "_view_count": null,
            "_view_module": "@jupyter-widgets/base",
            "_view_module_version": "1.2.0",
            "_view_name": "StyleView",
            "bar_color": null,
            "description_width": ""
          }
        },
        "5bb40d1c517a436faea8b4f08c7c1c0b": {
          "model_module": "@jupyter-widgets/base",
          "model_name": "LayoutModel",
          "model_module_version": "1.2.0",
          "state": {
            "_model_module": "@jupyter-widgets/base",
            "_model_module_version": "1.2.0",
            "_model_name": "LayoutModel",
            "_view_count": null,
            "_view_module": "@jupyter-widgets/base",
            "_view_module_version": "1.2.0",
            "_view_name": "LayoutView",
            "align_content": null,
            "align_items": null,
            "align_self": null,
            "border": null,
            "bottom": null,
            "display": null,
            "flex": null,
            "flex_flow": null,
            "grid_area": null,
            "grid_auto_columns": null,
            "grid_auto_flow": null,
            "grid_auto_rows": null,
            "grid_column": null,
            "grid_gap": null,
            "grid_row": null,
            "grid_template_areas": null,
            "grid_template_columns": null,
            "grid_template_rows": null,
            "height": null,
            "justify_content": null,
            "justify_items": null,
            "left": null,
            "margin": null,
            "max_height": null,
            "max_width": null,
            "min_height": null,
            "min_width": null,
            "object_fit": null,
            "object_position": null,
            "order": null,
            "overflow": null,
            "overflow_x": null,
            "overflow_y": null,
            "padding": null,
            "right": null,
            "top": null,
            "visibility": null,
            "width": null
          }
        },
        "c7d90cc56e3e4c3c9702a823abad1a06": {
          "model_module": "@jupyter-widgets/controls",
          "model_name": "DescriptionStyleModel",
          "model_module_version": "1.5.0",
          "state": {
            "_model_module": "@jupyter-widgets/controls",
            "_model_module_version": "1.5.0",
            "_model_name": "DescriptionStyleModel",
            "_view_count": null,
            "_view_module": "@jupyter-widgets/base",
            "_view_module_version": "1.2.0",
            "_view_name": "StyleView",
            "description_width": ""
          }
        }
      }
    }
  },
  "nbformat": 4,
  "nbformat_minor": 0
}