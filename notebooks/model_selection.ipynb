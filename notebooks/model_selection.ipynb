{
 "cells": [
  {
   "cell_type": "code",
   "execution_count": 17,
   "id": "43acd866",
   "metadata": {
    "scrolled": true
   },
   "outputs": [],
   "source": [
    "%load_ext autoreload\n",
    "%autoreload 2"
   ]
  },
  {
   "cell_type": "code",
   "execution_count": 1,
   "id": "4fbd31bc",
   "metadata": {},
   "outputs": [],
   "source": [
    "from notebook_utils.data_generation import *\n",
    "from pycss.subset_selection import *\n",
    "from pycss.utils import *\n",
    "from pycss.CSS import *\n",
    "from pycss.model_selection import *\n",
    "import numpy as np\n",
    "import pandas as pd\n",
    "import scipy \n",
    "from matplotlib import pyplot as plt\n",
    "import seaborn as sns\n",
    "from scipy.stats import chi2\n",
    "from choldate import cholupdate\n",
    "import multiprocessing\n",
    "from multiprocessing import Pool\n",
    "from functools import partial\n",
    "from tqdm.notebook import tqdm as tqdm_notebook\n",
    "from rpy2.robjects.conversion import localconverter\n",
    "import rpy2.robjects as robjects\n",
    "import rpy2.robjects.packages as rpackages\n",
    "import rpy2.robjects.numpy2ri as n2r\n",
    "import itertools\n",
    "import time\n",
    "\n",
    "efa = rpackages.importr('EFAutilities')\n",
    "n2r.activate()"
   ]
  },
  {
   "cell_type": "code",
   "execution_count": 3,
   "id": "d65ffe47",
   "metadata": {},
   "outputs": [],
   "source": [
    "def compute_test_stat(Sigma, S, n):\n",
    "    p = Sigma.shape[0]\n",
    "    Sigma_R = regress_off(Sigma, S)\n",
    "    S_comp = complement(p, S)\n",
    "    test_stat = n*(np.sum(np.log(np.diag(Sigma_R)[S_comp])) - np.linalg.slogdet(Sigma_R[S_comp, :][:, S_comp])[1])\n",
    "    return test_stat"
   ]
  },
  {
   "cell_type": "code",
   "execution_count": 4,
   "id": "27c1363b",
   "metadata": {},
   "outputs": [
    {
     "data": {
      "text/plain": [
       "<matplotlib.legend.Legend at 0x144d9ea40>"
      ]
     },
     "execution_count": 4,
     "metadata": {},
     "output_type": "execute_result"
    },
    {
     "data": {
      "image/png": "[encoded data removed]",
      "text/plain": [
       "<Figure size 640x480 with 1 Axes>"
      ]
     },
     "metadata": {},
     "output_type": "display_data"
    }
   ],
   "source": [
    "\n",
    "B=10000\n",
    "p = 50\n",
    "k = 20\n",
    "n = 100\n",
    "bins=50\n",
    "real_dist = sample_null_dist(n, p, k, B=B, seed=None)\n",
    "plt.hist(real_dist, alpha=0.5, label='null dist', bins=bins)\n",
    "\n",
    "Sigma_hats = generate_gaussian_PCSS_sample_cov(n, np.eye(k), W=np.ones((p-k, k)), D = np.ones(p-k), B=B)\n",
    "test_stats = [compute_test_stat(Sigma_hat, np.arange(k), n) for Sigma_hat in Sigma_hats]\n",
    "plt.hist(test_stats, alpha=0.5, label='from cov', bins=bins)\n",
    "\n",
    "W = np.ones((p-k, k))\n",
    "D = np.ones(p-k)\n",
    "X_S = np.random.normal(0, 1, (B, n, k))\n",
    "X = generate_PCSS_data(X_S, W=W, D=D)\n",
    "#C_chol = np.eye(k)\n",
    "#X_S = np.random.normal(0, 1, (B, n, k)) @ C_chol.T[np.newaxis, :, :]\n",
    "#W=np.ones((p-k, k))\n",
    "#D = np.ones(p-k)\n",
    "#eps = np.ones((B, n, p-k))* np.sqrt(D)[np.newaxis, np.newaxis, : ]\n",
    "#X_S_comp = X_S @ np.transpose(W[np.newaxis, : , :], axes=(0, 2, 1)) + eps\n",
    "#X = np.dstack([X_S, X_S_comp])\n",
    "#X_c = X - np.mean(X, axis=1)[:, np.newaxis, :]  \n",
    "#Sigma_hats = 1/n * np.transpose(X_c, (0, 2, 1) ) @ X_c\n",
    "\n",
    "#test_stats = [compute_test_stat(Sigma_hat, np.arange(k), n) for Sigma_hat in Sigma_hats]\n",
    "#plt.hist(test_stats, alpha=0.5, label='from data', bins=bins)\n",
    "plt.legend()\n"
   ]
  },
  {
   "cell_type": "code",
   "execution_count": 183,
   "id": "f3eac743",
   "metadata": {},
   "outputs": [],
   "source": [
    "def make_Sigma(C, W, D):\n",
    "    k = C.shape[0]\n",
    "    p = k + W.shape[0]\n",
    "    Sigma = np.zeros((p, p))\n",
    "    Sigma[:k, :k] = C.copy()\n",
    "    Sigma[k:, :k] = W @ C\n",
    "    Sigma[:k, k:] = (W @ C).T\n",
    "    Sigma[k:, k:] = W @ C @ W.T + np.diag(D)\n",
    "    return Sigma\n",
    "\n",
    "def sample_A(n, p):\n",
    "    A = np.zeros((p, p))\n",
    "    chi_dfs = np.array([n - i for i in range(1, p+1)])\n",
    "    A[np.tri(p, dtype=bool, k=-1)] = np.random.normal(0, 1, size=int(p * (p-1)/2))\n",
    "    np.fill_diagonal(A, np.sqrt(np.random.chisquare(chi_dfs)))\n",
    "    return A\n",
    "def sample_cov(Sigma_chol, n, p):\n",
    "    A = sample_A(n, p)\n",
    "    temp = Sigma_chol @ A\n",
    "    return temp @ temp.T"
   ]
  },
  {
   "cell_type": "code",
   "execution_count": 144,
   "id": "377465b9",
   "metadata": {},
   "outputs": [],
   "source": [
    "def plot_quantiles(arrs, labels):\n",
    "    for i in range(len(arrs)):\n",
    "        qs = np.arange(0.01, 1, step=0.01)\n",
    "        quantiles = np.quantile(arrs[i], qs)\n",
    "        plt.plot(qs, quantiles, label=labels[i], alpha=0.5)\n",
    "    plt.legend()\n",
    "    "
   ]
  },
  {
   "cell_type": "markdown",
   "id": "7fdf686c",
   "metadata": {},
   "source": [
    "Compare asymptotic to finite sample distribution"
   ]
  },
  {
   "cell_type": "code",
   "execution_count": 5,
   "id": "271417d8",
   "metadata": {},
   "outputs": [
    {
     "name": "stderr",
     "output_type": "stream",
     "text": [
      "/var/folders/9b/8gtczpzd5_n_zlbsv10125gw0000gn/T/ipykernel_52670/1918606811.py:8: UserWarning: \n",
      "\n",
      "`distplot` is a deprecated function and will be removed in seaborn v0.14.0.\n",
      "\n",
      "Please adapt your code to use either `displot` (a figure-level function with\n",
      "similar flexibility) or `histplot` (an axes-level function for histograms).\n",
      "\n",
      "For a guide to updating your code to use the new functions, please see\n",
      "https://gist.github.com/mwaskom/de44147ed2974457ad6372750bbe5751\n",
      "\n",
      "  sns.distplot(real_dist, ax=axes[0], color='tab:blue')\n",
      "/var/folders/9b/8gtczpzd5_n_zlbsv10125gw0000gn/T/ipykernel_52670/1918606811.py:17: UserWarning: \n",
      "\n",
      "`distplot` is a deprecated function and will be removed in seaborn v0.14.0.\n",
      "\n",
      "Please adapt your code to use either `displot` (a figure-level function with\n",
      "similar flexibility) or `histplot` (an axes-level function for histograms).\n",
      "\n",
      "For a guide to updating your code to use the new functions, please see\n",
      "https://gist.github.com/mwaskom/de44147ed2974457ad6372750bbe5751\n",
      "\n",
      "  sns.distplot(real_dist, ax=axes[1], color='tab:blue')\n"
     ]
    },
    {
     "data": {
      "image/png": "[encoded data removed]",
      "text/plain": [
       "<Figure size 1000x300 with 2 Axes>"
      ]
     },
     "metadata": {},
     "output_type": "display_data"
    }
   ],
   "source": [
    "fig, axes = plt.subplots(1, 2, figsize=(10 , 3 ))\n",
    "\n",
    "p = 50\n",
    "k = 20\n",
    "n = 500\n",
    "df = int((p-k) * (p-k-1)/2)\n",
    "real_dist = sample_null_dist(n, p, k, B=int(1e6))\n",
    "sns.distplot(real_dist, ax=axes[0], color='tab:blue')\n",
    "x = np.arange(min(real_dist), max(real_dist), 0.001)\n",
    "sns.lineplot(x=x, y=chi2.pdf(x, df=df), ax=axes[0], color='tab:orange')\n",
    "\n",
    "p = 50\n",
    "k = 20\n",
    "n = 5000\n",
    "df = int((p-k) * (p-k-1)/2)\n",
    "real_dist = sample_null_dist(n, p, k, B=int(1e6))\n",
    "sns.distplot(real_dist, ax=axes[1], color='tab:blue')\n",
    "x = np.arange(min(real_dist), max(real_dist), 0.001)\n",
    "sns.lineplot(x=x, y=chi2.pdf(x, df=df), ax=axes[1], color='tab:orange')\n",
    "\n",
    "pivotal_handle, = plt.plot([], [], color='tab:blue', label='Finite Sample Dist.', linewidth=4)\n",
    "wilks_handle, = plt.plot([], [], color='tab:orange', label='Asymptotic Dist.', linewidth=4)\n",
    "\n",
    "\n",
    "leg = fig.legend(handles=[pivotal_handle, wilks_handle], prop={'size': 9}, bbox_to_anchor=(0.64, 0.02), ncol=2)  \n",
    "plt.tight_layout()\n",
    "\n",
    "#plt.savefig(\"../figures/dist_comparison.pdf\", bbox_inches='tight')"
   ]
  },
  {
   "cell_type": "markdown",
   "id": "b6c6fe9f",
   "metadata": {},
   "source": [
    "### Simulation"
   ]
  },
  {
   "cell_type": "code",
   "execution_count": 16,
   "id": "41698f82",
   "metadata": {},
   "outputs": [],
   "source": [
    "p = 50\n",
    "k = 20\n",
    "rho = 0.5\n",
    "C_chol = scipy.linalg.block_diag(get_equicorrelated_chol(4, rho, diag=1), \n",
    "                        get_equicorrelated_chol(4, rho, diag=1),\n",
    "                        get_equicorrelated_chol(4, rho, diag=1),\n",
    "                        get_equicorrelated_chol(4, rho, diag=1),\n",
    "                        get_equicorrelated_chol(4, rho, diag=1))\n",
    "C = C_chol @ C_chol.T\n",
    "\n",
    "W = get_block_W(p, k, num_blocks=4, block_size=8, overlap=4)\n",
    "\n",
    "np.random.seed(0)\n",
    "W *= np.random.choice(np.array([-1, 1]), W.shape)\n",
    "\n",
    "D = np.concatenate([np.arange(1, 7) for i in range(5)] )\n",
    "\n",
    "\n",
    "B = 100\n",
    "method = 'swap'\n",
    "num_inits = 10 \n",
    "#noise_levels = [0.022, 0.81, 2.71, 9.2, 350]\n",
    "noise_levels = [0.81, 2.71, 9.2]\n",
    "ns = [200]\n",
    "alpha = 0.05\n",
    "\n",
    "gaussian_unique_factors = True\n",
    "asymptotic=True\n",
    "\n",
    "def make_Sigma(C, W, D):\n",
    "    k = C.shape[0]\n",
    "    p = k + W.shape[0]\n",
    "    Sigma = np.zeros((p, p))\n",
    "    Sigma[:k, :k] = C.copy()\n",
    "    Sigma[k:, :k] = W @ C\n",
    "    Sigma[:k, k:] = (W @ C).T\n",
    "    Sigma[k:, k:] = W @ C @ W.T + np.diag(D)\n",
    "    return Sigma\n",
    "   \n",
    "\n",
    "signal_to_Sigma = {np.mean(np.diag(W @ C @ W.T)/(np.diag(W @ C @ W.T) + noise_level*D)): \n",
    "                   make_Sigma(C, W, noise_level*D)\n",
    "                   for noise_level in noise_levels }\n",
    "\n",
    "quantiles = {}\n",
    "\n",
    "for n in ns:\n",
    "    for i in range(p+1):\n",
    "        quantiles[(1-alpha, n, p, i)] = Q(1 - alpha, n, p, i)"
   ]
  },
  {
   "cell_type": "code",
   "execution_count": 14,
   "id": "6306a59d",
   "metadata": {},
   "outputs": [
    {
     "data": {
      "text/plain": [
       "{0.7505286149812276: None, 0.5004420280808388: None, 0.2502255050540555: None}"
      ]
     },
     "execution_count": 14,
     "metadata": {},
     "output_type": "execute_result"
    }
   ],
   "source": [
    "signal_to_Sigma"
   ]
  },
  {
   "cell_type": "code",
   "execution_count": 19,
   "id": "5e795f0c",
   "metadata": {},
   "outputs": [
    {
     "data": {
      "text/plain": [
       "array([28, 12, 11, 24,  2,  8,  6, 25, 26,  4, 10, 22, 13, 29,  1, 21,  7,\n",
       "       14, 17,  3, 18,  0, 23, 15,  5, 27, 16, 19, 20,  9])"
      ]
     },
     "execution_count": 19,
     "metadata": {},
     "output_type": "execute_result"
    }
   ],
   "source": []
  },
  {
   "cell_type": "code",
   "execution_count": null,
   "id": "a2e15ee9",
   "metadata": {},
   "outputs": [
    {
     "ename": "",
     "evalue": "",
     "output_type": "error",
     "traceback": [
      "\u001b[1;31mRunning cells with '/Users/anavsood/mambaforge/bin/python' requires the ipykernel package.\n",
      "\u001b[1;31mRun the following command to install 'ipykernel' into the Python environment. \n",
      "\u001b[1;31mCommand: 'conda install -p /Users/anavsood/mambaforge ipykernel --update-deps --force-reinstall'"
     ]
    }
   ],
   "source": [
    "if gaussian_unique_factors: \n",
    "    Sigma_hats = generate_gaussian_PCSS_sample_cov(ns[0], C_chol, W, D=D, B=B)\n",
    "else:\n",
    "    X_S = np.random.normal(0, 1, (B, n, k)) @ C_chol.T[np.newaxis, :, :]\n",
    "    eps1 = (np.random.exponential(1, size=(B, n , int((p-k)/3))) - 1) \n",
    "    eps2 = np.random.choice([-1, 1], size=(B, n, int((p-k)/3)))\n",
    "    eps3 = np.random.standard_t(3, size=(B, n , int((p-k)/3))) / np.sqrt(3)\n",
    "    eps = np.dstack([eps1, eps2, eps3])[:, : np.random.choice(np.arange(30), size=30, replace=False)] * np.sqrt(D)[np.newaxis, np.newaxis, : ]\n",
    "    X_S_comp = X_S @ np.transpose(W[np.newaxis, : , :], axes=(0, 2, 1)) + eps\n",
    "    X = np.dstack([X_S, X_S_comp])\n",
    "    X_c = X - np.mean(X, axis=1)[:, np.newaxis, :]  \n",
    "    Sigma_hats = 1/n * np.transpose(X_c, (0, 2, 1) ) @ X_c"
   ]
  },
  {
   "cell_type": "code",
   "execution_count": null,
   "id": "97368205",
   "metadata": {},
   "outputs": [
    {
     "ename": "",
     "evalue": "",
     "output_type": "error",
     "traceback": [
      "\u001b[1;31mRunning cells with '/Users/anavsood/mambaforge/bin/python' requires the ipykernel package.\n",
      "\u001b[1;31mRun the following command to install 'ipykernel' into the Python environment. \n",
      "\u001b[1;31mCommand: 'conda install -p /Users/anavsood/mambaforge ipykernel --update-deps --force-reinstall'"
     ]
    }
   ],
   "source": [
    "\n",
    "def get_df_from_frames(results_frames, k, signal_to_Sigma):\n",
    "    pop_S = np.arange(k)\n",
    "    results_df = pd.DataFrame(results_frames)\n",
    "    results_df['Size of Selected Subset'] = [len(S) for S in results_df['Selected']]\n",
    "    results_df['# Correct Variables Selected'] = [len(set(S).intersection(set(pop_S))) for S in results_df['Selected']]\n",
    "    results_df['Sum of Sq. Cannonical Correlations'] = [cannonical_correlation(signal_to_Sigma[results_df['Avg. $R^2$'][i]], pop_S, results_df['Selected'][i]) for i in range(len(results_df))]\n",
    "    return results_df"
   ]
  },
  {
   "cell_type": "code",
   "execution_count": null,
   "id": "c4b86271",
   "metadata": {},
   "outputs": [
    {
     "ename": "",
     "evalue": "",
     "output_type": "error",
     "traceback": [
      "\u001b[1;31mRunning cells with '/Users/anavsood/mambaforge/bin/python' requires the ipykernel package.\n",
      "\u001b[1;31mRun the following command to install 'ipykernel' into the Python environment. \n",
      "\u001b[1;31mCommand: 'conda install -p /Users/anavsood/mambaforge ipykernel --update-deps --force-reinstall'"
     ]
    }
   ],
   "source": [
    "results_frames = {'Avg. $R^2$': [], 'Sample Size' : [], 'Selected': []}\n",
    "\n",
    "for noise_level, n in tqdm(list(itertools.product(*[noise_levels, ns]))):\n",
    "    results_frames['Avg. $R^2$'] += list(np.mean(np.diag(W @ C @ W.T)/(np.diag(W @ C @ W.T) + noise_level*D)) * np.ones(B))\n",
    "    results_frames['Sample Size'] += list(n * np.ones(B))\n",
    "    \n",
    "    mp_func = partial(select_subset, n=n, alpha=alpha, num_inits=num_inits, quantile_dict=quantile_dict)\n",
    "    with Pool(multiprocessing.cpu_count()) as pool:\n",
    "        results_frames['Selected'] +=  list(tqdm(pool.imap_unordered(mp_func, list(Sigma_hats))))\n",
    "    \n",
    "gaussian_results_df = get_df_from_frames(gaussian_results_frames, k, signal_to_Sigma)\n"
   ]
  },
  {
   "cell_type": "code",
   "execution_count": null,
   "id": "13202abc",
   "metadata": {},
   "outputs": [
    {
     "ename": "",
     "evalue": "",
     "output_type": "error",
     "traceback": [
      "\u001b[1;31mRunning cells with '/Users/anavsood/mambaforge/bin/python' requires the ipykernel package.\n",
      "\u001b[1;31mRun the following command to install 'ipykernel' into the Python environment. \n",
      "\u001b[1;31mCommand: 'conda install -p /Users/anavsood/mambaforge ipykernel --update-deps --force-reinstall'"
     ]
    }
   ],
   "source": [
    "import seaborn as sns\n",
    "import numpy as np\n",
    "from matplotlib.lines import Line2D\n",
    "from matplotlib.legend_handler import HandlerPatch\n",
    "import matplotlib.patches as mpatches\n",
    "\n",
    "df = gaussian_results_df.copy()\n",
    "df['Signal Size'] = np.round(df['Signal Size'], 2)\n",
    "df = df.loc[df['Signal Size'].isin([0.25, 0.5, 0.75])]\n",
    "df = df.loc[df['Sample Size'].isin([200])]\n",
    "fig, axes = plt.subplots(1, 3, figsize=(18, 6))\n",
    "spacing=5\n",
    "signal_spacing = 0.7  # Width of each box plot\n",
    "\n",
    "ys = ['Size of Selected Subset', '# Correct Variables Selected', 'Sum of Sq. Cannonical Correlations']  # Replace with your desired y variable names\n",
    "\n",
    "signal_sizes = sorted(df['Signal Size'].unique())  # Get unique signal sizes in ascending order\n",
    "color_palette = sns.color_palette('Set1', n_colors=len(signal_sizes))  # Generate a color palette with distinct colors\n",
    "\n",
    "sample_sizes = sorted(df['Sample Size'].unique())  # Get unique sample sizes in ascending order\n",
    "\n",
    "y_min = np.min(df[ys]) - 1\n",
    "y_max = np.max(df[ys]) + 1\n",
    "\n",
    "for i, (y_var, ax) in enumerate(zip(ys, axes)):\n",
    "    ax.set_title(y_var, fontsize=22)  # Set the title for each subplot\n",
    "    for j, signal_size in enumerate(signal_sizes):\n",
    "        subset = df[(df['Signal Size'] == signal_size)]\n",
    "        color = color_palette[j]\n",
    "        \n",
    "        x_values = spacing*np.arange(len(sample_sizes)) + (j - len(signal_sizes) // 2) * signal_spacing # Calculate the x-values for the box plots\n",
    "\n",
    "        for l, sample_size in enumerate(sample_sizes):\n",
    "            subset_sample = subset[subset['Sample Size'] == sample_size]\n",
    "            ax.set_ylim([y_min, y_max])\n",
    "            ax.tick_params(axis='y', labelsize=16)\n",
    "            ax.boxplot(subset_sample[y_var], \n",
    "                       positions=[x_values[l]], \n",
    "                       patch_artist=True, \n",
    "                       widths=0.4,\n",
    "                       boxprops=dict(facecolor=color,\n",
    "                                    alpha=0.8),\n",
    "                       medianprops=dict(color='black'),\n",
    "                       flierprops={'marker': 'D', \n",
    "                                   'markerfacecolor': color, \n",
    "                                   'markersize': 6,\n",
    "                                   'alpha': 0.8})\n",
    "\n",
    "        \n",
    "    ax.axhline(y=20, color='black', linestyle='--')  # Add a horizontal line at y=20\n",
    "    ax.set_xticks(spacing*np.arange(len(sample_sizes)))  # Set the x-axis tick positions\n",
    "    ax.set_xticklabels([])  # Set the x-axis tick labels\n",
    "\n",
    "handles = []\n",
    "labels = []\n",
    "for j, s in enumerate(signal_sizes):\n",
    "    # Create your plot elements and store the handles and labels\n",
    "    handle = Line2D([], [], marker='s', linestyle='None', markersize=15,\n",
    "                    markeredgecolor='black', color=color_palette[j])\n",
    "    handles.append(handle)\n",
    "    labels.append('Avg. R^2=' + str(s))\n",
    "\n",
    "handler_map = {mpatches.Patch: HandlerPatch(patch_func=lambda orig_handle, _: orig_handle)}\n",
    "fig.legend(handles=handles, labels=labels, handler_map=handler_map, prop={'size': 20}, bbox_to_anchor=(0.8, 0.00), ncols=len(signal_sizes))\n",
    "plt.tight_layout()\n",
    "plt.show()"
   ]
  },
  {
   "cell_type": "code",
   "execution_count": null,
   "id": "f1accd55",
   "metadata": {},
   "outputs": [
    {
     "ename": "",
     "evalue": "",
     "output_type": "error",
     "traceback": [
      "\u001b[1;31mRunning cells with '/Users/anavsood/mambaforge/bin/python' requires the ipykernel package.\n",
      "\u001b[1;31mRun the following command to install 'ipykernel' into the Python environment. \n",
      "\u001b[1;31mCommand: 'conda install -p /Users/anavsood/mambaforge ipykernel --update-deps --force-reinstall'"
     ]
    }
   ],
   "source": [
    "for j, signal_size in enumerate(signal_sizes):\n",
    "        subset = df[(df['Signal Size'] == signal_size)]\n",
    "        print(np.mean(subset['Size of Selected Subset'] > 20))"
   ]
  },
  {
   "cell_type": "code",
   "execution_count": null,
   "id": "26d7a04d",
   "metadata": {},
   "outputs": [
    {
     "ename": "",
     "evalue": "",
     "output_type": "error",
     "traceback": [
      "\u001b[1;31mRunning cells with '/Users/anavsood/mambaforge/bin/python' requires the ipykernel package.\n",
      "\u001b[1;31mRun the following command to install 'ipykernel' into the Python environment. \n",
      "\u001b[1;31mCommand: 'conda install -p /Users/anavsood/mambaforge ipykernel --update-deps --force-reinstall'"
     ]
    }
   ],
   "source": [
    "plt.hist(gaussian_results_df.loc[gaussian_results_df['Sample Size'] ==500]['Size Selected'])\n"
   ]
  },
  {
   "cell_type": "markdown",
   "id": "a4e50008",
   "metadata": {},
   "source": [
    "### Real Data Analysis"
   ]
  },
  {
   "cell_type": "code",
   "execution_count": 16,
   "id": "de7000aa",
   "metadata": {},
   "outputs": [],
   "source": [
    "X = pd.read_csv(\"../data/BFI228.csv\").values[:, 1:].astype(float)\n",
    "n, p = X.shape"
   ]
  },
  {
   "cell_type": "code",
   "execution_count": 18,
   "id": "08c86d20",
   "metadata": {},
   "outputs": [
    {
     "data": {
      "text/plain": [
       "(array([1., 2., 1., 2., 3., 4., 2., 6., 1., 2.]),\n",
       " array([0.36515843, 0.39310293, 0.42104744, 0.44899195, 0.47693646,\n",
       "        0.50488096, 0.53282547, 0.56076998, 0.58871449, 0.61665899,\n",
       "        0.6446035 ]),\n",
       " <BarContainer object of 10 artists>)"
      ]
     },
     "execution_count": 18,
     "metadata": {},
     "output_type": "execute_result"
    },
    {
     "data": {
      "image/png": "[encoded data removed]",
      "text/plain": [
       "<Figure size 640x480 with 1 Axes>"
      ]
     },
     "metadata": {},
     "output_type": "display_data"
    }
   ],
   "source": [
    "css = CSS()\n",
    "css.select_subset_from_data(X, k=20, method='swap', num_inits=10)\n",
    "plt.hist(np.diag(css.Sigma_R)[complement(p, css.S)])"
   ]
  },
  {
   "cell_type": "code",
   "execution_count": 21,
   "id": "7cd38404",
   "metadata": {},
   "outputs": [
    {
     "name": "stdout",
     "output_type": "stream",
     "text": [
      "0.023015975952148438\n",
      "20\n",
      "[41 43 15 23 33 31 35 21  3 38 17 13 27  7 14 29  4 12 20 30]\n",
      "3\n",
      "4\n",
      "4\n",
      "5\n",
      "4\n"
     ]
    }
   ],
   "source": [
    "\n",
    "alpha = 0.1\n",
    "quantile_dict = {(1 - alpha, n, p, i,):  Q(1 -alpha, n, p, i,) for i in range(p + 1) }\n",
    "start = time.time()\n",
    "S = select_subset(X, \n",
    "                  alpha=alpha,  \n",
    "                  quantile_dict=quantile_dict, \n",
    "                  num_inits=1)\n",
    "end = time.time()\n",
    "print(end - start)\n",
    "print(len(S))\n",
    "print(S)\n",
    "print(len(np.where(np.logical_and(S>=0, S<=7))[0]))\n",
    "print(len(np.where(np.logical_and(S>=8, S<=16))[0]))\n",
    "print(len(np.where(np.logical_and(S>=17, S<=25))[0]))\n",
    "print(len(np.where(np.logical_and(S>=26, S<=33))[0]))\n",
    "print(len(np.where(np.logical_and(S>=34, S<=43))[0]))"
   ]
  },
  {
   "cell_type": "code",
   "execution_count": 22,
   "id": "07a10654",
   "metadata": {},
   "outputs": [],
   "source": [
    "with localconverter(robjects.default_converter + n2r.converter) as cv:\n",
    "    factor_result = efa.efa(x=X[:, np.sort(S)], factors=5)"
   ]
  },
  {
   "cell_type": "code",
   "execution_count": 23,
   "id": "1d58210c",
   "metadata": {},
   "outputs": [
    {
     "data": {
      "text/plain": [
       "array([[-0.02,  0.6 ,  0.28,  0.2 ,  0.03],\n",
       "       [ 0.02, -0.76,  0.16, -0.05,  0.06],\n",
       "       [-0.01,  0.79,  0.08, -0.06, -0.01],\n",
       "       [-0.02,  0.18,  0.44, -0.04, -0.06],\n",
       "       [ 0.07, -0.17, -0.66,  0.18,  0.03],\n",
       "       [ 0.13, -0.08,  0.67,  0.23, -0.04],\n",
       "       [ 0.21,  0.08, -0.54, -0.02,  0.16],\n",
       "       [-0.06,  0.05, -0.02,  0.13, -0.66],\n",
       "       [-0.07,  0.05,  0.01,  0.13,  0.74],\n",
       "       [ 0.06, -0.08, -0.12,  0.05,  0.54],\n",
       "       [-0.05,  0.08,  0.04,  0.17, -0.53],\n",
       "       [-0.64, -0.04,  0.09,  0.  , -0.06],\n",
       "       [ 0.79, -0.03,  0.06, -0.05,  0.06],\n",
       "       [-0.61,  0.01,  0.17,  0.12,  0.02],\n",
       "       [ 0.63,  0.04, -0.18,  0.02,  0.06],\n",
       "       [ 0.66, -0.17,  0.16, -0.03, -0.02],\n",
       "       [-0.03,  0.16,  0.08,  0.42, -0.02],\n",
       "       [-0.15, -0.03, -0.02,  0.71, -0.04],\n",
       "       [ 0.06,  0.17,  0.01,  0.68,  0.06],\n",
       "       [ 0.04, -0.17,  0.04,  0.52, -0.04]])"
      ]
     },
     "execution_count": 23,
     "metadata": {},
     "output_type": "execute_result"
    }
   ],
   "source": [
    "np.round(factor_result['rotated'], 2)"
   ]
  }
 ],
 "metadata": {
  "kernelspec": {
   "display_name": "Python 3 (ipykernel)",
   "language": "python",
   "name": "python3"
  },
  "language_info": {
   "codemirror_mode": {
    "name": "ipython",
    "version": 3
   },
   "file_extension": ".py",
   "mimetype": "text/x-python",
   "name": "python",
   "nbconvert_exporter": "python",
   "pygments_lexer": "ipython3",
   "version": "3.10.10"
  },
  "vscode": {
   "interpreter": {
    "hash": "4726a5c9f3517a27aa1d195cae6672a5506a78a1d1787d6b6d30fa625f8290cf"
   }
  }
 },
 "nbformat": 4,
 "nbformat_minor": 5
}
