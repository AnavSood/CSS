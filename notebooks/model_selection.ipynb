{
 "cells": [
  {
   "cell_type": "code",
   "execution_count": null,
   "id": "43acd866",
   "metadata": {
    "scrolled": true
   },
   "outputs": [
    {
     "ename": "",
     "evalue": "",
     "output_type": "error",
     "traceback": [
      "\u001b[1;31mRunning cells with '/Users/anavsood/mambaforge/bin/python' requires the ipykernel package.\n",
      "\u001b[1;31mRun the following command to install 'ipykernel' into the Python environment. \n",
      "\u001b[1;31mCommand: 'conda install -p /Users/anavsood/mambaforge ipykernel --update-deps --force-reinstall'"
     ]
    }
   ],
   "source": [
    "%load_ext autoreload\n",
    "%autoreload 2"
   ]
  },
  {
   "cell_type": "code",
   "execution_count": null,
   "id": "4fbd31bc",
   "metadata": {},
   "outputs": [
    {
     "ename": "",
     "evalue": "",
     "output_type": "error",
     "traceback": [
      "\u001b[1;31mRunning cells with '/Users/anavsood/mambaforge/bin/python' requires the ipykernel package.\n",
      "\u001b[1;31mRun the following command to install 'ipykernel' into the Python environment. \n",
      "\u001b[1;31mCommand: 'conda install -p /Users/anavsood/mambaforge ipykernel --update-deps --force-reinstall'"
     ]
    }
   ],
   "source": [
    "from notebook_utils.utils import *\n",
    "from notebook_utils.data_generation import *\n",
    "from pycss.subset_selection import *\n",
    "from pycss.utils import *\n",
    "from pycss.PCSS import *\n",
    "from pycss.CSS import *\n",
    "from pycss.model_selection import *\n",
    "import numpy as np\n",
    "import pandas as pd\n",
    "from matplotlib import pyplot as plt\n",
    "import seaborn as sns\n",
    "from scipy.stats import chi2\n",
    "from scipy.stats import skewcauchy\n",
    "from choldate import cholupdate\n",
    "import multiprocessing\n",
    "from multiprocessing import Pool\n",
    "from functools import partial\n",
    "from tqdm.notebook import tqdm\n",
    "from pingouin import cronbach_alpha\n",
    "from rpy2.robjects.conversion import localconverter\n",
    "import rpy2.robjects as robjects\n",
    "import rpy2.robjects.packages as rpackages\n",
    "import rpy2.robjects.numpy2ri as n2r\n",
    "import itertools\n",
    "\n",
    "efa = rpackages.importr('EFAutilities')\n",
    "n2r.activate()"
   ]
  },
  {
   "cell_type": "code",
   "execution_count": null,
   "id": "38c4466c",
   "metadata": {},
   "outputs": [
    {
     "ename": "",
     "evalue": "",
     "output_type": "error",
     "traceback": [
      "\u001b[1;31mRunning cells with '/Users/anavsood/mambaforge/bin/python' requires the ipykernel package.\n",
      "\u001b[1;31mRun the following command to install 'ipykernel' into the Python environment. \n",
      "\u001b[1;31mCommand: 'conda install -p /Users/anavsood/mambaforge ipykernel --update-deps --force-reinstall'"
     ]
    }
   ],
   "source": [
    "def cov_df(p):\n",
    "    return int(p*(p+1)/2)\n",
    "\n",
    "def model_df(p, k, noise):\n",
    "    if noise == 'sph':\n",
    "        return cov_df(k) + (p-k)*k + 1 if k < p else cov_df(p)\n",
    "    if noise == 'diag':\n",
    "        return cov_df(k) + (p-k)*(k+ 1)"
   ]
  },
  {
   "cell_type": "code",
   "execution_count": null,
   "id": "d7c3e007",
   "metadata": {},
   "outputs": [
    {
     "ename": "",
     "evalue": "",
     "output_type": "error",
     "traceback": [
      "\u001b[1;31mRunning cells with '/Users/anavsood/mambaforge/bin/python' requires the ipykernel package.\n",
      "\u001b[1;31mRun the following command to install 'ipykernel' into the Python environment. \n",
      "\u001b[1;31mCommand: 'conda install -p /Users/anavsood/mambaforge ipykernel --update-deps --force-reinstall'"
     ]
    }
   ],
   "source": [
    "p = 50\n",
    "k = 20\n",
    "n = 5000\n",
    "B = 5000\n",
    "\n",
    "#W = get_block_W(p, k, num_blocks=4, block_size=8, overlap=4)\n",
    "\n",
    "#np.random.seed(0)\n",
    "#W *= np.random.choice(np.array([-1, 1]), W.shape)\n",
    "#W*=np.sqrt(1/8)\n",
    "\n",
    "Ts = []\n",
    "\n",
    "\n",
    "for i in tqdm(range(B)):\n",
    "    X_S = np.random.normal(0, 1, (n, k))\n",
    "    noise = np.random.normal(0, 1, n)\n",
    "    noise = np.vstack([noise for i in range(p-k)]).T\n",
    "    noise *= np.random.choice([-1, 1], size=noise.shape)\n",
    "    X_S_comp =  X_S @ W.T + noise\n",
    "    #X_S_comp =  X_S @ W.T + (np.random.exponential(1, (n, p-k)) - 1)\n",
    "    #X_S_comp =  X_S @ W.T + np.random.uniform(-5, 5, (n, p-k))\n",
    "    X = np.hstack([X_S, X_S_comp])\n",
    "    _, Sigma_hat = get_moments(X)\n",
    "    resid = regress_off(Sigma_hat, np.arange(k))[k:, k:]\n",
    "    T = n * (np.sum(np.log(np.diag(resid))) - np.log(np.linalg.det(resid)))\n",
    "    Ts.append(T)\n",
    "\n",
    "x = np.arange(min(Ts), max(Ts), 0.001)\n",
    "plt.hist(Ts, bins=100, density=True)\n",
    "plt.plot(x,chi2.pdf(x, df=cov_df(p) - model_df(p, k, 'diag')))\n",
    "plt.show()"
   ]
  },
  {
   "cell_type": "code",
   "execution_count": null,
   "id": "68ab7efb",
   "metadata": {},
   "outputs": [
    {
     "ename": "",
     "evalue": "",
     "output_type": "error",
     "traceback": [
      "\u001b[1;31mRunning cells with '/Users/anavsood/mambaforge/bin/python' requires the ipykernel package.\n",
      "\u001b[1;31mRun the following command to install 'ipykernel' into the Python environment. \n",
      "\u001b[1;31mCommand: 'conda install -p /Users/anavsood/mambaforge ipykernel --update-deps --force-reinstall'"
     ]
    }
   ],
   "source": [
    "def sample_null(B, n, p, k):\n",
    "    num_adjusted_samples = n - k # no mean removed \n",
    "    num_features = p-k\n",
    "    full_dfs = np.array([num_adjusted_samples - i + 1 for i in range(1, num_features + 1)])\n",
    "    full_chi_sqs = np.random.chisquare(df=full_dfs, size=(B, len(full_dfs)))\n",
    "    null_dfs = np.arange(1, num_features)\n",
    "    null_chi_sqs = np.random.chisquare(df=null_dfs, size=(B, len(null_dfs)))\n",
    "    null_chi_sqs = np.hstack([np.zeros(B).reshape((B, 1)), null_chi_sqs])\n",
    "    return n*(np.sum( np.log(null_chi_sqs/full_chi_sqs + 1), axis=1))\n"
   ]
  },
  {
   "cell_type": "code",
   "execution_count": null,
   "id": "9542a489",
   "metadata": {},
   "outputs": [
    {
     "ename": "",
     "evalue": "",
     "output_type": "error",
     "traceback": [
      "\u001b[1;31mRunning cells with '/Users/anavsood/mambaforge/bin/python' requires the ipykernel package.\n",
      "\u001b[1;31mRun the following command to install 'ipykernel' into the Python environment. \n",
      "\u001b[1;31mCommand: 'conda install -p /Users/anavsood/mambaforge ipykernel --update-deps --force-reinstall'"
     ]
    }
   ],
   "source": [
    "B = 10000\n",
    "n=5000\n",
    "p=20\n",
    "k=10\n",
    "stats = []\n",
    "t_df=3\n",
    "chi_df=3\n",
    "\n",
    "\n",
    "if (p-k) % 2 == 1:\n",
    "    print('p-k must be even')\n",
    "\n",
    "X_S = np.random.uniform(-100, 100, (n, k))\n",
    "H = X_S @ np.linalg.inv(X_S.T @ X_S) @ X_S.T\n",
    "P = np.eye(n) - X_S @ np.linalg.inv(X_S.T @ X_S) @ X_S.T\n",
    "\n",
    "for i in tqdm(range(B)):\n",
    "    #if t_df == np.inf:\n",
    "    #    E = np.random.normal(0, 1, size=(n, p-k))\n",
    "    #else:\n",
    "    #    E = np.random.standard_t(df=t_df, size=(n, p))\n",
    "    #E1 = np.random.chisquare(chi_df, size=(n, int((p-k)/2))) - chi_df\n",
    "    #E2 = np.random.standard_t(df=t_df, size=(n, int((p-k)/2)))\n",
    "    #E = np.hstack([E1, E2])\n",
    "    #E = np.random.choice([-1, 1], size=(n, p-k))\n",
    "    E = np.random.standard_t(df=t_df, size=(n, p-k))\n",
    "    M = E.T @ E\n",
    "    #M = E.T @ P @ E\n",
    "    stats.append( n*(np.sum(np.log(np.diag(M))) - np.log(np.linalg.det(M))) )\n",
    "plt.hist(stats, bins=50, density=True, label='real', alpha=0.7)\n",
    "#plt.hist(sample_null(B, n, p, k), bins=50, density=True, label='finite', alpha=0.7)\n",
    "\n",
    "x = np.arange(min(stats), max(stats), 0.001)\n",
    "plt.plot(x,chi2.pdf(x, df=int((p-k)*(p-k-1)/2)), label='limiting',alpha=0.7)\n",
    "plt.legend()"
   ]
  },
  {
   "cell_type": "code",
   "execution_count": null,
   "id": "ceeb509b",
   "metadata": {},
   "outputs": [
    {
     "ename": "",
     "evalue": "",
     "output_type": "error",
     "traceback": [
      "\u001b[1;31mRunning cells with '/Users/anavsood/mambaforge/bin/python' requires the ipykernel package.\n",
      "\u001b[1;31mRun the following command to install 'ipykernel' into the Python environment. \n",
      "\u001b[1;31mCommand: 'conda install -p /Users/anavsood/mambaforge ipykernel --update-deps --force-reinstall'"
     ]
    }
   ],
   "source": [
    "def comp_stat(Sigma, n, k):\n",
    "    resid = regress_off(Sigma, np.arange(k))\n",
    "    return n * (np.sum(np.log(np.diag(resid[k:, k:]))) - np.log(np.linalg.det(resid[k:, k:])))\n",
    "\n",
    "def sample_null(B, n, p, k):\n",
    "    num_adjusted_samples = n - k - 1 \n",
    "    num_features = p-k\n",
    "    full_dfs = np.array([num_adjusted_samples - i + 1 for i in range(1, num_features + 1)])\n",
    "    full_chi_sqs = np.random.chisquare(df=full_dfs, size=(B, len(full_dfs)))\n",
    "    null_dfs = np.arange(1, num_features)\n",
    "    null_chi_sqs = np.random.chisquare(df=null_dfs, size=(B, len(null_dfs)))\n",
    "    null_chi_sqs = np.hstack([np.zeros(B).reshape((B, 1)), null_chi_sqs])\n",
    "    return n*(np.sum( np.log(null_chi_sqs/full_chi_sqs + 1), axis=1))\n",
    "\n",
    "k_to_color = {20: 'tab:blue',\n",
    "             21: 'tab:orange',\n",
    "             22: 'tab:green'}\n",
    "B=1000\n",
    "p=50\n",
    "k=20\n",
    "n=100\n",
    "F_dist = 'ordinal'\n",
    "eps_dist = 'nonnormal'\n",
    "\n",
    "x = np.arange(250, 550, 0.001)\n",
    "\n",
    "if F_dist == 'gaussian':\n",
    "    X_S = np.random.normal(0, 1, (B, n, k)) @ C_chol.T[np.newaxis, :, :]\n",
    "if F_dist == 'ordinal':\n",
    "    X_S = np.random.choice(np.array([0, 1, 2, 3, 4]), size=(B, n, k))\n",
    "if F_dist == 'cauchy':\n",
    "    X_S = skewcauchy.rvs(a=0.5, size=(B, n, k))\n",
    "\n",
    "if eps_dist=='normal':\n",
    "    X = generate_PCSS_data(X_S, W, D=D)\n",
    "elif eps_dist == 'nonnormal': \n",
    "    eps1 = np.random.exponential(1, size=(B, n , int((p-k)/3))) - 1\n",
    "    eps2 = np.random.chisquare(3, size=(B, n , int((p-k)/3))) - 3\n",
    "    eps3 = np.random.standard_t(5, size=(B, n , int((p-k)/3)))\n",
    "    eps = np.dstack([eps1, eps2, eps3])  \n",
    "    X_S_comp = X_S @ np.transpose(W[np.newaxis, : , :], axes=(0, 2, 1)) + eps\n",
    "    X = np.dstack([X_S, X_S_comp])\n",
    "\n",
    "X_c = X - np.mean(X, axis=1)[:, np.newaxis, :]  \n",
    "Sigma_hats = 1/n * np.transpose(X_c, (0, 2, 1) ) @ X_c\n",
    "\n",
    "\n",
    "\n",
    "for i in range(k, k+3):\n",
    "    \n",
    "    ## plot asymptotics\n",
    "    \n",
    "    plt.plot(x, chi2.pdf(x, df=int((p-i)*(p-i-1)/2)), label='k=' + str(20 + i), color=k_to_color[i], alpha=0.7)\n",
    "    plt.axvline(chi2.ppf(0.9, df=int((p-i)*(p-i-1)/2)), color=k_to_color[i]) \n",
    "    \n",
    "    \n",
    "    ## plot finite sample\n",
    "    \n",
    "    target_stats = sample_null(B, n, p, i)\n",
    "    plt.hist(target_stats, color=k_to_color[i], alpha=0.5, density=True, edgecolor='black')\n",
    "    plt.axvline(np.quantile(target_stats, 0.9), color=k_to_color[i], linestyle='dotted')\n",
    "    \n",
    "    \n",
    "    ## plot actual dist \n",
    "    real_stats = []\n",
    "    for j in range(B):\n",
    "        try:\n",
    "            real_stats.append(comp_stat(Sigma_hats[j, :, :], n, i))\n",
    "        except:\n",
    "            pass \n",
    "    plt.hist(real_stats, color=k_to_color[i], alpha=0.5, density=True)\n",
    "    plt.axvline(np.quantile(real_stats, 0.9), color=k_to_color[i], linestyle='dashed')"
   ]
  },
  {
   "cell_type": "code",
   "execution_count": null,
   "id": "6b141798",
   "metadata": {},
   "outputs": [
    {
     "ename": "",
     "evalue": "",
     "output_type": "error",
     "traceback": [
      "\u001b[1;31mRunning cells with '/Users/anavsood/mambaforge/bin/python' requires the ipykernel package.\n",
      "\u001b[1;31mRun the following command to install 'ipykernel' into the Python environment. \n",
      "\u001b[1;31mCommand: 'conda install -p /Users/anavsood/mambaforge ipykernel --update-deps --force-reinstall'"
     ]
    }
   ],
   "source": [
    "B = 100\n",
    "n = 500\n",
    "p=50\n",
    "k=20\n",
    "\n",
    "def comp_stat(Sigma, n, S):\n",
    "    p = Sigma.shape[0]\n",
    "    S_comp = complement(p, S)\n",
    "    resid = regress_off(Sigma, S)\n",
    "    resid_comp = resid[:, S_comp][S_comp, :]\n",
    "    return n * (np.sum(np.log(np.diag(resid_comp))) - np.log(np.linalg.det(resid_comp)))\n",
    "\n",
    "X_S = np.random.choice(np.array([0, 1, 2, 3, 4]), size=(B, n, k))\n",
    "\n",
    "eps1 = np.random.exponential(1, size=(B, n , int((p-k)/3))) - 1\n",
    "eps2 = np.random.chisquare(3, size=(B, n , int((p-k)/3))) - 3\n",
    "eps3 = np.random.standard_t(5, size=(B, n , int((p-k)/3)))\n",
    "eps = np.dstack([eps1, eps2, eps3])  \n",
    "X_S_comp = X_S @ np.transpose(W[np.newaxis, : , :], axes=(0, 2, 1)) + eps\n",
    "X = np.dstack([X_S, X_S_comp])\n",
    "X_c = X - np.mean(X, axis=1)[:, np.newaxis, :]  \n",
    "Sigma_hats = 1/n * np.transpose(X_c, (0, 2, 1) ) @ X_c\n",
    "\n",
    "reject = np.zeros(B)\n",
    "plotting = []\n",
    "\n",
    "for i in range(B):\n",
    "    pcss = PCSS()\n",
    "    pcss.compute_MLE_from_cov(Sigma_hats[i, :, :], k=k+2, method='swap', noise='diag')\n",
    "    stat = comp_stat(Sigma_hats[i, :, :], n, pcss.S)\n",
    "    plotting.append(comp_stat(Sigma_hats[i, :, :], n, np.arange(k+2)))\n",
    "    if stat > scipy.stats.chi2.ppf(0.9, df=int( (p - (k + 2)) * (p - (k + 2) - 1)/2)):\n",
    "        reject[i] = 1\n",
    "\n",
    "np.mean(reject)"
   ]
  },
  {
   "cell_type": "code",
   "execution_count": null,
   "id": "d01596a4",
   "metadata": {},
   "outputs": [
    {
     "ename": "",
     "evalue": "",
     "output_type": "error",
     "traceback": [
      "\u001b[1;31mRunning cells with '/Users/anavsood/mambaforge/bin/python' requires the ipykernel package.\n",
      "\u001b[1;31mRun the following command to install 'ipykernel' into the Python environment. \n",
      "\u001b[1;31mCommand: 'conda install -p /Users/anavsood/mambaforge ipykernel --update-deps --force-reinstall'"
     ]
    }
   ],
   "source": [
    "nums = []\n",
    "for i in range(B):\n",
    "    nums.append(len(sieves_gaussian_LRT(Sigma_hats[0, :, :], n, 0.1, noise='diag', method='swap', num_inits=1, asymptotic=True)))\n",
    "                              \n",
    "                              \n",
    "                              \n",
    "                              "
   ]
  },
  {
   "cell_type": "code",
   "execution_count": null,
   "id": "839df00a",
   "metadata": {},
   "outputs": [
    {
     "ename": "",
     "evalue": "",
     "output_type": "error",
     "traceback": [
      "\u001b[1;31mRunning cells with '/Users/anavsood/mambaforge/bin/python' requires the ipykernel package.\n",
      "\u001b[1;31mRun the following command to install 'ipykernel' into the Python environment. \n",
      "\u001b[1;31mCommand: 'conda install -p /Users/anavsood/mambaforge ipykernel --update-deps --force-reinstall'"
     ]
    }
   ],
   "source": []
  },
  {
   "cell_type": "code",
   "execution_count": null,
   "id": "b1837fbe",
   "metadata": {},
   "outputs": [
    {
     "ename": "",
     "evalue": "",
     "output_type": "error",
     "traceback": [
      "\u001b[1;31mRunning cells with '/Users/anavsood/mambaforge/bin/python' requires the ipykernel package.\n",
      "\u001b[1;31mRun the following command to install 'ipykernel' into the Python environment. \n",
      "\u001b[1;31mCommand: 'conda install -p /Users/anavsood/mambaforge ipykernel --update-deps --force-reinstall'"
     ]
    }
   ],
   "source": [
    "comp_stat(Sigma_hats[0, :, :], n, k+i)"
   ]
  },
  {
   "cell_type": "code",
   "execution_count": null,
   "id": "ef0c41d1",
   "metadata": {},
   "outputs": [
    {
     "ename": "",
     "evalue": "",
     "output_type": "error",
     "traceback": [
      "\u001b[1;31mRunning cells with '/Users/anavsood/mambaforge/bin/python' requires the ipykernel package.\n",
      "\u001b[1;31mRun the following command to install 'ipykernel' into the Python environment. \n",
      "\u001b[1;31mCommand: 'conda install -p /Users/anavsood/mambaforge ipykernel --update-deps --force-reinstall'"
     ]
    }
   ],
   "source": [
    "regress_off(Sigma_hats[0, :, :], np.arange(k))"
   ]
  },
  {
   "cell_type": "code",
   "execution_count": null,
   "id": "2cd74dd2",
   "metadata": {},
   "outputs": [
    {
     "ename": "",
     "evalue": "",
     "output_type": "error",
     "traceback": [
      "\u001b[1;31mRunning cells with '/Users/anavsood/mambaforge/bin/python' requires the ipykernel package.\n",
      "\u001b[1;31mRun the following command to install 'ipykernel' into the Python environment. \n",
      "\u001b[1;31mCommand: 'conda install -p /Users/anavsood/mambaforge ipykernel --update-deps --force-reinstall'"
     ]
    }
   ],
   "source": [
    "stats"
   ]
  },
  {
   "cell_type": "code",
   "execution_count": null,
   "id": "271417d8",
   "metadata": {},
   "outputs": [
    {
     "ename": "",
     "evalue": "",
     "output_type": "error",
     "traceback": [
      "\u001b[1;31mRunning cells with '/Users/anavsood/mambaforge/bin/python' requires the ipykernel package.\n",
      "\u001b[1;31mRun the following command to install 'ipykernel' into the Python environment. \n",
      "\u001b[1;31mCommand: 'conda install -p /Users/anavsood/mambaforge ipykernel --update-deps --force-reinstall'"
     ]
    }
   ],
   "source": [
    "fig, axes = plt.subplots(1, 2, figsize=(10 , 3 ))\n",
    "\n",
    "p = 50\n",
    "k = 20\n",
    "n = 500\n",
    "real_dist = sample_LRT_stat_under_null(n, p, k, B=int(1e6), noise='diag')\n",
    "sns.distplot(real_dist, ax=axes[0], color='tab:blue')\n",
    "x = np.arange(min(real_dist), max(real_dist), 0.001)\n",
    "sns.lineplot(x=x, y=chi2.pdf(x, df=cov_df(p) - model_df(p, k, 'diag')), ax=axes[0], color='tab:orange')\n",
    "\n",
    "p = 50\n",
    "k = 20\n",
    "n = 5000\n",
    "real_dist = sample_LRT_stat_under_null(n, p, k, B=int(1e6), noise='diag')\n",
    "sns.distplot(real_dist, ax=axes[1], color='tab:blue')\n",
    "x = np.arange(min(real_dist), max(real_dist), 0.001)\n",
    "sns.lineplot(x=x, y=chi2.pdf(x, df=cov_df(p) - model_df(p, k, 'diag')), ax=axes[1], color='tab:orange')\n",
    "\n",
    "pivotal_handle, = plt.plot([], [], color='tab:blue', label='Finite Sample Dist.', linewidth=4)\n",
    "wilks_handle, = plt.plot([], [], color='tab:orange', label='Asymptotic Dist.', linewidth=4)\n",
    "\n",
    "\n",
    "leg = fig.legend(handles=[pivotal_handle, wilks_handle], prop={'size': 9}, bbox_to_anchor=(0.64, 0.02), ncol=2)  \n",
    "plt.tight_layout()\n",
    "\n",
    "#plt.savefig(\"../figures/dist_comparison.pdf\", bbox_inches='tight')"
   ]
  },
  {
   "cell_type": "code",
   "execution_count": null,
   "id": "d094893b",
   "metadata": {},
   "outputs": [
    {
     "ename": "",
     "evalue": "",
     "output_type": "error",
     "traceback": [
      "\u001b[1;31mRunning cells with '/Users/anavsood/mambaforge/bin/python' requires the ipykernel package.\n",
      "\u001b[1;31mRun the following command to install 'ipykernel' into the Python environment. \n",
      "\u001b[1;31mCommand: 'conda install -p /Users/anavsood/mambaforge ipykernel --update-deps --force-reinstall'"
     ]
    }
   ],
   "source": [
    "from pycss.CSS import *\n",
    "from pycss.subset_selection import *\n",
    "from notebook_utils.utils import * \n",
    "from notebook_utils.data_generation import * \n",
    "from notebook_utils.missing_data import *\n",
    "\n",
    "\n",
    "p = 25\n",
    "k = 8\n",
    "C_chol = get_equicorrelated_chol(k, 0.25, diag=1)\n",
    "C = C_chol @ C_chol.T\n",
    "sigma_sq = 0.2\n",
    "    \n",
    "W = get_block_W(p, k, num_blocks=2, block_size=3, overlap=2)\n",
    "\n",
    "#signs = np.array([[1, 1, 1, 0], \n",
    "#                  [1, 1, -1, 0], \n",
    "#                  [1, -1, 1, 0], \n",
    "#                  [1, -1, -1, 0], \n",
    "#                  [-1, 1, 1, 0],\n",
    "#                  [-1, 1, -1, 0], \n",
    "#                  [-1, -1, 1, 0],\n",
    "#                  [-1, -1, -1, 0],\n",
    "#                  [0, 1, 1, 1], \n",
    "#                  [0, 1, 1, -1], \n",
    "#                  [0, 1, -1, 1], \n",
    "#                  [0, 1, -1, -1], \n",
    "#                  [0, -1, 1, 1],\n",
    "#                  [0, -1, 1, -1], \n",
    "#                  [0, -1, -1, 1],\n",
    "#                  [0, -1, -1, -1]])\n",
    "\n",
    "\n",
    "#W *= signs\n",
    "W = np.random.choice([-1, 1], size=(p-k , k))\n",
    "signal_sizes = np.sum(W * (W @ C), axis=1)\n",
    "W = np.sqrt(1 - sigma_sq)/np.sqrt(signal_sizes)[:, None] * W\n",
    "S = np.arange(k)\n",
    "\n",
    "MLE = {'C_MLE': C,\n",
    "       'W_MLE': W,\n",
    "       'sigma_sq_MLE': sigma_sq,\n",
    "       'S_MLE': np.arange(k)}\n",
    "\n",
    "\n",
    "def Sigma_MLE_from_MLE(MLE):\n",
    "    \n",
    "    noise = noise_from_MLE(MLE)\n",
    "    p = np.sum(MLE['W_MLE'].shape)\n",
    "    k = len(MLE['S_MLE'])\n",
    "    \n",
    "    Sigma_MLE = np.zeros((p, p))\n",
    "    Sigma_MLE[:k, :k] = MLE['C_MLE'].copy()\n",
    "    Sigma_MLE[k:, :k] = MLE['W_MLE'] @ MLE['C_MLE']\n",
    "    Sigma_MLE[:k, k:] = Sigma_MLE[k:, :k].T.copy()\n",
    "    Sigma_MLE[k:, k:] =  MLE['W_MLE'] @ MLE['C_MLE'] @ MLE['W_MLE'].T\n",
    "    if noise == 'sph':\n",
    "        np.fill_diagonal(Sigma_MLE[k:, k:], np.diag(Sigma_MLE[k:, k:]) + MLE['sigma_sq_MLE'])\n",
    "    if noise == 'diag':\n",
    "        np.fill_diagonal(Sigma_MLE[k:, k:], np.diag(Sigma_MLE[k:, k:]) + MLE['D_MLE'])\n",
    "    perm_in_place(Sigma_MLE, np.concatenate([MLE['S_MLE'], complement(p, MLE['S_MLE'])]), np.arange(p))\n",
    "    \n",
    "    return Sigma_MLE\n",
    "    \n",
    "\n",
    "Sigma = Sigma_MLE_from_MLE(MLE)\n"
   ]
  },
  {
   "cell_type": "code",
   "execution_count": null,
   "id": "59a24688",
   "metadata": {},
   "outputs": [
    {
     "ename": "",
     "evalue": "",
     "output_type": "error",
     "traceback": [
      "\u001b[1;31mRunning cells with '/Users/anavsood/mambaforge/bin/python' requires the ipykernel package.\n",
      "\u001b[1;31mRun the following command to install 'ipykernel' into the Python environment. \n",
      "\u001b[1;31mCommand: 'conda install -p /Users/anavsood/mambaforge ipykernel --update-deps --force-reinstall'"
     ]
    }
   ],
   "source": [
    "import itertools\n",
    "\n",
    "sets = []\n",
    "vals = []\n",
    "\n",
    "for s in tqdm(itertools.combinations(np.arange(p), k)):\n",
    "    sets.append(s)\n",
    "    comp = complement(p, s)\n",
    "    resid = Sigma[comp, :][:, comp] - Sigma[comp, :][:, s] @ np.linalg.inv(Sigma[s, :][:, s]) @ Sigma[s, :][:, comp]\n",
    "    vals.append(np.log(np.linalg.det(Sigma[:, s][s, :])) + np.sum(np.log(np.diag(resid))))\n",
    "\n",
    "sorting = np.argsort(vals)\n",
    "S_first = sets[sorting[0]]\n",
    "S_second = sets[sorting[1]]\n",
    "print(sets[sorting[0]])\n",
    "print(sets[sorting[1]])"
   ]
  },
  {
   "cell_type": "code",
   "execution_count": null,
   "id": "d8315635",
   "metadata": {},
   "outputs": [
    {
     "ename": "",
     "evalue": "",
     "output_type": "error",
     "traceback": [
      "\u001b[1;31mRunning cells with '/Users/anavsood/mambaforge/bin/python' requires the ipykernel package.\n",
      "\u001b[1;31mRun the following command to install 'ipykernel' into the Python environment. \n",
      "\u001b[1;31mCommand: 'conda install -p /Users/anavsood/mambaforge ipykernel --update-deps --force-reinstall'"
     ]
    }
   ],
   "source": [
    "n = 26\n",
    "B = 1000\n",
    "thresh = Q(0.99, n, p, k, noise='diag')\n",
    "Sigma_chol = np.linalg.cholesky(Sigma)\n",
    "X = np.random.normal(0, 1, (B, n, p)) @ Sigma_chol.T[np.newaxis, :, :]\n",
    "X_c = X - np.mean(X, axis=1)[:, np.newaxis, :]  \n",
    "Sigma_hats = 1/n * np.transpose(X_c, (0, 2, 1) ) @ X_c\n",
    "first_reject = []\n",
    "second_reject = []\n",
    "for i in range(B):\n",
    "    resid_1 = regress_off(Sigma_hats[i, :, :], S_first)[:, complement(p, S_first)][complement(p, S_first), :]\n",
    "    resid_2 = regress_off(Sigma_hats[i, :, :], S_second)[complement(p, S_second), : ][:,  complement(p, S_second) ]\n",
    "    stat_1 = n * (np.sum(np.log(np.diag(resid_1))) - np.log(np.linalg.det(resid_1)))\n",
    "    stat_2 = n * (np.sum(np.log(np.diag(resid_2))) - np.log(np.linalg.det(resid_2)))\n",
    "    first_reject.append(stat_1 > thresh)\n",
    "    second_reject.append(stat_2 > thresh)\n",
    "print(np.mean(first_reject))\n",
    "print(np.mean(second_reject))"
   ]
  },
  {
   "cell_type": "code",
   "execution_count": null,
   "id": "da15f1e0",
   "metadata": {},
   "outputs": [
    {
     "ename": "",
     "evalue": "",
     "output_type": "error",
     "traceback": [
      "\u001b[1;31mRunning cells with '/Users/anavsood/mambaforge/bin/python' requires the ipykernel package.\n",
      "\u001b[1;31mRun the following command to install 'ipykernel' into the Python environment. \n",
      "\u001b[1;31mCommand: 'conda install -p /Users/anavsood/mambaforge ipykernel --update-deps --force-reinstall'"
     ]
    }
   ],
   "source": [
    "ORDINAL_VALS = np.array([1, 2, 3, 4, 5])\n",
    "ORDINAL_MEAN = np.mean(ORDINAL_VALS)\n",
    "ORDINAL_VAR = np.mean([(x - ORDINAL_MEAN)**2 for x in ORDINAL_VALS]) \n",
    "\n",
    "\n",
    "def generate_ordinal_X_S(B, n, k, C_chol):\n",
    "    X_S = np.random.normal(0, 1, size=(B, n, k)) @ C_chol.T[np.newaxis, :, :]\n",
    "    p_vals = scipy.stats.norm().cdf(X_S)\n",
    "    \n",
    "    for i in range(5):\n",
    "        X_S[(i*0.2 <= p_vals) & (p_vals <= (i + 1)*0.2)]= i + 1\n",
    "    \n",
    "    return (X_S - ORDINAL_MEAN) * 1/np.sqrt(ORDINAL_VAR)"
   ]
  },
  {
   "cell_type": "code",
   "execution_count": null,
   "id": "e8fd9327",
   "metadata": {},
   "outputs": [
    {
     "ename": "",
     "evalue": "",
     "output_type": "error",
     "traceback": [
      "\u001b[1;31mRunning cells with '/Users/anavsood/mambaforge/bin/python' requires the ipykernel package.\n",
      "\u001b[1;31mRun the following command to install 'ipykernel' into the Python environment. \n",
      "\u001b[1;31mCommand: 'conda install -p /Users/anavsood/mambaforge ipykernel --update-deps --force-reinstall'"
     ]
    }
   ],
   "source": [
    "def generate_t_sq_X_S(B, n, k, df=5):\n",
    "    t_second = df/(df - 2)\n",
    "    t_fourth = 1/(np.sqrt(np.pi) * scipy.special.gamma(df/2)) * scipy.special.gamma(5/2) * scipy.special.gamma((df - 4)/2) * df**(2)\n",
    "    var = t_fourth - t_second**2\n",
    "    X_S = np.square(np.random.standard_t(df, size=(B, n, k)))\n",
    "    return (X_S - t_second)/np.sqrt(var)"
   ]
  },
  {
   "cell_type": "code",
   "execution_count": null,
   "id": "9cc03b59",
   "metadata": {},
   "outputs": [
    {
     "ename": "",
     "evalue": "",
     "output_type": "error",
     "traceback": [
      "\u001b[1;31mRunning cells with '/Users/anavsood/mambaforge/bin/python' requires the ipykernel package.\n",
      "\u001b[1;31mRun the following command to install 'ipykernel' into the Python environment. \n",
      "\u001b[1;31mCommand: 'conda install -p /Users/anavsood/mambaforge ipykernel --update-deps --force-reinstall'"
     ]
    }
   ],
   "source": [
    "df=5\n",
    "1/(np.sqrt(np.pi) * scipy.special.gamma(5/2)) * scipy.special.gamma(5/2) * scipy.special.gamma(1/2) * 5**(2)"
   ]
  },
  {
   "cell_type": "code",
   "execution_count": null,
   "id": "16681565",
   "metadata": {},
   "outputs": [
    {
     "ename": "",
     "evalue": "",
     "output_type": "error",
     "traceback": [
      "\u001b[1;31mRunning cells with '/Users/anavsood/mambaforge/bin/python' requires the ipykernel package.\n",
      "\u001b[1;31mRun the following command to install 'ipykernel' into the Python environment. \n",
      "\u001b[1;31mCommand: 'conda install -p /Users/anavsood/mambaforge ipykernel --update-deps --force-reinstall'"
     ]
    }
   ],
   "source": [
    "1/(np.sqrt(np.pi) * scipy.special.gamma(df/2)) * scipy.special.gamma(5/2) * scipy.special.gamma((df - 4)/2) * df**(2)"
   ]
  },
  {
   "cell_type": "code",
   "execution_count": null,
   "id": "07c18086",
   "metadata": {},
   "outputs": [
    {
     "ename": "",
     "evalue": "",
     "output_type": "error",
     "traceback": [
      "\u001b[1;31mRunning cells with '/Users/anavsood/mambaforge/bin/python' requires the ipykernel package.\n",
      "\u001b[1;31mRun the following command to install 'ipykernel' into the Python environment. \n",
      "\u001b[1;31mCommand: 'conda install -p /Users/anavsood/mambaforge ipykernel --update-deps --force-reinstall'"
     ]
    }
   ],
   "source": [
    "5/3"
   ]
  },
  {
   "cell_type": "code",
   "execution_count": null,
   "id": "03806c0e",
   "metadata": {},
   "outputs": [
    {
     "ename": "",
     "evalue": "",
     "output_type": "error",
     "traceback": [
      "\u001b[1;31mRunning cells with '/Users/anavsood/mambaforge/bin/python' requires the ipykernel package.\n",
      "\u001b[1;31mRun the following command to install 'ipykernel' into the Python environment. \n",
      "\u001b[1;31mCommand: 'conda install -p /Users/anavsood/mambaforge ipykernel --update-deps --force-reinstall'"
     ]
    }
   ],
   "source": [
    "np.mean(np.random.standard_t(5, int(1e8)) ** 4)"
   ]
  },
  {
   "cell_type": "code",
   "execution_count": null,
   "id": "752625b8",
   "metadata": {},
   "outputs": [
    {
     "ename": "",
     "evalue": "",
     "output_type": "error",
     "traceback": [
      "\u001b[1;31mRunning cells with '/Users/anavsood/mambaforge/bin/python' requires the ipykernel package.\n",
      "\u001b[1;31mRun the following command to install 'ipykernel' into the Python environment. \n",
      "\u001b[1;31mCommand: 'conda install -p /Users/anavsood/mambaforge ipykernel --update-deps --force-reinstall'"
     ]
    }
   ],
   "source": [
    "x = generate_t_sq_X_S(1, 10000000, k, df=5)[0, :, :]\n",
    "mu, Sigma = get_moments(x)\n",
    "print(mu)\n",
    "print(np.diag(Sigma))"
   ]
  },
  {
   "cell_type": "code",
   "execution_count": null,
   "id": "f6a9bb17",
   "metadata": {},
   "outputs": [
    {
     "ename": "",
     "evalue": "",
     "output_type": "error",
     "traceback": [
      "\u001b[1;31mRunning cells with '/Users/anavsood/mambaforge/bin/python' requires the ipykernel package.\n",
      "\u001b[1;31mRun the following command to install 'ipykernel' into the Python environment. \n",
      "\u001b[1;31mCommand: 'conda install -p /Users/anavsood/mambaforge ipykernel --update-deps --force-reinstall'"
     ]
    }
   ],
   "source": [
    "def Sigma_MLE_from_MLE(MLE):\n",
    "    \n",
    "    noise = noise_from_MLE(MLE)\n",
    "    p = np.sum(MLE['W_MLE'].shape)\n",
    "    k = len(MLE['S_MLE'])\n",
    "    \n",
    "    Sigma_MLE = np.zeros((p, p))\n",
    "    Sigma_MLE[:k, :k] = MLE['C_MLE'].copy()\n",
    "    Sigma_MLE[k:, :k] = MLE['W_MLE'] @ MLE['C_MLE']\n",
    "    Sigma_MLE[:k, k:] = Sigma_MLE[k:, :k].T.copy()\n",
    "    Sigma_MLE[k:, k:] =  MLE['W_MLE'] @ MLE['C_MLE'] @ MLE['W_MLE'].T\n",
    "    if noise == 'sph':\n",
    "        np.fill_diagonal(Sigma_MLE[k:, k:], np.diag(Sigma_MLE[k:, k:]) + MLE['sigma_sq_MLE'])\n",
    "    if noise == 'diag':\n",
    "        np.fill_diagonal(Sigma_MLE[k:, k:], np.diag(Sigma_MLE[k:, k:]) + MLE['D_MLE'])\n",
    "    perm_in_place(Sigma_MLE, np.concatenate([MLE['S_MLE'], complement(p, MLE['S_MLE'])]), np.arange(p))\n",
    "    \n",
    "    return Sigma_MLE"
   ]
  },
  {
   "cell_type": "code",
   "execution_count": null,
   "id": "41698f82",
   "metadata": {},
   "outputs": [
    {
     "ename": "",
     "evalue": "",
     "output_type": "error",
     "traceback": [
      "\u001b[1;31mRunning cells with '/Users/anavsood/mambaforge/bin/python' requires the ipykernel package.\n",
      "\u001b[1;31mRun the following command to install 'ipykernel' into the Python environment. \n",
      "\u001b[1;31mCommand: 'conda install -p /Users/anavsood/mambaforge ipykernel --update-deps --force-reinstall'"
     ]
    }
   ],
   "source": [
    "p = 50\n",
    "k = 20\n",
    "rho = 0.5\n",
    "C_chol = scipy.linalg.block_diag(get_equicorrelated_chol(4, rho, diag=1), \n",
    "                        get_equicorrelated_chol(4, rho, diag=1),\n",
    "                        get_equicorrelated_chol(4, rho, diag=1),\n",
    "                        get_equicorrelated_chol(4, rho, diag=1),\n",
    "                        get_equicorrelated_chol(4, rho, diag=1))\n",
    "C = C_chol @ C_chol.T\n",
    "\n",
    "W = get_block_W(p, k, num_blocks=4, block_size=8, overlap=4)\n",
    "\n",
    "np.random.seed(0)\n",
    "W *= np.random.choice(np.array([-1, 1]), W.shape)\n",
    "\n",
    "D = np.concatenate([np.arange(1, 7) for i in range(5)] )\n",
    "\n",
    "\n",
    "B = 100\n",
    "noise = 'diag'\n",
    "method = 'swap'\n",
    "num_inits = 10 \n",
    "noise_levels = [0.022, 0.81, 2.71, 9.2, 350]\n",
    "noise_levels = [0.81, 2.71, 9.2]\n",
    "ns = [200]\n",
    "alpha = 0.05\n",
    "\n",
    "gaussian_noise = True\n",
    "asymptotic=True\n",
    "\n",
    "signal_to_Sigma = {np.mean(np.diag(W @ C @ W.T)/(np.diag(W @ C @ W.T) + noise_level*D)): \n",
    "                   Sigma_MLE_from_MLE(MLE = {'S_MLE': np.arange(k),\n",
    "                                             'C_MLE': C,\n",
    "                                             'W_MLE': W,\n",
    "                                             'D_MLE': noise_level * D}) \n",
    "                   for noise_level in noise_levels }\n",
    "\n",
    "quantiles = {}\n",
    "\n",
    "for n in ns:\n",
    "    for i in range(1, p-1):\n",
    "        quantiles[(n, p, i, 1 - alpha, noise)] = Q(1 - alpha, n, p, i, noise=noise)"
   ]
  },
  {
   "cell_type": "code",
   "execution_count": null,
   "id": "a2e15ee9",
   "metadata": {},
   "outputs": [
    {
     "ename": "",
     "evalue": "",
     "output_type": "error",
     "traceback": [
      "\u001b[1;31mRunning cells with '/Users/anavsood/mambaforge/bin/python' requires the ipykernel package.\n",
      "\u001b[1;31mRun the following command to install 'ipykernel' into the Python environment. \n",
      "\u001b[1;31mCommand: 'conda install -p /Users/anavsood/mambaforge ipykernel --update-deps --force-reinstall'"
     ]
    }
   ],
   "source": [
    "X_S = np.random.normal(0, 1, (B, n, k)) @ C_chol.T[np.newaxis, :, :]\n",
    "eps1 = (np.random.exponential(1, size=(B, n , int((p-k)/3))) - 1) \n",
    "eps2 = np.random.choice([-1, 1], size=(B, n, int((p-k)/3)))\n",
    "eps3 = np.random.standard_t(3, size=(B, n , int((p-k)/3))) / np.sqrt(3)\n",
    "eps = np.dstack([eps1, eps2, eps3]) * np.sqrt(D)[np.newaxis, np.newaxis, : ]\n",
    "#np.random.seed(0)\n",
    "#eps = eps[:, :, np.random.choice(np.arange(p-k), p-k, replace=False)]\n",
    "X_S_comp = X_S @ np.transpose(W[np.newaxis, : , :], axes=(0, 2, 1)) + eps\n",
    "X = np.dstack([X_S, X_S_comp])\n",
    "X_c = X - np.mean(X, axis=1)[:, np.newaxis, :]  \n",
    "Sigma_hats = 1/n * np.transpose(X_c, (0, 2, 1) ) @ X_c"
   ]
  },
  {
   "cell_type": "code",
   "execution_count": null,
   "id": "32a19488",
   "metadata": {},
   "outputs": [
    {
     "ename": "",
     "evalue": "",
     "output_type": "error",
     "traceback": [
      "\u001b[1;31mRunning cells with '/Users/anavsood/mambaforge/bin/python' requires the ipykernel package.\n",
      "\u001b[1;31mRun the following command to install 'ipykernel' into the Python environment. \n",
      "\u001b[1;31mCommand: 'conda install -p /Users/anavsood/mambaforge ipykernel --update-deps --force-reinstall'"
     ]
    }
   ],
   "source": [
    "gaussian_Sigma_hats = generate_gaussian_PCSS_sample_cov(ns[0], C_chol, W, D=D, B=B)"
   ]
  },
  {
   "cell_type": "code",
   "execution_count": null,
   "id": "84444c9b",
   "metadata": {},
   "outputs": [
    {
     "ename": "",
     "evalue": "",
     "output_type": "error",
     "traceback": [
      "\u001b[1;31mRunning cells with '/Users/anavsood/mambaforge/bin/python' requires the ipykernel package.\n",
      "\u001b[1;31mRun the following command to install 'ipykernel' into the Python environment. \n",
      "\u001b[1;31mCommand: 'conda install -p /Users/anavsood/mambaforge ipykernel --update-deps --force-reinstall'"
     ]
    }
   ],
   "source": [
    "correct = []\n",
    "for i in range(B):\n",
    "    pcss = PCSS()\n",
    "    pcss.compute_MLE_from_cov(gaussian_Sigma_hats[i, :, :], k, method='swap', noise=noise)\n",
    "    correct.append(set(pcss.S).issuperset(set(np.arange(k))))\n",
    "print(np.mean(correct))"
   ]
  },
  {
   "cell_type": "code",
   "execution_count": null,
   "id": "615d8d45",
   "metadata": {},
   "outputs": [
    {
     "ename": "",
     "evalue": "",
     "output_type": "error",
     "traceback": [
      "\u001b[1;31mRunning cells with '/Users/anavsood/mambaforge/bin/python' requires the ipykernel package.\n",
      "\u001b[1;31mRun the following command to install 'ipykernel' into the Python environment. \n",
      "\u001b[1;31mCommand: 'conda install -p /Users/anavsood/mambaforge ipykernel --update-deps --force-reinstall'"
     ]
    }
   ],
   "source": [
    "contains = []\n",
    "lengths = []\n",
    "for i in tqdm(range(B)):\n",
    "    selected_S = sieves_gaussian_LRT(gaussian_Sigma_hats[i, : , :], ns[0], 0.1, noise='diag', method='swap', num_inits=1, quantiles=quantiles)\n",
    "    contains.append(set(selected_S).issuperset(set(np.arange(k))))\n",
    "    lengths.append(len(selected_S))\n",
    "print(np.mean(contains))\n",
    "plt.hist(lengths)"
   ]
  },
  {
   "cell_type": "code",
   "execution_count": null,
   "id": "e54247c2",
   "metadata": {},
   "outputs": [
    {
     "ename": "",
     "evalue": "",
     "output_type": "error",
     "traceback": [
      "\u001b[1;31mRunning cells with '/Users/anavsood/mambaforge/bin/python' requires the ipykernel package.\n",
      "\u001b[1;31mRun the following command to install 'ipykernel' into the Python environment. \n",
      "\u001b[1;31mCommand: 'conda install -p /Users/anavsood/mambaforge ipykernel --update-deps --force-reinstall'"
     ]
    }
   ],
   "source": [
    "def comp_stat(Sigma, n, k):\n",
    "    resid = regress_off(Sigma, np.arange(k))\n",
    "    return n * (np.sum(np.log(np.diag(resid[k:, k:]))) - np.log(np.linalg.det(resid[k:, k:])))"
   ]
  },
  {
   "cell_type": "code",
   "execution_count": null,
   "id": "c5e0f470",
   "metadata": {},
   "outputs": [
    {
     "ename": "",
     "evalue": "",
     "output_type": "error",
     "traceback": [
      "\u001b[1;31mRunning cells with '/Users/anavsood/mambaforge/bin/python' requires the ipykernel package.\n",
      "\u001b[1;31mRun the following command to install 'ipykernel' into the Python environment. \n",
      "\u001b[1;31mCommand: 'conda install -p /Users/anavsood/mambaforge ipykernel --update-deps --force-reinstall'"
     ]
    }
   ],
   "source": [
    "n = ns[0]\n",
    "X_S = np.random.normal(0, 1, (B, n, k)) @ C_chol.T[np.newaxis, :, :]\n",
    "eps1 = np.random.exponential(1, size=(B, n , int((p-k)/3))) - 1\n",
    "eps2 = np.random.chisquare(3, size=(B, n , int((p-k)/3))) - 3\n",
    "eps3 = np.random.standard_t(5, size=(B, n , int((p-k)/3)))\n",
    "eps = np.dstack([eps1, eps2, eps3])\n",
    "X_S_comp = X_S @ np.transpose(W[np.newaxis, : , :], axes=(0, 2, 1)) + eps\n",
    "X = np.dstack([X_S, X_S_comp])\n",
    "X_c = X - np.mean(X, axis=1)[:, np.newaxis, :]  \n",
    "Sigma_hats = 1/n * np.transpose(X_c, (0, 2, 1) ) @ X_c"
   ]
  },
  {
   "cell_type": "code",
   "execution_count": null,
   "id": "ffe7651e",
   "metadata": {},
   "outputs": [
    {
     "ename": "",
     "evalue": "",
     "output_type": "error",
     "traceback": [
      "\u001b[1;31mRunning cells with '/Users/anavsood/mambaforge/bin/python' requires the ipykernel package.\n",
      "\u001b[1;31mRun the following command to install 'ipykernel' into the Python environment. \n",
      "\u001b[1;31mCommand: 'conda install -p /Users/anavsood/mambaforge ipykernel --update-deps --force-reinstall'"
     ]
    }
   ],
   "source": [
    "np.random.normal(0, 1, (B, n, k)).shape"
   ]
  },
  {
   "cell_type": "code",
   "execution_count": null,
   "id": "cc25377a",
   "metadata": {},
   "outputs": [
    {
     "ename": "",
     "evalue": "",
     "output_type": "error",
     "traceback": [
      "\u001b[1;31mRunning cells with '/Users/anavsood/mambaforge/bin/python' requires the ipykernel package.\n",
      "\u001b[1;31mRun the following command to install 'ipykernel' into the Python environment. \n",
      "\u001b[1;31mCommand: 'conda install -p /Users/anavsood/mambaforge ipykernel --update-deps --force-reinstall'"
     ]
    }
   ],
   "source": [
    "stats = []\n",
    "for i in range(B):\n",
    "    stats.append(comp_stat(Sigma_hats[i, :, :], n, k))\n",
    "    \n",
    "plt.hist(stats, label='stats', color='tab:orange', alpha=0.5, density=True)\n",
    "x = np.arange(min(stats), max(stats), 0.001)\n",
    "plt.plot(x, chi2.pdf(x, df=int((p-k)*(p-k-1)/2)), label='chi_sq', color='tab:blue', alpha=0.5, linewidth=4)\n",
    "plt.show()\n",
    "print(np.mean(np.array(stats) > chi2.ppf(0.9, (p-k)*(p-k-1)/2)))"
   ]
  },
  {
   "cell_type": "code",
   "execution_count": null,
   "id": "97368205",
   "metadata": {},
   "outputs": [
    {
     "ename": "",
     "evalue": "",
     "output_type": "error",
     "traceback": [
      "\u001b[1;31mRunning cells with '/Users/anavsood/mambaforge/bin/python' requires the ipykernel package.\n",
      "\u001b[1;31mRun the following command to install 'ipykernel' into the Python environment. \n",
      "\u001b[1;31mCommand: 'conda install -p /Users/anavsood/mambaforge ipykernel --update-deps --force-reinstall'"
     ]
    }
   ],
   "source": [
    "def get_df_from_frames(results_frames):\n",
    "    \n",
    "    results_df = pd.DataFrame(results_frames)\n",
    "    results_df['Type I Error'] = (results_df['Size Selected'] > k).astype(int)\n",
    "    results_df['% Correct'] = (results_df['Size Selected'] == k).astype(int)\n",
    "    results_df['Avg. Over'] = results_df['Size Selected'] - k\n",
    "    results_df.loc[results_df['Avg. Over'] <= 0, 'Avg. Over'] = np.nan\n",
    "    results_df['Avg. Under'] = k - results_df['Size Selected'] \n",
    "    results_df.loc[results_df['Avg. Under'] <= 0, 'Avg. Under'] = np.nan\n",
    "    \n",
    "    return results_df \n",
    "\n",
    "def cannonical_correlation(Sigma, S1, S2):\n",
    "    return np.trace(Sigma[S1, :][:, S2] @ np.linalg.inv(Sigma[S2, :][:, S2]) @ Sigma[S2, :][:, S1] @ np.linalg.inv(Sigma[S1, :][:, S1]))  \n",
    "\n",
    "def get_df_from_frames(results_frames, k, signal_to_Sigma):\n",
    "    pop_S = np.arange(k)\n",
    "    results_df = pd.DataFrame(results_frames)\n",
    "    results_df['Size of Selected Subset'] = [len(S) for S in results_df['Selected']]\n",
    "    results_df['# Correct Variables Selected'] = [len(set(S).intersection(set(pop_S))) for S in results_df['Selected']]\n",
    "    results_df['Sum of Sq. Cannonical Correlations'] = [cannonical_correlation(signal_to_Sigma[results_df['Signal Size'][i]], pop_S, results_df['Selected'][i]) for i in range(len(results_df))]\n",
    "    return results_df"
   ]
  },
  {
   "cell_type": "markdown",
   "id": "89b2ee5d",
   "metadata": {},
   "source": [
    "$X_S$ is Gaussian"
   ]
  },
  {
   "cell_type": "code",
   "execution_count": null,
   "id": "c4b86271",
   "metadata": {},
   "outputs": [
    {
     "ename": "",
     "evalue": "",
     "output_type": "error",
     "traceback": [
      "\u001b[1;31mRunning cells with '/Users/anavsood/mambaforge/bin/python' requires the ipykernel package.\n",
      "\u001b[1;31mRun the following command to install 'ipykernel' into the Python environment. \n",
      "\u001b[1;31mCommand: 'conda install -p /Users/anavsood/mambaforge ipykernel --update-deps --force-reinstall'"
     ]
    }
   ],
   "source": [
    "gaussian_results_frames = {'Signal Size': [], 'Sample Size' : [], 'Selected': []}\n",
    "\n",
    "for noise_level, n in tqdm(list(itertools.product(*[noise_levels, ns]))):\n",
    "    gaussian_results_frames['Signal Size'] += list(np.mean(np.diag(W @ C @ W.T)/(np.diag(W @ C @ W.T) + noise_level*D)) * np.ones(B))\n",
    "    gaussian_results_frames['Sample Size'] += list(n * np.ones(B))\n",
    "    \n",
    "    #Sigma_hats = generate_gaussian_PCSS_sample_cov(n, C_chol, W, D=noise_level*D, B=B)\n",
    "    \n",
    "    X_S = np.random.normal(0, 1, (B, n, k)) @ C_chol.T[np.newaxis, :, :]\n",
    "    eps1 = (np.random.exponential(1, size=(B, n , int((p-k)/3))) - 1) \n",
    "    eps2 = np.random.choice([-1, 1], size=(B, n, int((p-k)/3)))\n",
    "    eps3 = np.random.standard_t(3, size=(B, n , int((p-k)/3))) / np.sqrt(3)\n",
    "    eps = np.dstack([eps1, eps2, eps3]) * np.sqrt(noise_level * D)[np.newaxis, np.newaxis, : ]\n",
    "    X_S_comp = X_S @ np.transpose(W[np.newaxis, : , :], axes=(0, 2, 1)) + eps\n",
    "    X = np.dstack([X_S, X_S_comp])\n",
    "    X_c = X - np.mean(X, axis=1)[:, np.newaxis, :]  \n",
    "    Sigma_hats = 1/n * np.transpose(X_c, (0, 2, 1) ) @ X_c\n",
    "    \n",
    "    mp_func = partial(sieves_gaussian_LRT, n=n, alpha=alpha, noise=noise, method=method, num_inits=num_inits, quantiles=quantiles, asymptotic=asymptotic)\n",
    "    with Pool(multiprocessing.cpu_count()) as pool:\n",
    "        gaussian_results_frames['Selected'] +=  list(tqdm(pool.imap_unordered(mp_func, list(Sigma_hats))))\n",
    "    \n",
    "gaussian_results_df = get_df_from_frames(gaussian_results_frames, k, signal_to_Sigma)\n"
   ]
  },
  {
   "cell_type": "code",
   "execution_count": null,
   "id": "13202abc",
   "metadata": {},
   "outputs": [
    {
     "ename": "",
     "evalue": "",
     "output_type": "error",
     "traceback": [
      "\u001b[1;31mRunning cells with '/Users/anavsood/mambaforge/bin/python' requires the ipykernel package.\n",
      "\u001b[1;31mRun the following command to install 'ipykernel' into the Python environment. \n",
      "\u001b[1;31mCommand: 'conda install -p /Users/anavsood/mambaforge ipykernel --update-deps --force-reinstall'"
     ]
    }
   ],
   "source": [
    "import seaborn as sns\n",
    "import numpy as np\n",
    "from matplotlib.lines import Line2D\n",
    "from matplotlib.legend_handler import HandlerPatch\n",
    "import matplotlib.patches as mpatches\n",
    "\n",
    "df = gaussian_results_df.copy()\n",
    "df['Signal Size'] = np.round(df['Signal Size'], 2)\n",
    "df = df.loc[df['Signal Size'].isin([0.25, 0.5, 0.75])]\n",
    "df = df.loc[df['Sample Size'].isin([200])]\n",
    "fig, axes = plt.subplots(1, 3, figsize=(18, 6))\n",
    "spacing=5\n",
    "signal_spacing = 0.7  # Width of each box plot\n",
    "\n",
    "ys = ['Size of Selected Subset', '# Correct Variables Selected', 'Sum of Sq. Cannonical Correlations']  # Replace with your desired y variable names\n",
    "\n",
    "signal_sizes = sorted(df['Signal Size'].unique())  # Get unique signal sizes in ascending order\n",
    "color_palette = sns.color_palette('Set1', n_colors=len(signal_sizes))  # Generate a color palette with distinct colors\n",
    "\n",
    "sample_sizes = sorted(df['Sample Size'].unique())  # Get unique sample sizes in ascending order\n",
    "\n",
    "y_min = np.min(df[ys]) - 1\n",
    "y_max = np.max(df[ys]) + 1\n",
    "\n",
    "for i, (y_var, ax) in enumerate(zip(ys, axes)):\n",
    "    ax.set_title(y_var, fontsize=22)  # Set the title for each subplot\n",
    "    for j, signal_size in enumerate(signal_sizes):\n",
    "        subset = df[(df['Signal Size'] == signal_size)]\n",
    "        color = color_palette[j]\n",
    "        \n",
    "        x_values = spacing*np.arange(len(sample_sizes)) + (j - len(signal_sizes) // 2) * signal_spacing # Calculate the x-values for the box plots\n",
    "\n",
    "        for l, sample_size in enumerate(sample_sizes):\n",
    "            subset_sample = subset[subset['Sample Size'] == sample_size]\n",
    "            ax.set_ylim([y_min, y_max])\n",
    "            ax.tick_params(axis='y', labelsize=16)\n",
    "            ax.boxplot(subset_sample[y_var], \n",
    "                       positions=[x_values[l]], \n",
    "                       patch_artist=True, \n",
    "                       widths=0.4,\n",
    "                       boxprops=dict(facecolor=color,\n",
    "                                    alpha=0.8),\n",
    "                       medianprops=dict(color='black'),\n",
    "                       flierprops={'marker': 'D', \n",
    "                                   'markerfacecolor': color, \n",
    "                                   'markersize': 6,\n",
    "                                   'alpha': 0.8})\n",
    "\n",
    "        \n",
    "    ax.axhline(y=20, color='black', linestyle='--')  # Add a horizontal line at y=20\n",
    "    ax.set_xticks(spacing*np.arange(len(sample_sizes)))  # Set the x-axis tick positions\n",
    "    ax.set_xticklabels([])  # Set the x-axis tick labels\n",
    "\n",
    "handles = []\n",
    "labels = []\n",
    "for j, s in enumerate(signal_sizes):\n",
    "    # Create your plot elements and store the handles and labels\n",
    "    handle = Line2D([], [], marker='s', linestyle='None', markersize=15,\n",
    "                    markeredgecolor='black', color=color_palette[j])\n",
    "    handles.append(handle)\n",
    "    labels.append('Avg. R^2=' + str(s))\n",
    "\n",
    "handler_map = {mpatches.Patch: HandlerPatch(patch_func=lambda orig_handle, _: orig_handle)}\n",
    "fig.legend(handles=handles, labels=labels, handler_map=handler_map, prop={'size': 20}, bbox_to_anchor=(0.8, 0.00), ncols=len(signal_sizes))\n",
    "plt.tight_layout()\n",
    "plt.show()"
   ]
  },
  {
   "cell_type": "code",
   "execution_count": null,
   "id": "f1accd55",
   "metadata": {},
   "outputs": [
    {
     "ename": "",
     "evalue": "",
     "output_type": "error",
     "traceback": [
      "\u001b[1;31mRunning cells with '/Users/anavsood/mambaforge/bin/python' requires the ipykernel package.\n",
      "\u001b[1;31mRun the following command to install 'ipykernel' into the Python environment. \n",
      "\u001b[1;31mCommand: 'conda install -p /Users/anavsood/mambaforge ipykernel --update-deps --force-reinstall'"
     ]
    }
   ],
   "source": [
    "for j, signal_size in enumerate(signal_sizes):\n",
    "        subset = df[(df['Signal Size'] == signal_size)]\n",
    "        print(np.mean(subset['Size of Selected Subset'] > 20))"
   ]
  },
  {
   "cell_type": "code",
   "execution_count": null,
   "id": "229a4466",
   "metadata": {},
   "outputs": [
    {
     "ename": "",
     "evalue": "",
     "output_type": "error",
     "traceback": [
      "\u001b[1;31mRunning cells with '/Users/anavsood/mambaforge/bin/python' requires the ipykernel package.\n",
      "\u001b[1;31mRun the following command to install 'ipykernel' into the Python environment. \n",
      "\u001b[1;31mCommand: 'conda install -p /Users/anavsood/mambaforge ipykernel --update-deps --force-reinstall'"
     ]
    }
   ],
   "source": [
    "(np.arange(3) - len(signal_sizes) // 2)"
   ]
  },
  {
   "cell_type": "code",
   "execution_count": null,
   "id": "60e7a2b0",
   "metadata": {},
   "outputs": [
    {
     "ename": "",
     "evalue": "",
     "output_type": "error",
     "traceback": [
      "\u001b[1;31mRunning cells with '/Users/anavsood/mambaforge/bin/python' requires the ipykernel package.\n",
      "\u001b[1;31mRun the following command to install 'ipykernel' into the Python environment. \n",
      "\u001b[1;31mCommand: 'conda install -p /Users/anavsood/mambaforge ipykernel --update-deps --force-reinstall'"
     ]
    }
   ],
   "source": [
    "np.arange(len(sample_sizes)) + (j - len(signal_sizes) // 2)"
   ]
  },
  {
   "cell_type": "code",
   "execution_count": null,
   "id": "e6fc8300",
   "metadata": {},
   "outputs": [
    {
     "ename": "",
     "evalue": "",
     "output_type": "error",
     "traceback": [
      "\u001b[1;31mRunning cells with '/Users/anavsood/mambaforge/bin/python' requires the ipykernel package.\n",
      "\u001b[1;31mRun the following command to install 'ipykernel' into the Python environment. \n",
      "\u001b[1;31mCommand: 'conda install -p /Users/anavsood/mambaforge ipykernel --update-deps --force-reinstall'"
     ]
    }
   ],
   "source": [
    "sns.boxplot(positions=[1],y=subset_sample[y_var], color=color, flierprops={'marker': 'D', 'markerfacecolor': color, 'markersize': 6})\n"
   ]
  },
  {
   "cell_type": "code",
   "execution_count": null,
   "id": "630d2a15",
   "metadata": {},
   "outputs": [
    {
     "ename": "",
     "evalue": "",
     "output_type": "error",
     "traceback": [
      "\u001b[1;31mRunning cells with '/Users/anavsood/mambaforge/bin/python' requires the ipykernel package.\n",
      "\u001b[1;31mRun the following command to install 'ipykernel' into the Python environment. \n",
      "\u001b[1;31mCommand: 'conda install -p /Users/anavsood/mambaforge ipykernel --update-deps --force-reinstall'"
     ]
    }
   ],
   "source": [
    "plt.boxplot(np.random.normal(0,1, 100), positions=[15])\n"
   ]
  },
  {
   "cell_type": "code",
   "execution_count": null,
   "id": "91d6e77a",
   "metadata": {},
   "outputs": [
    {
     "ename": "",
     "evalue": "",
     "output_type": "error",
     "traceback": [
      "\u001b[1;31mRunning cells with '/Users/anavsood/mambaforge/bin/python' requires the ipykernel package.\n",
      "\u001b[1;31mRun the following command to install 'ipykernel' into the Python environment. \n",
      "\u001b[1;31mCommand: 'conda install -p /Users/anavsood/mambaforge ipykernel --update-deps --force-reinstall'"
     ]
    }
   ],
   "source": [
    "df = gaussian_results_df.copy()\n",
    "df['Signal Size'] = np.round(df['Signal Size'], 2)\n",
    "df = df.loc[df['Signal Size'].isin([0.25, 0.5, 0.75])]\n",
    "fig, axes = plt.subplots(1, 3, figsize=(18, 6))\n",
    "\n",
    "ys = ['Size Selected', 'Intersection', 'Cannonical Correlation']  # Replace with your desired y variable names\n",
    "\n",
    "signal_sizes = sorted(df['Signal Size'].unique())  # Get unique signal sizes in ascending order\n",
    "color_palette = sns.color_palette('Set1', n_colors=len(signal_sizes))  # Generate a color palette with distinct colors\n",
    "\n",
    "for i, (y_var, ax) in enumerate(zip(ys, axes)):\n",
    "    ax.set_title(y_var)  # Set the title for each subplot\n",
    "    for j, signal_size in enumerate(signal_sizes):\n",
    "        subset = df[(df['Signal Size'] == signal_size) ]\n",
    "        color = color_palette[j]\n",
    "        sns.boxplot(x='Sample Size', y=y_var, data=subset, ax=ax, color=color, flierprops={'marker': 'D', 'markerfacecolor': color, 'markersize': 6}, boxprops=dict(alpha=.3))\n",
    "        ax.axhline(y=20, color='red', linestyle='--')  # Add a horizontal line at y=20\n",
    "\n",
    "plt.tight_layout()\n",
    "plt.show()\n",
    "\n",
    "\n",
    "\n",
    "\n",
    "\n",
    "\n"
   ]
  },
  {
   "cell_type": "code",
   "execution_count": null,
   "id": "d7a441e2",
   "metadata": {},
   "outputs": [
    {
     "ename": "",
     "evalue": "",
     "output_type": "error",
     "traceback": [
      "\u001b[1;31mRunning cells with '/Users/anavsood/mambaforge/bin/python' requires the ipykernel package.\n",
      "\u001b[1;31mRun the following command to install 'ipykernel' into the Python environment. \n",
      "\u001b[1;31mCommand: 'conda install -p /Users/anavsood/mambaforge ipykernel --update-deps --force-reinstall'"
     ]
    }
   ],
   "source": [
    "\n",
    "df = gaussian_results_df.copy()\n",
    "df['Signal Size'] = np.round(df['Signal Size'], 2)\n",
    "df = df.loc[df['Signal Size'].isin([0.25, 0.5, 0.75])]\n",
    "df.to_csv(\"for_kevin\")\n",
    "fig, axes = plt.subplots(1, 3, figsize=(18, 6))\n",
    "\n",
    "ys = ['Size Selected', 'Intersection', 'Cannonical Correlation']  # Replace with your desired y variable names\n",
    "\n",
    "for i, y_var in enumerate(ys):\n",
    "    ax = axes[i]\n",
    "    sns.boxplot(x='Sample Size', y=y_var, hue='Signal Size', data=df, ax=ax)\n",
    "    \n",
    "\n",
    "plt.tight_layout()\n",
    "plt.show()\n",
    "\n"
   ]
  },
  {
   "cell_type": "code",
   "execution_count": null,
   "id": "dcfbea87",
   "metadata": {},
   "outputs": [
    {
     "ename": "",
     "evalue": "",
     "output_type": "error",
     "traceback": [
      "\u001b[1;31mRunning cells with '/Users/anavsood/mambaforge/bin/python' requires the ipykernel package.\n",
      "\u001b[1;31mRun the following command to install 'ipykernel' into the Python environment. \n",
      "\u001b[1;31mCommand: 'conda install -p /Users/anavsood/mambaforge ipykernel --update-deps --force-reinstall'"
     ]
    }
   ],
   "source": [
    "import matplotlib.patches as mpatches\n",
    "\n",
    "fig, ax = plt.subplots()\n",
    "\n",
    "signal_sizes = list(set(gaussian_results_df['Signal Size']))\n",
    "colors = sns.color_palette('Set1', n_colors=len(signal_sizes))\n",
    "color_map = dict(zip(signal_sizes, colors))\n",
    "\n",
    "handles = []\n",
    "position = -2\n",
    "\n",
    "\n",
    "for size in signal_sizes:\n",
    "    # Filter the DataFrame for the current signal size\n",
    "    data = gaussian_results_df[gaussian_results_df['Signal Size'] == size]\n",
    "    data['Sample Size'] -= 5*position \n",
    "    print(data['Sample Size'])\n",
    "    \n",
    "    # Calculate the adjusted position for the current signal size\n",
    "    adjusted_position = position - (offset * (len(signal_sizes) - 1) / 2)\n",
    "    \n",
    "    # Create the violin plot with the appropriate color and adjusted position\n",
    "    violin = sns.violinplot(x='Sample Size', y='Size Selected', data=data, ax=ax, label=f\"Signal Size: {np.round(size, 2)}\", color=color_map[size], position=adjusted_position)\n",
    "    \n",
    "    # Add the violin plot handle to the handles list\n",
    "    handles.append(mpatches.Patch(color=color_map[size], label=f\"Signal Size: {np.round(size, 2)}\"))\n",
    "    \n",
    "    position += 1\n",
    "\n",
    "ax.legend(handles=handles)"
   ]
  },
  {
   "cell_type": "markdown",
   "id": "6272ac82",
   "metadata": {},
   "source": [
    "$X_S$ is ordinal"
   ]
  },
  {
   "cell_type": "code",
   "execution_count": null,
   "id": "b0fd61bd",
   "metadata": {},
   "outputs": [
    {
     "ename": "",
     "evalue": "",
     "output_type": "error",
     "traceback": [
      "\u001b[1;31mRunning cells with '/Users/anavsood/mambaforge/bin/python' requires the ipykernel package.\n",
      "\u001b[1;31mRun the following command to install 'ipykernel' into the Python environment. \n",
      "\u001b[1;31mCommand: 'conda install -p /Users/anavsood/mambaforge ipykernel --update-deps --force-reinstall'"
     ]
    }
   ],
   "source": [
    "ordinal_results_frames = {'Sample Size' : [], 'Size Selected': []}\n",
    "for i, n in tqdm(enumerate(ns)):\n",
    "    ordinal_results_frames['Sample Size'] += list(n * np.ones(B)) \n",
    "    X_S = np.random.choice(np.array([0, 1, 2, 3, 4]), size=(B, n, k))\n",
    "    X = generate_PCSS_data(X_S, W, D=D)\n",
    "    \n",
    "    #X_S = np.random.choice(np.array([0, 1, 2, 3, 4]), size=(B, n, k))\n",
    "    #eps1 = np.random.exponential(1, size=(B, n , int((p-k)/3))) - 1\n",
    "    #eps2 = np.random.chisquare(3, size=(B, n , int((p-k)/3))) - 3\n",
    "    #eps3 = np.random.standard_t(5, size=(B, n , int((p-k)/3)))\n",
    "    #eps = np.dstack([eps1, eps2, eps3])\n",
    "    #X_S_comp = X_S @ np.transpose(W[np.newaxis, : , :], axes=(0, 2, 1)) + eps\n",
    "    #X = np.dstack([X_S, X_S_comp])\n",
    "    \n",
    "    X_c = X - np.mean(X, axis=1)[:, np.newaxis, :]  \n",
    "    Sigma_hats = 1/n * np.transpose(X_c, (0, 2, 1) ) @ X_c\n",
    "    mp_func = partial(sieves_gaussian_LRT, n=n, alpha=alpha, noise=noise, method=method, num_inits=num_inits, quantiles=quantiles, asymptotic=asymptotic)\n",
    "    with Pool(multiprocessing.cpu_count()) as pool:\n",
    "        ordinal_results_frames['Size Selected'] += [len(S) for S in list(tqdm(pool.imap_unordered(mp_func, list(Sigma_hats))))]\n",
    "    \n",
    "ordinal_results_df = get_df_from_frames(ordinal_results_frames)"
   ]
  },
  {
   "cell_type": "markdown",
   "id": "f2d56cd0",
   "metadata": {},
   "source": [
    "$X_S$ is skew Cauchy with $a=0.5$"
   ]
  },
  {
   "cell_type": "code",
   "execution_count": null,
   "id": "aa07717d",
   "metadata": {},
   "outputs": [
    {
     "ename": "",
     "evalue": "",
     "output_type": "error",
     "traceback": [
      "\u001b[1;31mRunning cells with '/Users/anavsood/mambaforge/bin/python' requires the ipykernel package.\n",
      "\u001b[1;31mRun the following command to install 'ipykernel' into the Python environment. \n",
      "\u001b[1;31mCommand: 'conda install -p /Users/anavsood/mambaforge ipykernel --update-deps --force-reinstall'"
     ]
    }
   ],
   "source": [
    "cauchy_results_frames = {'Sample Size' : [], 'Size Selected': []}\n",
    "for i, n in tqdm(enumerate(ns)):\n",
    "    cauchy_results_frames['Sample Size'] += list(n * np.ones(B))\n",
    "    X_S = skewcauchy.rvs(a=0.5, size=(B, n, k))\n",
    "    X = generate_PCSS_data(X_S, W, D=D)\n",
    "    \n",
    "    #X_S = skewcauchy.rvs(a=0.5, size=(B, n, k))\n",
    "    #eps1 = np.random.exponential(1, size=(B, n , int((p-k)/3))) - 1\n",
    "    #eps2 = np.random.chisquare(3, size=(B, n , int((p-k)/3))) - 3\n",
    "    #eps3 = np.random.standard_t(5, size=(B, n , int((p-k)/3)))\n",
    "    #eps = np.dstack([eps1, eps2, eps3])\n",
    "    #X_S_comp = X_S @ np.transpose(W[np.newaxis, : , :], axes=(0, 2, 1)) + eps\n",
    "    #X = np.dstack([X_S, X_S_comp])\n",
    "    \n",
    "    X_c = X - np.mean(X, axis=1)[:, np.newaxis, :]  \n",
    "    Sigma_hats = 1/n * np.transpose(X_c, (0, 2, 1) ) @ X_c\n",
    "    checked_colinearity = False \n",
    "    while not checked_colinearity:\n",
    "        nothing_complex = True\n",
    "        for j in range(B):\n",
    "            if np.iscomplexobj(np.min(np.linalg.eig(Sigma_hats[j, :, :])[0])):\n",
    "                #X_S = skewcauchy.rvs(a=0.5, size=(n, k))\n",
    "                #X = generate_PCSS_data(X_S, W, D=D)\n",
    "                \n",
    "                X_S = skewcauchy.rvs(a=0.5, size=(n, k))\n",
    "                eps1 = np.random.exponential(1, size=(n , int((p-k)/3))) - 1\n",
    "                eps2 = np.random.chisquare(3, size=(n , int((p-k)/3))) - 3\n",
    "                eps3 = np.random.standard_t(5, size=(n , int((p-k)/3)))\n",
    "                eps = np.hstack([eps1, eps2, eps3])\n",
    "                X_S_comp = X_S @ W.T + eps\n",
    "                X = np.dstack([X_S, X_S_comp])\n",
    "                \n",
    "                _, Sigma_hat = get_moments(X)\n",
    "                Sigma_hats[j, :, :] = Sigma_hat \n",
    "                nothing_complex = False\n",
    "        if nothing_complex:\n",
    "            checked_colinearity = True   \n",
    "    mp_func = partial(sieves_gaussian_LRT, n=n, alpha=alpha, noise=noise, method=method, num_inits=num_inits, quantiles=quantiles, asymptotic=asymptotic)\n",
    "    with Pool(multiprocessing.cpu_count()) as pool:\n",
    "        cauchy_results_frames['Size Selected'] += [len(S) for S in list(tqdm(pool.imap_unordered(mp_func, list(Sigma_hats))))]\n",
    "    \n",
    "cauchy_results_df = get_df_from_frames(cauchy_results_frames)"
   ]
  },
  {
   "cell_type": "code",
   "execution_count": null,
   "id": "d5203e7c",
   "metadata": {},
   "outputs": [
    {
     "ename": "",
     "evalue": "",
     "output_type": "error",
     "traceback": [
      "\u001b[1;31mRunning cells with '/Users/anavsood/mambaforge/bin/python' requires the ipykernel package.\n",
      "\u001b[1;31mRun the following command to install 'ipykernel' into the Python environment. \n",
      "\u001b[1;31mCommand: 'conda install -p /Users/anavsood/mambaforge ipykernel --update-deps --force-reinstall'"
     ]
    }
   ],
   "source": [
    "#import pickle\n",
    "#with open('gaussian_results_df.pickle', 'wb') as f:\n",
    "#     pickle.dump(gaussian_results_df, f, pickle.HIGHEST_PROTOCOL)\n",
    "        \n",
    "#with open('ordinal_results_df.pickle', 'wb') as f:\n",
    "#     pickle.dump(ordinal_results_df, f, pickle.HIGHEST_PROTOCOL)\n",
    "\n",
    "#with open('cauchy_results_df.pickle', 'wb') as f:\n",
    "#     pickle.dump(cauchy_results_df, f, pickle.HIGHEST_PROTOCOL)\n",
    "\n",
    "#gaussian_results_df = pd.read_pickle('gaussian_results_df.pickle')\n",
    "#ordinal_results_df = pd.read_pickle('ordinal_results_df.pickle')\n",
    "#cauchy_results_df = pd.read_pickle('cauchy_results_df.pickle')\n",
    "\n",
    "#gaussian_results_df  = gaussian_results_df.rename(columns={\"Excess\": \"Avg. Over\", \"Dearth\": \"Avg. Under\", \"Power\": \"% Correct\"})\n",
    "#ordinal_results_df  = ordinal_results_df.rename(columns={\"Excess\": \"Avg. Over\", \"Dearth\": \"Avg. Under\", \"Power\": \"% Correct\"})\n",
    "#cauchy_results_df  = cauchy_results_df.rename(columns={\"Excess\": \"Avg. Over\", \"Dearth\": \"Avg. Under\", \"Power\": \"% Correct\"})"
   ]
  },
  {
   "cell_type": "code",
   "execution_count": null,
   "id": "804607cc",
   "metadata": {
    "scrolled": true
   },
   "outputs": [
    {
     "ename": "",
     "evalue": "",
     "output_type": "error",
     "traceback": [
      "\u001b[1;31mRunning cells with '/Users/anavsood/mambaforge/bin/python' requires the ipykernel package.\n",
      "\u001b[1;31mRun the following command to install 'ipykernel' into the Python environment. \n",
      "\u001b[1;31mCommand: 'conda install -p /Users/anavsood/mambaforge ipykernel --update-deps --force-reinstall'"
     ]
    }
   ],
   "source": [
    "results = {'Gaussian': gaussian_results_df,\n",
    "          'Ordinal': ordinal_results_df,\n",
    "          'Cauchy': cauchy_results_df}\n",
    "\n",
    "dist_to_color = {'Gaussian': 'tab:blue',\n",
    "                'Ordinal': 'tab:orange',\n",
    "                'Cauchy': 'tab:green'}\n",
    "\n",
    "fig, axes = plt.subplots(1, 3, figsize=(10 , 3))\n",
    "\n",
    "for dist in dist_to_color.keys():\n",
    "    ## type I error \n",
    "    color = dist_to_color[dist]\n",
    "    \n",
    "        ## Power\n",
    "    sns.lineplot(data=results[dist],\n",
    "                 x='Sample Size', \n",
    "                 y='Type I Error', \n",
    "                 ax=axes[0], \n",
    "                 color=color,\n",
    "                 marker='o',\n",
    "                 errorbar=('se', 1))\n",
    "    axes[0].axhline(alpha, ls='--', c='black', alpha=0.3)\n",
    "    \n",
    "    sns.lineplot(data=results[dist],\n",
    "                 x='Sample Size', \n",
    "                 y='% Correct', \n",
    "                 ax=axes[1],\n",
    "                 color=color,\n",
    "                 marker='o',\n",
    "                 errorbar=('se', 1))\n",
    "    \n",
    "    over_df = results[dist]\n",
    "    \n",
    "    over_df = over_df[over_df['Avg. Over'].notnull()]\n",
    "    over_df = over_df[['Sample Size', 'Avg. Over']]\n",
    "    for n in ns:\n",
    "        if n not in set(over_df['Sample Size']):\n",
    "            over_df = pd.concat([over_df, pd.DataFrame({'Sample Size': [n], 'Avg. Over': [0]})], ignore_index=True)\n",
    "    sns.lineplot(data=over_df,\n",
    "                 x='Sample Size', \n",
    "                 y='Avg. Over', \n",
    "                 ax=axes[2], \n",
    "                 color=color,\n",
    "                 marker='o',\n",
    "                 errorbar=('se', 1))\n",
    "    \n",
    "gaussian_handle, = plt.plot([], [], color='tab:blue', label='Gaussian', marker='o')\n",
    "ordinal_handle, = plt.plot([], [], color='tab:orange', label='Ordinal', marker='o')\n",
    "cauchy_handle, = plt.plot([], [], color='tab:green', label='Cauchy', marker='o')\n",
    "\n",
    "leg = fig.legend(handles=[gaussian_handle, ordinal_handle, cauchy_handle], prop={'size': 9}, bbox_to_anchor=(0.68, 0.02), ncol=3)  \n",
    "\n",
    "plt.tight_layout()\n",
    "#plt.savefig(\"../figures/model_selection_sim.pdf\", bbox_inches='tight')\n",
    "#plt.savefig(\"../figures/temp.pdf\", bbox_inches='tight')"
   ]
  },
  {
   "cell_type": "code",
   "execution_count": null,
   "id": "26d7a04d",
   "metadata": {},
   "outputs": [
    {
     "ename": "",
     "evalue": "",
     "output_type": "error",
     "traceback": [
      "\u001b[1;31mRunning cells with '/Users/anavsood/mambaforge/bin/python' requires the ipykernel package.\n",
      "\u001b[1;31mRun the following command to install 'ipykernel' into the Python environment. \n",
      "\u001b[1;31mCommand: 'conda install -p /Users/anavsood/mambaforge ipykernel --update-deps --force-reinstall'"
     ]
    }
   ],
   "source": [
    "plt.hist(gaussian_results_df.loc[gaussian_results_df['Sample Size'] ==500]['Size Selected'])\n"
   ]
  },
  {
   "cell_type": "code",
   "execution_count": null,
   "id": "d065c62e",
   "metadata": {},
   "outputs": [
    {
     "ename": "",
     "evalue": "",
     "output_type": "error",
     "traceback": [
      "\u001b[1;31mRunning cells with '/Users/anavsood/mambaforge/bin/python' requires the ipykernel package.\n",
      "\u001b[1;31mRun the following command to install 'ipykernel' into the Python environment. \n",
      "\u001b[1;31mCommand: 'conda install -p /Users/anavsood/mambaforge ipykernel --update-deps --force-reinstall'"
     ]
    }
   ],
   "source": [
    "results = {'Gaussian': gaussian_results_df,\n",
    "          'Ordinal': ordinal_results_df,\n",
    "          'Cauchy': cauchy_results_df}\n",
    "\n",
    "dist_to_color = {'Gaussian': 'tab:blue',\n",
    "                'Ordinal': 'tab:orange',\n",
    "                'Cauchy': 'tab:green'}\n",
    "\n",
    "fig, axes = plt.subplots(1, 4, figsize=(10 , 3))\n",
    "\n",
    "for dist in dist_to_color.keys():\n",
    "    ## type I error \n",
    "    color = dist_to_color[dist]\n",
    "    \n",
    "        ## Power\n",
    "    sns.lineplot(data=results[dist],\n",
    "                 x='Sample Size', \n",
    "                 y='Type I Error', \n",
    "                 ax=axes[0], \n",
    "                 color=color,\n",
    "                 marker='o',\n",
    "                 errorbar=('se', 1))\n",
    "    axes[0].axhline(alpha, ls='--', c='black', alpha=0.3)\n",
    "    \n",
    "    sns.lineplot(data=results[dist],\n",
    "                 x='Sample Size', \n",
    "                 y='% Correct', \n",
    "                 ax=axes[1],\n",
    "                 color=color,\n",
    "                 marker='o',\n",
    "                 errorbar=('se', 1))\n",
    "    \n",
    "    over_df = results[dist]\n",
    "    \n",
    "    over_df = over_df[over_df['Avg. Over'].notnull()]\n",
    "    over_df = over_df[['Sample Size', 'Avg. Over']]\n",
    "    for n in ns:\n",
    "        if n not in set(over_df['Sample Size']):\n",
    "            over_df = pd.concat([over_df, pd.DataFrame({'Sample Size': [n], 'Avg. Over': [0]})], ignore_index=True)\n",
    "    sns.lineplot(data=over_df,\n",
    "                 x='Sample Size', \n",
    "                 y='Avg. Over', \n",
    "                 ax=axes[2], \n",
    "                 color=color,\n",
    "                 marker='o',\n",
    "                 errorbar=('se', 1))\n",
    "    \n",
    "    under_df = results[dist]\n",
    "    \n",
    "    under_df = under_df[under_df['Avg. Under'].notnull()]\n",
    "    under_df = under_df[['Sample Size', 'Avg. Under']]\n",
    "    for n in ns:\n",
    "        if n not in set(under_df['Sample Size']):\n",
    "            under_df = pd.concat([under_df, pd.DataFrame({'Sample Size': [n], 'Avg. Under': [0]})], ignore_index=True)\n",
    "    sns.lineplot(data=under_df,\n",
    "                 x='Sample Size', \n",
    "                 y='Avg. Under', \n",
    "                 ax=axes[3], \n",
    "                 color=color,\n",
    "                 marker='o',\n",
    "                 errorbar=('se', 1))\n",
    "    \n",
    "gaussian_handle, = plt.plot([], [], color='tab:blue', label='Gaussian', marker='o')\n",
    "ordinal_handle, = plt.plot([], [], color='tab:orange', label='Ordinal', marker='o')\n",
    "cauchy_handle, = plt.plot([], [], color='tab:green', label='Cauchy', marker='o')\n",
    "\n",
    "leg = fig.legend(handles=[gaussian_handle, ordinal_handle, cauchy_handle], prop={'size': 9}, bbox_to_anchor=(0.68, 0.02), ncol=3)  \n",
    "\n",
    "plt.tight_layout()\n",
    "#plt.savefig(\"../figures/model_selection_sim.pdf\", bbox_inches='tight')\n",
    "#plt.savefig(\"../figures/temp.pdf\", bbox_inches='tight')"
   ]
  },
  {
   "cell_type": "markdown",
   "id": "a4e50008",
   "metadata": {},
   "source": [
    "### Real Data Analysis"
   ]
  },
  {
   "cell_type": "code",
   "execution_count": null,
   "id": "787d20db",
   "metadata": {},
   "outputs": [
    {
     "ename": "",
     "evalue": "",
     "output_type": "error",
     "traceback": [
      "\u001b[1;31mRunning cells with '/Users/anavsood/mambaforge/bin/python' requires the ipykernel package.\n",
      "\u001b[1;31mRun the following command to install 'ipykernel' into the Python environment. \n",
      "\u001b[1;31mCommand: 'conda install -p /Users/anavsood/mambaforge ipykernel --update-deps --force-reinstall'"
     ]
    }
   ],
   "source": [
    "def avg_R2(Sigma, S, standardize=True):\n",
    "    p = Sigma.shape[0]\n",
    "    Sigma_R = regress_off(Sigma, S)\n",
    "    S_comp = complement(p, S)\n",
    "    resid_var = np.diag(Sigma_R)[S_comp]\n",
    "    if standardize:\n",
    "        return 1 - np.mean(np.diag(Sigma_R)[S_comp])\n",
    "    else:\n",
    "        var = np.diag(Sigma)[S_comp]\n",
    "        return np.mean((var - resid_var)/var)"
   ]
  },
  {
   "cell_type": "code",
   "execution_count": null,
   "id": "39c7bfd7",
   "metadata": {},
   "outputs": [
    {
     "ename": "",
     "evalue": "",
     "output_type": "error",
     "traceback": [
      "\u001b[1;31mRunning cells with '/Users/anavsood/mambaforge/bin/python' requires the ipykernel package.\n",
      "\u001b[1;31mRun the following command to install 'ipykernel' into the Python environment. \n",
      "\u001b[1;31mCommand: 'conda install -p /Users/anavsood/mambaforge ipykernel --update-deps --force-reinstall'"
     ]
    }
   ],
   "source": [
    "def css_obj_plot(X, k_max, method='greedy', standardize=True, num_inits=1, plot=False):\n",
    "    \n",
    "    objs = np.zeros(k_max)\n",
    "    _, Sigma_hat = get_moments(X)\n",
    "    \n",
    "    if standardize:\n",
    "        Sigma_hat = standardize_cov(Sigma_hat)\n",
    "    \n",
    "    css = CSS()\n",
    "    if method == 'greedy':\n",
    "        \n",
    "        css.select_subset_from_cov(Sigma_hat, k_max, method='greedy')\n",
    "        S_greedy = css.S.copy()\n",
    "        \n",
    "        for i in range(1, k_max+1):\n",
    "            objs[i - 1] = 1 - np.mean(np.diag(regress_off(Sigma_hat, S_greedy[:i])))\n",
    "            #objs[i - 1] = avg_R2(Sigma_hat, S_greedy[:i], standardize=standardize)\n",
    "    \n",
    "    if method == 'swap':\n",
    "        for i in range(1, k_max + 1):\n",
    "            best_obj = np.inf\n",
    "            for j in range(num_inits):\n",
    "                css.select_subset_from_cov(Sigma_hat, i, method='swap')\n",
    "                potential_obj = avg_R2(Sigma_hat, css.S, standardize=standardize)\n",
    "                if potential_obj < best_obj:\n",
    "                    best_obj = potential_obj\n",
    "            objs[i - 1] = best_obj\n",
    "    \n",
    "    if plot:\n",
    "        plt.scatter(np.arange(1, k_max + 1), objs)\n",
    "    \n",
    "    plt.plot()\n",
    "    \n",
    "    return objs\n",
    "        "
   ]
  },
  {
   "cell_type": "code",
   "execution_count": null,
   "id": "e691ff75",
   "metadata": {},
   "outputs": [
    {
     "ename": "",
     "evalue": "",
     "output_type": "error",
     "traceback": [
      "\u001b[1;31mRunning cells with '/Users/anavsood/mambaforge/bin/python' requires the ipykernel package.\n",
      "\u001b[1;31mRun the following command to install 'ipykernel' into the Python environment. \n",
      "\u001b[1;31mCommand: 'conda install -p /Users/anavsood/mambaforge ipykernel --update-deps --force-reinstall'"
     ]
    }
   ],
   "source": [
    "css_obj_plot(X, p, standardize=False, plot=True)"
   ]
  },
  {
   "cell_type": "code",
   "execution_count": 56,
   "id": "de7000aa",
   "metadata": {},
   "outputs": [],
   "source": [
    "X = pd.read_csv(\"../data/BFI228.csv\").values[:, 1:].astype(int)\n",
    "n, p = X.shape\n",
    "_, Sigma_hat = get_moments(X)\n",
    "n_test = 0\n",
    "n_train = n - n_test\n",
    "np.random.seed(0)\n",
    "train_idxs = np.random.choice(n, n_train, replace=False)\n",
    "test_idxs = [i for i in range(n) if i not in train_idxs]\n",
    "X_train = X[train_idxs, :]\n",
    "_, Sigma_hat_train = get_moments(X_train)"
   ]
  },
  {
   "cell_type": "code",
   "execution_count": 153,
   "id": "08c86d20",
   "metadata": {},
   "outputs": [
    {
     "data": {
      "text/plain": [
       "(array([20.,  0.,  0.,  0.,  3.,  2.,  5.,  4.,  6.,  4.]),\n",
       " array([0.        , 0.06365251, 0.12730501, 0.19095752, 0.25461002,\n",
       "        0.31826253, 0.38191503, 0.44556754, 0.50922004, 0.57287255,\n",
       "        0.63652505]),\n",
       " <BarContainer object of 10 artists>)"
      ]
     },
     "execution_count": 153,
     "metadata": {},
     "output_type": "execute_result"
    },
    {
     "data": {
      "image/png": "[encoded data removed]",
      "text/plain": [
       "<Figure size 640x480 with 1 Axes>"
      ]
     },
     "metadata": {},
     "output_type": "display_data"
    }
   ],
   "source": [
    "css = CSS()\n",
    "css.select_subset_from_cov(Sigma_hat_train, k=20, method='swap')\n",
    "plt.hist(np.diag(css.Sigma_R))"
   ]
  },
  {
   "cell_type": "code",
   "execution_count": 57,
   "id": "7f1beb9d",
   "metadata": {},
   "outputs": [
    {
     "data": {
      "text/plain": [
       "228"
      ]
     },
     "execution_count": 57,
     "metadata": {},
     "output_type": "execute_result"
    }
   ],
   "source": [
    "n_train"
   ]
  },
  {
   "cell_type": "code",
   "execution_count": 121,
   "id": "b32b0dde",
   "metadata": {},
   "outputs": [],
   "source": [
    "def reverse_columns(X, col_idxs, largest=5):\n",
    "    for i in col_idxs:\n",
    "        X[:, i] = -1*(X[:, i] - largest - 1)\n",
    "    return X\n",
    "\n",
    "cols = pd.read_csv(\"../data/BFI228.csv\").columns[1:]\n",
    "reverse_col_idxs = [i for i in range(len(cols)) if cols[i][-1] == 'R']\n",
    "\n",
    "reversed_X = reverse_columns(X.copy(), reverse_col_idxs)\n",
    "reversed_X_test = reversed_X[test_idxs, :]\n",
    "\n",
    "BFI_IDXS = np.arange(p)\n",
    "BFI_TEN_IDXS = np.sort([1, 12, 21, 27, 42, 7, 8, 17, 33, 37])\n",
    "BFI_FIFTEEN_IDXS = np.sort([17, 0, 15, 34, 29, 11, 21, 7, 39, 33, 23, 1, 14, 37, 27])\n",
    "BFI_PORTEGUESE_TWENTY_IDXS = np.sort([0, 7, 4, 1, 14, 11, 9, 16, 21, 20, 18, 17, 33, 28, 31, 30, 38, 34, 41, 36]) \n",
    "BFI_NORWEGIAN_TWENTY_IDXS = np.sort([0, 4, 6, 7, 9, 13, 14, 15, 17, 18, 20, 24, 26, 27, 29, 33, 34, 37, 41, 42])\n",
    "BFI_ENGLISH_TWENTY_IDXS = np.sort([0, 2, 4, 7, 27, 29, 31, 30, 32, 10, 11, 14, 15, 18, 20, 21, 22, 34, 35, 38, 41])"
   ]
  },
  {
   "cell_type": "code",
   "execution_count": 122,
   "id": "7f44ff9e",
   "metadata": {},
   "outputs": [],
   "source": [
    "def get_alphas(X, subset_idxs, ci=0.9):\n",
    "    \n",
    "    X_subset = X[:, subset_idxs]\n",
    "    \n",
    "    EXTRAVERSION_IDXS = np.arange(8)\n",
    "    AGREEABLENESS_IDXS = np.arange(8, 17)\n",
    "    CONSCENTIOUSNESS_IDXS = np.arange(17, 26)\n",
    "    NEUROTICISM_IDXS = np.arange(26, 34)\n",
    "    OPENNESS_IDXS = np.arange(34, 44)\n",
    "    \n",
    "    num_extraversion = len(np.intersect1d(EXTRAVERSION_IDXS, subset_idxs))\n",
    "    num_agreeableness = len(np.intersect1d(AGREEABLENESS_IDXS, subset_idxs))\n",
    "    num_conscentiousness = len(np.intersect1d(CONSCENTIOUSNESS_IDXS, subset_idxs))\n",
    "    num_neuroticism = len(np.intersect1d(NEUROTICISM_IDXS, subset_idxs))\n",
    "    num_openness = len(np.intersect1d(OPENNESS_IDXS, subset_idxs))\n",
    "    \n",
    "    extraversion_subset = np.arange(num_extraversion)\n",
    "    agreeableness_subset = np.arange(np.max(extraversion_subset) + 1, np.max(extraversion_subset) + 1 + num_agreeableness)\n",
    "    conscentiousness_subset = np.arange(np.max(agreeableness_subset) + 1, np.max(agreeableness_subset) + 1 + num_conscentiousness)\n",
    "    neuroticism_subset = np.arange(np.max(conscentiousness_subset) + 1, np.max(conscentiousness_subset) + 1 + num_neuroticism)\n",
    "    openness_subset = np.arange(np.max(neuroticism_subset) + 1, np.max(neuroticism_subset) + 1 + num_openness)\n",
    "      \n",
    "    alpha_dict = {'extraversion': cronbach_alpha(pd.DataFrame(X[:, extraversion_subset])),\n",
    "                  'agreeableness': cronbach_alpha(pd.DataFrame(X[:, agreeableness_subset])),\n",
    "                  'conscentiousness': cronbach_alpha(pd.DataFrame(X[:, conscentiousness_subset])),\n",
    "                  'neuroticism': cronbach_alpha(pd.DataFrame(X[:, neuroticism_subset])),\n",
    "                  'openness': cronbach_alpha(pd.DataFrame(X[:, openness_subset]))}\n",
    "    \n",
    "    return alpha_dict "
   ]
  },
  {
   "cell_type": "code",
   "execution_count": 64,
   "id": "c28860e1",
   "metadata": {},
   "outputs": [
    {
     "name": "stdout",
     "output_type": "stream",
     "text": [
      "20\n",
      "[ 0  2  6  7 12 13 14 15 19 20 22 24 25 27 29 31 36 37 38 43]\n",
      "4\n",
      "4\n",
      "5\n",
      "3\n",
      "4\n"
     ]
    }
   ],
   "source": [
    "alpha=0.1\n",
    "S = np.sort(sieves_gaussian_LRT(Sigma_hat_train, n_train, alpha, noise='diag', num_inits=100, asymptotic=False))\n",
    "#css = CSS()\n",
    "#min_obj = np.inf\n",
    "#S = np.nan\n",
    "#for i in tqdm(range(100)):\n",
    "#    css.select_subset_from_cov(standardize_cov(Sigma_hat), k=20, method='swap')\n",
    "#    if np.trace(css.Sigma_R) < min_obj:\n",
    "#        min_obj = np.trace(css.Sigma_R)\n",
    "#        S = css.S\n",
    "print(len(S))\n",
    "print(S)\n",
    "print(len(np.where(np.logical_and(S>=0, S<=7))[0]))\n",
    "print(len(np.where(np.logical_and(S>=8, S<=16))[0]))\n",
    "print(len(np.where(np.logical_and(S>=17, S<=25))[0]))\n",
    "print(len(np.where(np.logical_and(S>=26, S<=33))[0]))\n",
    "print(len(np.where(np.logical_and(S>=34, S<=43))[0]))"
   ]
  },
  {
   "cell_type": "code",
   "execution_count": 133,
   "id": "197bfe21",
   "metadata": {},
   "outputs": [
    {
     "data": {
      "text/plain": [
       "array([ 2,  4,  7, 10, 12, 13, 14, 19, 20, 21, 23, 27, 30, 31, 33, 37, 38,\n",
       "       41, 43])"
      ]
     },
     "execution_count": 133,
     "metadata": {},
     "output_type": "execute_result"
    }
   ],
   "source": [
    "S"
   ]
  },
  {
   "cell_type": "code",
   "execution_count": 125,
   "id": "4af9cea0",
   "metadata": {},
   "outputs": [],
   "source": [
    "def unpack_alpha_dict(alpha_dict, keys=None):\n",
    "    if keys is None:\n",
    "        keys = alpha_dict.keys()\n",
    "    y_values = [alpha_dict[key][0] for key in keys]\n",
    "    lower_error_values = [alpha_dict[key][0] - alpha_dict[key][1][0]  for key in keys]\n",
    "    upper_error_values = [alpha_dict[key][1][1] - alpha_dict[key][0] for key in keys]\n",
    "    error_values = [lower_error_values, upper_error_values]\n",
    "    return y_values, error_values "
   ]
  },
  {
   "cell_type": "code",
   "execution_count": 129,
   "id": "afd1b1c5",
   "metadata": {},
   "outputs": [
    {
     "data": {
      "text/plain": [
       "<matplotlib.legend.Legend at 0x2990569b0>"
      ]
     },
     "execution_count": 129,
     "metadata": {},
     "output_type": "execute_result"
    },
    {
     "data": {
      "image/png": "[encoded data removed]",
      "text/plain": [
       "<Figure size 1000x300 with 1 Axes>"
      ]
     },
     "metadata": {},
     "output_type": "display_data"
    }
   ],
   "source": [
    "plt.rcParams[\"figure.figsize\"] = (10,3)\n",
    "x_values = np.arange(5)\n",
    "x_labels = ['extraversion', 'agreeableness', 'conscentiousness', 'neuroticism', 'openness']\n",
    "dot_alpha=1\n",
    "bar_alpha=1\n",
    "\n",
    "shift = 0.1\n",
    "\n",
    "#print('BFI')\n",
    "alpha_dict = get_alphas(reversed_X[test_idxs,  :], BFI_IDXS)\n",
    "y_values, error_values = unpack_alpha_dict(alpha_dict, keys=x_labels)\n",
    "plt.scatter(x_values - 2*shift, y_values, label='BFI-44', alpha=dot_alpha)\n",
    "plt.errorbar(x_values - 2*shift, y_values, yerr=error_values, linestyle=\"None\", capsize=5, alpha=bar_alpha)\n",
    "\n",
    "#print('BFI 20 - English')\n",
    "alpha_dict = get_alphas(reversed_X[test_idxs,  :], BFI_ENGLISH_TWENTY_IDXS)\n",
    "y_values, error_values = unpack_alpha_dict(alpha_dict, keys=x_labels)\n",
    "plt.scatter(x_values - shift, y_values, label='BFI-20 English', alpha=dot_alpha)\n",
    "plt.errorbar(x_values - shift, y_values, yerr=error_values, linestyle=\"None\", capsize=5, alpha=bar_alpha)\n",
    "\n",
    "#print('BFI - Ours')\n",
    "alpha_dict = get_alphas(reversed_X[test_idxs,  :], S)\n",
    "y_values, error_values = unpack_alpha_dict(alpha_dict, keys=x_labels)\n",
    "plt.scatter(x_values, y_values, label='Our BFI', alpha=dot_alpha)\n",
    "plt.errorbar(x_values, y_values, yerr=error_values, linestyle=\"None\", capsize=5, alpha=bar_alpha)\n",
    "\n",
    "\n",
    "#print('BFI 15')\n",
    "alpha_dict = get_alphas(reversed_X[test_idxs,  :], BFI_FIFTEEN_IDXS)\n",
    "y_values, error_values = unpack_alpha_dict(alpha_dict, keys=x_labels)\n",
    "plt.scatter(x_values + shift, y_values, label='BFI-15', alpha=dot_alpha)\n",
    "plt.errorbar(x_values + shift, y_values, yerr=error_values, linestyle=\"None\", capsize=5, alpha=bar_alpha)\n",
    "\n",
    "#print('BFI 10')\n",
    "alpha_dict = get_alphas(reversed_X[test_idxs,  :], BFI_TEN_IDXS)\n",
    "y_values, error_values = unpack_alpha_dict(alpha_dict, keys=x_labels)\n",
    "plt.scatter(x_values + 2*shift, y_values, label='BFI-10', alpha=dot_alpha)\n",
    "plt.errorbar(x_values + 2*shift, y_values, yerr=error_values, linestyle=\"None\", capsize=5, alpha=bar_alpha)\n",
    "\n",
    "#print('BFI 20 - Norwegian')\n",
    "#alpha_dict = get_alphas(reversed_X[test_idxs,  :], BFI_NORWEGIAN_TWENTY_IDXS)\n",
    "#y_values, error_values = unpack_alpha_dict(alpha_dict, keys=x_labels)\n",
    "#plt.scatter(x_values, y_values, label='BFI-20 Norwegian', alpha=dot_alpha)\n",
    "#plt.errorbar(x_values, y_values, yerr=error_values, linestyle=\"None\", capsize=5, alpha=bar_alpha)\n",
    "\n",
    "#print('BFI 20 - Porteguese')\n",
    "#alpha_dict = get_alphas(reversed_X[test_idxs,  :], BFI_PORTEGUESE_TWENTY_IDXS)\n",
    "#y_values, error_values = unpack_alpha_dict(alpha_dict, keys=x_labels)\n",
    "#plt.scatter(x_values, y_values, label='BFI-20 Porteguese', alpha=dot_alpha)\n",
    "#plt.errorbar(x_values, y_values, yerr=error_values, linestyle=\"None\", capsize=5, alpha=bar_alpha)\n",
    "\n",
    "\n",
    "\n",
    "plt.xticks(x_values, x_labels)\n",
    "plt.ylabel(\"Cronbach's Alpha\")\n",
    "plt.legend()"
   ]
  },
  {
   "cell_type": "code",
   "execution_count": 51,
   "id": "40d07795",
   "metadata": {},
   "outputs": [
    {
     "data": {
      "text/plain": [
       "array([ 0,  2,  6,  7, 12, 13, 14, 15, 19, 20, 22, 24, 25, 27, 29, 31, 36,\n",
       "       37, 38, 43])"
      ]
     },
     "execution_count": 51,
     "metadata": {},
     "output_type": "execute_result"
    }
   ],
   "source": [
    "S"
   ]
  },
  {
   "cell_type": "code",
   "execution_count": 49,
   "id": "07a10654",
   "metadata": {},
   "outputs": [],
   "source": [
    "with localconverter(robjects.default_converter + n2r.converter) as cv:\n",
    "    factor_result = efa.efa(x=X[:, S], factors=5)"
   ]
  },
  {
   "cell_type": "code",
   "execution_count": 53,
   "id": "cad9c951",
   "metadata": {},
   "outputs": [
    {
     "data": {
      "text/plain": [
       "array([ 0,  2,  6,  7, 12, 13, 14, 15, 19, 20, 22, 24, 25, 27, 29, 31, 36,\n",
       "       37, 38, 43])"
      ]
     },
     "execution_count": 53,
     "metadata": {},
     "output_type": "execute_result"
    }
   ],
   "source": [
    "S"
   ]
  },
  {
   "cell_type": "code",
   "execution_count": 52,
   "id": "1d58210c",
   "metadata": {},
   "outputs": [
    {
     "data": {
      "text/plain": [
       "array([[ 0.11,  0.77,  0.09, -0.06, -0.04],\n",
       "       [-0.15,  0.54,  0.09,  0.25,  0.12],\n",
       "       [ 0.22, -0.54,  0.04,  0.2 , -0.06],\n",
       "       [-0.01,  0.81, -0.01,  0.09,  0.02],\n",
       "       [ 0.03,  0.17, -0.08,  0.47,  0.14],\n",
       "       [ 0.13, -0.17,  0.16, -0.65,  0.01],\n",
       "       [ 0.11, -0.08,  0.19,  0.68,  0.06],\n",
       "       [ 0.36,  0.09, -0.05, -0.52, -0.06],\n",
       "       [ 0.11,  0.11,  0.02,  0.22,  0.49],\n",
       "       [ 0.1 ,  0.11,  0.15, -0.01, -0.59],\n",
       "       [-0.05, -0.1 ,  0.24, -0.02,  0.53],\n",
       "       [ 0.06,  0.1 ,  0.  ,  0.04,  0.67],\n",
       "       [ 0.51, -0.03,  0.01,  0.12, -0.36],\n",
       "       [-0.57,  0.02,  0.02,  0.05,  0.09],\n",
       "       [ 0.64, -0.06, -0.13,  0.06, -0.07],\n",
       "       [ 0.78,  0.02, -0.02, -0.12,  0.09],\n",
       "       [ 0.05,  0.09,  0.57, -0.06,  0.17],\n",
       "       [-0.01,  0.09,  0.68,  0.03, -0.09],\n",
       "       [-0.11,  0.02,  0.77,  0.01,  0.  ],\n",
       "       [ 0.04, -0.15,  0.51,  0.09, -0.02]])"
      ]
     },
     "execution_count": 52,
     "metadata": {},
     "output_type": "execute_result"
    }
   ],
   "source": [
    "np.round(factor_result['rotated'], 2)"
   ]
  }
 ],
 "metadata": {
  "kernelspec": {
   "display_name": "Python 3 (ipykernel)",
   "language": "python",
   "name": "python3"
  },
  "language_info": {
   "codemirror_mode": {
    "name": "ipython",
    "version": 3
   },
   "file_extension": ".py",
   "mimetype": "text/x-python",
   "name": "python",
   "nbconvert_exporter": "python",
   "pygments_lexer": "ipython3",
   "version": "3.10.10"
  },
  "vscode": {
   "interpreter": {
    "hash": "4726a5c9f3517a27aa1d195cae6672a5506a78a1d1787d6b6d30fa625f8290cf"
   }
  }
 },
 "nbformat": 4,
 "nbformat_minor": 5
}
