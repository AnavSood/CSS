{
 "cells": [
  {
   "cell_type": "code",
   "execution_count": 48,
   "id": "43acd866",
   "metadata": {
    "scrolled": true
   },
   "outputs": [],
   "source": [
    "%load_ext autoreload\n",
    "%autoreload 2"
   ]
  },
  {
   "cell_type": "code",
   "execution_count": 21,
   "id": "4fbd31bc",
   "metadata": {},
   "outputs": [],
   "source": [
    "from notebook_utils.utils import *\n",
    "from notebook_utils.data_generation import *\n",
    "from pycss.subset_selection import *\n",
    "from pycss.utils import *\n",
    "from pycss.PCSS import *\n",
    "from pycss.model_selection import *\n",
    "import numpy as np\n",
    "import pandas as pd\n",
    "from matplotlib import pyplot as plt\n",
    "from scipy.stats import chi2\n",
    "from scipy.stats import skewcauchy\n",
    "from choldate import cholupdate\n",
    "import multiprocessing\n",
    "from multiprocessing import Pool\n",
    "from functools import partial\n",
    "from tqdm.notebook import tqdm"
   ]
  },
  {
   "cell_type": "code",
   "execution_count": 47,
   "id": "38c4466c",
   "metadata": {},
   "outputs": [],
   "source": [
    "def cov_df(p):\n",
    "    return int(p*(p+1)/2)\n",
    "\n",
    "def model_df(p, k, noise):\n",
    "    if noise == 'sph':\n",
    "        return cov_df(k) + (p-k)*k + 1 if k < p else cov_df(p)\n",
    "    if noise == 'diag':\n",
    "        return cov_df(k) + (p-k)*(k+ 1)"
   ]
  },
  {
   "cell_type": "code",
   "execution_count": 6,
   "id": "4264435b",
   "metadata": {},
   "outputs": [
    {
     "data": {
      "image/png": "[encoded data removed]",
      "text/plain": [
       "<Figure size 640x480 with 1 Axes>"
      ]
     },
     "metadata": {},
     "output_type": "display_data"
    }
   ],
   "source": [
    "p = 50\n",
    "k = 20\n",
    "n = 500\n",
    "real_dist = sample_LRT_stat_under_null(n, p, k, B=int(1e6), noise='sph')\n",
    "plt.hist(real_dist, bins=100, density=True, alpha=0.5, label='Pivotal Dist.')\n",
    "x = np.arange(min(real_dist), max(real_dist), 0.001)\n",
    "plt.plot(x, chi2.pdf(x, df=cov_df(p) - model_df(p, k, 'sph')), alpha=0.7, label='Wilks Dist.')\n",
    "plt.legend()\n",
    "plt.savefig(\"../figures/pivotal500.pdf\")\n",
    "plt.cla()\n",
    "\n",
    "p = 50\n",
    "k = 20\n",
    "n = 5000\n",
    "real_dist = sample_LRT_stat_under_null(n, p, k, B=int(1e6), noise='sph')\n",
    "plt.hist(real_dist, bins=100, density=True, alpha=0.5, label='Pivotal Dist.')\n",
    "x = np.arange(min(real_dist), max(real_dist), 0.001)\n",
    "plt.plot(x, chi2.pdf(x, df=cov_df(p) - model_df(p, k, 'sph')), alpha=0.7, label='Wilks Dist.')\n",
    "plt.legend()\n",
    "plt.savefig(\"../figures/pivotal5000.pdf\")\n",
    "plt.cla()"
   ]
  },
  {
   "cell_type": "code",
   "execution_count": 2,
   "id": "d444ac31",
   "metadata": {},
   "outputs": [],
   "source": [
    "def summarize_results(results):\n",
    "    \n",
    "    excesses = []\n",
    "    for i in range(len(ns)):\n",
    "        excesses.append(results[i, np.where(results[i, :] > k)[0]] - k)\n",
    "    mean_excess = np.array([np.mean(excess) for excess in excesses])\n",
    "    std_excess = np.array([np.std(excess, ddof=1) for excess in excesses])\n",
    "    num_excess = np.array([len(excess) if len(excess) > 0 else np.nan for excess in excesses])\n",
    "\n",
    "    \n",
    "    dearths = []\n",
    "    for i in range(len(ns)):\n",
    "        dearths.append(k - results[i, np.where(results[i, :] < k)[0]])\n",
    "        \n",
    "    mean_dearth = np.array([np.mean(dearth) for dearth in dearths])\n",
    "    std_dearth = np.array([np.std(dearth, ddof=1) for dearth in dearths])\n",
    "    num_dearth = np.array([len(dearth) if len(dearth) > 0 else np.nan for dearth in dearths])\n",
    "\n",
    "    print(\"Mean Type I Error\")\n",
    "    print(np.mean(results > k, axis=1))\n",
    "    print(\"Std Type I Error\")\n",
    "    print(1/np.sqrt(B) * np.std(results > k, axis=1))\n",
    "    print(\"Mean Excess Type I Error\")\n",
    "    print(mean_excess)\n",
    "    print(\"Std. Excess Type I Error\")\n",
    "    print(1/np.sqrt(num_excess) * np.array(std_excess))\n",
    "    print(\"Mean Loss in Power\")\n",
    "    print(mean_dearth)\n",
    "    print(\"Std. Loss in Power\")\n",
    "    print(1/np.sqrt(num_dearth) * np.array(std_dearth))\n",
    "    print(\"Mean Power\")\n",
    "    print(np.mean(results == k, axis=1))\n",
    "    print(\"Std. Power\")\n",
    "    print(1/np.sqrt(B) * np.std(results == k, axis=1))"
   ]
  },
  {
   "cell_type": "code",
   "execution_count": 29,
   "id": "41698f82",
   "metadata": {},
   "outputs": [],
   "source": [
    "p = 50\n",
    "k = 20\n",
    "C_chol = get_equicorrelated_chol(k, 0.25, diag=1)\n",
    "C = C_chol @ C_chol.T\n",
    "sigma_sq = 0.2\n",
    "\n",
    "W = get_block_W(p, k, num_blocks=4, block_size=8, overlap=4)\n",
    "\n",
    "np.random.seed(0)\n",
    "W *= np.random.choice(np.array([-1, 1]), W.shape)\n",
    "W*np.sqrt(1/8)\n",
    "\n",
    "D = np.concatenate([np.arange(0.1, 0.8, step=0.1), np.arange(0.1, 0.8, step=0.1), np.arange(0.1, 0.8, step=0.1), np.arange(0.1, 1.0, step=0.1)])\n",
    "#signal_sizes = np.sum(W * (W @ C), axis=1)\n",
    "#W = np.sqrt(1 - sigma_sq)/np.sqrt(signal_sizes)[:, None] * W\n",
    "\n",
    "B = 1000\n",
    "noise = 'diag'\n",
    "method = 'swap'\n",
    "num_inits = 25\n",
    "ns = [500]\n",
    "alpha = 0.1"
   ]
  },
  {
   "cell_type": "code",
   "execution_count": 30,
   "id": "3b1b247f",
   "metadata": {},
   "outputs": [],
   "source": [
    "quantiles = {}\n",
    "\n",
    "for n in ns:\n",
    "    for i in range(1, p-1):\n",
    "        quantiles[(n, p, i, 1 - alpha, noise)] = Q(1 - alpha, n, p, i, noise=noise)"
   ]
  },
  {
   "cell_type": "markdown",
   "id": "89b2ee5d",
   "metadata": {},
   "source": [
    "$X_S$ is Gaussian"
   ]
  },
  {
   "cell_type": "code",
   "execution_count": 18,
   "id": "c4b86271",
   "metadata": {},
   "outputs": [
    {
     "data": {
      "application/vnd.jupyter.widget-view+json": {
       "model_id": "d4952e5abe624dd1981b3e53807eac5a",
       "version_major": 2,
       "version_minor": 0
      },
      "text/plain": [
       "0it [00:00, ?it/s]"
      ]
     },
     "metadata": {},
     "output_type": "display_data"
    },
    {
     "data": {
      "application/vnd.jupyter.widget-view+json": {
       "model_id": "7eb801adf9fb481fb780a76a48509da8",
       "version_major": 2,
       "version_minor": 0
      },
      "text/plain": [
       "0it [00:00, ?it/s]"
      ]
     },
     "metadata": {},
     "output_type": "display_data"
    },
    {
     "data": {
      "application/vnd.jupyter.widget-view+json": {
       "model_id": "86ea5656454847d1907b9bbed5f83f0d",
       "version_major": 2,
       "version_minor": 0
      },
      "text/plain": [
       "0it [00:00, ?it/s]"
      ]
     },
     "metadata": {},
     "output_type": "display_data"
    },
    {
     "data": {
      "application/vnd.jupyter.widget-view+json": {
       "model_id": "b1bfc9f36bf14ec09e259653eaa5d946",
       "version_major": 2,
       "version_minor": 0
      },
      "text/plain": [
       "0it [00:00, ?it/s]"
      ]
     },
     "metadata": {},
     "output_type": "display_data"
    }
   ],
   "source": [
    "results = np.zeros((len(ns), B))\n",
    "for i, n in tqdm(enumerate(ns)):\n",
    "    #Sigma_hats = generate_gaussian_PCSS_sample_cov(n, C_chol, W, sigma_sq=sigma_sq, B=B)\n",
    "    Sigma_hats = generate_gaussian_PCSS_sample_cov(n, C_chol, W, D=D, B=B)\n",
    "    mp_LRT = partial(sieves_gaussian_LRT, n=n, alpha=alpha, noise=noise, method=method, num_inits=num_inits, quantiles=quantiles)\n",
    "    with Pool(multiprocessing.cpu_count()) as pool:\n",
    "        results[i, :] = [len(S) for S in list(tqdm(pool.imap_unordered(mp_LRT, list(Sigma_hats))))]"
   ]
  },
  {
   "cell_type": "code",
   "execution_count": 19,
   "id": "db51c1ff",
   "metadata": {},
   "outputs": [
    {
     "name": "stdout",
     "output_type": "stream",
     "text": [
      "Mean Type I Error\n",
      "[0.    0.003 0.024]\n",
      "Std Type I Error\n",
      "[0.         0.00172945 0.00483983]\n",
      "Mean Excess Type I Error\n",
      "[ nan 1.   1.25]\n",
      "Std. Excess Type I Error\n",
      "[       nan 0.         0.10851434]\n",
      "Mean Loss in Power\n",
      "[ 1. nan nan]\n",
      "Std. Loss in Power\n",
      "[nan nan nan]\n",
      "Mean Power\n",
      "[0.999 0.997 0.976]\n",
      "Std. Power\n",
      "[0.0009995  0.00172945 0.00483983]\n"
     ]
    }
   ],
   "source": [
    "summarize_results(results)"
   ]
  },
  {
   "cell_type": "markdown",
   "id": "8bfde894",
   "metadata": {},
   "source": [
    "$X_S$ is Uniform"
   ]
  },
  {
   "cell_type": "code",
   "execution_count": 28,
   "id": "e156aee0",
   "metadata": {},
   "outputs": [
    {
     "data": {
      "application/vnd.jupyter.widget-view+json": {
       "model_id": "8424ba501317457aa5e55e11e14ffce5",
       "version_major": 2,
       "version_minor": 0
      },
      "text/plain": [
       "0it [00:00, ?it/s]"
      ]
     },
     "metadata": {},
     "output_type": "display_data"
    },
    {
     "data": {
      "application/vnd.jupyter.widget-view+json": {
       "model_id": "d518d2d1c39942519f0c503727c9c9c5",
       "version_major": 2,
       "version_minor": 0
      },
      "text/plain": [
       "0it [00:00, ?it/s]"
      ]
     },
     "metadata": {},
     "output_type": "display_data"
    },
    {
     "data": {
      "application/vnd.jupyter.widget-view+json": {
       "model_id": "c1b7ec8196dd45abb42c84dc1a7358ae",
       "version_major": 2,
       "version_minor": 0
      },
      "text/plain": [
       "0it [00:00, ?it/s]"
      ]
     },
     "metadata": {},
     "output_type": "display_data"
    },
    {
     "data": {
      "application/vnd.jupyter.widget-view+json": {
       "model_id": "ffb840c208f5428abe18ce8367e64e23",
       "version_major": 2,
       "version_minor": 0
      },
      "text/plain": [
       "0it [00:00, ?it/s]"
      ]
     },
     "metadata": {},
     "output_type": "display_data"
    }
   ],
   "source": [
    "results = np.zeros((len(ns), B))\n",
    "for i, n in tqdm(enumerate(ns)):\n",
    "    X_S = np.random.uniform(low=-np.sqrt(3), high=np.sqrt(3), size=(B, n, k))\n",
    "    X = generate_gaussian_PCSS_data(n, W=W, X_S=X_S, D=D, B=B)\n",
    "    X_c = X - np.mean(X, axis=1)[:, np.newaxis, :]  \n",
    "    Sigma_hats = 1/n * np.transpose(X_c, (0, 2, 1) ) @ X_c\n",
    "    mp_LRT = partial(sieves_gaussian_LRT, n=n, alpha=alpha, noise=noise, method=method, num_inits=num_inits, quantiles=quantiles)\n",
    "    with Pool(multiprocessing.cpu_count()) as pool:\n",
    "        results[i, :] = [len(S) for S in list(tqdm(pool.imap_unordered(mp_LRT, list(Sigma_hats))))]"
   ]
  },
  {
   "cell_type": "code",
   "execution_count": 29,
   "id": "e7324c1e",
   "metadata": {},
   "outputs": [
    {
     "name": "stdout",
     "output_type": "stream",
     "text": [
      "Mean Type I Error\n",
      "[0.137 0.121 0.112]\n",
      "Std Type I Error\n",
      "[0.01087341 0.01031305 0.00997276]\n",
      "Mean Excess Type I Error\n",
      "[1.4379562  1.23966942 1.35714286]\n",
      "Std. Excess Type I Error\n",
      "[0.07673939 0.0454921  0.06063948]\n",
      "Mean Loss in Power\n",
      "[nan nan nan]\n",
      "Std. Loss in Power\n",
      "[nan nan nan]\n",
      "Mean Power\n",
      "[0.863 0.879 0.888]\n",
      "Std. Power\n",
      "[0.01087341 0.01031305 0.00997276]\n"
     ]
    }
   ],
   "source": [
    "summarize_results(results)"
   ]
  },
  {
   "cell_type": "markdown",
   "id": "1927202d",
   "metadata": {},
   "source": [
    "$X_S$ is Rademacher"
   ]
  },
  {
   "cell_type": "code",
   "execution_count": 30,
   "id": "68344b8d",
   "metadata": {},
   "outputs": [
    {
     "data": {
      "application/vnd.jupyter.widget-view+json": {
       "model_id": "eb9e077a3aa14b9088be09890bfa7bc4",
       "version_major": 2,
       "version_minor": 0
      },
      "text/plain": [
       "0it [00:00, ?it/s]"
      ]
     },
     "metadata": {},
     "output_type": "display_data"
    },
    {
     "data": {
      "application/vnd.jupyter.widget-view+json": {
       "model_id": "88384a7f53664cd388afbc002b1408ae",
       "version_major": 2,
       "version_minor": 0
      },
      "text/plain": [
       "0it [00:00, ?it/s]"
      ]
     },
     "metadata": {},
     "output_type": "display_data"
    },
    {
     "data": {
      "application/vnd.jupyter.widget-view+json": {
       "model_id": "de9fe9c6fb0d4ba7abc17e4512c230b9",
       "version_major": 2,
       "version_minor": 0
      },
      "text/plain": [
       "0it [00:00, ?it/s]"
      ]
     },
     "metadata": {},
     "output_type": "display_data"
    },
    {
     "data": {
      "application/vnd.jupyter.widget-view+json": {
       "model_id": "1b4f85964bad4e4384e8c85034be6fd3",
       "version_major": 2,
       "version_minor": 0
      },
      "text/plain": [
       "0it [00:00, ?it/s]"
      ]
     },
     "metadata": {},
     "output_type": "display_data"
    }
   ],
   "source": [
    "results = np.zeros((len(ns), B))\n",
    "for i, n in tqdm(enumerate(ns)):\n",
    "    X_S = np.random.choice(np.array([-1, 1]), size=(B, n, k))\n",
    "    X = generate_gaussian_PCSS_data(n, W=W, X_S=X_S, D=D, B=B)\n",
    "    X_c = X - np.mean(X, axis=1)[:, np.newaxis, :]  \n",
    "    Sigma_hats = 1/n * np.transpose(X_c, (0, 2, 1) ) @ X_c\n",
    "    mp_LRT = partial(sieves_gaussian_LRT, n=n, alpha=alpha, noise=noise, method=method, num_inits=num_inits, quantiles=quantiles)\n",
    "    with Pool(multiprocessing.cpu_count()) as pool:\n",
    "        results[i, :] = [len(S) for S in list(tqdm(pool.imap_unordered(mp_LRT, list(Sigma_hats))))]"
   ]
  },
  {
   "cell_type": "code",
   "execution_count": 31,
   "id": "a7b93e16",
   "metadata": {},
   "outputs": [
    {
     "name": "stdout",
     "output_type": "stream",
     "text": [
      "Mean Type I Error\n",
      "[0.125 0.117 0.115]\n",
      "Std Type I Error\n",
      "[0.01045825 0.0101642  0.01008836]\n",
      "Mean Excess Type I Error\n",
      "[1.312      1.35042735 1.32173913]\n",
      "Std. Excess Type I Error\n",
      "[0.06663913 0.06459678 0.0531937 ]\n",
      "Mean Loss in Power\n",
      "[nan nan nan]\n",
      "Std. Loss in Power\n",
      "[nan nan nan]\n",
      "Mean Power\n",
      "[0.875 0.883 0.885]\n",
      "Std. Power\n",
      "[0.01045825 0.0101642  0.01008836]\n"
     ]
    }
   ],
   "source": [
    "summarize_results(results)"
   ]
  },
  {
   "cell_type": "markdown",
   "id": "6272ac82",
   "metadata": {},
   "source": [
    "$X_S$ is categorical"
   ]
  },
  {
   "cell_type": "code",
   "execution_count": 16,
   "id": "b0fd61bd",
   "metadata": {},
   "outputs": [
    {
     "data": {
      "application/vnd.jupyter.widget-view+json": {
       "model_id": "52e2015a689b4b8ebf2f7fbdcd5fd283",
       "version_major": 2,
       "version_minor": 0
      },
      "text/plain": [
       "0it [00:00, ?it/s]"
      ]
     },
     "metadata": {},
     "output_type": "display_data"
    },
    {
     "data": {
      "application/vnd.jupyter.widget-view+json": {
       "model_id": "60fee394fb5542e4922d29604e869b86",
       "version_major": 2,
       "version_minor": 0
      },
      "text/plain": [
       "0it [00:00, ?it/s]"
      ]
     },
     "metadata": {},
     "output_type": "display_data"
    },
    {
     "data": {
      "application/vnd.jupyter.widget-view+json": {
       "model_id": "5468d5e9d8f640cb9293b62a5e4d9a27",
       "version_major": 2,
       "version_minor": 0
      },
      "text/plain": [
       "0it [00:00, ?it/s]"
      ]
     },
     "metadata": {},
     "output_type": "display_data"
    },
    {
     "data": {
      "application/vnd.jupyter.widget-view+json": {
       "model_id": "5417babe3b23408bb4d47032ca0ec732",
       "version_major": 2,
       "version_minor": 0
      },
      "text/plain": [
       "0it [00:00, ?it/s]"
      ]
     },
     "metadata": {},
     "output_type": "display_data"
    }
   ],
   "source": [
    "results = np.zeros((len(ns), B))\n",
    "for i, n in tqdm(enumerate(ns)):\n",
    "    X_S = np.random.choice(np.array([0, 1, 2, 3, 4]), size=(B, n, k))\n",
    "    X = generate_gaussian_PCSS_data(n, W=W, X_S=X_S, D=D, B=B)\n",
    "    X_c = X - np.mean(X, axis=1)[:, np.newaxis, :]  \n",
    "    Sigma_hats = 1/n * np.transpose(X_c, (0, 2, 1) ) @ X_c\n",
    "    mp_LRT = partial(sieves_gaussian_LRT, n=n, alpha=alpha, noise=noise, method=method, num_inits=num_inits, quantiles=quantiles)\n",
    "    with Pool(multiprocessing.cpu_count()) as pool:\n",
    "        results[i, :] = [len(S) for S in list(tqdm(pool.imap_unordered(mp_LRT, list(Sigma_hats))))]"
   ]
  },
  {
   "cell_type": "code",
   "execution_count": 17,
   "id": "bfde2663",
   "metadata": {},
   "outputs": [
    {
     "name": "stdout",
     "output_type": "stream",
     "text": [
      "Mean Type I Error\n",
      "[0.101 0.095 0.109]\n",
      "Std Type I Error\n",
      "[0.00952885 0.00927227 0.0098549 ]\n",
      "Mean Excess Type I Error\n",
      "[1.46534653 1.22105263 1.31192661]\n",
      "Std. Excess Type I Error\n",
      "[0.09393948 0.04774641 0.06071447]\n",
      "Mean Loss in Power\n",
      "[nan nan nan]\n",
      "Std. Loss in Power\n",
      "[nan nan nan]\n",
      "Mean Power\n",
      "[0.899 0.905 0.891]\n",
      "Std. Power\n",
      "[0.00952885 0.00927227 0.0098549 ]\n"
     ]
    }
   ],
   "source": [
    "summarize_results(results)"
   ]
  },
  {
   "cell_type": "markdown",
   "id": "f2d56cd0",
   "metadata": {},
   "source": [
    "$X_S$ is skew Cauchy with $a=0.5$"
   ]
  },
  {
   "cell_type": "code",
   "execution_count": 33,
   "id": "aa07717d",
   "metadata": {},
   "outputs": [
    {
     "data": {
      "application/vnd.jupyter.widget-view+json": {
       "model_id": "4eb41f3ce87b4f479415cee28805b4df",
       "version_major": 2,
       "version_minor": 0
      },
      "text/plain": [
       "0it [00:00, ?it/s]"
      ]
     },
     "metadata": {},
     "output_type": "display_data"
    },
    {
     "data": {
      "application/vnd.jupyter.widget-view+json": {
       "model_id": "fd0d83d0e5b34df3a929d4804239ba86",
       "version_major": 2,
       "version_minor": 0
      },
      "text/plain": [
       "0it [00:00, ?it/s]"
      ]
     },
     "metadata": {},
     "output_type": "display_data"
    }
   ],
   "source": [
    "results = np.zeros((len(ns), B))\n",
    "for i, n in tqdm(enumerate(ns)):\n",
    "    #X_S = np.square(np.random.standard_t(df=5, size=(B, n, k)))\n",
    "    X_S = skewcauchy.rvs(a=0.5, size=(B, n, k))\n",
    "    X = generate_gaussian_PCSS_data(n, W=W, X_S=X_S, D=D, B=B)\n",
    "    X_c = X - np.mean(X, axis=1)[:, np.newaxis, :]  \n",
    "    Sigma_hats = 1/n * np.transpose(X_c, (0, 2, 1) ) @ X_c\n",
    "    mp_LRT = partial(sieves_gaussian_LRT, n=n, alpha=alpha, noise=noise, method=method, num_inits=num_inits, quantiles=quantiles)\n",
    "    with Pool(multiprocessing.cpu_count()) as pool:\n",
    "        results[i, :] = [len(S) for S in list(tqdm(pool.imap_unordered(mp_LRT, list(Sigma_hats))))]"
   ]
  },
  {
   "cell_type": "code",
   "execution_count": 34,
   "id": "35591cdc",
   "metadata": {},
   "outputs": [
    {
     "name": "stdout",
     "output_type": "stream",
     "text": [
      "Mean Type I Error\n",
      "[0.098]\n",
      "Std Type I Error\n",
      "[0.00940191]\n",
      "Mean Excess Type I Error\n",
      "[1.26530612]\n",
      "Std. Excess Type I Error\n",
      "[0.05719994]\n",
      "Mean Loss in Power\n",
      "[nan]\n",
      "Std. Loss in Power\n",
      "[nan]\n",
      "Mean Power\n",
      "[0.902]\n",
      "Std. Power\n",
      "[0.00940191]\n"
     ]
    }
   ],
   "source": [
    "summarize_results(results)"
   ]
  },
  {
   "cell_type": "markdown",
   "id": "a4e50008",
   "metadata": {},
   "source": [
    "### Real Data Analysis"
   ]
  },
  {
   "cell_type": "code",
   "execution_count": 2,
   "id": "fb44d1a3",
   "metadata": {},
   "outputs": [],
   "source": [
    "def log_likelihood_plot(X, k_max, method='greedy', noise='sph', num_inits=1, plot=True):\n",
    "    \n",
    "    log_likelihoods = np.zeros(k_max)\n",
    "    \n",
    "    pcss = PCSS()\n",
    "    if method == 'greedy':\n",
    "        \n",
    "        pcss.compute_MLE_from_data(X, k_max, noise=noise, method='greedy')\n",
    "        S_greedy = pcss.S.copy()\n",
    "        \n",
    "        for i in range(1, k_max+1):\n",
    "            pcss.compute_MLE_from_data(X, i, noise=noise, method='swap', S_init=S_greedy[:i], max_iter=0)\n",
    "            log_likelihoods[i - 1] = pcss.log_likelihood\n",
    "    \n",
    "    if method == 'swap':\n",
    "        \n",
    "        for i in range(1, k_max + 1):\n",
    "            best_log_likelihood = -np.inf\n",
    "            for j in range(num_inits):\n",
    "                pcss.compute_MLE_from_data(X, k_max, noise=noise, method='swap')\n",
    "                if pcss.log_likelihood > best_log_likelihood:\n",
    "                    best_log_likelihood = pcss.log_likelihood\n",
    "            log_likelihoods[i - 1] = best_log_likelihood\n",
    "    \n",
    "    if plot:\n",
    "        plt.plot(np.arange(1, k_max + 1), log_likelihoods)\n",
    "    \n",
    "    return log_likelihoods "
   ]
  },
  {
   "cell_type": "code",
   "execution_count": null,
   "id": "39c7bfd7",
   "metadata": {},
   "outputs": [],
   "source": [
    "def css_obj_plot(X, k_max, method='greedy', noise='sph', num_inits=1):\n",
    "    \n",
    "    objs = np.array(k_max)\n",
    "    _, Sigma_hat = get_moments(X)\n",
    "    \n",
    "    css = CSS()\n",
    "    if method == 'greedy':\n",
    "        \n",
    "        css.select_subset_from_data(X, k_max, noise=noise, method='greedy')\n",
    "        S_greedy = css.S.copy()\n",
    "        \n",
    "        for i in range(1, k_max+1):\n",
    "            objs[i - 1] = np.trace(regress_off(Sigma_hat, S_greedy[:i]))\n",
    "    \n",
    "    if method == 'swap':\n",
    "        for i in range(1, k_max + 1)\n",
    "            best_obj = np.inf\n",
    "            for j in range(num_inits):\n",
    "                css.select_subset_from_data(X, k_max, noise=noise, method='swap')\n",
    "                potential_obj = np.trace(css.Sigma_R)\n",
    "                if potential_obj < best_obj:\n",
    "                    best_obj = potential_obj\n",
    "            objs[i - 1] = best_obj\n",
    "        "
   ]
  },
  {
   "cell_type": "markdown",
   "id": "2bc21d55",
   "metadata": {},
   "source": [
    "Factor Analysis Example"
   ]
  },
  {
   "cell_type": "code",
   "execution_count": 3,
   "id": "de7000aa",
   "metadata": {},
   "outputs": [],
   "source": [
    "X = pd.read_csv(\"../data/BFI228.csv\").values[:, 1:]\n",
    "n = len(X)\n",
    "_, Sigma_hat = get_moments(X)"
   ]
  },
  {
   "cell_type": "code",
   "execution_count": 4,
   "id": "c28860e1",
   "metadata": {},
   "outputs": [
    {
     "name": "stdout",
     "output_type": "stream",
     "text": [
      "19\n",
      "[ 0  2  6  7 12 13 14 15 19 20 22 24 25 27 29 31 37 38 43]\n",
      "4\n",
      "4\n",
      "5\n",
      "3\n",
      "3\n"
     ]
    }
   ],
   "source": [
    "alpha=0.05\n",
    "S = sieves_gaussian_LRT(Sigma_hat, n, alpha, noise='diag', num_inits=100)\n",
    "print(len(S))\n",
    "print(np.sort(S))\n",
    "print(len(np.where(np.logical_and(S>=0, S<=7))[0]))\n",
    "print(len(np.where(np.logical_and(S>=8, S<=16))[0]))\n",
    "print(len(np.where(np.logical_and(S>=17, S<=25))[0]))\n",
    "print(len(np.where(np.logical_and(S>=26, S<=33))[0]))\n",
    "print(len(np.where(np.logical_and(S>=34, S<=43))[0]))"
   ]
  },
  {
   "cell_type": "code",
   "execution_count": 5,
   "id": "79f03665",
   "metadata": {},
   "outputs": [
    {
     "data": {
      "text/plain": [
       "array([0.9348261 , 1.01313866, 0.80030394, 0.91012619, 1.32846645,\n",
       "       0.84672207, 1.33264081, 0.87309557, 1.08192906, 0.52468067,\n",
       "       0.9600454 , 0.81525085, 0.85385888, 1.15010388, 0.53945445,\n",
       "       1.19313635, 0.51123423, 0.71843259, 1.19504078, 0.52300708,\n",
       "       1.56086488, 1.4644506 , 1.02854725, 0.71396968, 0.80255463,\n",
       "       1.2689289 , 1.21021853, 1.21506617, 1.19119344, 1.56561634,\n",
       "       1.35056941, 1.22366497, 1.08102493, 1.35080025, 0.83302555,\n",
       "       0.53462604, 1.0999346 , 0.94003924, 1.06017236, 1.20966066,\n",
       "       1.20675592, 0.8138658 , 1.35772545, 1.76100339])"
      ]
     },
     "execution_count": 5,
     "metadata": {},
     "output_type": "execute_result"
    }
   ],
   "source": [
    "np.diag(Sigma_hat)"
   ]
  },
  {
   "cell_type": "code",
   "execution_count": 8,
   "id": "85524b30",
   "metadata": {},
   "outputs": [],
   "source": [
    "pcss = PCSS()\n",
    "pcss.compute_MLE_from_data(X, k=19, method='swap', noise='diag')"
   ]
  },
  {
   "cell_type": "code",
   "execution_count": 13,
   "id": "171197a4",
   "metadata": {},
   "outputs": [
    {
     "data": {
      "text/plain": [
       "0.5517239936121213"
      ]
     },
     "execution_count": 13,
     "metadata": {},
     "output_type": "execute_result"
    }
   ],
   "source": [
    "np.median(pcss.MLE['D_MLE']/np.diag(Sigma_hat)[complement(Sigma_hat.shape[0], pcss.MLE['S_MLE'])])"
   ]
  },
  {
   "cell_type": "code",
   "execution_count": 16,
   "id": "44bb3409",
   "metadata": {},
   "outputs": [
    {
     "data": {
      "text/plain": [
       "array([-60.3423477 , -58.87962234, -57.8619868 , -56.84200897,\n",
       "       -55.95497102, -55.19392631, -54.68495592, -54.28894891,\n",
       "       -53.92932439, -53.62967876, -53.36278682, -53.09784594,\n",
       "       -52.85467767, -52.65842716, -52.45794613, -52.32042739,\n",
       "       -52.18321357, -52.06816287, -51.95534743, -51.8577381 ,\n",
       "       -51.76251393, -51.67501639, -51.59066329, -51.51125909,\n",
       "       -51.44409272, -51.38409591, -51.32872565, -51.27927776,\n",
       "       -51.23998294, -51.20289194, -51.16785727, -51.13596826,\n",
       "       -51.10637903, -51.08976877, -51.07310959, -51.06067457,\n",
       "       -51.05051576, -51.04594457, -51.04261743, -51.04078696,\n",
       "       -51.03929904, -51.03860462, -51.03841693, -51.03841693])"
      ]
     },
     "execution_count": 16,
     "metadata": {},
     "output_type": "execute_result"
    },
    {
     "data": {
      "image/png": "[encoded data removed]",
      "text/plain": [
       "<Figure size 640x480 with 1 Axes>"
      ]
     },
     "metadata": {},
     "output_type": "display_data"
    }
   ],
   "source": [
    "log_likelihood_plot(X, X.shape[1], noise='diag')"
   ]
  },
  {
   "cell_type": "code",
   "execution_count": 22,
   "id": "a64b600d",
   "metadata": {},
   "outputs": [],
   "source": [
    "X = pd.read_csv(\"../data/CPAI537.csv\").values[:, 1:]\n",
    "n = len(X)\n",
    "_, Sigma_hat = get_moments(X)"
   ]
  },
  {
   "cell_type": "code",
   "execution_count": 25,
   "id": "5ad3c2b6",
   "metadata": {},
   "outputs": [
    {
     "name": "stdout",
     "output_type": "stream",
     "text": [
      "1 3729.250388837847 405.0066397047172\n",
      "2 2761.3621657848344 377.1923991538491\n",
      "3 2117.224925009549 350.18164244205286\n",
      "4 1646.5784119503353 324.1061908573692\n",
      "5 1348.3610431523578 299.5768016788182\n",
      "6 1085.074817091662 275.06350716167873\n",
      "7 839.4207026762065 252.28158790189508\n",
      "8 687.4780332077136 230.4543697889319\n",
      "9 561.4107340911382 209.0890191427209\n",
      "10 440.43147360632435 188.95433832421745\n",
      "11 342.38526636483317 170.06167477312115\n",
      "12 262.7106002315591 151.96726774017299\n",
      "13 201.8434286440692 134.88869727521703\n",
      "14 152.5370375399716 118.59490281430998\n",
      "15 117.48063180037192 103.48929827732618\n",
      "16 90.5202301829355 89.54608117532098\n",
      "17 64.49840381574525 76.41258383387363\n"
     ]
    },
    {
     "data": {
      "text/plain": [
       "17"
      ]
     },
     "execution_count": 25,
     "metadata": {},
     "output_type": "execute_result"
    }
   ],
   "source": [
    "alpha=0.05\n",
    "len(sieves_gaussian_LRT(Sigma_hat, n, alpha, noise='diag', num_inits=10))"
   ]
  },
  {
   "cell_type": "code",
   "execution_count": 8,
   "id": "8d095caf",
   "metadata": {},
   "outputs": [
    {
     "data": {
      "text/plain": [
       "array([-58.74923199, -57.84803253, -57.24827718, -56.81005883,\n",
       "       -56.5449832 , -56.29770716, -56.05851533, -55.91704171,\n",
       "       -55.80773526, -55.71035142, -55.61951723, -55.53485754,\n",
       "       -55.46856382, -55.42677628, -55.3926911 , -55.36121508,\n",
       "       -55.33698619, -55.32089135, -55.30758932, -55.29528469,\n",
       "       -55.2872099 , -55.28175328, -55.27908985, -55.2774319 ,\n",
       "       -55.27701101, -55.27693535, -55.27693181, -55.27693181])"
      ]
     },
     "execution_count": 8,
     "metadata": {},
     "output_type": "execute_result"
    },
    {
     "data": {
      "image/png": "[encoded data removed]",
      "text/plain": [
       "<Figure size 640x480 with 1 Axes>"
      ]
     },
     "metadata": {},
     "output_type": "display_data"
    }
   ],
   "source": [
    "log_likelihood_plot(X, X.shape[1], noise='diag')"
   ]
  },
  {
   "cell_type": "markdown",
   "id": "50244ec9",
   "metadata": {},
   "source": [
    "Dermatology"
   ]
  },
  {
   "cell_type": "code",
   "execution_count": 118,
   "id": "5a6b8d38",
   "metadata": {},
   "outputs": [
    {
     "data": {
      "text/plain": [
       "16"
      ]
     },
     "execution_count": 118,
     "metadata": {},
     "output_type": "execute_result"
    }
   ],
   "source": [
    "derm_df = pd.read_csv('../data/dermatology.data', header=None)\n",
    "X = derm_df.values\n",
    "to_keep = []\n",
    "for i in range(len(X)):\n",
    "    if '?' in X[i, :]:\n",
    "        continue \n",
    "    to_keep.append(i)\n",
    "X = X[to_keep, :]\n",
    "X = X.astype(float)\n",
    "n, p = X.shape\n",
    "_, Sigma_hat = get_moments(X)\n",
    "len(sieves_gaussian_LRT(Sigma_hat, n, alpha, noise='diag', num_inits=10))"
   ]
  },
  {
   "cell_type": "code",
   "execution_count": 35,
   "id": "942d9522",
   "metadata": {},
   "outputs": [],
   "source": [
    "pcss = PCSS()\n",
    "pcss.compute_MLE_from_data(X, k=30, method='swap', noise='diag')"
   ]
  },
  {
   "cell_type": "code",
   "execution_count": 25,
   "id": "40731770",
   "metadata": {},
   "outputs": [
    {
     "data": {
      "text/plain": [
       "0.5423160601868258"
      ]
     },
     "execution_count": 25,
     "metadata": {},
     "output_type": "execute_result"
    }
   ],
   "source": [
    "np.median(pcss.MLE['D_MLE']/np.diag(Sigma_hat)[complement(Sigma_hat.shape[0], pcss.MLE['S_MLE'])])"
   ]
  },
  {
   "cell_type": "code",
   "execution_count": 36,
   "id": "3ae1fd18",
   "metadata": {},
   "outputs": [
    {
     "name": "stdout",
     "output_type": "stream",
     "text": [
      "[0.84672207 1.08192906 0.52468067 0.9600454  0.81525085 0.51123423\n",
      " 1.19504078 0.52300708 1.02854725 1.21021853 1.08102493 1.35080025\n",
      " 0.53462604 1.35772545]\n",
      "[0.44627551 0.71577015 0.34731415 0.45510223 0.51797407 0.2431376\n",
      " 0.67759675 0.2636246  0.53832145 0.55381256 0.49689113 0.60477546\n",
      " 0.30926602 0.90807241]\n"
     ]
    }
   ],
   "source": [
    "print(np.diag(Sigma_hat)[complement(Sigma_hat.shape[0], pcss.MLE['S_MLE'])])\n",
    "print(pcss.MLE['D_MLE'])"
   ]
  },
  {
   "cell_type": "markdown",
   "id": "a4bef592",
   "metadata": {},
   "source": [
    "QSAR"
   ]
  },
  {
   "cell_type": "code",
   "execution_count": 98,
   "id": "3f0d8620",
   "metadata": {},
   "outputs": [
    {
     "name": "stdout",
     "output_type": "stream",
     "text": [
      "41\n"
     ]
    }
   ],
   "source": [
    "qsar_df = pd.read_csv('../data/biodeg.csv', delimiter=';', header=None)\n",
    "X = qsar_df.values\n",
    "X = X[:, :X.shape[1] - 1]\n",
    "n, p = X.shape\n",
    "_, Sigma_hat = get_moments(X)\n",
    "Sigma_hat = Sigma_hat.astype(float)\n",
    "#Sigma_hat = standardize_cov(Sigma_hat).astype(float)\n",
    "print(p)"
   ]
  },
  {
   "cell_type": "code",
   "execution_count": 99,
   "id": "3bb67e3b",
   "metadata": {},
   "outputs": [
    {
     "data": {
      "text/plain": [
       "32"
      ]
     },
     "execution_count": 99,
     "metadata": {},
     "output_type": "execute_result"
    }
   ],
   "source": [
    "alpha=0.05\n",
    "len(sieves_gaussian_LRT(Sigma_hat, n, alpha, noise='diag', num_inits=10))"
   ]
  },
  {
   "cell_type": "markdown",
   "id": "fa259679",
   "metadata": {},
   "source": [
    "Stocks Example"
   ]
  },
  {
   "cell_type": "code",
   "execution_count": 68,
   "id": "e1055690",
   "metadata": {},
   "outputs": [],
   "source": [
    "stocks_df = pd.read_csv('../data/stocks_normalized.csv')\n",
    "stocks = list(stocks_df.columns)[1:]\n",
    "X = stocks_df.to_numpy()[:, 1:].astype(float)\n",
    "mu_hat, Sigma_hat = get_moments(X)\n",
    "n, p = X.shape\n",
    "X_standardized = (X - mu_hat) * 1/np.sqrt(np.diag(Sigma_hat))[None, :] + mu_hat\n",
    "mu_hat, Sigma_hat = get_moments(X_standardized)"
   ]
  },
  {
   "cell_type": "code",
   "execution_count": 69,
   "id": "a81996c4",
   "metadata": {},
   "outputs": [
    {
     "name": "stdout",
     "output_type": "stream",
     "text": [
      "[ 1  4  5  7  8 10 11 13 16 17 19]\n"
     ]
    }
   ],
   "source": [
    "alpha = 0.05\n",
    "S = sieves_gaussian_LRT(Sigma_hat, n, alpha, noise='diag', num_inits=100)\n",
    "print(np.sort(S))"
   ]
  }
 ],
 "metadata": {
  "kernelspec": {
   "display_name": "Python 3 (ipykernel)",
   "language": "python",
   "name": "python3"
  },
  "language_info": {
   "codemirror_mode": {
    "name": "ipython",
    "version": 3
   },
   "file_extension": ".py",
   "mimetype": "text/x-python",
   "name": "python",
   "nbconvert_exporter": "python",
   "pygments_lexer": "ipython3",
   "version": "3.10.9"
  },
  "vscode": {
   "interpreter": {
    "hash": "4726a5c9f3517a27aa1d195cae6672a5506a78a1d1787d6b6d30fa625f8290cf"
   }
  }
 },
 "nbformat": 4,
 "nbformat_minor": 5
}
