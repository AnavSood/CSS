{
 "cells": [
  {
   "cell_type": "code",
   "execution_count": 5,
   "metadata": {},
   "outputs": [],
   "source": [
    "%load_ext autoreload\n",
    "%autoreload 2"
   ]
  },
  {
   "cell_type": "code",
   "execution_count": 37,
   "metadata": {},
   "outputs": [],
   "source": [
    "import numpy as np \n",
    "from pycss.utils import *\n",
    "from pycss.subset_selection import *\n",
    "from scipy import stats\n",
    "from notebook_utils.utils import *"
   ]
  },
  {
   "cell_type": "markdown",
   "metadata": {},
   "source": [
    "Some helper functions for testing"
   ]
  },
  {
   "cell_type": "code",
   "execution_count": 2,
   "metadata": {},
   "outputs": [],
   "source": [
    "def replace_submatrix(mat, ind1, ind2, mat_replace):\n",
    "    for i, index in enumerate(ind1):\n",
    "        mat[index, ind2] = mat_replace[i, :]\n",
    "    return mat\n",
    "\n",
    "def compute_Sigma_MLE(Sigma, S, noise='sph'):\n",
    "    p = Sigma.shape[0]\n",
    "    k = len(S)\n",
    "    S = np.sort(S)\n",
    "    S_comp = complement(p, S)\n",
    "    Sigma_R = regress_off(Sigma, S) \n",
    "    D_ = np.diag(Sigma_R)[S_comp]\n",
    "    if noise == 'sph':\n",
    "        D = np.ones(p - k) * np.mean(D_)\n",
    "    if noise == 'diag':\n",
    "        D = D_.copy()\n",
    "    Sigma_MLE = np.zeros((p, p))\n",
    "    Sigma_MLE = replace_submatrix(Sigma_MLE, S, S, Sigma[S, :][:, S])\n",
    "    Sigma_MLE = replace_submatrix(Sigma_MLE, S, S_comp,  Sigma[S, :][:, S_comp])\n",
    "    Sigma_MLE = replace_submatrix(Sigma_MLE, S_comp, S, Sigma[S_comp, :][:, S])\n",
    "    Sigma_MLE = replace_submatrix(Sigma_MLE, S_comp, S_comp, Sigma[S_comp, :][:, S] @  np.linalg.inv(Sigma[S, :][:, S]) @ Sigma[S, :][:, S_comp] + np.diag(D))\n",
    "    return Sigma_MLE"
   ]
  },
  {
   "cell_type": "markdown",
   "metadata": {},
   "source": [
    "Generate factor model and data"
   ]
  },
  {
   "cell_type": "code",
   "execution_count": 41,
   "metadata": {},
   "outputs": [],
   "source": [
    "p = 50\n",
    "n= 2000\n",
    "k= 15\n",
    "B = 10\n",
    "\n",
    "def gen_Sigma(n, p, k):\n",
    "    W = np.random.multivariate_normal(np.zeros(k), cov=np.eye(k), size=p)\n",
    "    D = np.sqrt(k) * np.square(np.random.normal(0, 1, p))\n",
    "    Sigma = W @ W.T\n",
    "    np.fill_diagonal(Sigma, np.diag(Sigma) + D)\n",
    "    Sigma = standardize_cov(Sigma)\n",
    "    X = np.random.multivariate_normal(np.zeros(p), cov= Sigma, size=n)\n",
    "    mu_hat, Sigma_hat = get_moments(X)\n",
    "    return Sigma_hat"
   ]
  },
  {
   "cell_type": "markdown",
   "metadata": {},
   "source": [
    "Test Greedy CSS"
   ]
  },
  {
   "cell_type": "code",
   "execution_count": 79,
   "metadata": {},
   "outputs": [],
   "source": [
    "Sigmas = []\n",
    "for i in range(B):\n",
    "    Sigma = gen_Sigma(n, p, k)\n",
    "    Sigmas.append(Sigma)\n",
    "    N1 = np.random.choice([0, 3, 6, 9], 1, p=[0.7, 0.1, 0.1, 0.1])\n",
    "    N2 = np.random.choice([0, 3, 6, 9], 1, p=[0.7, 0.1, 0.1, 0.1])\n",
    "    include = np.random.choice(np.arange(p), N1, replace=False).astype(int)\n",
    "    exclude = np.random.choice([idx for idx in np.arange(p) if idx not in include], N2, replace=False).astype(int)\n",
    "    \n",
    "    S, _ = greedy_css(Sigma, k=p-len(exclude), include=include, exclude=exclude)\n",
    "    S_cutoff, _ = greedy_css(Sigma, cutoffs=0, include=include, exclude=exclude)\n",
    "    \n",
    "    if not set(include).issubset(S):\n",
    "            print('Iteration ' + str(i) + ' does not include all of include.')\n",
    "            \n",
    "    if len(set(exclude).intersection(S)) > 0:\n",
    "            print('Iteration ' + str(i) + ' does not exclude all of exclude.')\n",
    "    \n",
    "    if not np.all(S == S_cutoff):\n",
    "        print('k and cutoff dont agree for iteration ' + str(i))\n",
    "    \n",
    "    S_naive = (-1 * np.ones(p - len(exclude))).astype(int)\n",
    "    S_naive[:len(include)] = include \n",
    "    for j in range(len(include), len(S_naive)):\n",
    "        options = [idx for idx in np.arange(p) if (idx not in naive_S and idx not in exclude)]\n",
    "        best_idx = None\n",
    "        best_obj_val = np.inf\n",
    "        for idx in options:\n",
    "            potential_S = np.concatenate([S_naive[ :j], np.array([idx]) ])\n",
    "            obj_val = np.trace(regress_off(Sigma, potential_S))\n",
    "            if obj_val < best_obj_val:\n",
    "                best_obj_val = obj_val\n",
    "                best_idx = idx\n",
    "        S_naive[j] = best_idx\n",
    "    \n",
    "    if not np.all(S == S_naive):\n",
    "        print('On iteration ' + str(i) + ' we dont match the naive solution st ' + str(np.where(S_naive != S)[0]))\n",
    "              "
   ]
  },
  {
   "cell_type": "markdown",
   "metadata": {},
   "source": [
    "Test Swapping CSS "
   ]
  },
  {
   "cell_type": "code",
   "execution_count": 78,
   "metadata": {},
   "outputs": [],
   "source": [
    "Sigmas = []\n",
    "for i in range(B):\n",
    "    Sigma = gen_Sigma(n, p, k)\n",
    "    Sigmas.append(Sigma)\n",
    "    for s in range(1, 15):\n",
    "        N1 = np.random.choice(np.arange(s))\n",
    "        N2 = np.random.choice(np.arange(s))\n",
    "        include = np.random.choice(np.arange(p), N1, replace=False).astype(int)\n",
    "        exclude = np.random.choice([idx for idx in np.arange(p) if idx not in include], N2, replace=False).astype(int)\n",
    "        S, _, _, converged = swapping_css(Sigma, s, tol=TOL, include=include, exclude=exclude)\n",
    "        \n",
    "        if not set(include).issubset(S):\n",
    "            print('Size ' + str(s) + ' subset for iteration ' + str(i) + ' does not include all of include.')\n",
    "            \n",
    "        if len(set(exclude).intersection(S)) > 0:\n",
    "            print('Size ' + str(s) + ' subset for iteration ' + str(i) + ' does not exclude all of exclude.')\n",
    "        \n",
    "        if not converged:\n",
    "            print('Size ' + str(s) + ' subset for iteration ' + str(i) + ' did not converge.')\n",
    "            continue \n",
    "    \n",
    "        for j in range(len(S)):\n",
    "            chosen = S[j]\n",
    "            if chosen in include:\n",
    "                continue \n",
    "            temp_S  = np.delete(S, j)\n",
    "            options = np.array([idx for idx in np.arange(p) if (idx not in exclude and idx not in temp_S)])\n",
    "            best_obj_val = np.inf\n",
    "            best_idx = None\n",
    "            \n",
    "            for ell in options:\n",
    "                potential_S= np.concatenate([temp_S, np.array([ell])]).astype(int)\n",
    "                obj_val = np.trace(regress_off(Sigma, potential_S))\n",
    "                if obj_val < best_obj_val:\n",
    "                    best_obj_val = obj_val\n",
    "                    best_idx = ell\n",
    "            \n",
    "            if best_idx != chosen:\n",
    "                print('Mistake chosing index ' + str(best_idx) + 'zfor the size ' + str(s) + ' subset ' + ' on iteration ' + str(i))"
   ]
  },
  {
   "cell_type": "markdown",
   "metadata": {},
   "source": [
    "Test Greedy PCSS "
   ]
  },
  {
   "cell_type": "code",
   "execution_count": 6,
   "metadata": {},
   "outputs": [],
   "source": [
    "noise = 'sph'\n",
    "\n",
    "for k in range(1, p-1):\n",
    "    if noise == 'sph':\n",
    "        S, Sigma_R, errors = greedy_subset_selection(Sigma_hat, k, sph_pcss_objective, flag_colinearity=True, tol=TOL)\n",
    "    if noise == 'diag':\n",
    "        S, Sigma_R, errors = greedy_subset_selection(Sigma_hat, k, diag_pcss_objective, flag_colinearity=True, tol=TOL)\n",
    "    if len(errors) > 0:\n",
    "        print('Colinearity errors at ' + str(k) + ': ', errors)\n",
    "    S_removed = S[:(k - 1)]\n",
    "    S_removed_comp = complement(p, S_removed)\n",
    "    temp_objectives = []\n",
    "    for t in S_removed_comp:\n",
    "        S_added = np.concatenate([S_removed, np.array([t])]).astype(int)\n",
    "        Sigma_MLE_temp = compute_Sigma_MLE(Sigma_hat, S=S_added, noise=noise)\n",
    "        temp_objectives.append(-1 * np.mean(stats.multivariate_normal(mean=mu_hat, cov=Sigma_MLE_temp).logpdf(X)))\n",
    "    if S_removed_comp[np.argmin(temp_objectives)] != S[k-1]:\n",
    "        print('Mistake at ', k)"
   ]
  },
  {
   "cell_type": "markdown",
   "metadata": {},
   "source": [
    "Test Swapping PCSS"
   ]
  },
  {
   "cell_type": "code",
   "execution_count": 7,
   "metadata": {},
   "outputs": [],
   "source": [
    "noise = 'sph'\n",
    "\n",
    "for k in range(1, 15):\n",
    "    if noise == 'sph':\n",
    "        S, Sigma_R, S_init, converged, errors = swapping_subset_selection(Sigma_hat, k, sph_pcss_objective, flag_colinearity=True, tol=TOL)\n",
    "    if noise == 'diag':\n",
    "        S, Sigma_R, S_init, converged, errors = swapping_subset_selection(Sigma_hat, k, diag_pcss_objective, flag_colinearity=True, tol=TOL)\n",
    "  \n",
    "    if len(errors) > 0:\n",
    "        print('Colinearity errors at ' + str(k) + ': ', errors)\n",
    "\n",
    "    if not converged:\n",
    "        print(str(k) + ' did not converge')\n",
    "        continue \n",
    "\n",
    "    for i in range(len(S)):\n",
    "        chosen = S[i]\n",
    "        S_temp = np.delete(S, i)\n",
    "        S_temp_comp = complement(p, S_temp)\n",
    "        temp_objectives = []\n",
    "        for t in S_temp_comp:\n",
    "            S_added= np.concatenate([S_temp, np.array([t])]).astype(int)\n",
    "            Sigma_MLE_temp = compute_Sigma_MLE(Sigma_hat, S=S_added, noise=noise)\n",
    "            temp_objectives.append(-1 * np.mean(stats.multivariate_normal(mean=mu_hat, cov=Sigma_MLE_temp).logpdf(X)))\n",
    "        if S_temp_comp[np.argmin(temp_objectives)] != chosen:\n",
    "            print('Mistake at ', k)"
   ]
  }
 ],
 "metadata": {
  "kernelspec": {
   "display_name": "Python 3 (ipykernel)",
   "language": "python",
   "name": "python3"
  },
  "language_info": {
   "codemirror_mode": {
    "name": "ipython",
    "version": 3
   },
   "file_extension": ".py",
   "mimetype": "text/x-python",
   "name": "python",
   "nbconvert_exporter": "python",
   "pygments_lexer": "ipython3",
   "version": "3.10.10"
  },
  "vscode": {
   "interpreter": {
    "hash": "4e8e6b0daa73b41664b185076c529236510f1ca31ed4d2fa545660d2cd784378"
   }
  }
 },
 "nbformat": 4,
 "nbformat_minor": 2
}
