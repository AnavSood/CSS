{
 "cells": [
  {
   "cell_type": "code",
   "execution_count": 5,
   "metadata": {},
   "outputs": [],
   "source": [
    "%load_ext autoreload\n",
    "%autoreload 2"
   ]
  },
  {
   "cell_type": "code",
   "execution_count": 21,
   "metadata": {},
   "outputs": [],
   "source": [
    "import numpy as np \n",
    "from pycss.utils import *\n",
    "from pycss.subset_selection import *\n",
    "from scipy import stats"
   ]
  },
  {
   "cell_type": "markdown",
   "metadata": {},
   "source": [
    "Generate factor model and data"
   ]
  },
  {
   "cell_type": "code",
   "execution_count": 13,
   "metadata": {},
   "outputs": [],
   "source": [
    "p = 50\n",
    "n= 2000\n",
    "k= 15\n",
    "B = 10\n",
    "\n",
    "def gen_Sigma(n, p, k):\n",
    "    W = np.random.multivariate_normal(np.zeros(k), cov=np.eye(k), size=p)\n",
    "    D = np.sqrt(k) * np.square(np.random.normal(0, 1, p))\n",
    "    Sigma = W @ W.T\n",
    "    np.fill_diagonal(Sigma, np.diag(Sigma) + D)\n",
    "    Sigma = standardize_cov(Sigma)\n",
    "    X = np.random.multivariate_normal(np.zeros(p), cov= Sigma, size=n)\n",
    "    mu_hat, Sigma_hat = get_moments(X)\n",
    "    return Sigma_hat"
   ]
  },
  {
   "cell_type": "markdown",
   "metadata": {},
   "source": [
    "Test Greedy CSS"
   ]
  },
  {
   "cell_type": "code",
   "execution_count": 14,
   "metadata": {},
   "outputs": [],
   "source": [
    "Sigmas = []\n",
    "for i in range(B):\n",
    "    Sigma = gen_Sigma(n, p, k)\n",
    "    Sigmas.append(Sigma)\n",
    "    N1 = np.random.choice([0, 3, 6, 9], 1, p=[0.7, 0.1, 0.1, 0.1])\n",
    "    N2 = np.random.choice([0, 3, 6, 9], 1, p=[0.7, 0.1, 0.1, 0.1])\n",
    "    include = np.random.choice(np.arange(p), N1, replace=False).astype(int)\n",
    "    exclude = np.random.choice([idx for idx in np.arange(p) if idx not in include], N2, replace=False).astype(int)\n",
    "    \n",
    "    S, _ = greedy_css(Sigma, k=p-len(exclude), include=include, exclude=exclude)\n",
    "    S_cutoff, _ = greedy_css(Sigma, cutoffs=0, include=include, exclude=exclude)\n",
    "    \n",
    "    if not set(include).issubset(S):\n",
    "            print('Iteration ' + str(i) + ' does not include all of include.')\n",
    "            \n",
    "    if len(set(exclude).intersection(S)) > 0:\n",
    "            print('Iteration ' + str(i) + ' does not exclude all of exclude.')\n",
    "    \n",
    "    if not np.all(S == S_cutoff):\n",
    "        print('k and cutoff dont agree for iteration ' + str(i))\n",
    "    \n",
    "    naive_S = (-1 * np.ones(p - len(exclude))).astype(int)\n",
    "    naive_S[:len(include)] = include \n",
    "    for j in range(len(include), len(naive_S)):\n",
    "        options = [idx for idx in np.arange(p) if (idx not in naive_S and idx not in exclude)]\n",
    "        best_idx = None\n",
    "        best_obj_val = np.inf\n",
    "        for idx in options:\n",
    "            potential_S = np.concatenate([naive_S[ :j], np.array([idx]) ])\n",
    "            obj_val = np.trace(regress_off(Sigma, potential_S))\n",
    "            if obj_val < best_obj_val:\n",
    "                best_obj_val = obj_val\n",
    "                best_idx = idx\n",
    "        naive_S[j] = best_idx\n",
    "    \n",
    "    if not np.all(S == naive_S):\n",
    "        print('On iteration ' + str(i) + ' we dont match the naive solution at ' + str(np.where(naive_S != S)[0]))\n",
    "              "
   ]
  },
  {
   "cell_type": "markdown",
   "metadata": {},
   "source": [
    "Test Swapping CSS "
   ]
  },
  {
   "cell_type": "code",
   "execution_count": 15,
   "metadata": {},
   "outputs": [],
   "source": [
    "Sigmas = []\n",
    "for i in range(B):\n",
    "    Sigma = gen_Sigma(n, p, k)\n",
    "    Sigmas.append(Sigma)\n",
    "    for s in range(1, 15):\n",
    "        N1 = np.random.choice(np.arange(s))\n",
    "        N2 = np.random.choice(np.arange(s))\n",
    "        include = np.random.choice(np.arange(p), N1, replace=False).astype(int)\n",
    "        exclude = np.random.choice([idx for idx in np.arange(p) if idx not in include], N2, replace=False).astype(int)\n",
    "        S, _, _, converged = swapping_css(Sigma, s, tol=TOL, include=include, exclude=exclude)\n",
    "        \n",
    "        if not set(include).issubset(S):\n",
    "            print('Size ' + str(s) + ' subset for iteration ' + str(i) + ' does not include all of include.')\n",
    "            \n",
    "        if len(set(exclude).intersection(S)) > 0:\n",
    "            print('Size ' + str(s) + ' subset for iteration ' + str(i) + ' does not exclude all of exclude.')\n",
    "        \n",
    "        if not converged:\n",
    "            print('Size ' + str(s) + ' subset for iteration ' + str(i) + ' did not converge.')\n",
    "            continue \n",
    "    \n",
    "        for j in range(len(S)):\n",
    "            chosen = S[j]\n",
    "            if chosen in include:\n",
    "                continue \n",
    "            temp_S  = np.delete(S, j)\n",
    "            options = np.array([idx for idx in np.arange(p) if (idx not in exclude and idx not in temp_S)])\n",
    "            best_obj_val = np.inf\n",
    "            best_idx = None\n",
    "            \n",
    "            for ell in options:\n",
    "                potential_S= np.concatenate([temp_S, np.array([ell])]).astype(int)\n",
    "                obj_val = np.trace(regress_off(Sigma, potential_S))\n",
    "                if obj_val < best_obj_val:\n",
    "                    best_obj_val = obj_val\n",
    "                    best_idx = ell\n",
    "            \n",
    "            if best_idx != chosen:\n",
    "                print('Mistake chosing index ' + str(best_idx) + 'zfor the size ' + str(s) + ' subset ' + ' on iteration ' + str(i))"
   ]
  },
  {
   "cell_type": "markdown",
   "metadata": {},
   "source": [
    "Testing Greedy Subset Factor"
   ]
  },
  {
   "cell_type": "code",
   "execution_count": 20,
   "metadata": {},
   "outputs": [],
   "source": [
    "def compute_test_stat(Sigma, S):\n",
    "    p = Sigma.shape[0]\n",
    "    Sigma_R = regress_off(Sigma, S)\n",
    "    S_comp = complement(p, S)\n",
    "    test_stat = np.sum(np.log(np.diag(Sigma_R)[S_comp])) - np.linalg.slogdet(Sigma_R[S_comp, :][:, S_comp])[1]\n",
    "    return test_stat"
   ]
  },
  {
   "cell_type": "code",
   "execution_count": 17,
   "metadata": {},
   "outputs": [],
   "source": [
    "p = 10\n",
    "n= 2000\n",
    "k= 5\n",
    "B = 10"
   ]
  },
  {
   "cell_type": "code",
   "execution_count": 18,
   "metadata": {},
   "outputs": [],
   "source": [
    "Sigmas = []\n",
    "cutoffs = -1*np.inf *np.ones(p + 1)\n",
    "for i in range(B):\n",
    "    Sigma = gen_Sigma(n, p, k)\n",
    "    Sigmas.append(Sigma)\n",
    "    if np.min(np.linalg.eig(Sigma)[0]) <= 0:\n",
    "        print('Iteration ' + str(i) + ' is not colinear.')\n",
    "        continue \n",
    "    N1 = np.random.choice([0, 1, 2], 1)\n",
    "    N2 = np.random.choice([0, 1, 2], 1)\n",
    "    include = np.random.choice(np.arange(p), N1, replace=False).astype(int)\n",
    "    exclude = np.random.choice([idx for idx in np.arange(p) if idx not in include], N2, replace=False).astype(int)\n",
    "    \n",
    "    S, reject = greedy_subset_factor_selection(Sigma, cutoffs=cutoffs, include=include, exclude=exclude)\n",
    "    if not set(include).issubset(S):\n",
    "            print('Iteration ' + str(i) + ' does not include all of include.')\n",
    "            \n",
    "    if len(set(exclude).intersection(S)) > 0:\n",
    "            print('Iteration ' + str(i) + ' does not exclude all of exclude.')\n",
    "    \n",
    "    ell = len(S)\n",
    "    if ell != min(p - len(exclude), p-1):\n",
    "        print('Iteration ' + str(i) + ' selected less than p - len(exclude).')\n",
    "        \n",
    "        \n",
    "    naive_S = -1 * np.ones(ell)\n",
    "    naive_S[:len(include)] = include\n",
    "    for j in range(len(include), ell):\n",
    "        if j == p-1:\n",
    "            break\n",
    "        options = np.array([idx for idx in np.arange(p) if (idx not in exclude and idx not in naive_S)])\n",
    "        best_idx = None\n",
    "        best_test_stat = np.inf\n",
    "        for idx in options:\n",
    "            test_stat = compute_test_stat(Sigma, np.concatenate([S[:j], np.array([idx])]))\n",
    "            if test_stat < best_test_stat:\n",
    "                best_idx = idx\n",
    "                best_test_stat = test_stat\n",
    "        naive_S[j] = best_idx\n",
    "            \n",
    "    if not np.all(S[:min(ell, p-2)] == naive_S[:min(ell, p-2)]):\n",
    "        print('On iteration ' + str(i) + ' we dont match the naive solution at ' + str(np.where(S[:min(ell, p-2)] != naive_S[:min(ell, p-2)])[0]))       \n",
    "        "
   ]
  },
  {
   "cell_type": "markdown",
   "metadata": {},
   "source": [
    "Test swapping subset factor selection"
   ]
  },
  {
   "cell_type": "code",
   "execution_count": 19,
   "metadata": {},
   "outputs": [],
   "source": [
    "Sigmas = []\n",
    "cutoffs = -1*np.inf *np.ones(p + 1)\n",
    "for i in range(B):\n",
    "    Sigma = gen_Sigma(n, p, k)\n",
    "    Sigmas.append(Sigma)\n",
    "    if np.min(np.linalg.eig(Sigma)[0]) <= 0:\n",
    "        print('Iteration ' + str(i) + ' is not colinear.')\n",
    "        continue \n",
    "    N1 = np.random.choice([0, 1, 2], 1)\n",
    "    N2 = np.random.choice([0, 1, 2], 1)\n",
    "    include = np.random.choice(np.arange(p), N1, replace=False).astype(int)\n",
    "    exclude = np.random.choice([idx for idx in np.arange(p) if idx not in include], N2, replace=False).astype(int)\n",
    "    \n",
    "    S, reject = swapping_subset_factor_selection(Sigma, k=k, cutoff=-np.inf, include=include, exclude=exclude)\n",
    "    if not set(include).issubset(S):\n",
    "            print('Iteration ' + str(i) + ' does not include all of include.')\n",
    "            \n",
    "    if len(set(exclude).intersection(S)) > 0:\n",
    "            print('Iteration ' + str(i) + ' does not exclude all of exclude.')\n",
    "        \n",
    "        \n",
    "    for j in range(len(S)):\n",
    "        chosen = S[j]\n",
    "        if chosen in include:\n",
    "            continue \n",
    "        temp_S  = np.delete(S, j)\n",
    "        options = np.array([idx for idx in np.arange(p) if (idx not in exclude and idx not in temp_S)])\n",
    "        best_test_stat = np.inf\n",
    "        best_idx = None\n",
    "            \n",
    "        for ell in options:\n",
    "            potential_S= np.concatenate([temp_S, np.array([ell])]).astype(int)\n",
    "            test_stat = compute_test_stat(Sigma, potential_S)\n",
    "            if test_stat < best_test_stat:\n",
    "                best_test_stat = test_stat\n",
    "                best_idx = ell\n",
    "            \n",
    "        if best_idx != chosen:\n",
    "            print('Mistake chosing index ' + str(best_idx) + 'zfor the size ' + str(s) + ' subset ' + ' on iteration ' + str(i))      \n",
    "        "
   ]
  }
 ],
 "metadata": {
  "kernelspec": {
   "display_name": "Python 3 (ipykernel)",
   "language": "python",
   "name": "python3"
  },
  "language_info": {
   "codemirror_mode": {
    "name": "ipython",
    "version": 3
   },
   "file_extension": ".py",
   "mimetype": "text/x-python",
   "name": "python",
   "nbconvert_exporter": "python",
   "pygments_lexer": "ipython3",
   "version": "3.10.10"
  },
  "vscode": {
   "interpreter": {
    "hash": "4e8e6b0daa73b41664b185076c529236510f1ca31ed4d2fa545660d2cd784378"
   }
  }
 },
 "nbformat": 4,
 "nbformat_minor": 2
}
