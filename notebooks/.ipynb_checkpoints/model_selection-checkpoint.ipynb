{
 "cells": [
  {
   "cell_type": "code",
   "execution_count": 2,
   "id": "43acd866",
   "metadata": {},
   "outputs": [
    {
     "name": "stdout",
     "output_type": "stream",
     "text": [
      "The autoreload extension is already loaded. To reload it, use:\n",
      "  %reload_ext autoreload\n"
     ]
    }
   ],
   "source": [
    "%load_ext autoreload\n",
    "%autoreload 2"
   ]
  },
  {
   "cell_type": "code",
   "execution_count": 49,
   "id": "4fbd31bc",
   "metadata": {},
   "outputs": [],
   "source": [
    "from pycss.subset_selection import *\n",
    "from pycss.utils import *\n",
    "from pycss.PCSS import *\n",
    "from pycss.hypothesis_testing import *\n",
    "import numpy as np\n",
    "from matplotlib import pyplot as plt\n",
    "from scipy.stats import chi2\n",
    "from choldate import cholupdate\n",
    "import multiprocessing\n",
    "from multiprocessing import Pool\n",
    "from functools import partial\n",
    "from tqdm.notebook import tqdm"
   ]
  },
  {
   "cell_type": "code",
   "execution_count": 50,
   "id": "a533dc5e",
   "metadata": {},
   "outputs": [],
   "source": [
    "TOL = 1e-10\n",
    "def regress_one_off(Sigma, j, tol=TOL):\n",
    "    if Sigma[j, j] > tol:\n",
    "        return Sigma - np.outer(Sigma[:, j], Sigma[:, j])/Sigma[j, j]   \n",
    "    else:\n",
    "        return Sigma \n",
    "\n",
    "def regress_off(Sigma, S, tol=TOL):\n",
    "    for j in S:\n",
    "        Sigma = regress_one_off(Sigma, j, tol)\n",
    "    return Sigma "
   ]
  },
  {
   "cell_type": "code",
   "execution_count": 51,
   "id": "5eea6be7",
   "metadata": {},
   "outputs": [],
   "source": [
    "def get_equicorrelated_chol(k, off_diag, diag=1):\n",
    "    \n",
    "    \"\"\"\n",
    "\tReturns the cholesky decomposition of a `k` dimensional\n",
    "    matrix with a fixed diagonal and off-diagonal entry.\n",
    "\n",
    "\tParameters\n",
    "\t----------\n",
    "\tk : int\n",
    "\t    Dimension of the matrix.\n",
    "    off_diag : float\n",
    "        Value of the off-diagonal entry.\n",
    "    diag : float\n",
    "        Value of the diagonal entry.\n",
    "\t\n",
    "    Returns \n",
    "\t-------\n",
    "\tnp.array\n",
    "        The `(k, k)`-shaped Cholesky decomposition of the matrix\n",
    "        with `diag` as it's diagonal entries and `off_diag` as its\n",
    "        off diagonal entries. \n",
    "\t\"\"\"\n",
    "    \n",
    "    chol = np.sqrt(diag-off_diag) * np.eye(k)\n",
    "    cholupdate(chol, np.sqrt(off_diag) * np.ones(k))\n",
    "    \n",
    "    return chol.T"
   ]
  },
  {
   "cell_type": "code",
   "execution_count": 52,
   "id": "bc78ede1",
   "metadata": {},
   "outputs": [],
   "source": [
    "def get_block_W(p, k , num_blocks, block_size, overlap, seed=None):\n",
    "  \n",
    "    if seed is not None:\n",
    "        np.random.seed(seed)\n",
    "    \n",
    "    W = np.zeros((p-k, k))\n",
    "    row_start = 0\n",
    "    col_start = 0\n",
    "    row_move = int((p-k)/num_blocks)\n",
    "    col_move = block_size - overlap\n",
    "  \n",
    "    for i in range(num_blocks):\n",
    "        if i < num_blocks -1:\n",
    "            W[row_start: row_start + row_move, col_start : col_start + block_size ] = 1\n",
    "        else:\n",
    "            W[row_start:, col_start:] = 1\n",
    "    \n",
    "    \n",
    "        row_start += row_move\n",
    "        col_start += col_move\n",
    "    \n",
    "    return W"
   ]
  },
  {
   "cell_type": "code",
   "execution_count": 53,
   "id": "f1cef943",
   "metadata": {},
   "outputs": [],
   "source": [
    "def generate_gaussian_PCSS_sample_cov(n, C_chol, W, D=None, sigma_sq=None, S=None, B=None):\n",
    "    \n",
    "    if D is None and sigma_sq is None:\n",
    "        raise ValueError(\"Both D and sigma_sq cannot be None.\")\n",
    "    if D is not None and sigma_sq is not None:\n",
    "        raise ValueError(\"Both D and sigma_sq cannot be not None.\")\n",
    "    \n",
    "    squeeze = False\n",
    "    if B is None:\n",
    "        B = 1\n",
    "    squeeze = True\n",
    "    \n",
    "    k = C_chol.shape[0]\n",
    "    p = k + W.shape[0]\n",
    "\n",
    "    chis = np.random.chisquare(df=np.arange(n - 1, n - p - 1 , -1), size=(B,p))\n",
    "    chi_sqrts = np.sqrt(chis)\n",
    "    normals = np.random.normal(0, 1, (B, int(p*(p-1)/2)) )\n",
    "    \n",
    "    # Fill in the A matrix in the Bartlett decomposition from\n",
    "    # https://en.wikipedia.org/wiki/Wishart_distribution#Bartlett_decomposition\n",
    "    \n",
    "    A_top_left = np.zeros((B, k, k))\n",
    "    A_top_left[:, np.tri(k, dtype=bool, k=-1)] = normals[:, :int(k *(k-1)/2)]\n",
    "    i, j = np.diag_indices(k)\n",
    "    A_top_left[:, i, j] = chi_sqrts[:, :k]\n",
    "\n",
    "    A_bottom_left = normals[:, int(k *(k-1)/2) : int(k *(k-1)/2) + (p-k)*k].reshape((B, p-k, k))\n",
    "\n",
    "    A_bottom_right = np.zeros((B, p-k, p-k))\n",
    "    A_bottom_right[:, np.tri(p-k, dtype=bool, k=-1)] = normals[: , int(k *(k-1)/2) + (p-k)*k :]\n",
    "    i, j =  np.diag_indices(p-k)\n",
    "    A_bottom_right[:, i, j] = chi_sqrts[:, :p-k]\n",
    "\n",
    "    # Left multiply by Cholesky decomposition of V as in \n",
    "    # https://en.wikipedia.org/wiki/Wishart_distribution#Bartlett_decomposition\n",
    "    \n",
    "    Sigma_hat_chol = np.zeros((B, p, p))\n",
    "    Sigma_hat_chol[:, :k, :k] = C_chol[np.newaxis, :, :] @ A_top_left\n",
    "  \n",
    "    if sigma_sq is not None:\n",
    "        sigma = np.sqrt(sigma_sq)\n",
    "        Sigma_hat_chol[:, k:, :k] = W[np.newaxis, :, :] @ Sigma_hat_chol[:, :k, :k] + sigma * A_bottom_left\n",
    "        Sigma_hat_chol[:, k:, k:] =  sigma * A_bottom_right\n",
    "    if D is not None: \n",
    "        D_sqrt = np.sqrt(D)\n",
    "        Sigma_hat_chol[:, k:, :k] = W[np.newaxis, :, :] @ Sigma_hat_chol[:, :k, :k] + D_sqrt[np.newaxis, np.newaxis, :] * A_bottom_left\n",
    "        Sigma_hat_chol[:, k:, k:] =  D_sqrt[np.newaxis, np.newaxis, :] * A_bottom_right\n",
    "\n",
    "    Sigma_hat = 1/n * Sigma_hat_chol @ np.transpose(Sigma_hat_chol, (0, 2, 1))\n",
    "  \n",
    "    if S is not None:\n",
    "        perm_in_place(Sigma_hat, np.range(p), np.concatenate([S, S_comp]))\n",
    "    \n",
    "    return np.squeeze(Sigma_hat) if squeeze else Sigma_hat"
   ]
  },
  {
   "cell_type": "code",
   "execution_count": 54,
   "id": "e4524911",
   "metadata": {},
   "outputs": [],
   "source": [
    "def generate_gaussian_PCSS_data(n, W=None, C_chol=None, X_S=None, D=None, sigma_sq=None, mu=None, S=None, B=None):\n",
    "    \n",
    "    if W is None:\n",
    "        raise ValueError(\"W cannot be None.\")\n",
    "    \n",
    "    if C_chol is None and X_S is None:\n",
    "        raise ValueError(\"Both C_chol and X_S cannot be None.\")\n",
    "    if D is not None and sigma_sq is not None:\n",
    "        raise ValueError(\"Both C_chol and X_S cannot be not None.\")\n",
    "    \n",
    "    if D is None and sigma_sq is None:\n",
    "        raise ValueError(\"Both D and sigma_sq cannot be None.\")\n",
    "    if D is not None and sigma_sq is not None:\n",
    "        raise ValueError(\"Both D and sigma_sq cannot be not None.\")\n",
    "    \n",
    "    if X_S is not None and len(X_S.shape) != 3:\n",
    "        raise ValueError(\"X_S must be 3-dimensional\")\n",
    "    \n",
    "    squeeze = False\n",
    "    if B is None:\n",
    "        B = 1\n",
    "    squeeze = True\n",
    "    \n",
    "    k = W.shape[1]\n",
    "    p = k + W.shape[0]\n",
    "    \n",
    "    if X_S is None:\n",
    "        X_S = np.random.normal(0, 1, (B, n, k)) @ C_chol.T\n",
    "    \n",
    "    noise = np.random.normal(0, 1, size=(B, n, p-k))\n",
    "    if sigma_sq is not None:\n",
    "        noise = noise * np.sqrt(sigma_sq)\n",
    "    if D is not None:\n",
    "        noise = noise *  np.sqrt(D)[np.newaxis , np.newaxis, :]\n",
    "    \n",
    "    X_S_comp = X_S @ W.T + noise \n",
    "    X = np.dstack([X_S, X_S_comp]) \n",
    "    \n",
    "    if S is not None:\n",
    "        S_comp = compelement(p, S)\n",
    "        perm_in_place(X, np.range(p), np.concatenate([S, S_comp], row=False))\n",
    "\n",
    "    if mu is not None:\n",
    "        X += mu[np.newaxis, np.newaxis, :]\n",
    "    \n",
    "    return np.squeeze(X) if squeeze else X"
   ]
  },
  {
   "cell_type": "code",
   "execution_count": 55,
   "id": "38c4466c",
   "metadata": {},
   "outputs": [],
   "source": [
    "def cov_df(p):\n",
    "    return int(p*(p+1)/2)\n",
    "\n",
    "def model_df(p, k, noise):\n",
    "    if noise == 'sph':\n",
    "        return cov_df(k) + (p-k)*k + 1 if k < p else cov_df(p)\n",
    "    if noise == 'diag':\n",
    "        return cov_df(k) + (p-k)*(k+ 1)"
   ]
  },
  {
   "cell_type": "code",
   "execution_count": 81,
   "id": "4264435b",
   "metadata": {},
   "outputs": [
    {
     "data": {
      "image/png": "[encoded data removed]",
      "text/plain": [
       "<Figure size 640x480 with 1 Axes>"
      ]
     },
     "metadata": {},
     "output_type": "display_data"
    }
   ],
   "source": [
    "p = 50\n",
    "k = 20\n",
    "n = 500\n",
    "real_dist = sample_LRT_stat_under_null(n, p, k, B=int(1e6), noise='sph')\n",
    "plt.hist(real_dist, bins=100, density=True, alpha=0.5, label='Pivotal Dist.')\n",
    "x = np.arange(min(real_dist), max(real_dist), 0.001)\n",
    "plt.plot(x, chi2.pdf(x, df=cov_df(p) - model_df(p, k, 'sph')), alpha=0.7, label='Wilks Dist.')\n",
    "plt.legend()\n",
    "plt.savefig(\"../figures/pivotal500.pdf\")\n",
    "plt.cla()\n",
    "\n",
    "p = 50\n",
    "k = 20\n",
    "n = 5000\n",
    "real_dist = sample_LRT_stat_under_null(n, p, k, B=int(1e6), noise='sph')\n",
    "plt.hist(real_dist, bins=100, density=True, alpha=0.5, label='Pivotal Dist.')\n",
    "x = np.arange(min(real_dist), max(real_dist), 0.001)\n",
    "plt.plot(x, chi2.pdf(x, df=cov_df(p) - model_df(p, k, 'sph')), alpha=0.7, label='Wilks Dist.')\n",
    "plt.legend()\n",
    "plt.savefig(\"../figures/pivotal5000.pdf\")\n",
    "plt.cla()"
   ]
  },
  {
   "cell_type": "code",
   "execution_count": 58,
   "id": "0733268b",
   "metadata": {},
   "outputs": [],
   "source": [
    "def summarize_results(results):\n",
    "    \n",
    "    excesses = []\n",
    "    for i in range(len(ns)):\n",
    "        excesses.append(results[i, np.where(results[i, :] > k)[0]] - k)\n",
    "    mean_excess = np.array([np.mean(excess) for excess in excesses])\n",
    "    std_excess = np.array([np.std(excess, ddof=1) for excess in excesses])\n",
    "    num_excess = np.array([len(excess) if len(excess) > 0 else np.inf for excess in excesses])\n",
    "\n",
    "    \n",
    "    dearths = []\n",
    "    for i in range(len(ns)):\n",
    "        dearths.append(k - results[i, np.where(results[i, :] < k)[0]])\n",
    "        \n",
    "    mean_dearth = np.array([np.mean(dearth) for dearth in dearths])\n",
    "    std_dearth = np.array([np.std(dearth, ddof=1) for dearth in dearths])\n",
    "    num_dearth = np.array([len(dearth) for dearth in dearths])\n",
    "\n",
    "    print(\"Mean Type I Error\")\n",
    "    print(np.mean(results > k, axis=1))\n",
    "    print(\"Std Type I Error\")\n",
    "    print(1/np.sqrt(B) * np.std(results > k, axis=1))\n",
    "    print(\"Mean Excess Type I Error\")\n",
    "    print(mean_excess)\n",
    "    print(\"Std. Excess Type I Error\")\n",
    "    print(1/np.sqrt(num_excess) * np.array(std_excess))\n",
    "    print(\"Mean Loss in Power\")\n",
    "    print(mean_dearth)\n",
    "    print(\"Std. Loss in Power\")\n",
    "    print(1/np.sqrt(num_dearth) * np.array(std_dearth))\n",
    "    print(\"Mean Power\")\n",
    "    print(np.mean(results == k, axis=1))\n",
    "    print(\"Std. Power\")\n",
    "    print(1/np.sqrt(B) * np.std(results == k, axis=1))"
   ]
  },
  {
   "cell_type": "code",
   "execution_count": 74,
   "id": "6c514d36",
   "metadata": {},
   "outputs": [
    {
     "data": {
      "text/plain": [
       "array([0.        , 0.        , 0.70710678])"
      ]
     },
     "execution_count": 74,
     "metadata": {},
     "output_type": "execute_result"
    }
   ],
   "source": [
    "excesses = []\n",
    "for i in range(len(ns)):\n",
    "    excesses.append(results[i, np.where(results[i, :] > k)[0]] - k)\n",
    "    \n",
    "1/np.sqrt([len(excess) if len(excess) > 0 else np.inf for excess in excesses])"
   ]
  },
  {
   "cell_type": "code",
   "execution_count": 62,
   "id": "41698f82",
   "metadata": {},
   "outputs": [],
   "source": [
    "p = 50\n",
    "k = 20\n",
    "C_chol = get_equicorrelated_chol(k, 0.25, diag=1)\n",
    "C = C_chol @ C_chol.T\n",
    "sigma_sq = 0.2\n",
    "\n",
    "W = get_block_W(p, k, num_blocks=4, block_size=8, overlap=4)\n",
    "\n",
    "np.random.seed(0)\n",
    "W *= np.random.choice(np.array([-1, 1]), W.shape)\n",
    "    \n",
    "signal_sizes = np.sum(W * (W @ C), axis=1)\n",
    "W = np.sqrt(1 - sigma_sq)/np.sqrt(signal_sizes)[:, None] * W\n",
    "\n",
    "B = 1000\n",
    "noise = 'sph'\n",
    "method = 'swap'\n",
    "num_inits = 10\n",
    "ns = [100, 500, 1000]\n",
    "alpha = 0.1"
   ]
  },
  {
   "cell_type": "code",
   "execution_count": 68,
   "id": "3b1b247f",
   "metadata": {},
   "outputs": [],
   "source": [
    "quantiles = {}\n",
    "\n",
    "for n in ns:\n",
    "    for i in range(1, p-1):\n",
    "        quantiles[(n, p, i, 1 - alpha, noise)] = Q(1 - alpha, n, p, i, noise=noise)\n",
    "\n"
   ]
  },
  {
   "cell_type": "markdown",
   "id": "9d911c80",
   "metadata": {},
   "source": [
    "$X_S$ is Gaussian"
   ]
  },
  {
   "cell_type": "code",
   "execution_count": 63,
   "id": "c4b86271",
   "metadata": {},
   "outputs": [
    {
     "data": {
      "application/vnd.jupyter.widget-view+json": {
       "model_id": "5b36c45377b14c369d7fae7fa6132d55",
       "version_major": 2,
       "version_minor": 0
      },
      "text/plain": [
       "0it [00:00, ?it/s]"
      ]
     },
     "metadata": {},
     "output_type": "display_data"
    },
    {
     "data": {
      "application/vnd.jupyter.widget-view+json": {
       "model_id": "afe95369074143ffa4df01724185213d",
       "version_major": 2,
       "version_minor": 0
      },
      "text/plain": [
       "0it [00:00, ?it/s]"
      ]
     },
     "metadata": {},
     "output_type": "display_data"
    },
    {
     "data": {
      "application/vnd.jupyter.widget-view+json": {
       "model_id": "8c758da46fbb479da0a03a626f45cd60",
       "version_major": 2,
       "version_minor": 0
      },
      "text/plain": [
       "0it [00:00, ?it/s]"
      ]
     },
     "metadata": {},
     "output_type": "display_data"
    },
    {
     "data": {
      "application/vnd.jupyter.widget-view+json": {
       "model_id": "5c4f32c1a47a482e9369b11a5d2eec5e",
       "version_major": 2,
       "version_minor": 0
      },
      "text/plain": [
       "0it [00:00, ?it/s]"
      ]
     },
     "metadata": {},
     "output_type": "display_data"
    }
   ],
   "source": [
    "results = np.zeros((len(ns), B))\n",
    "for i, n in tqdm(enumerate(ns)):\n",
    "    Sigma_hats = generate_gaussian_PCSS_sample_cov(n, C_chol, W, sigma_sq=sigma_sq, B=B)\n",
    "    mp_LRT = partial(sieves_gaussian_LRT, n=n, alpha=alpha, noise=noise, method=method, num_inits=num_inits, quantiles=quantiles)\n",
    "    with Pool(multiprocessing.cpu_count()) as pool:\n",
    "        results[i, :] = [len(S) for S in list(tqdm(pool.imap_unordered(mp_LRT, list(Sigma_hats))))]"
   ]
  },
  {
   "cell_type": "code",
   "execution_count": 65,
   "id": "995f3c67",
   "metadata": {},
   "outputs": [],
   "source": [
    "dearths = []\n",
    "for i in range(len(ns)):\n",
    "    dearths.append(k - results[i, np.where(results[i, :] < k)[0]])"
   ]
  },
  {
   "cell_type": "code",
   "execution_count": 64,
   "id": "86bcc305",
   "metadata": {},
   "outputs": [
    {
     "name": "stdout",
     "output_type": "stream",
     "text": [
      "Mean Type I Error\n",
      "[0.   0.   0.04]\n",
      "Std Type I Error\n",
      "[0.         0.         0.02771281]\n",
      "Mean Excess Type I Error\n",
      "[nan nan  1.]\n",
      "Std. Excess Type I Error\n",
      "[nan nan  0.]\n",
      "Mean Loss in Power\n",
      "[nan nan  1.]\n",
      "Std. Loss in Power\n",
      "[nan nan  0.]\n",
      "Mean Power\n",
      "[0.42 1.   0.96]\n",
      "Std. Power\n",
      "[0.06979971 0.         0.02771281]\n"
     ]
    },
    {
     "name": "stderr",
     "output_type": "stream",
     "text": [
      "/var/folders/9b/8gtczpzd5_n_zlbsv10125gw0000gn/T/ipykernel_7051/360170625.py:25: RuntimeWarning: divide by zero encountered in divide\n",
      "  print(1/np.sqrt(num_excess) * np.array(std_excess))\n",
      "/var/folders/9b/8gtczpzd5_n_zlbsv10125gw0000gn/T/ipykernel_7051/360170625.py:29: RuntimeWarning: divide by zero encountered in divide\n",
      "  print(1/np.sqrt(num_dearth) * np.array(std_dearth))\n"
     ]
    }
   ],
   "source": [
    "summarize_results(results)"
   ]
  },
  {
   "cell_type": "markdown",
   "id": "81a87db9",
   "metadata": {},
   "source": [
    "$X_S$ is Uniform"
   ]
  },
  {
   "cell_type": "code",
   "execution_count": 46,
   "id": "b07b5d92",
   "metadata": {},
   "outputs": [
    {
     "data": {
      "application/vnd.jupyter.widget-view+json": {
       "model_id": "8fcb35e5d7f6493f8bb985bae9068007",
       "version_major": 2,
       "version_minor": 0
      },
      "text/plain": [
       "0it [00:00, ?it/s]"
      ]
     },
     "metadata": {},
     "output_type": "display_data"
    },
    {
     "data": {
      "application/vnd.jupyter.widget-view+json": {
       "model_id": "0be69484564d47f3b4931bf80f608dae",
       "version_major": 2,
       "version_minor": 0
      },
      "text/plain": [
       "0it [00:00, ?it/s]"
      ]
     },
     "metadata": {},
     "output_type": "display_data"
    },
    {
     "name": "stderr",
     "output_type": "stream",
     "text": [
      "Process SpawnPoolWorker-109:\n",
      "Process SpawnPoolWorker-110:\n",
      "Process SpawnPoolWorker-111:\n",
      "Process SpawnPoolWorker-106:\n",
      "Process SpawnPoolWorker-107:\n",
      "Process SpawnPoolWorker-105:\n",
      "Process SpawnPoolWorker-112:\n",
      "Process SpawnPoolWorker-108:\n",
      "Traceback (most recent call last):\n",
      "  File \"/Users/anavsood/mambaforge/envs/css/lib/python3.10/multiprocessing/process.py\", line 314, in _bootstrap\n",
      "    self.run()\n",
      "  File \"/Users/anavsood/mambaforge/envs/css/lib/python3.10/multiprocessing/process.py\", line 108, in run\n",
      "    self._target(*self._args, **self._kwargs)\n",
      "  File \"/Users/anavsood/mambaforge/envs/css/lib/python3.10/multiprocessing/pool.py\", line 125, in worker\n",
      "    result = (True, func(*args, **kwds))\n",
      "  File \"/Users/anavsood/Documents/CSS/pycss/hypothesis_testing.py\", line 40, in sieves_gaussian_LRT\n",
      "    pcss.compute_MLE_from_cov(Sigma_hat, k, method=method)\n",
      "  File \"/Users/anavsood/Documents/CSS/pycss/PCSS.py\", line 250, in compute_MLE_from_cov\n",
      "    S, Sigma_R, S_init, converged, colinearity_errors = swapping_subset_selection(Sigma,\n",
      "  File \"/Users/anavsood/Documents/CSS/pycss/subset_selection.py\", line 615, in swapping_subset_selection\n",
      "    obj_vals, colinearity_error_idxs = objective(Sigma_R[:num_active, :num_active], flag_colinearity=flag_colinearity, tol=tol)\n",
      "  File \"/Users/anavsood/Documents/CSS/pycss/subset_selection.py\", line 372, in sph_pcss_objective\n",
      "    def sph_pcss_objective(Sigma_R, flag_colinearity=True, tol=TOL):\n",
      "KeyboardInterrupt\n",
      "Traceback (most recent call last):\n",
      "  File \"/Users/anavsood/mambaforge/envs/css/lib/python3.10/multiprocessing/process.py\", line 314, in _bootstrap\n",
      "    self.run()\n",
      "  File \"/Users/anavsood/mambaforge/envs/css/lib/python3.10/multiprocessing/process.py\", line 108, in run\n",
      "    self._target(*self._args, **self._kwargs)\n",
      "  File \"/Users/anavsood/mambaforge/envs/css/lib/python3.10/multiprocessing/pool.py\", line 125, in worker\n",
      "    result = (True, func(*args, **kwds))\n",
      "  File \"/Users/anavsood/Documents/CSS/pycss/hypothesis_testing.py\", line 40, in sieves_gaussian_LRT\n",
      "    pcss.compute_MLE_from_cov(Sigma_hat, k, method=method)\n",
      "  File \"/Users/anavsood/Documents/CSS/pycss/PCSS.py\", line 250, in compute_MLE_from_cov\n",
      "    S, Sigma_R, S_init, converged, colinearity_errors = swapping_subset_selection(Sigma,\n",
      "  File \"/Users/anavsood/Documents/CSS/pycss/subset_selection.py\", line 637, in swapping_subset_selection\n",
      "    Sigma_S_L = update_cholesky_after_adding_last(Sigma_T_L, Sigma[S_new, S])\n",
      "Traceback (most recent call last):\n",
      "KeyboardInterrupt\n",
      "  File \"/Users/anavsood/mambaforge/envs/css/lib/python3.10/multiprocessing/process.py\", line 314, in _bootstrap\n",
      "    self.run()\n",
      "  File \"/Users/anavsood/mambaforge/envs/css/lib/python3.10/multiprocessing/process.py\", line 108, in run\n",
      "    self._target(*self._args, **self._kwargs)\n",
      "  File \"/Users/anavsood/mambaforge/envs/css/lib/python3.10/multiprocessing/pool.py\", line 125, in worker\n",
      "    result = (True, func(*args, **kwds))\n",
      "  File \"/Users/anavsood/Documents/CSS/pycss/hypothesis_testing.py\", line 40, in sieves_gaussian_LRT\n",
      "    pcss.compute_MLE_from_cov(Sigma_hat, k, method=method)\n",
      "  File \"/Users/anavsood/Documents/CSS/pycss/PCSS.py\", line 250, in compute_MLE_from_cov\n",
      "    S, Sigma_R, S_init, converged, colinearity_errors = swapping_subset_selection(Sigma,\n",
      "  File \"/Users/anavsood/Documents/CSS/pycss/subset_selection.py\", line 644, in swapping_subset_selection\n",
      "    perm_in_place(Sigma_R, subset_idxs,  subset_idxs_permuted, idx_order=idx_order)\n",
      "KeyboardInterrupt\n",
      "Traceback (most recent call last):\n",
      "  File \"/Users/anavsood/mambaforge/envs/css/lib/python3.10/multiprocessing/process.py\", line 314, in _bootstrap\n",
      "    self.run()\n",
      "  File \"/Users/anavsood/mambaforge/envs/css/lib/python3.10/multiprocessing/process.py\", line 108, in run\n",
      "    self._target(*self._args, **self._kwargs)\n",
      "  File \"/Users/anavsood/mambaforge/envs/css/lib/python3.10/multiprocessing/pool.py\", line 125, in worker\n",
      "    result = (True, func(*args, **kwds))\n",
      "  File \"/Users/anavsood/Documents/CSS/pycss/hypothesis_testing.py\", line 40, in sieves_gaussian_LRT\n",
      "    pcss.compute_MLE_from_cov(Sigma_hat, k, method=method)\n",
      "  File \"/Users/anavsood/Documents/CSS/pycss/PCSS.py\", line 250, in compute_MLE_from_cov\n",
      "    S, Sigma_R, S_init, converged, colinearity_errors = swapping_subset_selection(Sigma,\n",
      "  File \"/Users/anavsood/Documents/CSS/pycss/subset_selection.py\", line 605, in swapping_subset_selection\n",
      "    num_zero_idxs = len(zero_idxs)\n",
      "KeyboardInterrupt\n",
      "Traceback (most recent call last):\n",
      "Traceback (most recent call last):\n",
      "Traceback (most recent call last):\n",
      "Traceback (most recent call last):\n",
      "  File \"/Users/anavsood/mambaforge/envs/css/lib/python3.10/multiprocessing/process.py\", line 314, in _bootstrap\n",
      "    self.run()\n",
      "  File \"/Users/anavsood/mambaforge/envs/css/lib/python3.10/multiprocessing/process.py\", line 314, in _bootstrap\n",
      "    self.run()\n",
      "  File \"/Users/anavsood/mambaforge/envs/css/lib/python3.10/multiprocessing/process.py\", line 108, in run\n",
      "    self._target(*self._args, **self._kwargs)\n",
      "  File \"/Users/anavsood/mambaforge/envs/css/lib/python3.10/multiprocessing/pool.py\", line 125, in worker\n",
      "    result = (True, func(*args, **kwds))\n",
      "  File \"/Users/anavsood/mambaforge/envs/css/lib/python3.10/multiprocessing/process.py\", line 314, in _bootstrap\n",
      "    self.run()\n",
      "  File \"/Users/anavsood/Documents/CSS/pycss/hypothesis_testing.py\", line 40, in sieves_gaussian_LRT\n",
      "    pcss.compute_MLE_from_cov(Sigma_hat, k, method=method)\n",
      "  File \"/Users/anavsood/mambaforge/envs/css/lib/python3.10/multiprocessing/process.py\", line 108, in run\n",
      "    self._target(*self._args, **self._kwargs)\n",
      "  File \"/Users/anavsood/Documents/CSS/pycss/PCSS.py\", line 250, in compute_MLE_from_cov\n",
      "    S, Sigma_R, S_init, converged, colinearity_errors = swapping_subset_selection(Sigma,\n",
      "  File \"/Users/anavsood/Documents/CSS/pycss/subset_selection.py\", line 604, in swapping_subset_selection\n",
      "    zero_idxs = np.where(np.diag(Sigma_R)[:(d + 1)] <= tol)[0]\n",
      "  File \"/Users/anavsood/mambaforge/envs/css/lib/python3.10/multiprocessing/pool.py\", line 125, in worker\n",
      "    result = (True, func(*args, **kwds))\n",
      "  File \"<__array_function__ internals>\", line 200, in diag\n",
      "  File \"/Users/anavsood/mambaforge/envs/css/lib/python3.10/site-packages/numpy/lib/twodim_base.py\", line 307, in diag\n",
      "    return diagonal(v, k)\n",
      "  File \"<__array_function__ internals>\", line 180, in diagonal\n",
      "  File \"/Users/anavsood/mambaforge/envs/css/lib/python3.10/multiprocessing/process.py\", line 314, in _bootstrap\n",
      "    self.run()\n",
      "  File \"/Users/anavsood/Documents/CSS/pycss/hypothesis_testing.py\", line 40, in sieves_gaussian_LRT\n",
      "    pcss.compute_MLE_from_cov(Sigma_hat, k, method=method)\n",
      "  File \"/Users/anavsood/mambaforge/envs/css/lib/python3.10/site-packages/numpy/core/fromnumeric.py\", line 1574, in _diagonal_dispatcher\n",
      "    def _diagonal_dispatcher(a, offset=None, axis1=None, axis2=None):\n",
      "  File \"/Users/anavsood/mambaforge/envs/css/lib/python3.10/multiprocessing/process.py\", line 108, in run\n",
      "    self._target(*self._args, **self._kwargs)\n",
      "  File \"/Users/anavsood/mambaforge/envs/css/lib/python3.10/multiprocessing/pool.py\", line 125, in worker\n",
      "    result = (True, func(*args, **kwds))\n",
      "  File \"/Users/anavsood/Documents/CSS/pycss/PCSS.py\", line 273, in compute_MLE_from_cov\n",
      "    self.MLE, self.C_MLE_chol, self.C_MLE_inv = compute_MLE_from_selected_subset(Sigma,\n",
      "KeyboardInterrupt\n",
      "  File \"/Users/anavsood/Documents/CSS/pycss/subset_selection.py\", line 702, in compute_MLE_from_selected_subset\n",
      "    C_MLE_inv = solve_with_cholesky(C_MLE_chol, np.eye(k))\n",
      "  File \"/Users/anavsood/Documents/CSS/pycss/subset_selection.py\", line 257, in solve_with_cholesky\n",
      "    return solve_triangular(L.T, solve_triangular(L, M, lower=True), lower=False)\n",
      "  File \"/Users/anavsood/mambaforge/envs/css/lib/python3.10/site-packages/scipy/linalg/_basic.py\", line 349, in solve_triangular\n",
      "    x, info = trtrs(a1, b1, overwrite_b=overwrite_b, lower=lower,\n",
      "KeyboardInterrupt\n",
      "  File \"/Users/anavsood/mambaforge/envs/css/lib/python3.10/multiprocessing/process.py\", line 108, in run\n",
      "    self._target(*self._args, **self._kwargs)\n",
      "  File \"/Users/anavsood/mambaforge/envs/css/lib/python3.10/multiprocessing/pool.py\", line 125, in worker\n",
      "    result = (True, func(*args, **kwds))\n",
      "  File \"/Users/anavsood/Documents/CSS/pycss/hypothesis_testing.py\", line 40, in sieves_gaussian_LRT\n",
      "    pcss.compute_MLE_from_cov(Sigma_hat, k, method=method)\n",
      "  File \"/Users/anavsood/Documents/CSS/pycss/PCSS.py\", line 273, in compute_MLE_from_cov\n",
      "    self.MLE, self.C_MLE_chol, self.C_MLE_inv = compute_MLE_from_selected_subset(Sigma,\n",
      "  File \"/Users/anavsood/Documents/CSS/pycss/subset_selection.py\", line 706, in compute_MLE_from_selected_subset\n",
      "    sigma_sq_MLE = np.sum(np.diag(Sigma_R)[S_ord_comp]) /(p - k)\n",
      "  File \"<__array_function__ internals>\", line 200, in sum\n",
      "  File \"/Users/anavsood/mambaforge/envs/css/lib/python3.10/site-packages/numpy/core/fromnumeric.py\", line 2324, in sum\n",
      "    return _wrapreduction(a, np.add, 'sum', axis, dtype, out, keepdims=keepdims,\n",
      "  File \"/Users/anavsood/mambaforge/envs/css/lib/python3.10/site-packages/numpy/core/fromnumeric.py\", line 86, in _wrapreduction\n",
      "    return ufunc.reduce(obj, axis, dtype, out, **passkwargs)\n",
      "KeyboardInterrupt\n",
      "  File \"/Users/anavsood/Documents/CSS/pycss/hypothesis_testing.py\", line 40, in sieves_gaussian_LRT\n",
      "    pcss.compute_MLE_from_cov(Sigma_hat, k, method=method)\n",
      "  File \"/Users/anavsood/Documents/CSS/pycss/PCSS.py\", line 250, in compute_MLE_from_cov\n",
      "    S, Sigma_R, S_init, converged, colinearity_errors = swapping_subset_selection(Sigma,\n",
      "  File \"/Users/anavsood/Documents/CSS/pycss/subset_selection.py\", line 615, in swapping_subset_selection\n",
      "    obj_vals, colinearity_error_idxs = objective(Sigma_R[:num_active, :num_active], flag_colinearity=flag_colinearity, tol=tol)\n",
      "  File \"/Users/anavsood/Documents/CSS/pycss/subset_selection.py\", line 376, in sph_pcss_objective\n",
      "    return pcss_objective(Sigma_R, noise='sph', flag_colinearity=flag_colinearity, tol=TOL)\n",
      "  File \"/Users/anavsood/Documents/CSS/pycss/subset_selection.py\", line 365, in pcss_objective\n",
      "    objective_values = np.log(diag) + num_remaining * np.log(np.sum(resids, axis=1)) if num_remaining > 0 else np.log(diag)\n",
      "  File \"<__array_function__ internals>\", line 200, in sum\n",
      "  File \"/Users/anavsood/mambaforge/envs/css/lib/python3.10/site-packages/numpy/core/fromnumeric.py\", line 2324, in sum\n",
      "    return _wrapreduction(a, np.add, 'sum', axis, dtype, out, keepdims=keepdims,\n",
      "  File \"/Users/anavsood/mambaforge/envs/css/lib/python3.10/site-packages/numpy/core/fromnumeric.py\", line 69, in _wrapreduction\n",
      "    def _wrapreduction(obj, ufunc, method, axis, dtype, out, **kwargs):\n",
      "KeyboardInterrupt\n"
     ]
    },
    {
     "ename": "KeyboardInterrupt",
     "evalue": "",
     "output_type": "error",
     "traceback": [
      "\u001b[0;31m---------------------------------------------------------------------------\u001b[0m",
      "\u001b[0;31mIndexError\u001b[0m                                Traceback (most recent call last)",
      "File \u001b[0;32m~/mambaforge/envs/css/lib/python3.10/multiprocessing/pool.py:856\u001b[0m, in \u001b[0;36mIMapIterator.next\u001b[0;34m(self, timeout)\u001b[0m\n\u001b[1;32m    855\u001b[0m \u001b[38;5;28;01mtry\u001b[39;00m:\n\u001b[0;32m--> 856\u001b[0m     item \u001b[38;5;241m=\u001b[39m \u001b[38;5;28;43mself\u001b[39;49m\u001b[38;5;241;43m.\u001b[39;49m\u001b[43m_items\u001b[49m\u001b[38;5;241;43m.\u001b[39;49m\u001b[43mpopleft\u001b[49m\u001b[43m(\u001b[49m\u001b[43m)\u001b[49m\n\u001b[1;32m    857\u001b[0m \u001b[38;5;28;01mexcept\u001b[39;00m \u001b[38;5;167;01mIndexError\u001b[39;00m:\n",
      "\u001b[0;31mIndexError\u001b[0m: pop from an empty deque",
      "\nDuring handling of the above exception, another exception occurred:\n",
      "\u001b[0;31mKeyboardInterrupt\u001b[0m                         Traceback (most recent call last)",
      "Cell \u001b[0;32mIn[46], line 9\u001b[0m\n\u001b[1;32m      7\u001b[0m mp_LRT \u001b[38;5;241m=\u001b[39m partial(sieves_gaussian_LRT, n\u001b[38;5;241m=\u001b[39mn, alpha\u001b[38;5;241m=\u001b[39malpha, noise\u001b[38;5;241m=\u001b[39mnoise, method\u001b[38;5;241m=\u001b[39mmethod, num_inits\u001b[38;5;241m=\u001b[39mnum_inits, quantiles\u001b[38;5;241m=\u001b[39mquantiles)\n\u001b[1;32m      8\u001b[0m \u001b[38;5;28;01mwith\u001b[39;00m Pool(multiprocessing\u001b[38;5;241m.\u001b[39mcpu_count()) \u001b[38;5;28;01mas\u001b[39;00m pool:\n\u001b[0;32m----> 9\u001b[0m     results[i, :] \u001b[38;5;241m=\u001b[39m [\u001b[38;5;28mlen\u001b[39m(S) \u001b[38;5;28;01mfor\u001b[39;00m S \u001b[38;5;129;01min\u001b[39;00m \u001b[38;5;28;43mlist\u001b[39;49m\u001b[43m(\u001b[49m\u001b[43mtqdm\u001b[49m\u001b[43m(\u001b[49m\u001b[43mpool\u001b[49m\u001b[38;5;241;43m.\u001b[39;49m\u001b[43mimap_unordered\u001b[49m\u001b[43m(\u001b[49m\u001b[43mmp_LRT\u001b[49m\u001b[43m,\u001b[49m\u001b[43m \u001b[49m\u001b[38;5;28;43mlist\u001b[39;49m\u001b[43m(\u001b[49m\u001b[43mSigma_hats\u001b[49m\u001b[43m)\u001b[49m\u001b[43m)\u001b[49m\u001b[43m)\u001b[49m\u001b[43m)\u001b[49m]\n",
      "File \u001b[0;32m~/mambaforge/envs/css/lib/python3.10/site-packages/tqdm/notebook.py:259\u001b[0m, in \u001b[0;36mtqdm_notebook.__iter__\u001b[0;34m(self)\u001b[0m\n\u001b[1;32m    257\u001b[0m \u001b[38;5;28;01mtry\u001b[39;00m:\n\u001b[1;32m    258\u001b[0m     it \u001b[38;5;241m=\u001b[39m \u001b[38;5;28msuper\u001b[39m(tqdm_notebook, \u001b[38;5;28mself\u001b[39m)\u001b[38;5;241m.\u001b[39m\u001b[38;5;21m__iter__\u001b[39m()\n\u001b[0;32m--> 259\u001b[0m     \u001b[38;5;28;01mfor\u001b[39;00m obj \u001b[38;5;129;01min\u001b[39;00m it:\n\u001b[1;32m    260\u001b[0m         \u001b[38;5;66;03m# return super(tqdm...) will not catch exception\u001b[39;00m\n\u001b[1;32m    261\u001b[0m         \u001b[38;5;28;01myield\u001b[39;00m obj\n\u001b[1;32m    262\u001b[0m \u001b[38;5;66;03m# NB: except ... [ as ...] breaks IPython async KeyboardInterrupt\u001b[39;00m\n",
      "File \u001b[0;32m~/mambaforge/envs/css/lib/python3.10/site-packages/tqdm/std.py:1195\u001b[0m, in \u001b[0;36mtqdm.__iter__\u001b[0;34m(self)\u001b[0m\n\u001b[1;32m   1192\u001b[0m time \u001b[38;5;241m=\u001b[39m \u001b[38;5;28mself\u001b[39m\u001b[38;5;241m.\u001b[39m_time\n\u001b[1;32m   1194\u001b[0m \u001b[38;5;28;01mtry\u001b[39;00m:\n\u001b[0;32m-> 1195\u001b[0m     \u001b[38;5;28;01mfor\u001b[39;00m obj \u001b[38;5;129;01min\u001b[39;00m iterable:\n\u001b[1;32m   1196\u001b[0m         \u001b[38;5;28;01myield\u001b[39;00m obj\n\u001b[1;32m   1197\u001b[0m         \u001b[38;5;66;03m# Update and possibly print the progressbar.\u001b[39;00m\n\u001b[1;32m   1198\u001b[0m         \u001b[38;5;66;03m# Note: does not call self.update(1) for speed optimisation.\u001b[39;00m\n",
      "File \u001b[0;32m~/mambaforge/envs/css/lib/python3.10/multiprocessing/pool.py:861\u001b[0m, in \u001b[0;36mIMapIterator.next\u001b[0;34m(self, timeout)\u001b[0m\n\u001b[1;32m    859\u001b[0m     \u001b[38;5;28mself\u001b[39m\u001b[38;5;241m.\u001b[39m_pool \u001b[38;5;241m=\u001b[39m \u001b[38;5;28;01mNone\u001b[39;00m\n\u001b[1;32m    860\u001b[0m     \u001b[38;5;28;01mraise\u001b[39;00m \u001b[38;5;167;01mStopIteration\u001b[39;00m \u001b[38;5;28;01mfrom\u001b[39;00m \u001b[38;5;28mNone\u001b[39m\n\u001b[0;32m--> 861\u001b[0m \u001b[38;5;28;43mself\u001b[39;49m\u001b[38;5;241;43m.\u001b[39;49m\u001b[43m_cond\u001b[49m\u001b[38;5;241;43m.\u001b[39;49m\u001b[43mwait\u001b[49m\u001b[43m(\u001b[49m\u001b[43mtimeout\u001b[49m\u001b[43m)\u001b[49m\n\u001b[1;32m    862\u001b[0m \u001b[38;5;28;01mtry\u001b[39;00m:\n\u001b[1;32m    863\u001b[0m     item \u001b[38;5;241m=\u001b[39m \u001b[38;5;28mself\u001b[39m\u001b[38;5;241m.\u001b[39m_items\u001b[38;5;241m.\u001b[39mpopleft()\n",
      "File \u001b[0;32m~/mambaforge/envs/css/lib/python3.10/threading.py:320\u001b[0m, in \u001b[0;36mCondition.wait\u001b[0;34m(self, timeout)\u001b[0m\n\u001b[1;32m    318\u001b[0m \u001b[38;5;28;01mtry\u001b[39;00m:    \u001b[38;5;66;03m# restore state no matter what (e.g., KeyboardInterrupt)\u001b[39;00m\n\u001b[1;32m    319\u001b[0m     \u001b[38;5;28;01mif\u001b[39;00m timeout \u001b[38;5;129;01mis\u001b[39;00m \u001b[38;5;28;01mNone\u001b[39;00m:\n\u001b[0;32m--> 320\u001b[0m         \u001b[43mwaiter\u001b[49m\u001b[38;5;241;43m.\u001b[39;49m\u001b[43macquire\u001b[49m\u001b[43m(\u001b[49m\u001b[43m)\u001b[49m\n\u001b[1;32m    321\u001b[0m         gotit \u001b[38;5;241m=\u001b[39m \u001b[38;5;28;01mTrue\u001b[39;00m\n\u001b[1;32m    322\u001b[0m     \u001b[38;5;28;01melse\u001b[39;00m:\n",
      "\u001b[0;31mKeyboardInterrupt\u001b[0m: "
     ]
    }
   ],
   "source": [
    "results = np.zeros((len(ns), B))\n",
    "for i, n in tqdm(enumerate(ns)):\n",
    "    X_S = np.random.uniform(low=-np.sqrt(3), high=np.sqrt(3), size=(B, n, k))\n",
    "    X = generate_gaussian_PCSS_data(n, W=W, X_S=X_S, sigma_sq=sigma_sq, B=B)\n",
    "    X_c = X - np.mean(X, axis=1)[:, np.newaxis, :]  \n",
    "    Sigma_hats = 1/n * np.transpose(X_c, (0, 2, 1) ) @ X_c\n",
    "    mp_LRT = partial(sieves_gaussian_LRT, n=n, alpha=alpha, noise=noise, method=method, num_inits=num_inits, quantiles=quantiles)\n",
    "    with Pool(multiprocessing.cpu_count()) as pool:\n",
    "        results[i, :] = [len(S) for S in list(tqdm(pool.imap_unordered(mp_LRT, list(Sigma_hats))))]"
   ]
  },
  {
   "cell_type": "code",
   "execution_count": null,
   "id": "81d8a892",
   "metadata": {},
   "outputs": [],
   "source": [
    "summarize_results(results)"
   ]
  },
  {
   "cell_type": "markdown",
   "id": "31f75425",
   "metadata": {},
   "source": [
    "$X_S$ is Rademacher"
   ]
  },
  {
   "cell_type": "code",
   "execution_count": null,
   "id": "04bde67c",
   "metadata": {},
   "outputs": [],
   "source": [
    "results = np.zeros((len(ns), B))\n",
    "for i, n in tqdm(enumerate(ns)):\n",
    "    X_S = np.random.choice(np.array([-1, 1]), size=(B, n, k))\n",
    "    X = generate_gaussian_PCSS_data(n, W=W, X_S=X_S, sigma_sq=sigma_sq, B=B)\n",
    "    X_c = X - np.mean(X, axis=1)[:, np.newaxis, :]  \n",
    "    Sigma_hats = 1/n * np.transpose(X_c, (0, 2, 1) ) @ X_c\n",
    "    mp_LRT = partial(sieves_gaussian_LRT, n=n, alpha=alpha, noise=noise, method=method, num_inits=num_inits, quantiles=quantiles)\n",
    "    with Pool(multiprocessing.cpu_count()) as pool:\n",
    "        results[i, :] = [len(S) for S in list(tqdm(pool.imap_unordered(mp_LRT, list(Sigma_hats))))]"
   ]
  }
 ],
 "metadata": {
  "kernelspec": {
   "display_name": "Python 3 (ipykernel)",
   "language": "python",
   "name": "python3"
  },
  "language_info": {
   "codemirror_mode": {
    "name": "ipython",
    "version": 3
   },
   "file_extension": ".py",
   "mimetype": "text/x-python",
   "name": "python",
   "nbconvert_exporter": "python",
   "pygments_lexer": "ipython3",
   "version": "3.10.9"
  }
 },
 "nbformat": 4,
 "nbformat_minor": 5
}
