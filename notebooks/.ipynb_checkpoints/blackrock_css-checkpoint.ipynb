{
 "cells": [
  {
   "cell_type": "code",
   "execution_count": 148,
   "id": "0e3b658d",
   "metadata": {},
   "outputs": [],
   "source": [
    "import time\n",
    "import numpy as np\n",
    "import pandas as pd\n",
    "import cvxpy as cp\n",
    "import clarabel\n",
    "import scs\n",
    "import scipy\n",
    "from matplotlib import pyplot as plt\n",
    "import seaborn as sns\n",
    "from tqdm.notebook import tqdm\n",
    "from notebook_utils.utils import * \n",
    "from pycss.utils import *\n",
    "from pycss.CSS import * \n",
    "from pycss.subset_selection import complement \n",
    "from rpy2.robjects.conversion import localconverter\n",
    "import rpy2.robjects as robjects\n",
    "import rpy2.robjects.packages as rpackages\n",
    "import rpy2.robjects.numpy2ri as n2r\n",
    "from rpy2.robjects.vectors import StrVector"
   ]
  },
  {
   "cell_type": "code",
   "execution_count": 149,
   "id": "1386aa63",
   "metadata": {},
   "outputs": [],
   "source": [
    "def avg_R2(Sigma, S, standardized=True, include=True):\n",
    "    p = Sigma.shape[0]\n",
    "    Sigma_R = regress_off(Sigma, S)\n",
    "    if not include:\n",
    "        S_comp = complement(p, S)\n",
    "    else:\n",
    "        S_comp = np.arange(p)\n",
    "    resid_var = np.diag(Sigma_R)[S_comp]\n",
    "    if standardized:\n",
    "        return 1 - np.mean(np.diag(Sigma_R)[S_comp])\n",
    "    else:\n",
    "        var = np.diag(Sigma)[S_comp]\n",
    "        return np.mean((var - resid_var)/var)"
   ]
  },
  {
   "cell_type": "code",
   "execution_count": 150,
   "id": "94a65af7",
   "metadata": {},
   "outputs": [
    {
     "name": "stdout",
     "output_type": "stream",
     "text": [
      "True\n"
     ]
    }
   ],
   "source": [
    "standardize = True\n",
    "\n",
    "T = pd.read_csv(\"../data/topic_exposure.csv\").to_numpy()[:, 1:].astype(float)\n",
    "D = pd.read_csv(\"../data/specific_variance.csv\").to_numpy()[:, 1:].astype(float)\n",
    "X = pd.read_csv(\"../data/factor_exposure.csv\").to_numpy()[:, 1:].astype(float)\n",
    "F = pd.read_csv(\"../data/factor_covariance.csv\").to_numpy()[:, 1:].astype(float)\n",
    "\n",
    "V = X @ F @ X.T + np.diag(np.squeeze(D))\n",
    "Sigma = T.T @ V @ T\n",
    "\n",
    "cut = len(Sigma)\n",
    "Sigma = Sigma[:cut, :cut]\n",
    "\n",
    "p = Sigma.shape[0]\n",
    "\n",
    "if standardize:\n",
    "    Sigma = standardize_cov(Sigma)\n",
    "\n",
    "eigs, vecs = np.linalg.eig(Sigma)\n",
    "wh = eigs > 0\n",
    "eigs = np.real(eigs[wh])\n",
    "vecs = np.real(vecs[:, wh])\n",
    "X = np.real(np.sqrt(p) * np.sqrt(eigs)[:, None] * vecs.T)\n",
    "print(np.allclose(1/p * X.T @ X, Sigma))"
   ]
  },
  {
   "cell_type": "code",
   "execution_count": 4,
   "id": "f53f1eb3",
   "metadata": {},
   "outputs": [],
   "source": [
    "n2r.activate()\n",
    "glmnet = rpackages.importr('glmnet')\n",
    "base = rpackages.importr('base')"
   ]
  },
  {
   "cell_type": "code",
   "execution_count": 5,
   "id": "1fd8c8d9",
   "metadata": {},
   "outputs": [],
   "source": [
    "p_max = 20 \n",
    "num_inits = 25"
   ]
  },
  {
   "cell_type": "code",
   "execution_count": 7,
   "id": "a6273353",
   "metadata": {},
   "outputs": [
    {
     "name": "stdout",
     "output_type": "stream",
     "text": [
      "first this one\n",
      "this should be fine\n",
      "maybe this\n",
      "surely not this\n",
      "solving now\n",
      "-------------------------------------------------------------\n",
      "           Clarabel.rs v0.5.0  -  Clever Acronym              \n",
      "\n",
      "                   (c) Paul Goulart                          \n",
      "                University of Oxford, 2022                   \n",
      "-------------------------------------------------------------\n",
      "\n",
      "problem:\n",
      "  variables     = 6\n",
      "  constraints   = 8\n",
      "  nnz(P)        = 6\n",
      "  nnz(A)        = 24\n",
      "  cones (total) = 1\n",
      "    : Nonnegative = 1,  numel = 8\n",
      "\n",
      "settings:\n",
      "  linear algebra: direct / qdldl, precision: 64 bit\n",
      "  max iter = 200, time limit = Inf,  max step = 0.990\n",
      "  tol_feas = 1.0e-8, tol_gap_abs = 1.0e-8, tol_gap_rel = 1.0e-8,\n",
      "  static reg : on, ϵ1 = 1.0e-8, ϵ2 = 4.9e-32\n",
      "  dynamic reg: on, ϵ = 1.0e-13, δ = 2.0e-7\n",
      "  iter refine: on, reltol = 1.0e-13, abstol = 1.0e-12,\n",
      "               max iter = 10, stop ratio = 5.0\n",
      "  equilibrate: on, min_scale = 1.0e-4, max_scale = 1.0e4\n",
      "               max iter = 10\n",
      "\n",
      "iter    pcost        dcost       gap       pres      dres      k/t        μ       step      \n",
      "---------------------------------------------------------------------------------------------\n",
      "  0  -5.0000e+10  -6.1496e-22  5.00e+10  1.11e+00  4.24e-11  1.00e+00  1.00e+00   ------   \n",
      "  1  +6.8693e+09  -4.5252e-22  6.87e+09  5.20e-01  6.23e-12  4.79e-03  3.07e-01  7.92e-01  \n",
      "  2  -1.0844e+07  -8.4179e-26  1.08e+07  1.37e-02  1.64e-13  2.04e-03  1.15e-02  9.90e-01  \n",
      "  3  -1.2183e+05  -8.3810e-30  1.22e+05  1.36e-04  1.63e-15  2.04e-05  1.15e-04  9.90e-01  \n",
      "  4  -1.2182e+03  -8.3791e-34  1.22e+03  1.36e-06  1.63e-17  2.04e-07  1.15e-06  9.90e-01  \n",
      "  5  -1.2182e+01  -8.3825e-38  1.22e+01  1.36e-08  1.63e-19  2.04e-09  1.15e-08  9.90e-01  \n",
      "  6  -1.2182e-01  -8.3835e-42  1.22e-01  1.36e-10  1.63e-21  2.04e-11  1.15e-10  9.90e-01  \n",
      "  7  -1.2182e-03  -8.2237e-46  1.22e-03  1.36e-12  1.63e-23  2.04e-13  1.15e-12  9.90e-01  \n",
      "  8  -1.2182e-05  -4.0302e-49  1.22e-05  1.36e-14  1.61e-25  2.04e-15  1.15e-14  9.90e-01  \n",
      "  9  -1.2182e-07  -1.0500e-50  1.22e-07  1.36e-16  3.33e-27  2.04e-17  1.15e-16  9.90e-01  \n",
      " 10  -1.2182e-09  -2.6070e-50  1.22e-09  1.36e-18  2.10e-27  2.04e-19  1.15e-18  9.90e-01  \n",
      "---------------------------------------------------------------------------------------------\n",
      "Terminated with status = Solved\n",
      "solve time = 162.876µs\n"
     ]
    }
   ],
   "source": [
    "lamb = 10e10\n",
    "p = X.shape[1]\n",
    "Sigma = X.T @ X\n",
    "\n",
    "print('first this one')\n",
    "I_ = np.eye(p + 1)\n",
    "I_[p, p] = 0\n",
    "P = scipy.sparse.kron(scipy.sparse.csc_array(I_), np.triu(Sigma), format='csc')\n",
    "print('this should be fine')\n",
    "q = -1 * Sigma.flatten()\n",
    "q = np.hstack([q, lamb*np.ones(p)])\n",
    "\n",
    "print('maybe this')\n",
    "A_right_side = scipy.sparse.kron( -1*np.ones(2*p), np.eye(p)).T\n",
    "A = scipy.sparse.vstack([-1 *scipy.sparse.eye(p**2),  scipy.sparse.eye(p**2)])\n",
    "A = scipy.sparse.hstack([A, A_right_side]).tocsc()\n",
    "\n",
    "print('surely not this')\n",
    "b = np.zeros(2 * (p**2))\n",
    "\n",
    "cones = [clarabel.NonnegativeConeT(2 * (p**2))]\n",
    "settings = clarabel.DefaultSettings()\n",
    "\n",
    "print('solving now')\n",
    "solver = clarabel.DefaultSolver(P,q,A,b,cones,settings)\n",
    "solution = solver.solve()"
   ]
  },
  {
   "cell_type": "code",
   "execution_count": 8,
   "id": "7d7ef0b2",
   "metadata": {},
   "outputs": [],
   "source": [
    "coeff = np.array(solution.x[: (p**2)]).reshape((p, p)).T\n",
    "s = np.array(solution.x[(p**2): ])"
   ]
  },
  {
   "cell_type": "code",
   "execution_count": 4,
   "id": "74130a8c",
   "metadata": {},
   "outputs": [
    {
     "name": "stdout",
     "output_type": "stream",
     "text": [
      "first this one\n",
      "this should be fine\n",
      "maybe this\n",
      "surely not this\n",
      "Initialize solver\n",
      "------------------------------------------------------------------\n",
      "\t       SCS v3.2.0 - Splitting Conic Solver\n",
      "\t(c) Brendan O'Donoghue, Stanford University, 2012\n",
      "------------------------------------------------------------------\n",
      "problem:  variables n: 6, constraints m: 8\n",
      "cones: \t  l: linear vars: 8\n",
      "settings: eps_abs: 1.0e-09, eps_rel: 1.0e-09, eps_infeas: 1.0e-07\n",
      "\t  alpha: 1.50, scale: 1.00e-01, adaptive_scale: 1\n",
      "\t  max_iters: 100000, normalize: 1, rho_x: 1.00e-06\n",
      "\t  acceleration_lookback: 10, acceleration_interval: 10\n",
      "lin-sys:  sparse-direct\n",
      "\t  nnz(A): 24, nnz(P): 6\n",
      "Solve\n",
      "------------------------------------------------------------------\n",
      " iter | pri res | dua res |   gap   |   obj   |  scale  | time (s)\n",
      "------------------------------------------------------------------\n",
      "     0| 6.12e+11  1.00e+11  1.22e+23 -6.12e+22  1.00e-01  3.70e-04 \n",
      "------------------------------------------------------------------\n",
      "status:  unbounded\n",
      "timings: total: 9.26e-04s = setup: 5.48e-04s + solve: 3.78e-04s\n",
      "\t lin-sys: 2.00e-06s, cones: 2.21e-06s, accel: 0.00e+00s\n",
      "------------------------------------------------------------------\n",
      "objective = -inf\n",
      "------------------------------------------------------------------\n"
     ]
    }
   ],
   "source": [
    "lamb = 10e10\n",
    "p = X.shape[1]\n",
    "Sigma = X.T @ X\n",
    "\n",
    "print('first this one')\n",
    "I_ = np.eye(p + 1)\n",
    "I_[p, p] = 0\n",
    "P = scipy.sparse.kron(scipy.sparse.csc_array(I_), np.triu(Sigma), format='csc')\n",
    "print('this should be fine')\n",
    "c = -1 * Sigma.flatten()\n",
    "c = np.hstack([c, lamb*np.ones(p)])\n",
    "\n",
    "print('maybe this')\n",
    "A_right_side = scipy.sparse.kron( -1*np.ones(2*p), np.eye(p)).T\n",
    "A = scipy.sparse.vstack([-1 *scipy.sparse.eye(p**2),  scipy.sparse.eye(p**2)])\n",
    "A = scipy.sparse.hstack([A, A_right_side]).tocsc()\n",
    "\n",
    "print('surely not this')\n",
    "b = np.zeros(2 * (p**2))\n",
    "\n",
    "\n",
    "data = dict(P=P, A=A, b=b, c=c)\n",
    "cone = dict(l=2 * (p**2))\n",
    "\n",
    "print('Initialize solver')\n",
    "solver = scs.SCS(data, cone, eps_abs=1e-9, eps_rel=1e-9)\n",
    "print('Solve')\n",
    "sol = solver.solve()"
   ]
  },
  {
   "cell_type": "markdown",
   "id": "a0235d59",
   "metadata": {},
   "source": [
    "### CPFS"
   ]
  },
  {
   "cell_type": "code",
   "execution_count": 41,
   "id": "679926ec",
   "metadata": {},
   "outputs": [],
   "source": [
    "def cpfs(X, lamb, tol = 1e-6):\n",
    "    p = X.shape[1]\n",
    "    Sigma = X.T @ X\n",
    "    \n",
    "    I_ = np.eye(p + 1)\n",
    "    I_[p, p] = 0\n",
    "    P = scipy.sparse.kron(scipy.sparse.csc_array(I_), np.triu(Sigma), format='csc')\n",
    "    \n",
    "    q = -1 * Sigma.flatten()\n",
    "    q = np.hstack([q, lamb*np.ones(p)])\n",
    "    \n",
    "    A_right_side = scipy.sparse.kron( -1*np.ones(2*p), np.eye(p)).T\n",
    "    A = scipy.sparse.vstack([-1 *scipy.sparse.eye(p**2),  scipy.sparse.eye(p**2)])\n",
    "    A = scipy.sparse.hstack([A, A_right_side]).tocsc()\n",
    "    \n",
    "    b = np.zeros(2 * (p**2))\n",
    "\n",
    "    cones = [clarabel.NonnegativeConeT(2 * (p**2))]\n",
    "    settings = clarabel.DefaultSettings()\n",
    "    settings.verbose=False\n",
    "\n",
    "    solver = clarabel.DefaultSolver(P,q,A,b,cones,settings)\n",
    "    solution = solver.solve()\n",
    "\n",
    "    #coeff = np.array(solution.x[: (p**2)]).reshape((p, p)).T\n",
    "    s = np.array(solution.x[(p**2): ])\n",
    "    print(s)\n",
    "    return np.where(s > tol)[0]\n"
   ]
  },
  {
   "cell_type": "code",
   "execution_count": 46,
   "id": "52c3178b",
   "metadata": {},
   "outputs": [],
   "source": [
    "def cpfs_cvxpy(X, reg_coeff, tol = 1e-6):\n",
    "    A = cp.Variable((p, p))\n",
    "    s = cp.Variable(p)\n",
    "    lamb = cp.Parameter(nonneg=True)\n",
    "    objective = cp.Minimize(cp.sum(cp.sum_squares(X  - X @ A)) + lamb * cp.sum(s))\n",
    "    constraints = [-s[:, None] <= A, A <= s[:, None], s >= 0]\n",
    "    prob = cp.Problem(objective, constraints)\n",
    "\n",
    "\n",
    "    lamb.value = reg_coeff\n",
    "    result = prob.solve(solver='CLARABEL')\n",
    "    return np.where(s.value > 1e-6)[0]"
   ]
  },
  {
   "cell_type": "code",
   "execution_count": 39,
   "id": "875eb0e1",
   "metadata": {},
   "outputs": [
    {
     "name": "stdout",
     "output_type": "stream",
     "text": [
      "[1.77073404e-12 1.43643376e-12 9.88725800e-13 6.97995185e-13\n",
      " 1.29997384e-11 2.43877537e-12 1.10979981e-12 1.90822134e-12\n",
      " 2.31712760e-12 9.60815814e-13 2.16318332e-12 7.28789251e-13\n",
      " 1.17300890e-12 9.04146453e-13 1.05622464e-12 9.26167302e-13\n",
      " 7.86746855e-13 8.12566389e-13 1.05855828e-12 2.30556944e-12\n",
      " 1.54499515e-02 1.38632664e-12 1.07173559e-09 4.48908349e-02\n",
      " 1.69703122e-10 5.47261361e-12 9.64421083e-13 1.04686837e-11\n",
      " 1.48708470e-12 1.90662718e-12 8.32428829e-13 2.02404823e-12\n",
      " 8.63518776e-12 1.24611753e-12 2.33863606e-12]\n"
     ]
    },
    {
     "data": {
      "text/plain": [
       "array([20, 23])"
      ]
     },
     "execution_count": 39,
     "metadata": {},
     "output_type": "execute_result"
    }
   ],
   "source": [
    "cpfs(X, 1011.697099876749, tol = 1e-6)"
   ]
  },
  {
   "cell_type": "code",
   "execution_count": 49,
   "id": "cb5bd5d1",
   "metadata": {},
   "outputs": [
    {
     "data": {
      "application/vnd.jupyter.widget-view+json": {
       "model_id": "63737a0eb39f42b58d3068e8b2c54835",
       "version_major": 2,
       "version_minor": 0
      },
      "text/plain": [
       "  0%|          | 0/100 [00:00<?, ?it/s]"
      ]
     },
     "metadata": {},
     "output_type": "display_data"
    }
   ],
   "source": [
    "num_selected = []\n",
    "css_cpfs_var_explained = []\n",
    "\n",
    "lambs = np.flip(np.logspace(0, 3.5, 100))\n",
    "\n",
    "for lamb in tqdm(lambs):\n",
    "    S = cpfs_cvxpy(X, lamb)\n",
    "    #if len(S) > 0:\n",
    "        #print(S)\n",
    "        #print(lamb)\n",
    "        #break\n",
    "    df = len(S)\n",
    "    if df > 0 and df <= p_max and df not in num_selected:\n",
    "        num_selected.append(df)\n",
    "        css_cpfs_var_explained.append(avg_R2(Sigma, S))"
   ]
  },
  {
   "cell_type": "code",
   "execution_count": 50,
   "id": "3eb10e6a",
   "metadata": {},
   "outputs": [],
   "source": [
    "cpfs_df = pd.DataFrame({'Number of Principal Components/Variables': num_selected , 'Average R^2': css_cpfs_var_explained})"
   ]
  },
  {
   "cell_type": "markdown",
   "id": "26973ffc",
   "metadata": {},
   "source": [
    "### Random"
   ]
  },
  {
   "cell_type": "code",
   "execution_count": 18,
   "id": "190dd028",
   "metadata": {},
   "outputs": [],
   "source": [
    "css_random_var_explained = np.zeros((p_max, num_inits))\n",
    "\n",
    "for i in range(1, p_max + 1):\n",
    "    for j in range(num_inits):\n",
    "        S = np.random.choice(np.arange(p), size=i)\n",
    "        css_random_var_explained[i-1, j] = avg_R2(Sigma, S)\n"
   ]
  },
  {
   "cell_type": "code",
   "execution_count": 7,
   "id": "40b21ef7",
   "metadata": {},
   "outputs": [],
   "source": [
    "random_df = pd.DataFrame({'Number of Principal Components/Variables': np.array([ num_inits*[i] for i in range(1, p_max+1) ]).flatten() , 'Average R^2': css_random_var_explained.flatten()  } ) "
   ]
  },
  {
   "cell_type": "code",
   "execution_count": 19,
   "id": "de80fd0c",
   "metadata": {},
   "outputs": [],
   "source": [
    "random_df = pd.DataFrame({'Number of Principal Components/Variables': np.arange(1, p_max + 1), 'Average R^2': np.max(css_random_var_explained, axis=1)  } ) "
   ]
  },
  {
   "cell_type": "markdown",
   "id": "7ab03894",
   "metadata": {},
   "source": [
    "### Group Lasso"
   ]
  },
  {
   "cell_type": "code",
   "execution_count": 20,
   "id": "e93df31f",
   "metadata": {},
   "outputs": [],
   "source": [
    "with localconverter(robjects.default_converter + n2r.converter) as cv:\n",
    "    fit = glmnet.glmnet(X, X, standardize=False, intercept=False, family=\"mgaussian\", alpha=1, dfmax=30)\n",
    "    \n",
    "len_dfs = len(fit['df'])\n",
    "coeff_path = np.dstack([base.as_matrix(fit['beta'][resp]) for resp in fit['beta'].keys()]).transpose((0, 2, 1))\n",
    "group_lasso_Ss = []\n",
    "for i in range(len_dfs):\n",
    "    group_lasso_Ss.append(np.squeeze(np.argwhere(~np.all(coeff_path[:, :, i] == 0, axis=1))))\n",
    "\n",
    "dfs = fit['df'][1:]\n",
    "group_lasso_Ss = group_lasso_Ss[1:]\n",
    "for i in range(len(group_lasso_Ss)):\n",
    "    if len(group_lasso_Ss[i].shape) == 0:\n",
    "        group_lasso_Ss[i] = np.array([group_lasso_Ss[i]])\n",
    "\n",
    "num_selected = []\n",
    "css_group_lasso_var_explained = []\n",
    "for i in range(len(fit['df'])):\n",
    "    df = fit['df'][i]\n",
    "    if df > 0 and df <= p_max and df not in num_selected:\n",
    "        num_selected.append(df)\n",
    "        css_group_lasso_var_explained.append(avg_R2(Sigma, group_lasso_Ss[i]))\n",
    "            "
   ]
  },
  {
   "cell_type": "code",
   "execution_count": 21,
   "id": "b621b788",
   "metadata": {},
   "outputs": [],
   "source": [
    "group_lasso_df = pd.DataFrame({'Number of Principal Components/Variables': num_selected , 'Average R^2': css_group_lasso_var_explained})"
   ]
  },
  {
   "cell_type": "markdown",
   "id": "575a60a2",
   "metadata": {},
   "source": [
    "### Greedy"
   ]
  },
  {
   "cell_type": "code",
   "execution_count": 22,
   "id": "6f255b99",
   "metadata": {},
   "outputs": [],
   "source": [
    "eigs = np.sort(eigs)[::-1]\n",
    "\n",
    "css_greedy_var_explained = np.zeros(p_max)\n",
    "css = CSS()\n",
    "css.select_subset_from_cov(Sigma, k=p_max, method='greedy')\n",
    "for i in range(1, p_max + 1):\n",
    "    css_greedy_var_explained[i - 1] =  avg_R2(Sigma, css.S[:i]) \n"
   ]
  },
  {
   "cell_type": "code",
   "execution_count": 23,
   "id": "6b3eaf82",
   "metadata": {},
   "outputs": [],
   "source": [
    "greedy_df = pd.DataFrame({'Number of Principal Components/Variables': np.arange(1, p_max + 1), 'Average R^2': css_greedy_var_explained })"
   ]
  },
  {
   "cell_type": "markdown",
   "id": "299ff148",
   "metadata": {},
   "source": [
    "### Swapping"
   ]
  },
  {
   "cell_type": "code",
   "execution_count": 24,
   "id": "be05b331",
   "metadata": {},
   "outputs": [
    {
     "data": {
      "application/vnd.jupyter.widget-view+json": {
       "model_id": "2176053a32bd4b9196371e03e58334b5",
       "version_major": 2,
       "version_minor": 0
      },
      "text/plain": [
       "  0%|          | 0/20 [00:00<?, ?it/s]"
      ]
     },
     "metadata": {},
     "output_type": "display_data"
    }
   ],
   "source": [
    "\n",
    "css_swap_var_explained = np.zeros((p_max, num_inits))\n",
    "for i in tqdm(range(1, p_max + 1)):\n",
    "    for j in range(num_inits):\n",
    "        invertible = False\n",
    "        while not invertible:\n",
    "            try:\n",
    "                css.select_subset_from_cov(Sigma, k=i, method='swap')\n",
    "                invertible=True \n",
    "            except: \n",
    "                pass \n",
    "        css_swap_var_explained[i-1, j] = avg_R2(Sigma, css.S)"
   ]
  },
  {
   "cell_type": "code",
   "execution_count": 180,
   "id": "941112cb",
   "metadata": {},
   "outputs": [],
   "source": [
    "swap_df = pd.DataFrame({'Number of Principal Components/Variables': np.array([ num_inits*[i] for i in range(1, p_max+1) ]).flatten() , 'Average R^2': css_swap_var_explained.flatten()  } ) "
   ]
  },
  {
   "cell_type": "code",
   "execution_count": 25,
   "id": "130a6e09",
   "metadata": {},
   "outputs": [],
   "source": [
    "swap_df = pd.DataFrame({'Number of Principal Components/Variables': np.arange(1, p_max + 1) , 'Average R^2': np.max(css_swap_var_explained, axis=1)  } ) "
   ]
  },
  {
   "cell_type": "markdown",
   "id": "3b954b4d",
   "metadata": {},
   "source": [
    "### PCA"
   ]
  },
  {
   "cell_type": "code",
   "execution_count": 26,
   "id": "71e0b6c7",
   "metadata": {},
   "outputs": [],
   "source": [
    "pca_df = pd.DataFrame({'Number of Principal Components/Variables': np.arange(1, p_max + 1), 'Average R^2': [np.sum(eigs[:i])/np.sum(eigs) for i in range(1, p_max + 1)] })"
   ]
  },
  {
   "cell_type": "markdown",
   "id": "97f7eaff",
   "metadata": {},
   "source": [
    "### Plot"
   ]
  },
  {
   "cell_type": "code",
   "execution_count": 53,
   "id": "2a279e90",
   "metadata": {},
   "outputs": [
    {
     "data": {
      "text/plain": [
       "<Axes: xlabel='Number of Principal Components/Variables', ylabel='Average R^2'>"
      ]
     },
     "execution_count": 53,
     "metadata": {},
     "output_type": "execute_result"
    },
    {
     "data": {
      "image/png": "[encoded data removed]",
      "text/plain": [
       "<Figure size 640x480 with 1 Axes>"
      ]
     },
     "metadata": {},
     "output_type": "display_data"
    }
   ],
   "source": [
    "sns.lineplot(data=pca_df,\n",
    "                 x='Number of Principal Components/Variables', \n",
    "                 y='Average R^2', \n",
    "                 marker='o',\n",
    "                 errorbar=('se', 1),\n",
    "                 label='PCA')\n",
    "\n",
    "sns.lineplot(data=greedy_df,\n",
    "                 x='Number of Principal Components/Variables', \n",
    "                 y='Average R^2', \n",
    "                 marker='o',\n",
    "                 errorbar=('se', 1),\n",
    "                 label='Greedy CSS')\n",
    "\n",
    "sns.lineplot(data=swap_df,\n",
    "                 x='Number of Principal Components/Variables', \n",
    "                 y='Average R^2', \n",
    "                 marker='o',\n",
    "                 errorbar=('pi', 100),\n",
    "                 label='Swapping CSS')\n",
    "\n",
    "sns.lineplot(data=group_lasso_df,\n",
    "                 x='Number of Principal Components/Variables', \n",
    "                 y='Average R^2', \n",
    "                 marker='o',\n",
    "                 errorbar=('se', 1),\n",
    "                 label='Group Lasso CSS')\n",
    "\n",
    "sns.lineplot(data=random_df,\n",
    "                 x='Number of Principal Components/Variables', \n",
    "                 y='Average R^2', \n",
    "                 marker='o',\n",
    "                 errorbar=('pi', 100),\n",
    "                 label='Random CSS')\n",
    "\n",
    "sns.lineplot(data=cpfs_df,\n",
    "                 x='Number of Principal Components/Variables', \n",
    "                 y='Average R^2', \n",
    "                 marker='o',\n",
    "                 errorbar=('pi', 100),\n",
    "                 label='cpfs')\n",
    "\n",
    "#plt.savefig(\"../figures/blackrock_results.pdf\")"
   ]
  },
  {
   "cell_type": "code",
   "execution_count": 53,
   "id": "02471f11",
   "metadata": {},
   "outputs": [
    {
     "name": "stderr",
     "output_type": "stream",
     "text": [
      "/Users/anavsood/mambaforge/envs/css/lib/python3.10/site-packages/matplotlib/collections.py:192: ComplexWarning: Casting complex values to real discards the imaginary part\n",
      "  offsets = np.asanyarray(offsets, float)\n"
     ]
    },
    {
     "data": {
      "image/png": "[encoded data removed]",
      "text/plain": [
       "<Figure size 640x480 with 1 Axes>"
      ]
     },
     "metadata": {},
     "output_type": "display_data"
    }
   ],
   "source": [
    "sns.scatterplot(x=np.arange(1, p_max + 1), y=[np.sum(eigs[:i])/np.sum(eigs) for i in range(1, p_max + 1)], label='PCA').set(xlabel=\"Number of Principal Components/Variables\", ylabel=\"Average R^2\" )\n",
    "sns.scatterplot(x=np.arange(1, p_max + 1), y=css_greedy_var_explained, label='Greedy CSS')\n",
    "sns.scatterplot(x=np.arange(1, p_max + 1), y=css_swap_var_explained, label='Swapping CSS')\n",
    "\n",
    "plt.savefig(\"../figures/blackrock_results.pdf\")"
   ]
  },
  {
   "cell_type": "code",
   "execution_count": 44,
   "id": "48063d84",
   "metadata": {},
   "outputs": [
    {
     "name": "stdout",
     "output_type": "stream",
     "text": [
      "[0.7934445  0.83252599 0.8546137  0.87148977 0.88269912 0.89250351\n",
      " 0.90136511 0.90877926 0.91415754 0.9188751  0.92293612 0.92644305\n",
      " 0.92968578 0.93218311 0.93458444 0.93680345 0.93877498 0.94052971\n",
      " 0.94225815 0.94391974 0.94552264 0.94685809 0.94814606 0.94938765\n",
      " 0.9505486  0.95165954 0.95276112 0.95380683 0.95482028 0.95580765]\n",
      "[0.7934445  0.83667549 0.85977817 0.87841295 0.89154404 0.90048168\n",
      " 0.90750973 0.9132941  0.91831734 0.92265138 0.92686026 0.93029303\n",
      " 0.93286086 0.93538281 0.93780586 0.93975566 0.94162754 0.94343019\n",
      " 0.94513622 0.94661481 0.94808736 0.94950522 0.95086619 0.95201086\n",
      " 0.95313978 0.95420381 0.95524576 0.95630403 0.95725886 0.9581948 ]\n"
     ]
    }
   ],
   "source": [
    "print(css_greedy_var_explained)\n",
    "print(css_swap_var_explained)"
   ]
  },
  {
   "cell_type": "markdown",
   "id": "0a822460",
   "metadata": {},
   "source": [
    "Compare greedy runtime to naive"
   ]
  },
  {
   "cell_type": "code",
   "execution_count": 3,
   "id": "d305f87f",
   "metadata": {},
   "outputs": [
    {
     "data": {
      "application/vnd.jupyter.widget-view+json": {
       "model_id": "3e5e14d54d2b498c87c959ff32b3e886",
       "version_major": 2,
       "version_minor": 0
      },
      "text/plain": [
       "  0%|          | 0/30 [00:00<?, ?it/s]"
      ]
     },
     "metadata": {},
     "output_type": "display_data"
    },
    {
     "name": "stdout",
     "output_type": "stream",
     "text": [
      "3849.2163889899357\n"
     ]
    }
   ],
   "source": [
    "tol=1e-10\n",
    "p_max = 30\n",
    "\n",
    "css = CSS()\n",
    "start = time.time()\n",
    "css.select_subset_from_cov(Sigma, k=p_max, method='greedy')\n",
    "end = time.time()\n",
    "efficient_time = end - start\n",
    "\n",
    "start = time.time()\n",
    "S = []\n",
    "for i in tqdm(range(p_max)):\n",
    "    options = complement(p, S)\n",
    "    best_val = np.inf\n",
    "    best_j = np.nan\n",
    "    for j in options:\n",
    "        option_val = np.mean(np.diag(regress_off(Sigma, S + [j])))\n",
    "        if option_val < best_val:\n",
    "            best_val = option_val\n",
    "            best_j = j\n",
    "    S.append(best_j)\n",
    "end = time.time()\n",
    "naive_time = end - start\n",
    "\n",
    "print(naive_time/efficient_time)"
   ]
  },
  {
   "cell_type": "markdown",
   "id": "da92f3b8",
   "metadata": {},
   "source": [
    "Compare swapping runtime to naive"
   ]
  },
  {
   "cell_type": "code",
   "execution_count": 5,
   "id": "ce33264b",
   "metadata": {},
   "outputs": [],
   "source": [
    "p_max = 30\n",
    "\n",
    "N = 100\n",
    "\n",
    "start = time.time()\n",
    "css = CSS()\n",
    "css.select_subset_from_cov(Sigma, k=p_max, method='swap')\n",
    "end = time.time()\n",
    "# time to select entire subset\n",
    "whole_time = end - start \n",
    "\n",
    "start = time.time()\n",
    "css.select_subset_from_cov(Sigma, k=p_max, method='swap', S_init=css.S)\n",
    "end = time.time()\n",
    "# time to efficiently verify a local optimum is a local optimum\n",
    "efficient_time = end - start\n",
    "\n",
    "start = time.time()\n",
    "S = css.S.copy()\n",
    "for i in range(len(S)):\n",
    "    current_val = np.mean(np.diag(regress_off(Sigma, S)))\n",
    "    options = np.delete(np.arange(p), S)\n",
    "    best = np.inf \n",
    "    best_S_option = np.nan\n",
    "    for j in options:\n",
    "        S_option = S.copy()\n",
    "        S_option[i] = j\n",
    "        option_val = np.mean(np.diag(regress_off(Sigma, S_option)))\n",
    "        if option_val < best:\n",
    "            best = option_val\n",
    "            best_S_option = S_option\n",
    "    if best < current_val:\n",
    "        S = best_S_option.copy()\n",
    "    break\n",
    "end = time.time()\n",
    "# time to naively verify a local optimum is a local optimum\n",
    "naive_time = (end - start) * p_max"
   ]
  },
  {
   "cell_type": "code",
   "execution_count": 6,
   "id": "dec16a0b",
   "metadata": {},
   "outputs": [
    {
     "name": "stdout",
     "output_type": "stream",
     "text": [
      "0.4303879737854004\n",
      "5527.618619755847\n"
     ]
    }
   ],
   "source": [
    "print(whole_time)\n",
    "print(naive_time/efficient_time)"
   ]
  },
  {
   "cell_type": "code",
   "execution_count": 31,
   "id": "b2296e03",
   "metadata": {},
   "outputs": [],
   "source": [
    "# redefine swapping selection so that it returns the number of iterations it takes  \n",
    "def swapping_subset_selection(Sigma, \n",
    "                              k,\n",
    "                              objective,\n",
    "                              max_iter=100,\n",
    "                              S_init=None,\n",
    "                              tol=TOL,\n",
    "                              flag_colinearity=False):\n",
    "\n",
    "    \"\"\"\n",
    "    Given a covariance `Sigma`, a subset size `k`, and an objective function `objective`\n",
    "    returns the subset of variables `k` which minimize the objective selected by a gradient descent\n",
    "    like iterative swapping algorithm. \n",
    "\n",
    "    Parameters\n",
    "\t----------\n",
    "\tSigma : np.array\n",
    "\t    A `(p, p)`-shaped covariance matrix. \n",
    "    k : int\n",
    "        Size of subset to search for.\n",
    "    objective : Callable[np.array, bool, np.float]\n",
    "        A python function which defines the objective. On each iteration the variable which \n",
    "        minimizes objective will be selected.\n",
    "    max_iter : int, default=`100`\n",
    "        Maximum number of iterations to run the swapping algorithm. If algorithm has not \n",
    "        converged within `max_iter` iterations, the algorithm will terminate and provide \n",
    "        results in its current state. In this case `converged` will be `False.\n",
    "    S_init : np.array, default=`None`\n",
    "        Intial subset to start the algorithm with. If not included, an initial subset is \n",
    "        selected uniformly randomly.  \n",
    "    tol : float, default=`TOL`\n",
    "        Tolerance at which point we consider a variable to have zero variance.\n",
    "    flag_colinearity : bool, default=`True`\n",
    "        Whether or not to flag colinearity issues and terminate upon their happening. \n",
    "\t\n",
    "    Returns \n",
    "\t-------\n",
    "\tS : np.array\n",
    "        The selected subset, in order it was selected.\n",
    "    Sigma_R : np.array\n",
    "        The `(p, p)`-shaped residual covariance matrix resulting from regressing the selected subset\n",
    "        out of all the varibles (including themselves). \n",
    "    S_init : np.array\n",
    "        The inital subset that the algorithm starts with.\n",
    "    converged : bool\n",
    "        Whether the algorithm has converged. If `converged` is `False` and the `errors` list is non-empty \n",
    "        then `S` and `Sigma_R` must be `None`. \n",
    "    errors : List[ValueError]\n",
    "         List of ValueError objects detailing what the colinearity issues are. \n",
    "\t\"\"\"\n",
    "\n",
    "    converged = False\n",
    "    p = Sigma.shape[0]\n",
    "    d = p-k\n",
    "    idx_order = np.arange(p)\n",
    "    \n",
    "    if S_init is None:\n",
    "        S_init = np.random.choice(idx_order, k, replace=False)\n",
    "    elif len(S_init) != k:\n",
    "        raise ValueError(\"Initial subset must be of length k.\")\n",
    "    \n",
    "    Sigma_R = Sigma.copy()\n",
    "    # these will always be the indices of the selected subset\n",
    "    subset_idxs = np.arange(d, p)\n",
    "    # swap initial variables to bottom of Sigma \n",
    "    swap_in_place(Sigma_R, subset_idxs, S_init, idx_order=idx_order)\n",
    "    S = idx_order[d:].copy()\n",
    "    Sigma_S = Sigma[:, S][S, :].copy()\n",
    "    invertible, Sigma_S_L = is_invertible(Sigma_S) \n",
    "    \n",
    "    if not invertible:\n",
    "        return None, None, S_init, converged, populate_colinearity_errors(S)\n",
    "    \n",
    "    regress_off_in_place(Sigma_R, np.arange(d, p))\n",
    "    zero_idxs = np.where(np.diag(Sigma_R)[:d] <= tol)[0]\n",
    "    num_zero_idxs = len(zero_idxs)\n",
    "    \n",
    "    if flag_colinearity and num_zero_idxs > 0:\n",
    "        return None, None, S_init, converged, populate_colinearity_errors(S, responses=idx_order[zero_idxs])\n",
    "\n",
    "    # number of completed iterations\n",
    "    N = 0\n",
    "    # counter of how many consecutive times a selected variable was not swapped\n",
    "    not_replaced = 0\n",
    "    # permutation which shifts the last variable in the subset to the top of the subset\n",
    "    subset_idxs_permuted = np.concatenate([subset_idxs[1:], np.array([subset_idxs[0]])])\n",
    "    break_flag = False \n",
    "\n",
    "    while N < max_iter and (not break_flag):\n",
    "        for i in range(k):\n",
    "            S_0 = S[0]\n",
    "            # Remove first variable from selected subset \n",
    "            T = S[1:]\n",
    "\n",
    "            # Update cholesky after removing first variable from subset \n",
    "            Sigma_T_L = update_cholesky_after_removing_first(Sigma_S_L) \n",
    "\n",
    "            # Update residual covariance after removing first variable from subset\n",
    "            v = Sigma[:, S_0] - Sigma[:, T] @ solve_with_cholesky(Sigma_T_L, Sigma[T, S_0]) if k > 1 else Sigma[:, S_0]\n",
    "            reordered_v = v[idx_order]\n",
    "            Sigma_R = Sigma_R + np.outer(reordered_v, reordered_v)/v[S_0]\n",
    "\n",
    "            # Swap first variable from subset to to top of residual matrix \n",
    "            swap_in_place(Sigma_R, np.array([0]), np.array([d]), idx_order=idx_order)  \n",
    "        \n",
    "            # If not flag_colinearity, find indices of variables with zero variance\n",
    "            if not flag_colinearity:\n",
    "                zero_idxs = np.where(np.diag(Sigma_R)[:(d + 1)] <= tol)[0]\n",
    "                num_zero_idxs = len(zero_idxs)\n",
    "                # In residual matrix, swap variables with zero indices to right above currently selected subset (of size k-1)\n",
    "                swap_in_place(Sigma_R, zero_idxs, np.arange(d + 1 - num_zero_idxs, d + 1), idx_order=idx_order)\n",
    "            else:\n",
    "                num_zero_idxs = 0\n",
    "        \n",
    "            # update num_active\n",
    "            num_active = d + 1 - num_zero_idxs \n",
    "\n",
    "            # compute objectives and for active variables and find minimizers\n",
    "            obj_vals, colinearity_error_idxs = objective(Sigma_R[:num_active, :num_active], flag_colinearity=flag_colinearity, tol=tol)\n",
    "\n",
    "            if len(colinearity_error_idxs[0]) > 0:\n",
    "                return None, None, S_init, converged, populate_colinearity_errors(S[:i], \n",
    "                                                                                  idx_order[colinearity_error_idxs[0]], \n",
    "                                                                                  idx_order[colinearity_error_idxs[1]])\n",
    "        \n",
    "            choices = np.flatnonzero(obj_vals == obj_vals.min())\n",
    "\n",
    "            # if removed variable is a choice, select it, otherwise select a random choice\n",
    "            if 0 in choices:\n",
    "                not_replaced += 1\n",
    "                j_star = 0 \n",
    "            else:\n",
    "                not_replaced = 0\n",
    "                j_star = np.random.choice(choices)\n",
    "\n",
    "            # Add new choice as the last variable in selected subset\n",
    "            S_new = idx_order[j_star]\n",
    "            S[:k-1] = S[1:]\n",
    "            S[k-1] = S_new\n",
    "            # Update cholesky after adding new choice as last variable in selected subset \n",
    "            Sigma_S_L = update_cholesky_after_adding_last(Sigma_T_L, Sigma[S_new, S])\n",
    "            # In residual covariance, regress selected variable off the remaining\n",
    "            #regress_one_off_in_place(Sigma_R[:(d+1), :(d+1)], j_star) #alternative option\n",
    "            regress_one_off_in_place(Sigma_R[:num_active, :num_active], j_star)\n",
    "            # In residual covariance swap new choice to top of selected subset and then permute selected subset\n",
    "            # so the new choice is at the bottom, reflecting S\n",
    "            swap_in_place(Sigma_R, np.array([j_star]), np.array([d]), idx_order=idx_order)\n",
    "            perm_in_place(Sigma_R, subset_idxs,  subset_idxs_permuted, idx_order=idx_order)\n",
    "        \n",
    "            if not_replaced == k:\n",
    "                converged=True\n",
    "                break_flag=True\n",
    "                break\n",
    "\n",
    "        N += 1\n",
    "\n",
    "    perm_in_place(Sigma_R, np.arange(p), np.argsort(idx_order))\n",
    "    return N-1, S, Sigma_R, S_init, converged, []"
   ]
  },
  {
   "cell_type": "code",
   "execution_count": 33,
   "id": "2020e955",
   "metadata": {},
   "outputs": [
    {
     "data": {
      "application/vnd.jupyter.widget-view+json": {
       "model_id": "bb9bc11690ce4a31af59d35a028264e1",
       "version_major": 2,
       "version_minor": 0
      },
      "text/plain": [
       "  0%|          | 0/100 [00:00<?, ?it/s]"
      ]
     },
     "metadata": {},
     "output_type": "display_data"
    }
   ],
   "source": [
    "B = 100\n",
    "iters = []\n",
    "for i in tqdm(range(B)):\n",
    "    try:\n",
    "        N, _, _, _, _, _ = swapping_subset_selection(Sigma, p_max, css_objective)\n",
    "        iters.append(N)\n",
    "    except:\n",
    "        pass"
   ]
  },
  {
   "cell_type": "code",
   "execution_count": 34,
   "id": "ecf6c116",
   "metadata": {},
   "outputs": [
    {
     "data": {
      "text/plain": [
       "(array([ 3.,  0., 45.,  0.,  0., 31.,  0., 15.,  0.,  2.]),\n",
       " array([2. , 2.4, 2.8, 3.2, 3.6, 4. , 4.4, 4.8, 5.2, 5.6, 6. ]),\n",
       " <BarContainer object of 10 artists>)"
      ]
     },
     "execution_count": 34,
     "metadata": {},
     "output_type": "execute_result"
    },
    {
     "data": {
      "image/png": "[encoded data removed]",
      "text/plain": [
       "<Figure size 640x480 with 1 Axes>"
      ]
     },
     "metadata": {},
     "output_type": "display_data"
    }
   ],
   "source": [
    "plt.hist(iters)"
   ]
  },
  {
   "cell_type": "code",
   "execution_count": 7,
   "id": "769903c8",
   "metadata": {},
   "outputs": [
    {
     "name": "stdout",
     "output_type": "stream",
     "text": [
      "2750.4223251342773\n",
      "2562.893530238758\n"
     ]
    }
   ],
   "source": [
    "print(naive_time * np.median(iters))\n",
    "print(naive_time * np.mean(iters))"
   ]
  },
  {
   "cell_type": "markdown",
   "id": "a840b620",
   "metadata": {},
   "source": [
    "## Group Lasso Experiments"
   ]
  },
  {
   "cell_type": "code",
   "execution_count": 217,
   "id": "f9cbbee5",
   "metadata": {},
   "outputs": [],
   "source": [
    "nonzero = 10\n",
    "beta = np.hstack([1*np.ones(nonzero), np.zeros(p - nonzero)])\n",
    "y = X @ beta # + np.random.normal(0, 0.1, len(X))"
   ]
  },
  {
   "cell_type": "code",
   "execution_count": 222,
   "id": "32254d77",
   "metadata": {},
   "outputs": [],
   "source": [
    "from sklearn.linear_model import LinearRegression\n",
    "\n",
    "selected = []\n",
    "for _ in range(nonzero):\n",
    "    best = np.nan\n",
    "    lowest_error = np.inf\n",
    "    not_selected = complement(p, selected)\n",
    "    for i in not_selected:\n",
    "        potential_selected = np.array(selected + [i])\n",
    "        regr = LinearRegression()\n",
    "        regr.fit(X[:, potential_selected], y)\n",
    "        potential_error = np.linalg.norm(regr.predict(X[:, potential_selected]) - y)\n",
    "        if potential_error < lowest_error:\n",
    "            lowest_error = potential_error\n",
    "            best = i\n",
    "    selected.append(i)"
   ]
  },
  {
   "cell_type": "code",
   "execution_count": null,
   "id": "d45ea415",
   "metadata": {},
   "outputs": [],
   "source": []
  },
  {
   "cell_type": "code",
   "execution_count": 211,
   "id": "424558e4",
   "metadata": {},
   "outputs": [],
   "source": [
    "X_ = X.copy()\n",
    "X_ /= np.linalg.norm(X_, axis=0)[None, :]\n",
    "selected = []\n",
    "for i in range(nonzero):\n",
    "    not_selected = complement(p, selected)\n",
    "    t = not_selected[np.argmax(np.square(X_[:, not_selected].T @ y))]\n",
    "    selected.append(t)\n",
    "    weights = X_.T @ X_[:, t]\n",
    "    X_ -=  X_[:, t].reshape((len(X_[:, t]), 1)) @ weights.reshape((1, len(weights)))\n",
    "    X_ /= np.linalg.norm(X_, axis=0)[None, :]"
   ]
  },
  {
   "cell_type": "code",
   "execution_count": 212,
   "id": "efeb0a37",
   "metadata": {},
   "outputs": [
    {
     "data": {
      "text/plain": [
       "[22, 9, 141, 738, 5, 3, 7, 2, 1, 0]"
      ]
     },
     "execution_count": 212,
     "metadata": {},
     "output_type": "execute_result"
    }
   ],
   "source": [
    "selected"
   ]
  },
  {
   "cell_type": "code",
   "execution_count": null,
   "id": "a66d6cce",
   "metadata": {},
   "outputs": [],
   "source": [
    "np.linalg.norm(y - )"
   ]
  },
  {
   "cell_type": "code",
   "execution_count": 90,
   "id": "e5facade",
   "metadata": {},
   "outputs": [],
   "source": [
    "with localconverter(robjects.default_converter + n2r.converter) as cv:\n",
    "    fit = glmnet.glmnet(X, y, standardize=False, intercept=False, alpha=1, nlambda=100)"
   ]
  },
  {
   "cell_type": "code",
   "execution_count": 91,
   "id": "2ef8a384",
   "metadata": {},
   "outputs": [],
   "source": [
    "coeffs = base.as_matrix(fit['beta'])\n",
    "for i in range(coeffs.shape[1]):\n",
    "    if len(set(np.arange(nonzero)).intersection(np.where(coeffs[:, i] > 0)[0])) == nonzero:\n",
    "        print(len(np.where(coeffs[:, i] > 0)[0]))\n",
    "        break"
   ]
  },
  {
   "cell_type": "code",
   "execution_count": 40,
   "id": "b47086e7",
   "metadata": {},
   "outputs": [],
   "source": [
    "rho = 0.9\n",
    "\n",
    "cov = np.array([[1, rho, 0, 0], [rho, 1, 0, 0] ,[0, 0, 1, rho] ,[0, 0, rho, 1]])\n",
    "\n",
    "p = cov.shape[0]\n",
    "n = 50\n",
    "X = np.random.multivariate_normal(mean=np.zeros(p), cov=cov, size=n)"
   ]
  },
  {
   "cell_type": "code",
   "execution_count": 41,
   "id": "e03cd5e3",
   "metadata": {},
   "outputs": [],
   "source": [
    "eigs, vecs = np.linalg.eig(cov)\n",
    "wh = eigs > 0\n",
    "eigs = np.real(eigs[wh])\n",
    "vecs = np.real(vecs[:, wh])\n",
    "X = 1/np.sqrt(p) * np.real(np.sqrt(p) * np.sqrt(eigs)[:, None] * vecs.T)"
   ]
  },
  {
   "cell_type": "code",
   "execution_count": 59,
   "id": "47fc1d83",
   "metadata": {},
   "outputs": [
    {
     "data": {
      "text/plain": [
       "array([[0.00062846, 0.00056559, 0.        , 0.        ],\n",
       "       [0.0002244 , 0.00024936, 0.        , 0.        ],\n",
       "       [0.        , 0.        , 0.00062846, 0.00056559],\n",
       "       [0.        , 0.        , 0.0002244 , 0.00024936]])"
      ]
     },
     "execution_count": 59,
     "metadata": {},
     "output_type": "execute_result"
    }
   ],
   "source": [
    "weight_path[: , :, 8]"
   ]
  },
  {
   "cell_type": "code",
   "execution_count": 53,
   "id": "b362af70",
   "metadata": {},
   "outputs": [
    {
     "data": {
      "text/plain": [
       "[array([], dtype=int64),\n",
       " array([0, 1, 2, 3]),\n",
       " array([0, 1, 2, 3]),\n",
       " array([0, 1, 2, 3]),\n",
       " array([0, 1, 2, 3]),\n",
       " array([0, 1, 2, 3]),\n",
       " array([0, 1, 2, 3]),\n",
       " array([0, 1, 2, 3]),\n",
       " array([0, 1, 2, 3]),\n",
       " array([0, 1, 2, 3]),\n",
       " array([0, 1, 2, 3]),\n",
       " array([0, 1, 2, 3]),\n",
       " array([0, 1, 2, 3]),\n",
       " array([0, 1, 2, 3]),\n",
       " array([0, 1, 2, 3]),\n",
       " array([0, 1, 2, 3]),\n",
       " array([0, 1, 2, 3]),\n",
       " array([0, 1, 2, 3]),\n",
       " array([0, 1, 2, 3]),\n",
       " array([0, 1, 2, 3]),\n",
       " array([0, 1, 2, 3]),\n",
       " array([0, 1, 2, 3]),\n",
       " array([0, 1, 2, 3]),\n",
       " array([0, 1, 2, 3]),\n",
       " array([0, 1, 2, 3]),\n",
       " array([0, 1, 2, 3]),\n",
       " array([0, 1, 2, 3]),\n",
       " array([0, 1, 2, 3]),\n",
       " array([0, 1, 2, 3]),\n",
       " array([0, 1, 2, 3]),\n",
       " array([0, 1, 2, 3]),\n",
       " array([0, 1, 2, 3]),\n",
       " array([0, 1, 2, 3]),\n",
       " array([0, 1, 2, 3]),\n",
       " array([0, 1, 2, 3]),\n",
       " array([0, 1, 2, 3]),\n",
       " array([0, 1, 2, 3]),\n",
       " array([0, 1, 2, 3]),\n",
       " array([0, 1, 2, 3]),\n",
       " array([0, 1, 2, 3]),\n",
       " array([0, 1, 2, 3]),\n",
       " array([0, 1, 2, 3]),\n",
       " array([0, 1, 2, 3]),\n",
       " array([0, 1, 2, 3]),\n",
       " array([0, 1, 2, 3]),\n",
       " array([0, 1, 2, 3]),\n",
       " array([0, 1, 2, 3]),\n",
       " array([0, 1, 2, 3]),\n",
       " array([0, 1, 2, 3]),\n",
       " array([0, 1, 2, 3]),\n",
       " array([0, 1, 2, 3]),\n",
       " array([0, 1, 2, 3]),\n",
       " array([0, 1, 2, 3]),\n",
       " array([0, 1, 2, 3]),\n",
       " array([0, 1, 2, 3]),\n",
       " array([0, 1, 2, 3]),\n",
       " array([0, 1, 2, 3]),\n",
       " array([0, 1, 2, 3]),\n",
       " array([0, 1, 2, 3]),\n",
       " array([0, 1, 2, 3]),\n",
       " array([0, 1, 2, 3]),\n",
       " array([0, 1, 2, 3]),\n",
       " array([0, 1, 2, 3]),\n",
       " array([0, 1, 2, 3]),\n",
       " array([0, 1, 2, 3]),\n",
       " array([0, 1, 2, 3]),\n",
       " array([0, 1, 2, 3]),\n",
       " array([0, 1, 2, 3]),\n",
       " array([0, 1, 2, 3]),\n",
       " array([0, 1, 2, 3]),\n",
       " array([0, 1, 2, 3]),\n",
       " array([0, 1, 2, 3]),\n",
       " array([0, 1, 2, 3]),\n",
       " array([0, 1, 2, 3]),\n",
       " array([0, 1, 2, 3]),\n",
       " array([0, 1, 2, 3]),\n",
       " array([0, 1, 2, 3]),\n",
       " array([0, 1, 2, 3]),\n",
       " array([0, 1, 2, 3]),\n",
       " array([0, 1, 2, 3]),\n",
       " array([0, 1, 2, 3]),\n",
       " array([0, 1, 2, 3]),\n",
       " array([0, 1, 2, 3]),\n",
       " array([0, 1, 2, 3]),\n",
       " array([0, 1, 2, 3]),\n",
       " array([0, 1, 2, 3]),\n",
       " array([0, 1, 2, 3]),\n",
       " array([0, 1, 2, 3]),\n",
       " array([0, 1, 2, 3]),\n",
       " array([0, 1, 2, 3]),\n",
       " array([0, 1, 2, 3]),\n",
       " array([0, 1, 2, 3]),\n",
       " array([0, 1, 2, 3]),\n",
       " array([0, 1, 2, 3]),\n",
       " array([0, 1, 2, 3]),\n",
       " array([0, 1, 2, 3]),\n",
       " array([0, 1, 2, 3]),\n",
       " array([0, 1, 2, 3]),\n",
       " array([0, 1, 2, 3]),\n",
       " array([0, 1, 2, 3])]"
      ]
     },
     "execution_count": 53,
     "metadata": {},
     "output_type": "execute_result"
    }
   ],
   "source": [
    "with localconverter(robjects.default_converter + n2r.converter) as cv:\n",
    "    fit = glmnet.glmnet(X, X, standardize=False, intercept=False, family=\"mgaussian\", alpha=1, dfmax=4, lambda_min_ratio=0.99)\n",
    "    \n",
    "len_dfs = len(fit['df'])\n",
    "weight_path = np.dstack([base.as_matrix(fit['beta'][resp]) for resp in fit['beta'].keys()]).transpose((0, 2, 1))\n",
    "group_lasso_Ss = []\n",
    "for i in range(len_dfs):\n",
    "    group_lasso_Ss.append(np.squeeze(np.argwhere(~np.all(weight_path[:, :, i] == 0, axis=1))))\n",
    "group_lasso_Ss"
   ]
  },
  {
   "cell_type": "code",
   "execution_count": 42,
   "id": "278ef161",
   "metadata": {},
   "outputs": [
    {
     "name": "stdout",
     "output_type": "stream",
     "text": [
      "[[0.   0.   0.   0.  ]\n",
      " [0.01 0.01 0.01 0.01]\n",
      " [0.05 0.05 0.05 0.05]\n",
      " [0.   0.   0.   0.  ]]\n"
     ]
    }
   ],
   "source": [
    "A = cp.Variable((p, p))\n",
    "s = cp.Variable(p)\n",
    "lamb = cp.Parameter(nonneg=True)\n",
    "objective = cp.Minimize(cp.sum(cp.sum_squares(X  - X @ A)) + lamb * cp.sum(s))\n",
    "constraints = [-s[:, None] <= A, A <= s[:, None], s >= 0]\n",
    "prob = cp.Problem(objective, constraints)\n",
    "\n",
    "\n",
    "lamb.value = 200\n",
    "result = prob.solve(solver='CLARABEL')\n",
    "print(np.round(A.value, 3))"
   ]
  }
 ],
 "metadata": {
  "kernelspec": {
   "display_name": "Python 3 (ipykernel)",
   "language": "python",
   "name": "python3"
  },
  "language_info": {
   "codemirror_mode": {
    "name": "ipython",
    "version": 3
   },
   "file_extension": ".py",
   "mimetype": "text/x-python",
   "name": "python",
   "nbconvert_exporter": "python",
   "pygments_lexer": "ipython3",
   "version": "3.10.10"
  },
  "vscode": {
   "interpreter": {
    "hash": "4e8e6b0daa73b41664b185076c529236510f1ca31ed4d2fa545660d2cd784378"
   }
  }
 },
 "nbformat": 4,
 "nbformat_minor": 5
}
