{
 "cells": [
  {
   "cell_type": "code",
   "execution_count": 110,
   "id": "7e5a9168",
   "metadata": {},
   "outputs": [],
   "source": [
    "%load_ext autoreload\n",
    "%autoreload 2"
   ]
  },
  {
   "cell_type": "code",
   "execution_count": 7,
   "id": "071aa309",
   "metadata": {},
   "outputs": [],
   "source": [
    "import numpy as np\n",
    "import cvxpy as cp\n",
    "import multiprocessing\n",
    "from multiprocessing import Pool\n",
    "from functools import partial\n",
    "from tqdm.notebook import tqdm\n",
    "from choldate import cholupdate\n",
    "from pycss.CSS import *\n",
    "from pycss.subset_selection import *\n",
    "from notebook_utils.utils import * \n",
    "from notebook_utils.data_generation import * \n",
    "from notebook_utils.missing_data import *"
   ]
  },
  {
   "cell_type": "code",
   "execution_count": 8,
   "id": "9c7252ff",
   "metadata": {},
   "outputs": [],
   "source": [
    "#def get_rel_error(W_hat, W):\n",
    "#    return np.linalg.norm(W_hat - W)/np.linalg.norm(W)\n",
    "\n",
    "#def get_regression_coeffs(Sigma, S):\n",
    "#    return Sigma[complement(p, S), :][:, S] @ np.linalg.inv(Sigma[S, :][:, S])\n",
    "\n",
    "def Sigma_MLE_from_MLE(MLE):\n",
    "    \n",
    "    noise = noise_from_MLE(MLE)\n",
    "    p = np.sum(MLE['W_MLE'].shape)\n",
    "    k = len(MLE['S_MLE'])\n",
    "    \n",
    "    Sigma_MLE = np.zeros((p, p))\n",
    "    Sigma_MLE[:k, :k] = MLE['C_MLE'].copy()\n",
    "    Sigma_MLE[k:, :k] = MLE['W_MLE'] @ MLE['C_MLE']\n",
    "    Sigma_MLE[:k, k:] = Sigma_MLE[k:, :k].T.copy()\n",
    "    Sigma_MLE[k:, k:] =  MLE['W_MLE'] @ MLE['C_MLE'] @ MLE['W_MLE'].T\n",
    "    if noise == 'sph':\n",
    "        np.fill_diagonal(Sigma_MLE[k:, k:], np.diag(Sigma_MLE[k:, k:]) + MLE['sigma_sq_MLE'])\n",
    "    if noise == 'diag':\n",
    "        np.fill_diagonal(Sigma_MLE[k:, k:], np.diag(Sigma_MLE[k:, k:]) + MLE['D_MLE'])\n",
    "    perm_in_place(Sigma_MLE, np.concatenate([MLE['S_MLE'], complement(p, MLE['S_MLE'])]), np.arange(p))\n",
    "    \n",
    "    return Sigma_MLE\n",
    "\n",
    "def get_test_reconstruction_error(Sigma, S_hat, W_hat, mu_hat, mu=None):\n",
    "    if mu is None:\n",
    "        mu = np.zeros(len(mu_hat))\n",
    "    S_hat_comp = complement(p, S_hat)\n",
    "    return np.trace(Sigma[S_hat_comp, :][:, S_hat_comp]) + np.trace(W_hat @ Sigma[S_hat, :][:, S_hat] @ W_hat.T) - 2*np.trace(W_hat @  Sigma[S_hat, :][:, S_hat_comp]) + np.sum(np.square(mu[S_hat_comp] - mu_hat[S_hat_comp] - W_hat @ (mu[S_hat] - mu_hat[S_hat])) )\n",
    "    "
   ]
  },
  {
   "cell_type": "markdown",
   "id": "7ba370e6",
   "metadata": {},
   "source": [
    "# Synthetic Data Experiment"
   ]
  },
  {
   "cell_type": "code",
   "execution_count": 3,
   "id": "c1e0b5c3",
   "metadata": {},
   "outputs": [],
   "source": [
    "p = 50\n",
    "k = 20\n",
    "C_chol = get_equicorrelated_chol(k, 0.25, diag=1)\n",
    "C = C_chol @ C_chol.T\n",
    "sigma_sq = 0.2\n",
    "\n",
    "W = get_block_W(p, k, num_blocks=4, block_size=8, overlap=4)\n",
    "\n",
    "np.random.seed(0)\n",
    "W *= np.random.choice(np.array([-1, 1]), W.shape)\n",
    "    \n",
    "signal_sizes = np.sum(W * (W @ C), axis=1)\n",
    "W = np.sqrt(1 - sigma_sq)/np.sqrt(signal_sizes)[:, None] * W\n",
    "\n",
    "B = 1000\n",
    "n=60\n",
    "num_inits=1\n",
    "noise = 'sph'\n",
    "q = 0.2"
   ]
  },
  {
   "cell_type": "code",
   "execution_count": 9,
   "id": "faf5fcf9",
   "metadata": {},
   "outputs": [],
   "source": [
    "p = 20\n",
    "k = 4\n",
    "C_chol = get_equicorrelated_chol(k, 0.25, diag=1)\n",
    "C = C_chol @ C_chol.T\n",
    "sigma_sq = 0.2\n",
    "    \n",
    "W = get_block_W(p, k, num_blocks=3, block_size=2, overlap=1)\n",
    "\n",
    "np.random.seed(0)\n",
    "W *= np.random.choice(np.array([-1, 1]), W.shape)\n",
    "    \n",
    "signal_sizes = np.sum(W * (W @ C), axis=1)\n",
    "W = np.sqrt(1 - sigma_sq)/np.sqrt(signal_sizes)[:, None] * W\n",
    "\n",
    "MLE = {'C_MLE': C,\n",
    "       'W_MLE': W,\n",
    "       'sigma_sq_MLE': sigma_sq,\n",
    "       'S_MLE': np.arange(k)}\n",
    "\n",
    "Sigma = Sigma_MLE_from_MLE(MLE)\n",
    "\n",
    "B = 100\n",
    "n=50\n",
    "num_inits=1\n",
    "noise = 'sph'\n",
    "q = 0.2"
   ]
  },
  {
   "cell_type": "code",
   "execution_count": 10,
   "id": "26bd2950",
   "metadata": {},
   "outputs": [],
   "source": [
    "X = generate_gaussian_PCSS_data(n, W=W, C_chol=C_chol, sigma_sq=sigma_sq, B=B)\n",
    "X[np.where(np.random.binomial(1, q, X.shape))] = np.nan\n",
    "X_c = X - np.nanmean(X, axis=1)[:, np.newaxis, :]"
   ]
  },
  {
   "cell_type": "markdown",
   "id": "04181375",
   "metadata": {},
   "source": [
    "### Mean Imputation"
   ]
  },
  {
   "cell_type": "code",
   "execution_count": 19,
   "id": "73d9ed61",
   "metadata": {},
   "outputs": [
    {
     "data": {
      "application/vnd.jupyter.widget-view+json": {
       "model_id": "e9a77ad8cae941afb252967d9e568644",
       "version_major": 2,
       "version_minor": 0
      },
      "text/plain": [
       "0it [00:00, ?it/s]"
      ]
     },
     "metadata": {},
     "output_type": "display_data"
    }
   ],
   "source": [
    "missing_data_search = partial(mean_imputation_css_with_missing_data, k=k, num_inits=num_inits)\n",
    "with Pool(multiprocessing.cpu_count()) as pool:\n",
    "    results = [result for result in tqdm(pool.imap_unordered(missing_data_search, list(X)))]\n",
    "    "
   ]
  },
  {
   "cell_type": "code",
   "execution_count": 20,
   "id": "77e10ed4",
   "metadata": {},
   "outputs": [
    {
     "name": "stdout",
     "output_type": "stream",
     "text": [
      "0.07\n",
      "1.9632332112868536\n"
     ]
    }
   ],
   "source": [
    "S_correct = 0 \n",
    "test_error = np.zeros(B)\n",
    "\n",
    "for i, result in enumerate(results):\n",
    "    \n",
    "    S = result[0]\n",
    "    converged = result[1]\n",
    "    \n",
    "    if not converged:\n",
    "        print(\"iteration \" + str(i) + \" did not converge.\")\n",
    "    \n",
    "    if np.all(set(S) == set(np.arange(k))):\n",
    "        S_correct += 1\n",
    "    \n",
    "    X_i = X[i, :, :]\n",
    "    X_filled = np.where(np.isnan(X_i), np.nanmean(X_i, axis=0), X_i)\n",
    "    mu_hat, Sigma_hat = get_moments(X_filled)\n",
    "    coeff_hat = get_regression_coeffs(Sigma_hat, S)\n",
    "    test_error[i] = get_test_reconstruction_error(Sigma, S, coeff_hat, mu_hat)\n",
    "    \n",
    "print(S_correct/B)\n",
    "print(np.mean(test_error)/(sigma_sq * (p-k)))"
   ]
  },
  {
   "cell_type": "markdown",
   "id": "46642205",
   "metadata": {},
   "source": [
    "## EM Algorithm"
   ]
  },
  {
   "cell_type": "code",
   "execution_count": 21,
   "id": "902b4b80",
   "metadata": {},
   "outputs": [
    {
     "data": {
      "application/vnd.jupyter.widget-view+json": {
       "model_id": "f8700725e5714ab4abd7829b5af272e3",
       "version_major": 2,
       "version_minor": 0
      },
      "text/plain": [
       "0it [00:00, ?it/s]"
      ]
     },
     "metadata": {},
     "output_type": "display_data"
    }
   ],
   "source": [
    "missing_data_search = partial(css_with_missing_data, k=k, num_inits=num_inits)\n",
    "with Pool(multiprocessing.cpu_count()) as pool:\n",
    "    results = [result for result in tqdm(pool.imap_unordered(missing_data_search, list(X)))]\n",
    "    "
   ]
  },
  {
   "cell_type": "code",
   "execution_count": 22,
   "id": "d1711a37",
   "metadata": {},
   "outputs": [
    {
     "name": "stdout",
     "output_type": "stream",
     "text": [
      "0.2\n",
      "1.6537064412645144\n"
     ]
    }
   ],
   "source": [
    "S_correct = 0 \n",
    "test_error = np.zeros(B)\n",
    "\n",
    "for i, result in enumerate(results):\n",
    "    \n",
    "    MLE = result[0]\n",
    "    converged = result[1]\n",
    "    \n",
    "    if not converged:\n",
    "        print(\"iteration \" + str(i) + \" did not converge.\")\n",
    "    \n",
    "    if np.all(set(MLE['S_MLE']) == set(np.arange(k))):\n",
    "        S_correct += 1\n",
    "    \n",
    "    Sigma_MLE = Sigma_MLE_from_MLE(MLE)\n",
    "    coeff_hat = get_regression_coeffs(Sigma_MLE, MLE['S_MLE'])\n",
    "    test_error[i] = get_test_reconstruction_error(Sigma, MLE['S_MLE'], coeff_hat, MLE['mu_MLE'])\n",
    "\n",
    "print(S_correct/B)\n",
    "print(np.mean(test_error)/(sigma_sq * (p-k)))"
   ]
  },
  {
   "cell_type": "markdown",
   "id": "b6efcc5b",
   "metadata": {},
   "source": [
    "## Block OMP"
   ]
  },
  {
   "cell_type": "code",
   "execution_count": 23,
   "id": "8c185a04",
   "metadata": {},
   "outputs": [
    {
     "data": {
      "application/vnd.jupyter.widget-view+json": {
       "model_id": "d334c421e1aa4a7aa41c0774e15d0619",
       "version_major": 2,
       "version_minor": 0
      },
      "text/plain": [
       "0it [00:00, ?it/s]"
      ]
     },
     "metadata": {},
     "output_type": "display_data"
    }
   ],
   "source": [
    "missing_data_search = partial(block_OMP_with_missing_data, k=k)\n",
    "with Pool(multiprocessing.cpu_count()) as pool:\n",
    "    results = [result for result in tqdm(pool.imap_unordered(missing_data_search, list(X_c)))]\n",
    "    "
   ]
  },
  {
   "cell_type": "code",
   "execution_count": 24,
   "id": "abe2a894",
   "metadata": {},
   "outputs": [
    {
     "name": "stdout",
     "output_type": "stream",
     "text": [
      "0.0\n",
      "1.9500986427457951\n"
     ]
    }
   ],
   "source": [
    "S_correct = 0 \n",
    "test_error = np.zeros(B)\n",
    "\n",
    "for i, result in enumerate(results):\n",
    "    S = result \n",
    "    \n",
    "    if np.all(S == set(np.arange(k))):\n",
    "        S_correct += 1\n",
    "    \n",
    "    X_i = X_c[i, :, :]\n",
    "    w = np.ones((n, p))\n",
    "    w[np.where(np.isnan(X_i))] = 0\n",
    "    Y_tilde = np.nan_to_num(X_i, nan=0)\n",
    "    vec_Y_tilde = [Y_tilde[:, j] for j in range(p)]\n",
    "    \n",
    "    A_I_pinv = [ np.linalg.pinv(w[:, j][:, None] * Y_tilde[:, result]) for j in range(p)]\n",
    "    W_hat = [A_I_pinv[j] @ vec_Y_tilde[j] for j in complement(p, result)]\n",
    "    W_hat = np.vstack(W_hat)\n",
    "    test_error[i] = get_test_reconstruction_error(Sigma, result, W_hat, np.nanmean(X_i, axis=0))\n",
    "\n",
    "print(S_correct/B)\n",
    "print(np.mean(test_error)/(sigma_sq * (p-k)))"
   ]
  },
  {
   "cell_type": "markdown",
   "id": "4ae56a50",
   "metadata": {},
   "source": [
    "## Group Lasso"
   ]
  },
  {
   "cell_type": "code",
   "execution_count": 12,
   "id": "e83f5547",
   "metadata": {},
   "outputs": [],
   "source": [
    "import time"
   ]
  },
  {
   "cell_type": "code",
   "execution_count": 17,
   "id": "bcd46ca4",
   "metadata": {},
   "outputs": [
    {
     "data": {
      "application/vnd.jupyter.widget-view+json": {
       "model_id": "42fcfa57317442cba1eaa74c9cf87744",
       "version_major": 2,
       "version_minor": 0
      },
      "text/plain": [
       "0it [00:00, ?it/s]"
      ]
     },
     "metadata": {},
     "output_type": "display_data"
    },
    {
     "ename": "SolverError",
     "evalue": "The solver SOCP is not installed.",
     "output_type": "error",
     "traceback": [
      "\u001b[0;31m---------------------------------------------------------------------------\u001b[0m",
      "\u001b[0;31mRemoteTraceback\u001b[0m                           Traceback (most recent call last)",
      "\u001b[0;31mRemoteTraceback\u001b[0m: \n\"\"\"\nTraceback (most recent call last):\n  File \"/Users/anavsood/mambaforge/envs/css/lib/python3.10/multiprocessing/pool.py\", line 125, in worker\n    result = (True, func(*args, **kwds))\n  File \"/Users/anavsood/Documents/CSS/notebooks/notebook_utils/missing_data.py\", line 50, in group_lasso_with_missing_data\n    result = prob.solve(solver=solver)\n  File \"/Users/anavsood/mambaforge/envs/css/lib/python3.10/site-packages/cvxpy/problems/problem.py\", line 493, in solve\n    return solve_func(self, *args, **kwargs)\n  File \"/Users/anavsood/mambaforge/envs/css/lib/python3.10/site-packages/cvxpy/problems/problem.py\", line 1054, in _solve\n    data, solving_chain, inverse_data = self.get_problem_data(\n  File \"/Users/anavsood/mambaforge/envs/css/lib/python3.10/site-packages/cvxpy/problems/problem.py\", line 631, in get_problem_data\n    solving_chain = self._construct_chain(\n  File \"/Users/anavsood/mambaforge/envs/css/lib/python3.10/site-packages/cvxpy/problems/problem.py\", line 881, in _construct_chain\n    candidate_solvers = self._find_candidate_solvers(solver=solver, gp=gp)\n  File \"/Users/anavsood/mambaforge/envs/css/lib/python3.10/site-packages/cvxpy/problems/problem.py\", line 744, in _find_candidate_solvers\n    raise error.SolverError(\"The solver %s is not installed.\" % solver)\ncvxpy.error.SolverError: The solver SOCP is not installed.\n\"\"\"",
      "\nThe above exception was the direct cause of the following exception:\n",
      "\u001b[0;31mSolverError\u001b[0m                               Traceback (most recent call last)",
      "Cell \u001b[0;32mIn[17], line 4\u001b[0m\n\u001b[1;32m      2\u001b[0m missing_data_search \u001b[38;5;241m=\u001b[39m partial(group_lasso_with_missing_data, k\u001b[38;5;241m=\u001b[39mk, solver\u001b[38;5;241m=\u001b[39m\u001b[38;5;124m'\u001b[39m\u001b[38;5;124mSOCP\u001b[39m\u001b[38;5;124m'\u001b[39m)\n\u001b[1;32m      3\u001b[0m \u001b[38;5;28;01mwith\u001b[39;00m Pool(multiprocessing\u001b[38;5;241m.\u001b[39mcpu_count()) \u001b[38;5;28;01mas\u001b[39;00m pool:\n\u001b[0;32m----> 4\u001b[0m     results \u001b[38;5;241m=\u001b[39m [result \u001b[38;5;28;01mfor\u001b[39;00m result \u001b[38;5;129;01min\u001b[39;00m tqdm(pool\u001b[38;5;241m.\u001b[39mimap_unordered(missing_data_search, \u001b[38;5;28mlist\u001b[39m(X)))]\n\u001b[1;32m      5\u001b[0m end \u001b[38;5;241m=\u001b[39m time\u001b[38;5;241m.\u001b[39mtime()\n\u001b[1;32m      6\u001b[0m \u001b[38;5;28mprint\u001b[39m(end \u001b[38;5;241m-\u001b[39m start)\n",
      "Cell \u001b[0;32mIn[17], line 4\u001b[0m, in \u001b[0;36m<listcomp>\u001b[0;34m(.0)\u001b[0m\n\u001b[1;32m      2\u001b[0m missing_data_search \u001b[38;5;241m=\u001b[39m partial(group_lasso_with_missing_data, k\u001b[38;5;241m=\u001b[39mk, solver\u001b[38;5;241m=\u001b[39m\u001b[38;5;124m'\u001b[39m\u001b[38;5;124mSOCP\u001b[39m\u001b[38;5;124m'\u001b[39m)\n\u001b[1;32m      3\u001b[0m \u001b[38;5;28;01mwith\u001b[39;00m Pool(multiprocessing\u001b[38;5;241m.\u001b[39mcpu_count()) \u001b[38;5;28;01mas\u001b[39;00m pool:\n\u001b[0;32m----> 4\u001b[0m     results \u001b[38;5;241m=\u001b[39m [result \u001b[38;5;28;01mfor\u001b[39;00m result \u001b[38;5;129;01min\u001b[39;00m tqdm(pool\u001b[38;5;241m.\u001b[39mimap_unordered(missing_data_search, \u001b[38;5;28mlist\u001b[39m(X)))]\n\u001b[1;32m      5\u001b[0m end \u001b[38;5;241m=\u001b[39m time\u001b[38;5;241m.\u001b[39mtime()\n\u001b[1;32m      6\u001b[0m \u001b[38;5;28mprint\u001b[39m(end \u001b[38;5;241m-\u001b[39m start)\n",
      "File \u001b[0;32m~/mambaforge/envs/css/lib/python3.10/site-packages/tqdm/notebook.py:259\u001b[0m, in \u001b[0;36mtqdm_notebook.__iter__\u001b[0;34m(self)\u001b[0m\n\u001b[1;32m    257\u001b[0m \u001b[38;5;28;01mtry\u001b[39;00m:\n\u001b[1;32m    258\u001b[0m     it \u001b[38;5;241m=\u001b[39m \u001b[38;5;28msuper\u001b[39m(tqdm_notebook, \u001b[38;5;28mself\u001b[39m)\u001b[38;5;241m.\u001b[39m\u001b[38;5;21m__iter__\u001b[39m()\n\u001b[0;32m--> 259\u001b[0m     \u001b[38;5;28;01mfor\u001b[39;00m obj \u001b[38;5;129;01min\u001b[39;00m it:\n\u001b[1;32m    260\u001b[0m         \u001b[38;5;66;03m# return super(tqdm...) will not catch exception\u001b[39;00m\n\u001b[1;32m    261\u001b[0m         \u001b[38;5;28;01myield\u001b[39;00m obj\n\u001b[1;32m    262\u001b[0m \u001b[38;5;66;03m# NB: except ... [ as ...] breaks IPython async KeyboardInterrupt\u001b[39;00m\n",
      "File \u001b[0;32m~/mambaforge/envs/css/lib/python3.10/site-packages/tqdm/std.py:1195\u001b[0m, in \u001b[0;36mtqdm.__iter__\u001b[0;34m(self)\u001b[0m\n\u001b[1;32m   1192\u001b[0m time \u001b[38;5;241m=\u001b[39m \u001b[38;5;28mself\u001b[39m\u001b[38;5;241m.\u001b[39m_time\n\u001b[1;32m   1194\u001b[0m \u001b[38;5;28;01mtry\u001b[39;00m:\n\u001b[0;32m-> 1195\u001b[0m     \u001b[38;5;28;01mfor\u001b[39;00m obj \u001b[38;5;129;01min\u001b[39;00m iterable:\n\u001b[1;32m   1196\u001b[0m         \u001b[38;5;28;01myield\u001b[39;00m obj\n\u001b[1;32m   1197\u001b[0m         \u001b[38;5;66;03m# Update and possibly print the progressbar.\u001b[39;00m\n\u001b[1;32m   1198\u001b[0m         \u001b[38;5;66;03m# Note: does not call self.update(1) for speed optimisation.\u001b[39;00m\n",
      "File \u001b[0;32m~/mambaforge/envs/css/lib/python3.10/multiprocessing/pool.py:873\u001b[0m, in \u001b[0;36mIMapIterator.next\u001b[0;34m(self, timeout)\u001b[0m\n\u001b[1;32m    871\u001b[0m \u001b[38;5;28;01mif\u001b[39;00m success:\n\u001b[1;32m    872\u001b[0m     \u001b[38;5;28;01mreturn\u001b[39;00m value\n\u001b[0;32m--> 873\u001b[0m \u001b[38;5;28;01mraise\u001b[39;00m value\n",
      "\u001b[0;31mSolverError\u001b[0m: The solver SOCP is not installed."
     ]
    }
   ],
   "source": [
    "start = time.time()\n",
    "missing_data_search = partial(group_lasso_with_missing_data, k=k, solver='SOCP')\n",
    "with Pool(multiprocessing.cpu_count()) as pool:\n",
    "    results = [result for result in tqdm(pool.imap_unordered(missing_data_search, list(X)))]\n",
    "end = time.time()\n",
    "print(end - start)"
   ]
  },
  {
   "cell_type": "code",
   "execution_count": null,
   "id": "09a8fe62",
   "metadata": {},
   "outputs": [],
   "source": [
    "results = []\n",
    "for i in tqdm(range(B)):\n",
    "    results.append(group_lasso_with_missing_data(X[i, :, :], k))"
   ]
  },
  {
   "cell_type": "code",
   "execution_count": null,
   "id": "dcfddc48",
   "metadata": {},
   "outputs": [],
   "source": [
    "S_correct = 0\n",
    "test_error = np.zeros(B)\n",
    "\n",
    "for i, result in enumerate(results):\n",
    "    if np.all(set(result[0]) == set(np.arange(k))):\n",
    "        S_correct += 1\n",
    "    \n",
    "    test_error[i] = get_test_reconstruction_error(Sigma, result, W_hat, np.nanmean(X_i, axis=0))\n",
    "\n",
    "print(S_correct/B)\n",
    "print(np.mean(test_error)/(sigma_sq * (p-k)))"
   ]
  },
  {
   "cell_type": "markdown",
   "id": "0570de59",
   "metadata": {},
   "source": [
    "# Real Data Experiments"
   ]
  }
 ],
 "metadata": {
  "kernelspec": {
   "display_name": "Python 3 (ipykernel)",
   "language": "python",
   "name": "python3"
  },
  "language_info": {
   "codemirror_mode": {
    "name": "ipython",
    "version": 3
   },
   "file_extension": ".py",
   "mimetype": "text/x-python",
   "name": "python",
   "nbconvert_exporter": "python",
   "pygments_lexer": "ipython3",
   "version": "3.10.9"
  }
 },
 "nbformat": 4,
 "nbformat_minor": 5
}
