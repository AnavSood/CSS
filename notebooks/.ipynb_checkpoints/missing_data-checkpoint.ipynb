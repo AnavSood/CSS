{
 "cells": [
  {
   "cell_type": "code",
   "execution_count": 12,
   "id": "7e5a9168",
   "metadata": {},
   "outputs": [],
   "source": [
    "%load_ext autoreload\n",
    "%autoreload 2"
   ]
  },
  {
   "cell_type": "code",
   "execution_count": 154,
   "id": "071aa309",
   "metadata": {},
   "outputs": [],
   "source": [
    "import numpy as np\n",
    "import pandas as pd\n",
    "import cvxpy as cp\n",
    "import multiprocessing\n",
    "from multiprocessing import Pool\n",
    "from functools import partial\n",
    "from tqdm.notebook import tqdm\n",
    "from choldate import cholupdate\n",
    "from pycss.CSS import *\n",
    "from pycss.subset_selection import *\n",
    "from notebook_utils.utils import * \n",
    "from notebook_utils.data_generation import * \n",
    "from notebook_utils.missing_data import *\n",
    "from matplotlib import pyplot as plt\n",
    "import seaborn as sns"
   ]
  },
  {
   "cell_type": "code",
   "execution_count": 2,
   "id": "9c7252ff",
   "metadata": {},
   "outputs": [],
   "source": [
    "def Sigma_MLE_from_MLE(MLE):\n",
    "    \n",
    "    noise = noise_from_MLE(MLE)\n",
    "    p = np.sum(MLE['W_MLE'].shape)\n",
    "    k = len(MLE['S_MLE'])\n",
    "    \n",
    "    Sigma_MLE = np.zeros((p, p))\n",
    "    Sigma_MLE[:k, :k] = MLE['C_MLE'].copy()\n",
    "    Sigma_MLE[k:, :k] = MLE['W_MLE'] @ MLE['C_MLE']\n",
    "    Sigma_MLE[:k, k:] = Sigma_MLE[k:, :k].T.copy()\n",
    "    Sigma_MLE[k:, k:] =  MLE['W_MLE'] @ MLE['C_MLE'] @ MLE['W_MLE'].T\n",
    "    if noise == 'sph':\n",
    "        np.fill_diagonal(Sigma_MLE[k:, k:], np.diag(Sigma_MLE[k:, k:]) + MLE['sigma_sq_MLE'])\n",
    "    if noise == 'diag':\n",
    "        np.fill_diagonal(Sigma_MLE[k:, k:], np.diag(Sigma_MLE[k:, k:]) + MLE['D_MLE'])\n",
    "    perm_in_place(Sigma_MLE, np.concatenate([MLE['S_MLE'], complement(p, MLE['S_MLE'])]), np.arange(p))\n",
    "    \n",
    "    return Sigma_MLE\n",
    "    "
   ]
  },
  {
   "cell_type": "markdown",
   "id": "7ba370e6",
   "metadata": {},
   "source": [
    "# Synthetic Data Experiment"
   ]
  },
  {
   "cell_type": "code",
   "execution_count": 3,
   "id": "faf5fcf9",
   "metadata": {},
   "outputs": [],
   "source": [
    "p = 20\n",
    "k = 4\n",
    "C_chol = get_equicorrelated_chol(k, 0.25, diag=1)\n",
    "C = C_chol @ C_chol.T\n",
    "sigma_sq = 0.2\n",
    "    \n",
    "W = get_block_W(p, k, num_blocks=2, block_size=3, overlap=2)\n",
    "\n",
    "signs = np.array([[1, 1, 1, 0], \n",
    "                  [1, 1, -1, 0], \n",
    "                  [1, -1, 1, 0], \n",
    "                  [1, -1, -1, 0], \n",
    "                  [-1, 1, 1, 0],\n",
    "                  [-1, 1, -1, 0], \n",
    "                  [-1, -1, 1, 0],\n",
    "                  [-1, -1, -1, 0],\n",
    "                  [0, 1, 1, 1], \n",
    "                  [0, 1, 1, -1], \n",
    "                  [0, 1, -1, 1], \n",
    "                  [0, 1, -1, -1], \n",
    "                  [0, -1, 1, 1],\n",
    "                  [0, -1, 1, -1], \n",
    "                  [0, -1, -1, 1],\n",
    "                  [0, -1, -1, -1]])\n",
    "\n",
    "W *= signs\n",
    "signal_sizes = np.sum(W * (W @ C), axis=1)\n",
    "W = np.sqrt(1 - sigma_sq)/np.sqrt(signal_sizes)[:, None] * W\n",
    "S = np.arange(k)\n",
    "\n",
    "MLE = {'C_MLE': C,\n",
    "       'W_MLE': W,\n",
    "       'sigma_sq_MLE': sigma_sq,\n",
    "       'S_MLE': np.arange(k)}\n",
    "\n",
    "Sigma = Sigma_MLE_from_MLE(MLE)\n",
    "\n",
    "B = 1000\n",
    "n=200\n",
    "num_inits=10\n",
    "noise = 'sph'\n",
    "q = 0.05"
   ]
  },
  {
   "cell_type": "code",
   "execution_count": 4,
   "id": "26bd2950",
   "metadata": {},
   "outputs": [],
   "source": [
    "X_S = np.random.normal(0, 1, size=(B, n, k)) @ C_chol.T[np.newaxis, :, :]\n",
    "X = generate_PCSS_data(n, X_S, W=W, sigma_sq=sigma_sq, B=B)\n",
    "X[np.where(np.random.binomial(1, q, X.shape))] = np.nan\n",
    "X_c = X - np.nanmean(X, axis = 1)[:, np.newaxis, :]"
   ]
  },
  {
   "cell_type": "markdown",
   "id": "87e4828d",
   "metadata": {},
   "source": [
    "### Our Method"
   ]
  },
  {
   "cell_type": "code",
   "execution_count": 5,
   "id": "2fe642e4",
   "metadata": {},
   "outputs": [
    {
     "data": {
      "application/vnd.jupyter.widget-view+json": {
       "model_id": "8841d0c121d04dfd872f865742205b7b",
       "version_major": 2,
       "version_minor": 0
      },
      "text/plain": [
       "0it [00:00, ?it/s]"
      ]
     },
     "metadata": {},
     "output_type": "display_data"
    }
   ],
   "source": [
    "missing_data_search = partial(masked_css_with_missing_data, k=k, num_inits=num_inits, method='swap')\n",
    "with Pool(multiprocessing.cpu_count()) as pool:\n",
    "    results = [result for result in tqdm(pool.imap_unordered(missing_data_search, list(X)))]\n",
    "    "
   ]
  },
  {
   "cell_type": "code",
   "execution_count": 6,
   "id": "df2b8dc1",
   "metadata": {},
   "outputs": [
    {
     "name": "stdout",
     "output_type": "stream",
     "text": [
      "1.0\n",
      "4.0 0.0\n",
      "3.2000000000000024 3.962600320701224e-17\n"
     ]
    }
   ],
   "source": [
    "S_correct = 0 \n",
    "num_correct = np.zeros(B)\n",
    "CSS_error = np.zeros(B)\n",
    "\n",
    "for i, result in enumerate(results):\n",
    "    \n",
    "    S_hat = result[0]\n",
    "    converged = result[1]\n",
    "    \n",
    "    if not converged:\n",
    "        print(\"iteration \" + str(i) + \" did not converge.\")\n",
    "    \n",
    "    if np.all(set(S_hat) == set(S)):\n",
    "        S_correct += 1\n",
    "    \n",
    "    CSS_error[i] = np.trace(regress_off(Sigma, S_hat))\n",
    "    num_correct[i] = len(set(S).intersection(set(S_hat)))\n",
    "\n",
    "print(S_correct/B)\n",
    "print(np.mean(num_correct), np.std(num_correct, ddof=1)/np.sqrt(B))\n",
    "print(np.mean(CSS_error), np.std(CSS_error, ddof=1)/np.sqrt(B))"
   ]
  },
  {
   "cell_type": "markdown",
   "id": "b6efcc5b",
   "metadata": {},
   "source": [
    "### Block OMP"
   ]
  },
  {
   "cell_type": "code",
   "execution_count": 7,
   "id": "8c185a04",
   "metadata": {},
   "outputs": [
    {
     "data": {
      "application/vnd.jupyter.widget-view+json": {
       "model_id": "6baca122a3f1479b9944e1e626508bb6",
       "version_major": 2,
       "version_minor": 0
      },
      "text/plain": [
       "0it [00:00, ?it/s]"
      ]
     },
     "metadata": {},
     "output_type": "display_data"
    }
   ],
   "source": [
    "missing_data_search = partial(block_OMP_with_missing_data, k=k)\n",
    "with Pool(multiprocessing.cpu_count()) as pool:\n",
    "    results = [result for result in tqdm(pool.imap_unordered(missing_data_search, list(X_c)))]"
   ]
  },
  {
   "cell_type": "code",
   "execution_count": 8,
   "id": "abe2a894",
   "metadata": {},
   "outputs": [
    {
     "name": "stdout",
     "output_type": "stream",
     "text": [
      "0.479\n",
      "2.278 0.05578375953472325\n",
      "4.1678926482192145 0.0304633365239113\n"
     ]
    }
   ],
   "source": [
    "S_correct = 0 \n",
    "num_correct = np.zeros(B)\n",
    "CSS_error = np.zeros(B)\n",
    "\n",
    "for i, result in enumerate(results):\n",
    "    S_hat = result\n",
    "    \n",
    "    if np.all(set(S_hat) == set(S)):\n",
    "        S_correct += 1\n",
    "    \n",
    "    CSS_error[i] = np.trace(regress_off(Sigma, S_hat))\n",
    "    num_correct[i] = len(set(S).intersection(set(S_hat)))\n",
    "\n",
    "    \n",
    "print(S_correct/B)\n",
    "print(np.mean(num_correct), np.std(num_correct, ddof=1)/np.sqrt(B))\n",
    "print(np.mean(CSS_error), np.std(CSS_error, ddof=1)/np.sqrt(B))"
   ]
  },
  {
   "cell_type": "markdown",
   "id": "4ae56a50",
   "metadata": {},
   "source": [
    "### Group Lasso"
   ]
  },
  {
   "cell_type": "code",
   "execution_count": 9,
   "id": "09a8fe62",
   "metadata": {},
   "outputs": [
    {
     "data": {
      "application/vnd.jupyter.widget-view+json": {
       "model_id": "e877c07f7105478389aa9410c05fe3e5",
       "version_major": 2,
       "version_minor": 0
      },
      "text/plain": [
       "0it [00:00, ?it/s]"
      ]
     },
     "metadata": {},
     "output_type": "display_data"
    }
   ],
   "source": [
    "missing_data_search = partial(group_lasso_with_missing_data, k=k, solver='CLARABEL')\n",
    "with Pool(multiprocessing.cpu_count()) as pool:\n",
    "    results = [result for result in tqdm(pool.imap_unordered(missing_data_search, list(X_c)))]"
   ]
  },
  {
   "cell_type": "code",
   "execution_count": 10,
   "id": "dcfddc48",
   "metadata": {},
   "outputs": [
    {
     "name": "stdout",
     "output_type": "stream",
     "text": [
      "0.0\n",
      "1.861 0.015359521962447756\n",
      "6.438430623064793 0.02994417745689998\n"
     ]
    }
   ],
   "source": [
    "S_correct = 0 \n",
    "num_correct = np.zeros(B)\n",
    "CSS_error = np.zeros(B)\n",
    "\n",
    "for i, result in enumerate(results):\n",
    "    S_hat = result\n",
    "\n",
    "    if np.all(set(S_hat) == set(S)):\n",
    "        S_correct += 1\n",
    "    \n",
    "    CSS_error[i] = np.trace(regress_off(Sigma, S_hat))\n",
    "    num_correct[i] = len(set(S).intersection(set(S_hat)))\n",
    "\n",
    "print(S_correct/B)\n",
    "print(np.mean(num_correct), np.std(num_correct, ddof=1)/np.sqrt(B))\n",
    "print(np.mean(CSS_error), np.std(CSS_error, ddof=1)/np.sqrt(B))"
   ]
  },
  {
   "cell_type": "markdown",
   "id": "86ba6246",
   "metadata": {},
   "source": [
    "### Random"
   ]
  },
  {
   "cell_type": "code",
   "execution_count": 12,
   "id": "9d206fb6",
   "metadata": {},
   "outputs": [
    {
     "name": "stdout",
     "output_type": "stream",
     "text": [
      "0.0\n",
      "0.824 0.02340024725449651\n",
      "7.0612430925822425 0.03880493639908434\n"
     ]
    }
   ],
   "source": [
    "S_correct = 0 \n",
    "num_correct = np.zeros(B)\n",
    "CSS_error = np.zeros(B)\n",
    "results = [np.random.choice(np.arange(p), k, replace=False) for i in range(B)]\n",
    "\n",
    "for i, result in enumerate(results):\n",
    "    S_hat = result\n",
    "\n",
    "    if np.all(set(S_hat) == set(S)):\n",
    "        S_correct += 1\n",
    "    \n",
    "    CSS_error[i] = np.trace(regress_off(Sigma, S_hat))\n",
    "    num_correct[i] = len(set(S).intersection(set(S_hat)))\n",
    "\n",
    "print(S_correct/B)\n",
    "print(np.mean(num_correct), np.std(num_correct, ddof=1)/np.sqrt(B))\n",
    "print(np.mean(CSS_error), np.std(CSS_error, ddof=1)/np.sqrt(B))"
   ]
  },
  {
   "cell_type": "markdown",
   "id": "0570de59",
   "metadata": {},
   "source": [
    "# Ozone Data Experiment"
   ]
  },
  {
   "cell_type": "code",
   "execution_count": 13,
   "id": "56306928",
   "metadata": {},
   "outputs": [],
   "source": [
    "def css_obj_plot(Sigma_hat, k_max, method='greedy', noise='sph', num_inits=1, plot=True):\n",
    "    \n",
    "    objs = np.zeros(k_max)\n",
    "    \n",
    "    css = CSS()\n",
    "    if method == 'greedy':\n",
    "        \n",
    "        css.select_subset_from_cov(Sigma_hat, k_max, method='greedy')\n",
    "        S_greedy = css.S.copy()\n",
    "        \n",
    "        for i in range(1, k_max+1):\n",
    "            objs[i - 1] = np.trace(regress_off(Sigma_hat, S_greedy[:i]))\n",
    "    \n",
    "    if method == 'swap':\n",
    "        for i in range(1, k_max + 1):\n",
    "            best_obj = np.inf\n",
    "            for j in range(num_inits):\n",
    "                css.select_subset_from_cov(Sigma_hat, k_max,method='swap')\n",
    "                potential_obj = np.trace(css.Sigma_R)\n",
    "                if potential_obj < best_obj:\n",
    "                    best_obj = potential_obj\n",
    "            objs[i - 1] = best_obj\n",
    "    \n",
    "    if plot:\n",
    "        plt.plot(np.arange(1, k_max+1), objs)\n"
   ]
  },
  {
   "cell_type": "code",
   "execution_count": 196,
   "id": "de30baf8",
   "metadata": {},
   "outputs": [
    {
     "name": "stdout",
     "output_type": "stream",
     "text": [
      "(2534, 73)\n",
      "1847 73\n"
     ]
    }
   ],
   "source": [
    "lrs_df = pd.read_csv('../data/eighthr.data', delimiter=',', header=None)\n",
    "X = lrs_df.values[:, 1:]\n",
    "print(X.shape)\n",
    "X = np.where(X == '?', np.nan, X)\n",
    "X = X.astype(float)\n",
    "to_keep = []\n",
    "for i in range(len(X)):\n",
    "    if np.sum(np.isnan(X[i, :])) == 0:\n",
    "        to_keep.append(i)\n",
    "to_keep = np.array(to_keep)\n",
    "X = X[to_keep, :]\n",
    "mu_hat, Sigma_hat = get_moments(X)\n",
    "X = (X - mu_hat) * 1/np.sqrt(np.diag(Sigma_hat))[None, :]\n",
    "n, p = X.shape\n",
    "print(n, p)"
   ]
  },
  {
   "cell_type": "code",
   "execution_count": 19,
   "id": "77ff9cb8",
   "metadata": {},
   "outputs": [],
   "source": [
    "methods = ['block', 'mask']\n",
    "num_inits=1\n",
    "B=100\n",
    "all_css_results = {}\n",
    "all_W_hat_results = {}"
   ]
  },
  {
   "cell_type": "code",
   "execution_count": 20,
   "id": "57382e9e",
   "metadata": {},
   "outputs": [
    {
     "data": {
      "application/vnd.jupyter.widget-view+json": {
       "model_id": "abe5fde326524bbcabb623f60a13ee9d",
       "version_major": 2,
       "version_minor": 0
      },
      "text/plain": [
       "0it [00:00, ?it/s]"
      ]
     },
     "metadata": {},
     "output_type": "display_data"
    },
    {
     "data": {
      "application/vnd.jupyter.widget-view+json": {
       "model_id": "cafff4f567684b3c95217f161961d5c5",
       "version_major": 2,
       "version_minor": 0
      },
      "text/plain": [
       "0it [00:00, ?it/s]"
      ]
     },
     "metadata": {},
     "output_type": "display_data"
    },
    {
     "data": {
      "application/vnd.jupyter.widget-view+json": {
       "model_id": "cf5bbe7aa3724e98a163f7874977aced",
       "version_major": 2,
       "version_minor": 0
      },
      "text/plain": [
       "0it [00:00, ?it/s]"
      ]
     },
     "metadata": {},
     "output_type": "display_data"
    },
    {
     "data": {
      "application/vnd.jupyter.widget-view+json": {
       "model_id": "cb49109d357b4dc8bd097e574fd72df6",
       "version_major": 2,
       "version_minor": 0
      },
      "text/plain": [
       "0it [00:00, ?it/s]"
      ]
     },
     "metadata": {},
     "output_type": "display_data"
    },
    {
     "data": {
      "application/vnd.jupyter.widget-view+json": {
       "model_id": "5a9b258115a6449e86e801c64dd6a7ef",
       "version_major": 2,
       "version_minor": 0
      },
      "text/plain": [
       "0it [00:00, ?it/s]"
      ]
     },
     "metadata": {},
     "output_type": "display_data"
    },
    {
     "data": {
      "application/vnd.jupyter.widget-view+json": {
       "model_id": "a1ea6f0429a64e53b6441d64ed1a67d5",
       "version_major": 2,
       "version_minor": 0
      },
      "text/plain": [
       "0it [00:00, ?it/s]"
      ]
     },
     "metadata": {},
     "output_type": "display_data"
    },
    {
     "data": {
      "application/vnd.jupyter.widget-view+json": {
       "model_id": "1a7448ee3da44b9f8ee3d19bf6dd488c",
       "version_major": 2,
       "version_minor": 0
      },
      "text/plain": [
       "0it [00:00, ?it/s]"
      ]
     },
     "metadata": {},
     "output_type": "display_data"
    },
    {
     "data": {
      "application/vnd.jupyter.widget-view+json": {
       "model_id": "964a794f35cd4d23b5591e461fe1615e",
       "version_major": 2,
       "version_minor": 0
      },
      "text/plain": [
       "0it [00:00, ?it/s]"
      ]
     },
     "metadata": {},
     "output_type": "display_data"
    },
    {
     "data": {
      "application/vnd.jupyter.widget-view+json": {
       "model_id": "ecdc4669856842c9b7743a022f0cf462",
       "version_major": 2,
       "version_minor": 0
      },
      "text/plain": [
       "0it [00:00, ?it/s]"
      ]
     },
     "metadata": {},
     "output_type": "display_data"
    }
   ],
   "source": [
    "qs = [0.05, 0.1, 0.2]\n",
    "ks = [5, 10, 20]\n",
    "\n",
    "for q in qs:\n",
    "    X_missing = np.dstack([X for i in range(B)]).transpose(2, 0, 1)\n",
    "    X_missing[np.where(np.random.binomial(1, q, X_missing.shape))] = np.nan\n",
    "    for k in ks:\n",
    "        analyze = partial(analyze_missing_data, X=X, k=k, methods=methods, solver='CLARABEL', num_inits=num_inits)\n",
    "        with Pool(multiprocessing.cpu_count()) as pool:\n",
    "            results = [result for result in tqdm(pool.imap_unordered(analyze, list(X_missing)))]\n",
    "        \n",
    "        css_results = {}\n",
    "        for method in methods:\n",
    "            css_results[method] = np.zeros(B)\n",
    "\n",
    "        for i in range(B):\n",
    "            css_dict = results[i]\n",
    "            for key in css_dict:\n",
    "                css_results[key][i] = css_dict[key]\n",
    "        \n",
    "        all_css_results[(q, k)] = {key: css_results[key] for key in methods}"
   ]
  },
  {
   "cell_type": "code",
   "execution_count": 80,
   "id": "bd89c747",
   "metadata": {},
   "outputs": [
    {
     "name": "stdout",
     "output_type": "stream",
     "text": [
      "5\n",
      "10\n",
      "20\n"
     ]
    }
   ],
   "source": [
    "css = CSS()\n",
    "target = {}\n",
    "target_num_inits=100\n",
    "for k in ks:\n",
    "    print(k)\n",
    "    best_obj = np.inf\n",
    "    for i in range(target_num_inits):\n",
    "        css.select_subset_from_data(X, k, method='swap')\n",
    "        temp = np.trace(css.Sigma_R)\n",
    "        if temp < best_obj:\n",
    "            best_obj = temp \n",
    "    target[k] = best_obj"
   ]
  },
  {
   "cell_type": "code",
   "execution_count": 235,
   "id": "8b49b085",
   "metadata": {},
   "outputs": [
    {
     "data": {
      "image/png": "[encoded data removed]",
      "text/plain": [
       "<Figure size 1600x900 with 9 Axes>"
      ]
     },
     "metadata": {},
     "output_type": "display_data"
    }
   ],
   "source": [
    "\n",
    "rows, cols = len(qs), len(ks)\n",
    "keys = list(all_css_results.keys()) # assumes same keys for all_W_hat_results\n",
    "\n",
    "fig, axes = plt.subplots(rows, cols, figsize=(16,9), squeeze=False)\n",
    "for i in range(rows):\n",
    "    for j in range(cols):\n",
    "        ell = rows * i + j\n",
    "        key = keys[ell]\n",
    "        q = key[0]\n",
    "        k = key[1]\n",
    "        css_dict = all_css_results[key]\n",
    "        \n",
    "        pl = sns.histplot(css_dict['mask'] * (p-k), ax=axes[i,j], label='Our Method', color=u'#1f77b4', binwidth=0.1)\n",
    "        pl.set_title(f\"$q={q}$, $k={k}$\", fontsize=16)\n",
    "        pl.set_xlabel(\"CSS Obj.\", fontsize=14)\n",
    "        pl.set_ylabel(\"# Trials\", fontsize=14)\n",
    "        sns.histplot(css_dict['block'] * (p-k), ax=axes[i, j],  label='BOMP', color=u'#ff7f0e', binwidth=0.1) \n",
    "        axes[i, j].axvline(x=target[k], linewidth=7, label='No Missigness', color='green', alpha=0.8)\n",
    "\n",
    "   \n",
    "fig.legend(labels=['No Missigness', 'Our Method', 'BOMP'], prop={'size': 14}, bbox_to_anchor=(1, 1.12))   \n",
    "plt.tight_layout()\n",
    "plt.savefig(\"../figures/ozone_results.pdf\", bbox_inches='tight')\n"
   ]
  },
  {
   "cell_type": "code",
   "execution_count": null,
   "id": "2a85e3a9",
   "metadata": {},
   "outputs": [],
   "source": [
    "import pickle\n",
    "with open('all_results.pickle', 'wb') as f:\n",
    "    # Pickle the 'data' dictionary using the highest protocol available.\n",
    "    pickle.dump(all_css_results, f, pickle.HIGHEST_PROTOCOL)"
   ]
  }
 ],
 "metadata": {
  "kernelspec": {
   "display_name": "Python 3 (ipykernel)",
   "language": "python",
   "name": "python3"
  },
  "language_info": {
   "codemirror_mode": {
    "name": "ipython",
    "version": 3
   },
   "file_extension": ".py",
   "mimetype": "text/x-python",
   "name": "python",
   "nbconvert_exporter": "python",
   "pygments_lexer": "ipython3",
   "version": "3.10.9"
  }
 },
 "nbformat": 4,
 "nbformat_minor": 5
}
