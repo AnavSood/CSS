{
 "cells": [
  {
   "cell_type": "code",
   "execution_count": 12,
   "id": "7e5a9168",
   "metadata": {},
   "outputs": [],
   "source": [
    "%load_ext autoreload\n",
    "%autoreload 2"
   ]
  },
  {
   "cell_type": "code",
   "execution_count": 6,
   "id": "071aa309",
   "metadata": {},
   "outputs": [],
   "source": [
    "import numpy as np\n",
    "import pandas as pd\n",
    "import cvxpy as cp\n",
    "import multiprocessing\n",
    "from multiprocessing import Pool\n",
    "from functools import partial\n",
    "from tqdm.notebook import tqdm as tqdm_notebook\n",
    "from choldate import cholupdate\n",
    "from pycss.CSS import *\n",
    "from pycss.subset_selection import * \n",
    "from notebook_utils.data_generation import * \n",
    "from notebook_utils.missing_data import *\n",
    "from matplotlib import pyplot as plt\n",
    "import seaborn as sns"
   ]
  },
  {
   "cell_type": "markdown",
   "id": "7ba370e6",
   "metadata": {},
   "source": [
    "# Synthetic Data Experiment"
   ]
  },
  {
   "cell_type": "code",
   "execution_count": 69,
   "id": "faf5fcf9",
   "metadata": {},
   "outputs": [],
   "source": [
    "p = 20\n",
    "k = 4\n",
    "C_chol = get_equicorrelated_chol(k, 0.25, diag=1)\n",
    "C = C_chol @ C_chol.T\n",
    "sigma_sq = 0.15\n",
    "    \n",
    "W = get_block_W(p, k, num_blocks=2, block_size=3, overlap=2)\n",
    "\n",
    "signs = np.array([[1, 1, 1, 0], \n",
    "                  [1, 1, -1, 0], \n",
    "                  [1, -1, 1, 0], \n",
    "                  [1, -1, -1, 0], \n",
    "                  [-1, 1, 1, 0],\n",
    "                  [-1, 1, -1, 0], \n",
    "                  [-1, -1, 1, 0],\n",
    "                  [-1, -1, -1, 0],\n",
    "                  [0, 1, 1, 1], \n",
    "                  [0, 1, 1, -1], \n",
    "                  [0, 1, -1, 1], \n",
    "                  [0, 1, -1, -1], \n",
    "                  [0, -1, 1, 1],\n",
    "                  [0, -1, 1, -1], \n",
    "                  [0, -1, -1, 1],\n",
    "                  [0, -1, -1, -1]])\n",
    "\n",
    "W *= signs\n",
    "signal_sizes = np.sum(W * (W @ C), axis=1)\n",
    "W = np.sqrt(1 - sigma_sq)/np.sqrt(signal_sizes)[:, None] * W\n",
    "S = np.arange(k)\n",
    "\n",
    "Sigma = np.zeros((p, p))\n",
    "Sigma[:k, :k] = C.copy()\n",
    "Sigma[k:, :k] = W @ C\n",
    "Sigma[:k, k:] = (W @ C).T\n",
    "Sigma[k:, k:] = W @ C @ W.T + np.diag(sigma_sq * np.ones(p-k))\n",
    "\n",
    "B = 1000\n",
    "n=200\n",
    "num_inits=10\n",
    "q = 0.05"
   ]
  },
  {
   "cell_type": "code",
   "execution_count": 75,
   "id": "26bd2950",
   "metadata": {},
   "outputs": [],
   "source": [
    "X_S = np.random.normal(0, 1, size=(B, n, k)) @ C_chol.T[np.newaxis, :, :]\n",
    "X = generate_PCSS_data(X_S, W=W, sigma_sq=sigma_sq)\n",
    "X[np.where(np.random.binomial(1, q, X.shape))] = np.nan\n",
    "X_c = X - np.nanmean(X, axis = 1)[:, np.newaxis, :]"
   ]
  },
  {
   "cell_type": "markdown",
   "id": "87e4828d",
   "metadata": {},
   "source": [
    "### Our Method"
   ]
  },
  {
   "cell_type": "code",
   "execution_count": 76,
   "id": "2fe642e4",
   "metadata": {},
   "outputs": [
    {
     "data": {
      "application/vnd.jupyter.widget-view+json": {
       "model_id": "b0b06ecfcc1946918c5cd3c1656773a7",
       "version_major": 2,
       "version_minor": 0
      },
      "text/plain": [
       "0it [00:00, ?it/s]"
      ]
     },
     "metadata": {},
     "output_type": "display_data"
    }
   ],
   "source": [
    "missing_data_search = partial(covariance_css_with_missing_data, k=k, num_inits=num_inits, method='swap')\n",
    "with Pool(multiprocessing.cpu_count()) as pool:\n",
    "    results = [result for result in tqdm_notebook(pool.imap_unordered(missing_data_search, list(X)))]\n",
    "    "
   ]
  },
  {
   "cell_type": "code",
   "execution_count": 77,
   "id": "df2b8dc1",
   "metadata": {},
   "outputs": [
    {
     "name": "stdout",
     "output_type": "stream",
     "text": [
      "1.0\n",
      "4.0 0.0\n",
      "2.400000000000001 2.794220798405702e-17\n"
     ]
    }
   ],
   "source": [
    "S_correct = 0 \n",
    "num_correct = np.zeros(B)\n",
    "CSS_error = np.zeros(B)\n",
    "\n",
    "for i, result in enumerate(results):\n",
    "    \n",
    "    S_hat = result[0]\n",
    "    converged = result[1]\n",
    "    \n",
    "    if not converged:\n",
    "        print(\"iteration \" + str(i) + \" did not converge.\")\n",
    "    \n",
    "    if np.all(set(S_hat) == set(S)):\n",
    "        S_correct += 1\n",
    "    \n",
    "    CSS_error[i] = np.trace(regress_off(Sigma, S_hat))\n",
    "    num_correct[i] = len(set(S).intersection(set(S_hat)))\n",
    "\n",
    "print(S_correct/B)\n",
    "print(np.mean(num_correct), np.std(num_correct, ddof=1)/np.sqrt(B))\n",
    "print(np.mean(CSS_error), np.std(CSS_error, ddof=1)/np.sqrt(B))"
   ]
  },
  {
   "cell_type": "markdown",
   "id": "b6efcc5b",
   "metadata": {},
   "source": [
    "### Block OMP"
   ]
  },
  {
   "cell_type": "code",
   "execution_count": 78,
   "id": "8c185a04",
   "metadata": {},
   "outputs": [
    {
     "data": {
      "application/vnd.jupyter.widget-view+json": {
       "model_id": "7888c5b336f04a2e956df2d96347a029",
       "version_major": 2,
       "version_minor": 0
      },
      "text/plain": [
       "0it [00:00, ?it/s]"
      ]
     },
     "metadata": {},
     "output_type": "display_data"
    }
   ],
   "source": [
    "missing_data_search = partial(block_OMP_with_missing_data, k=k)\n",
    "with Pool(multiprocessing.cpu_count()) as pool:\n",
    "    results = [result for result in tqdm_notebook(pool.imap_unordered(missing_data_search, list(X_c)))]"
   ]
  },
  {
   "cell_type": "code",
   "execution_count": 79,
   "id": "abe2a894",
   "metadata": {},
   "outputs": [
    {
     "name": "stdout",
     "output_type": "stream",
     "text": [
      "0.456\n",
      "2.191 0.056014789624318474\n",
      "3.22311369162963 0.024827096391475217\n"
     ]
    }
   ],
   "source": [
    "S_correct = 0 \n",
    "num_correct = np.zeros(B)\n",
    "CSS_error = np.zeros(B)\n",
    "\n",
    "for i, result in enumerate(results):\n",
    "    S_hat = result\n",
    "    \n",
    "    if np.all(set(S_hat) == set(S)):\n",
    "        S_correct += 1\n",
    "    \n",
    "    CSS_error[i] = np.trace(regress_off(Sigma, S_hat))\n",
    "    num_correct[i] = len(set(S).intersection(set(S_hat)))\n",
    "\n",
    "    \n",
    "print(S_correct/B)\n",
    "print(np.mean(num_correct), np.std(num_correct, ddof=1)/np.sqrt(B))\n",
    "print(np.mean(CSS_error), np.std(CSS_error, ddof=1)/np.sqrt(B))"
   ]
  },
  {
   "cell_type": "markdown",
   "id": "4ae56a50",
   "metadata": {},
   "source": [
    "### Group Lasso"
   ]
  },
  {
   "cell_type": "code",
   "execution_count": 80,
   "id": "09a8fe62",
   "metadata": {},
   "outputs": [
    {
     "data": {
      "application/vnd.jupyter.widget-view+json": {
       "model_id": "d3aa431b69854fad9dc523fe4798ae19",
       "version_major": 2,
       "version_minor": 0
      },
      "text/plain": [
       "0it [00:00, ?it/s]"
      ]
     },
     "metadata": {},
     "output_type": "display_data"
    }
   ],
   "source": [
    "missing_data_search = partial(group_lasso_with_missing_data, k=k, solver='CLARABEL')\n",
    "with Pool(multiprocessing.cpu_count()) as pool:\n",
    "    results = [result for result in tqdm_notebook(pool.imap_unordered(missing_data_search, list(X_c)))]"
   ]
  },
  {
   "cell_type": "code",
   "execution_count": 81,
   "id": "dcfddc48",
   "metadata": {},
   "outputs": [
    {
     "name": "stdout",
     "output_type": "stream",
     "text": [
      "0.0\n",
      "1.713 0.016027722479750137\n",
      "5.805884926777991 0.03696727416016431\n"
     ]
    }
   ],
   "source": [
    "S_correct = 0 \n",
    "num_correct = np.zeros(B)\n",
    "CSS_error = np.zeros(B)\n",
    "\n",
    "for i, result in enumerate(results):\n",
    "    S_hat = result\n",
    "\n",
    "    if np.all(set(S_hat) == set(S)):\n",
    "        S_correct += 1\n",
    "    \n",
    "    CSS_error[i] = np.trace(regress_off(Sigma, S_hat))\n",
    "    num_correct[i] = len(set(S).intersection(set(S_hat)))\n",
    "\n",
    "print(S_correct/B)\n",
    "print(np.mean(num_correct), np.std(num_correct, ddof=1)/np.sqrt(B))\n",
    "print(np.mean(CSS_error), np.std(CSS_error, ddof=1)/np.sqrt(B))"
   ]
  },
  {
   "cell_type": "markdown",
   "id": "86ba6246",
   "metadata": {},
   "source": [
    "### Random"
   ]
  },
  {
   "cell_type": "code",
   "execution_count": 82,
   "id": "9d206fb6",
   "metadata": {},
   "outputs": [
    {
     "name": "stdout",
     "output_type": "stream",
     "text": [
      "0.001\n",
      "0.804 0.023240570649709184\n",
      "6.064523451183319 0.04522636856995458\n"
     ]
    }
   ],
   "source": [
    "S_correct = 0 \n",
    "num_correct = np.zeros(B)\n",
    "CSS_error = np.zeros(B)\n",
    "results = [np.random.choice(np.arange(p), k, replace=False) for i in range(B)]\n",
    "\n",
    "for i, result in enumerate(results):\n",
    "    S_hat = result\n",
    "\n",
    "    if np.all(set(S_hat) == set(S)):\n",
    "        S_correct += 1\n",
    "    \n",
    "    CSS_error[i] = np.trace(regress_off(Sigma, S_hat))\n",
    "    num_correct[i] = len(set(S).intersection(set(S_hat)))\n",
    "\n",
    "print(S_correct/B)\n",
    "print(np.mean(num_correct), np.std(num_correct, ddof=1)/np.sqrt(B))\n",
    "print(np.mean(CSS_error), np.std(CSS_error, ddof=1)/np.sqrt(B))"
   ]
  },
  {
   "cell_type": "markdown",
   "id": "0570de59",
   "metadata": {},
   "source": [
    "# Ozone Data Experiment"
   ]
  },
  {
   "cell_type": "code",
   "execution_count": 83,
   "id": "de30baf8",
   "metadata": {},
   "outputs": [
    {
     "name": "stdout",
     "output_type": "stream",
     "text": [
      "(2534, 73)\n",
      "1847 73\n"
     ]
    }
   ],
   "source": [
    "lrs_df = pd.read_csv('../data/eighthr.data', delimiter=',', header=None)\n",
    "X = lrs_df.values[:, 1:]\n",
    "print(X.shape)\n",
    "X = np.where(X == '?', np.nan, X)\n",
    "X = X.astype(float)\n",
    "to_keep = []\n",
    "for i in range(len(X)):\n",
    "    if np.sum(np.isnan(X[i, :])) == 0:\n",
    "        to_keep.append(i)\n",
    "to_keep = np.array(to_keep)\n",
    "X = X[to_keep, :]\n",
    "mu_hat, Sigma_hat = get_moments(X)\n",
    "X = (X - mu_hat) * 1/np.sqrt(np.diag(Sigma_hat))[None, :]\n",
    "n, p = X.shape\n",
    "print(n, p)"
   ]
  },
  {
   "cell_type": "code",
   "execution_count": 84,
   "id": "77ff9cb8",
   "metadata": {},
   "outputs": [],
   "source": [
    "methods = ['block', 'cov']\n",
    "num_inits=1\n",
    "B=100\n",
    "all_css_results = {}"
   ]
  },
  {
   "cell_type": "code",
   "execution_count": 85,
   "id": "57382e9e",
   "metadata": {},
   "outputs": [
    {
     "data": {
      "application/vnd.jupyter.widget-view+json": {
       "model_id": "8bed479e578042de92ec187f32d156c4",
       "version_major": 2,
       "version_minor": 0
      },
      "text/plain": [
       "0it [00:00, ?it/s]"
      ]
     },
     "metadata": {},
     "output_type": "display_data"
    },
    {
     "data": {
      "application/vnd.jupyter.widget-view+json": {
       "model_id": "37ef3f8264f142c2b29b7c1cf9d6f244",
       "version_major": 2,
       "version_minor": 0
      },
      "text/plain": [
       "0it [00:00, ?it/s]"
      ]
     },
     "metadata": {},
     "output_type": "display_data"
    },
    {
     "data": {
      "application/vnd.jupyter.widget-view+json": {
       "model_id": "2c0093263a8a47e08d4a21b6e7e7d24d",
       "version_major": 2,
       "version_minor": 0
      },
      "text/plain": [
       "0it [00:00, ?it/s]"
      ]
     },
     "metadata": {},
     "output_type": "display_data"
    },
    {
     "data": {
      "application/vnd.jupyter.widget-view+json": {
       "model_id": "c84fdf0e56ff4c32b1e65f9ad4a7a2b3",
       "version_major": 2,
       "version_minor": 0
      },
      "text/plain": [
       "0it [00:00, ?it/s]"
      ]
     },
     "metadata": {},
     "output_type": "display_data"
    },
    {
     "data": {
      "application/vnd.jupyter.widget-view+json": {
       "model_id": "9ae1351df2c140e6b7881724d5a2591c",
       "version_major": 2,
       "version_minor": 0
      },
      "text/plain": [
       "0it [00:00, ?it/s]"
      ]
     },
     "metadata": {},
     "output_type": "display_data"
    },
    {
     "data": {
      "application/vnd.jupyter.widget-view+json": {
       "model_id": "e44a82d87df84107810e35c1983bd579",
       "version_major": 2,
       "version_minor": 0
      },
      "text/plain": [
       "0it [00:00, ?it/s]"
      ]
     },
     "metadata": {},
     "output_type": "display_data"
    },
    {
     "data": {
      "application/vnd.jupyter.widget-view+json": {
       "model_id": "153533572ff74364b36dc9291f097d7a",
       "version_major": 2,
       "version_minor": 0
      },
      "text/plain": [
       "0it [00:00, ?it/s]"
      ]
     },
     "metadata": {},
     "output_type": "display_data"
    },
    {
     "data": {
      "application/vnd.jupyter.widget-view+json": {
       "model_id": "79dfc2ee212f48c187f603a7450b7d6b",
       "version_major": 2,
       "version_minor": 0
      },
      "text/plain": [
       "0it [00:00, ?it/s]"
      ]
     },
     "metadata": {},
     "output_type": "display_data"
    },
    {
     "data": {
      "application/vnd.jupyter.widget-view+json": {
       "model_id": "6f712a8498634165b21002facc43386f",
       "version_major": 2,
       "version_minor": 0
      },
      "text/plain": [
       "0it [00:00, ?it/s]"
      ]
     },
     "metadata": {},
     "output_type": "display_data"
    }
   ],
   "source": [
    "qs = [0.05, 0.1, 0.2]\n",
    "ks = [5, 10, 20]\n",
    "\n",
    "for q in qs:\n",
    "    X_missing = np.dstack([X for i in range(B)]).transpose(2, 0, 1)\n",
    "    X_missing[np.where(np.random.binomial(1, q, X_missing.shape))] = np.nan\n",
    "    for k in ks:\n",
    "        analyze = partial(analyze_missing_data, X=X, k=k, methods=methods, solver='CLARABEL', num_inits=num_inits)\n",
    "        with Pool(multiprocessing.cpu_count()) as pool:\n",
    "            results = [result for result in tqdm_notebook(pool.imap_unordered(analyze, list(X_missing)))]\n",
    "        \n",
    "        css_results = {}\n",
    "        for method in methods:\n",
    "            css_results[method] = np.zeros(B)\n",
    "\n",
    "        for i in range(B):\n",
    "            css_dict = results[i]\n",
    "            for key in css_dict:\n",
    "                css_results[key][i] = css_dict[key]\n",
    "        \n",
    "        all_css_results[(q, k)] = {key: css_results[key] for key in methods}"
   ]
  },
  {
   "cell_type": "code",
   "execution_count": 86,
   "id": "bd89c747",
   "metadata": {},
   "outputs": [],
   "source": [
    "css = CSS()\n",
    "target = {}\n",
    "target_num_inits=100\n",
    "for k in ks:\n",
    "    css.select_subset_from_data(X, k=k, method='swap', num_inits=target_num_inits)\n",
    "    target[k] = np.trace(css.Sigma_R) \n",
    "    "
   ]
  },
  {
   "cell_type": "code",
   "execution_count": 110,
   "id": "8b49b085",
   "metadata": {},
   "outputs": [
    {
     "data": {
      "image/png": "[encoded data removed]",
      "text/plain": [
       "<Figure size 1600x900 with 9 Axes>"
      ]
     },
     "metadata": {},
     "output_type": "display_data"
    }
   ],
   "source": [
    "\n",
    "rows, cols = len(qs), len(ks)\n",
    "keys = list(all_css_results.keys()) # assumes same keys for all_W_hat_results\n",
    "\n",
    "fig, axes = plt.subplots(rows, cols, figsize=(16,9), squeeze=False)\n",
    "for i in range(rows):\n",
    "    for j in range(cols):\n",
    "        ell = rows * i + j\n",
    "        key = keys[ell]\n",
    "        q = key[0]\n",
    "        k = key[1]\n",
    "        css_dict = all_css_results[key]\n",
    "        \n",
    "        axes[i, j].axvline(x=target[k], linewidth=7, label='No Missigness', color='tab:red', alpha=0.8)\n",
    "        pl = sns.histplot(css_dict['cov'], ax=axes[i,j], label='Our Method', color='tab:blue', binwidth=0.1)\n",
    "        pl.set_title(f\"$q={q}$, $k={k}$\", fontsize=21)\n",
    "        pl.set_xlabel(\"CSS Obj.\", fontsize=14)\n",
    "        pl.set_ylabel(\"Num. Trials\", fontsize=14)\n",
    "        sns.histplot(css_dict['block'], ax=axes[i, j],  label='BOMP', color='tab:orange', binwidth=0.1) \n",
    "        \n",
    "\n",
    "fig.legend(labels=['No Missingness', 'Our Method', 'BOMP'], prop={'size': 14}, bbox_to_anchor=(0.69, 0.00), ncols=3)   \n",
    "plt.tight_layout()\n",
    "plt.rc('text', usetex=True)\n",
    "#plt.savefig(\"../figures/ozone_results.pdf\", bbox_inches='tight')\n"
   ]
  }
 ],
 "metadata": {
  "kernelspec": {
   "display_name": "Python 3 (ipykernel)",
   "language": "python",
   "name": "python3"
  },
  "language_info": {
   "codemirror_mode": {
    "name": "ipython",
    "version": 3
   },
   "file_extension": ".py",
   "mimetype": "text/x-python",
   "name": "python",
   "nbconvert_exporter": "python",
   "pygments_lexer": "ipython3",
   "version": "3.10.10"
  }
 },
 "nbformat": 4,
 "nbformat_minor": 5
}
